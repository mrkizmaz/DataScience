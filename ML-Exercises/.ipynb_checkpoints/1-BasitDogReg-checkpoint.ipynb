{
 "cells": [
  {
   "cell_type": "markdown",
   "id": "29c9c523-c2e9-41b9-96f8-b5545069fc68",
   "metadata": {},
   "source": [
    "# 1- Basit Dogrusal Regresyon (Simple Linear Regresyon) - Alıştırmalar"
   ]
  },
  {
   "cell_type": "markdown",
   "id": "28c4859d-9ef4-4df7-aa1d-83bc8bf9cf9d",
   "metadata": {},
   "source": [
    "2. Alıştırma eklendi!"
   ]
  },
  {
   "cell_type": "markdown",
   "id": "52e695fc-debe-4f8f-86d8-731825cfb18f",
   "metadata": {
    "tags": []
   },
   "source": [
    "## ALIŞTIRMA - 1"
   ]
  },
  {
   "cell_type": "markdown",
   "id": "5e843db5-ea71-4804-a7e3-615136e000d4",
   "metadata": {
    "jp-MarkdownHeadingCollapsed": true,
    "tags": []
   },
   "source": [
    "### Veri Setinin İncelenmesi ve Manipüle Edilmesi"
   ]
  },
  {
   "cell_type": "code",
   "execution_count": 1,
   "id": "7812ff14-a4c0-4018-8856-89c6d96fe418",
   "metadata": {},
   "outputs": [],
   "source": [
    "# Gerekli kütüphanelerin dahil edilmesi,\n",
    "import pandas as pd\n",
    "import numpy as np\n",
    "import seaborn as sns\n",
    "import statsmodels.api as sm\n",
    "import matplotlib.pyplot as plt\n",
    "import statsmodels.formula.api as smf\n",
    "from sklearn.linear_model import LinearRegression\n",
    "from sklearn.metrics import mean_squared_error, r2_score\n",
    "from sklearn.model_selection import train_test_split, cross_val_score\n",
    "\n",
    "import warnings\n",
    "warnings.filterwarnings(\"ignore\", category = UserWarning)"
   ]
  },
  {
   "cell_type": "markdown",
   "id": "77312d79-7437-4fca-9117-5afe8d1995bd",
   "metadata": {},
   "source": [
    "* Verisetini [buradan](https://mrkizmaz-s3data.s3.eu-west-1.amazonaws.com/DataSets/FuelConsumption.csv) indirebilirsiniz."
   ]
  },
  {
   "cell_type": "code",
   "execution_count": 2,
   "id": "b06ff4d8-4e48-41a1-bb89-b8104d7e9525",
   "metadata": {},
   "outputs": [
    {
     "data": {
      "text/html": [
       "<div>\n",
       "<style scoped>\n",
       "    .dataframe tbody tr th:only-of-type {\n",
       "        vertical-align: middle;\n",
       "    }\n",
       "\n",
       "    .dataframe tbody tr th {\n",
       "        vertical-align: top;\n",
       "    }\n",
       "\n",
       "    .dataframe thead th {\n",
       "        text-align: right;\n",
       "    }\n",
       "</style>\n",
       "<table border=\"1\" class=\"dataframe\">\n",
       "  <thead>\n",
       "    <tr style=\"text-align: right;\">\n",
       "      <th></th>\n",
       "      <th>MODELYEAR</th>\n",
       "      <th>MAKE</th>\n",
       "      <th>MODEL</th>\n",
       "      <th>VEHICLECLASS</th>\n",
       "      <th>ENGINESIZE</th>\n",
       "      <th>CYLINDERS</th>\n",
       "      <th>TRANSMISSION</th>\n",
       "      <th>FUELTYPE</th>\n",
       "      <th>FUELCONSUMPTION_CITY</th>\n",
       "      <th>FUELCONSUMPTION_HWY</th>\n",
       "      <th>FUELCONSUMPTION_COMB</th>\n",
       "      <th>FUELCONSUMPTION_COMB_MPG</th>\n",
       "      <th>CO2EMISSIONS</th>\n",
       "    </tr>\n",
       "  </thead>\n",
       "  <tbody>\n",
       "    <tr>\n",
       "      <th>0</th>\n",
       "      <td>2014</td>\n",
       "      <td>ACURA</td>\n",
       "      <td>ILX</td>\n",
       "      <td>COMPACT</td>\n",
       "      <td>2.0</td>\n",
       "      <td>4</td>\n",
       "      <td>AS5</td>\n",
       "      <td>Z</td>\n",
       "      <td>9.9</td>\n",
       "      <td>6.7</td>\n",
       "      <td>8.5</td>\n",
       "      <td>33</td>\n",
       "      <td>196</td>\n",
       "    </tr>\n",
       "    <tr>\n",
       "      <th>1</th>\n",
       "      <td>2014</td>\n",
       "      <td>ACURA</td>\n",
       "      <td>ILX</td>\n",
       "      <td>COMPACT</td>\n",
       "      <td>2.4</td>\n",
       "      <td>4</td>\n",
       "      <td>M6</td>\n",
       "      <td>Z</td>\n",
       "      <td>11.2</td>\n",
       "      <td>7.7</td>\n",
       "      <td>9.6</td>\n",
       "      <td>29</td>\n",
       "      <td>221</td>\n",
       "    </tr>\n",
       "    <tr>\n",
       "      <th>2</th>\n",
       "      <td>2014</td>\n",
       "      <td>ACURA</td>\n",
       "      <td>ILX HYBRID</td>\n",
       "      <td>COMPACT</td>\n",
       "      <td>1.5</td>\n",
       "      <td>4</td>\n",
       "      <td>AV7</td>\n",
       "      <td>Z</td>\n",
       "      <td>6.0</td>\n",
       "      <td>5.8</td>\n",
       "      <td>5.9</td>\n",
       "      <td>48</td>\n",
       "      <td>136</td>\n",
       "    </tr>\n",
       "    <tr>\n",
       "      <th>3</th>\n",
       "      <td>2014</td>\n",
       "      <td>ACURA</td>\n",
       "      <td>MDX 4WD</td>\n",
       "      <td>SUV - SMALL</td>\n",
       "      <td>3.5</td>\n",
       "      <td>6</td>\n",
       "      <td>AS6</td>\n",
       "      <td>Z</td>\n",
       "      <td>12.7</td>\n",
       "      <td>9.1</td>\n",
       "      <td>11.1</td>\n",
       "      <td>25</td>\n",
       "      <td>255</td>\n",
       "    </tr>\n",
       "    <tr>\n",
       "      <th>4</th>\n",
       "      <td>2014</td>\n",
       "      <td>ACURA</td>\n",
       "      <td>RDX AWD</td>\n",
       "      <td>SUV - SMALL</td>\n",
       "      <td>3.5</td>\n",
       "      <td>6</td>\n",
       "      <td>AS6</td>\n",
       "      <td>Z</td>\n",
       "      <td>12.1</td>\n",
       "      <td>8.7</td>\n",
       "      <td>10.6</td>\n",
       "      <td>27</td>\n",
       "      <td>244</td>\n",
       "    </tr>\n",
       "  </tbody>\n",
       "</table>\n",
       "</div>"
      ],
      "text/plain": [
       "   MODELYEAR   MAKE       MODEL VEHICLECLASS  ENGINESIZE  CYLINDERS  \\\n",
       "0       2014  ACURA         ILX      COMPACT         2.0          4   \n",
       "1       2014  ACURA         ILX      COMPACT         2.4          4   \n",
       "2       2014  ACURA  ILX HYBRID      COMPACT         1.5          4   \n",
       "3       2014  ACURA     MDX 4WD  SUV - SMALL         3.5          6   \n",
       "4       2014  ACURA     RDX AWD  SUV - SMALL         3.5          6   \n",
       "\n",
       "  TRANSMISSION FUELTYPE  FUELCONSUMPTION_CITY  FUELCONSUMPTION_HWY  \\\n",
       "0          AS5        Z                   9.9                  6.7   \n",
       "1           M6        Z                  11.2                  7.7   \n",
       "2          AV7        Z                   6.0                  5.8   \n",
       "3          AS6        Z                  12.7                  9.1   \n",
       "4          AS6        Z                  12.1                  8.7   \n",
       "\n",
       "   FUELCONSUMPTION_COMB  FUELCONSUMPTION_COMB_MPG  CO2EMISSIONS  \n",
       "0                   8.5                        33           196  \n",
       "1                   9.6                        29           221  \n",
       "2                   5.9                        48           136  \n",
       "3                  11.1                        25           255  \n",
       "4                  10.6                        27           244  "
      ]
     },
     "execution_count": 2,
     "metadata": {},
     "output_type": "execute_result"
    }
   ],
   "source": [
    "url = \"https://mrkizmaz-s3data.s3.eu-west-1.amazonaws.com/DataSets/FuelConsumption.csv\"\n",
    "\n",
    "FuelCons = pd.read_csv(url)\n",
    "df = FuelCons.copy()\n",
    "df.head()"
   ]
  },
  {
   "cell_type": "code",
   "execution_count": 3,
   "id": "906e8968-fa4d-49ab-90cc-3ecb2531a44b",
   "metadata": {},
   "outputs": [
    {
     "name": "stdout",
     "output_type": "stream",
     "text": [
      "<class 'pandas.core.frame.DataFrame'>\n",
      "RangeIndex: 1067 entries, 0 to 1066\n",
      "Data columns (total 13 columns):\n",
      " #   Column                    Non-Null Count  Dtype  \n",
      "---  ------                    --------------  -----  \n",
      " 0   MODELYEAR                 1067 non-null   int64  \n",
      " 1   MAKE                      1067 non-null   object \n",
      " 2   MODEL                     1067 non-null   object \n",
      " 3   VEHICLECLASS              1067 non-null   object \n",
      " 4   ENGINESIZE                1067 non-null   float64\n",
      " 5   CYLINDERS                 1067 non-null   int64  \n",
      " 6   TRANSMISSION              1067 non-null   object \n",
      " 7   FUELTYPE                  1067 non-null   object \n",
      " 8   FUELCONSUMPTION_CITY      1067 non-null   float64\n",
      " 9   FUELCONSUMPTION_HWY       1067 non-null   float64\n",
      " 10  FUELCONSUMPTION_COMB      1067 non-null   float64\n",
      " 11  FUELCONSUMPTION_COMB_MPG  1067 non-null   int64  \n",
      " 12  CO2EMISSIONS              1067 non-null   int64  \n",
      "dtypes: float64(4), int64(4), object(5)\n",
      "memory usage: 108.5+ KB\n"
     ]
    }
   ],
   "source": [
    "df.info() # veriseti hakkında bilgi verir"
   ]
  },
  {
   "cell_type": "code",
   "execution_count": 4,
   "id": "163f0634-1ad5-4ef2-b445-b4007df6fde7",
   "metadata": {},
   "outputs": [
    {
     "data": {
      "text/plain": [
       "MODELYEAR                     1\n",
       "MAKE                         39\n",
       "MODEL                       663\n",
       "VEHICLECLASS                 16\n",
       "ENGINESIZE                   45\n",
       "CYLINDERS                     7\n",
       "TRANSMISSION                 22\n",
       "FUELTYPE                      4\n",
       "FUELCONSUMPTION_CITY        167\n",
       "FUELCONSUMPTION_HWY         118\n",
       "FUELCONSUMPTION_COMB        148\n",
       "FUELCONSUMPTION_COMB_MPG     43\n",
       "CO2EMISSIONS                159\n",
       "dtype: int64"
      ]
     },
     "execution_count": 4,
     "metadata": {},
     "output_type": "execute_result"
    }
   ],
   "source": [
    "df.nunique()"
   ]
  },
  {
   "cell_type": "code",
   "execution_count": 5,
   "id": "31c947fb-2033-4b76-966f-a75d30bb3d50",
   "metadata": {},
   "outputs": [
    {
     "data": {
      "text/plain": [
       "X    514\n",
       "Z    434\n",
       "E     92\n",
       "D     27\n",
       "Name: FUELTYPE, dtype: int64"
      ]
     },
     "execution_count": 5,
     "metadata": {},
     "output_type": "execute_result"
    }
   ],
   "source": [
    "df.FUELTYPE.value_counts()"
   ]
  },
  {
   "cell_type": "code",
   "execution_count": 6,
   "id": "272d3b3a-2f31-4463-866f-d0bec0de9656",
   "metadata": {},
   "outputs": [
    {
     "data": {
      "text/plain": [
       "False"
      ]
     },
     "execution_count": 6,
     "metadata": {},
     "output_type": "execute_result"
    }
   ],
   "source": [
    "df.isnull().values.any() # verisetinde eksik veya hatalı deger var mı?"
   ]
  },
  {
   "cell_type": "code",
   "execution_count": 7,
   "id": "a00f3b40-4ca5-419e-8ddb-4eb695b6b059",
   "metadata": {},
   "outputs": [
    {
     "data": {
      "text/html": [
       "<div>\n",
       "<style scoped>\n",
       "    .dataframe tbody tr th:only-of-type {\n",
       "        vertical-align: middle;\n",
       "    }\n",
       "\n",
       "    .dataframe tbody tr th {\n",
       "        vertical-align: top;\n",
       "    }\n",
       "\n",
       "    .dataframe thead th {\n",
       "        text-align: right;\n",
       "    }\n",
       "</style>\n",
       "<table border=\"1\" class=\"dataframe\">\n",
       "  <thead>\n",
       "    <tr style=\"text-align: right;\">\n",
       "      <th></th>\n",
       "      <th>count</th>\n",
       "      <th>mean</th>\n",
       "      <th>std</th>\n",
       "      <th>min</th>\n",
       "      <th>25%</th>\n",
       "      <th>50%</th>\n",
       "      <th>75%</th>\n",
       "      <th>max</th>\n",
       "    </tr>\n",
       "  </thead>\n",
       "  <tbody>\n",
       "    <tr>\n",
       "      <th>MODELYEAR</th>\n",
       "      <td>1067.0</td>\n",
       "      <td>2014.000000</td>\n",
       "      <td>0.000000</td>\n",
       "      <td>2014.0</td>\n",
       "      <td>2014.00</td>\n",
       "      <td>2014.0</td>\n",
       "      <td>2014.00</td>\n",
       "      <td>2014.0</td>\n",
       "    </tr>\n",
       "    <tr>\n",
       "      <th>ENGINESIZE</th>\n",
       "      <td>1067.0</td>\n",
       "      <td>3.346298</td>\n",
       "      <td>1.415895</td>\n",
       "      <td>1.0</td>\n",
       "      <td>2.00</td>\n",
       "      <td>3.4</td>\n",
       "      <td>4.30</td>\n",
       "      <td>8.4</td>\n",
       "    </tr>\n",
       "    <tr>\n",
       "      <th>CYLINDERS</th>\n",
       "      <td>1067.0</td>\n",
       "      <td>5.794752</td>\n",
       "      <td>1.797447</td>\n",
       "      <td>3.0</td>\n",
       "      <td>4.00</td>\n",
       "      <td>6.0</td>\n",
       "      <td>8.00</td>\n",
       "      <td>12.0</td>\n",
       "    </tr>\n",
       "    <tr>\n",
       "      <th>FUELCONSUMPTION_CITY</th>\n",
       "      <td>1067.0</td>\n",
       "      <td>13.296532</td>\n",
       "      <td>4.101253</td>\n",
       "      <td>4.6</td>\n",
       "      <td>10.25</td>\n",
       "      <td>12.6</td>\n",
       "      <td>15.55</td>\n",
       "      <td>30.2</td>\n",
       "    </tr>\n",
       "    <tr>\n",
       "      <th>FUELCONSUMPTION_HWY</th>\n",
       "      <td>1067.0</td>\n",
       "      <td>9.474602</td>\n",
       "      <td>2.794510</td>\n",
       "      <td>4.9</td>\n",
       "      <td>7.50</td>\n",
       "      <td>8.8</td>\n",
       "      <td>10.85</td>\n",
       "      <td>20.5</td>\n",
       "    </tr>\n",
       "    <tr>\n",
       "      <th>FUELCONSUMPTION_COMB</th>\n",
       "      <td>1067.0</td>\n",
       "      <td>11.580881</td>\n",
       "      <td>3.485595</td>\n",
       "      <td>4.7</td>\n",
       "      <td>9.00</td>\n",
       "      <td>10.9</td>\n",
       "      <td>13.35</td>\n",
       "      <td>25.8</td>\n",
       "    </tr>\n",
       "    <tr>\n",
       "      <th>FUELCONSUMPTION_COMB_MPG</th>\n",
       "      <td>1067.0</td>\n",
       "      <td>26.441425</td>\n",
       "      <td>7.468702</td>\n",
       "      <td>11.0</td>\n",
       "      <td>21.00</td>\n",
       "      <td>26.0</td>\n",
       "      <td>31.00</td>\n",
       "      <td>60.0</td>\n",
       "    </tr>\n",
       "    <tr>\n",
       "      <th>CO2EMISSIONS</th>\n",
       "      <td>1067.0</td>\n",
       "      <td>256.228679</td>\n",
       "      <td>63.372304</td>\n",
       "      <td>108.0</td>\n",
       "      <td>207.00</td>\n",
       "      <td>251.0</td>\n",
       "      <td>294.00</td>\n",
       "      <td>488.0</td>\n",
       "    </tr>\n",
       "  </tbody>\n",
       "</table>\n",
       "</div>"
      ],
      "text/plain": [
       "                           count         mean        std     min      25%  \\\n",
       "MODELYEAR                 1067.0  2014.000000   0.000000  2014.0  2014.00   \n",
       "ENGINESIZE                1067.0     3.346298   1.415895     1.0     2.00   \n",
       "CYLINDERS                 1067.0     5.794752   1.797447     3.0     4.00   \n",
       "FUELCONSUMPTION_CITY      1067.0    13.296532   4.101253     4.6    10.25   \n",
       "FUELCONSUMPTION_HWY       1067.0     9.474602   2.794510     4.9     7.50   \n",
       "FUELCONSUMPTION_COMB      1067.0    11.580881   3.485595     4.7     9.00   \n",
       "FUELCONSUMPTION_COMB_MPG  1067.0    26.441425   7.468702    11.0    21.00   \n",
       "CO2EMISSIONS              1067.0   256.228679  63.372304   108.0   207.00   \n",
       "\n",
       "                             50%      75%     max  \n",
       "MODELYEAR                 2014.0  2014.00  2014.0  \n",
       "ENGINESIZE                   3.4     4.30     8.4  \n",
       "CYLINDERS                    6.0     8.00    12.0  \n",
       "FUELCONSUMPTION_CITY        12.6    15.55    30.2  \n",
       "FUELCONSUMPTION_HWY          8.8    10.85    20.5  \n",
       "FUELCONSUMPTION_COMB        10.9    13.35    25.8  \n",
       "FUELCONSUMPTION_COMB_MPG    26.0    31.00    60.0  \n",
       "CO2EMISSIONS               251.0   294.00   488.0  "
      ]
     },
     "execution_count": 7,
     "metadata": {},
     "output_type": "execute_result"
    }
   ],
   "source": [
    "df.describe().T # verisetinin dagılımı hakkında bilgi verir."
   ]
  },
  {
   "cell_type": "code",
   "execution_count": 8,
   "id": "f1880b6a-85bd-4ece-9de7-15b3b0e2502e",
   "metadata": {},
   "outputs": [
    {
     "data": {
      "text/html": [
       "<div>\n",
       "<style scoped>\n",
       "    .dataframe tbody tr th:only-of-type {\n",
       "        vertical-align: middle;\n",
       "    }\n",
       "\n",
       "    .dataframe tbody tr th {\n",
       "        vertical-align: top;\n",
       "    }\n",
       "\n",
       "    .dataframe thead th {\n",
       "        text-align: right;\n",
       "    }\n",
       "</style>\n",
       "<table border=\"1\" class=\"dataframe\">\n",
       "  <thead>\n",
       "    <tr style=\"text-align: right;\">\n",
       "      <th></th>\n",
       "      <th>MODELYEAR</th>\n",
       "      <th>ENGINESIZE</th>\n",
       "      <th>CYLINDERS</th>\n",
       "      <th>FUELCONSUMPTION_CITY</th>\n",
       "      <th>FUELCONSUMPTION_HWY</th>\n",
       "      <th>FUELCONSUMPTION_COMB</th>\n",
       "      <th>FUELCONSUMPTION_COMB_MPG</th>\n",
       "      <th>CO2EMISSIONS</th>\n",
       "    </tr>\n",
       "  </thead>\n",
       "  <tbody>\n",
       "    <tr>\n",
       "      <th>MODELYEAR</th>\n",
       "      <td>NaN</td>\n",
       "      <td>NaN</td>\n",
       "      <td>NaN</td>\n",
       "      <td>NaN</td>\n",
       "      <td>NaN</td>\n",
       "      <td>NaN</td>\n",
       "      <td>NaN</td>\n",
       "      <td>NaN</td>\n",
       "    </tr>\n",
       "    <tr>\n",
       "      <th>ENGINESIZE</th>\n",
       "      <td>NaN</td>\n",
       "      <td>1.000000</td>\n",
       "      <td>0.934011</td>\n",
       "      <td>0.832225</td>\n",
       "      <td>0.778746</td>\n",
       "      <td>0.819482</td>\n",
       "      <td>-0.808554</td>\n",
       "      <td>0.874154</td>\n",
       "    </tr>\n",
       "    <tr>\n",
       "      <th>CYLINDERS</th>\n",
       "      <td>NaN</td>\n",
       "      <td>0.934011</td>\n",
       "      <td>1.000000</td>\n",
       "      <td>0.796473</td>\n",
       "      <td>0.724594</td>\n",
       "      <td>0.776788</td>\n",
       "      <td>-0.770430</td>\n",
       "      <td>0.849685</td>\n",
       "    </tr>\n",
       "    <tr>\n",
       "      <th>FUELCONSUMPTION_CITY</th>\n",
       "      <td>NaN</td>\n",
       "      <td>0.832225</td>\n",
       "      <td>0.796473</td>\n",
       "      <td>1.000000</td>\n",
       "      <td>0.965718</td>\n",
       "      <td>0.995542</td>\n",
       "      <td>-0.935613</td>\n",
       "      <td>0.898039</td>\n",
       "    </tr>\n",
       "    <tr>\n",
       "      <th>FUELCONSUMPTION_HWY</th>\n",
       "      <td>NaN</td>\n",
       "      <td>0.778746</td>\n",
       "      <td>0.724594</td>\n",
       "      <td>0.965718</td>\n",
       "      <td>1.000000</td>\n",
       "      <td>0.985804</td>\n",
       "      <td>-0.893809</td>\n",
       "      <td>0.861748</td>\n",
       "    </tr>\n",
       "    <tr>\n",
       "      <th>FUELCONSUMPTION_COMB</th>\n",
       "      <td>NaN</td>\n",
       "      <td>0.819482</td>\n",
       "      <td>0.776788</td>\n",
       "      <td>0.995542</td>\n",
       "      <td>0.985804</td>\n",
       "      <td>1.000000</td>\n",
       "      <td>-0.927965</td>\n",
       "      <td>0.892129</td>\n",
       "    </tr>\n",
       "    <tr>\n",
       "      <th>FUELCONSUMPTION_COMB_MPG</th>\n",
       "      <td>NaN</td>\n",
       "      <td>-0.808554</td>\n",
       "      <td>-0.770430</td>\n",
       "      <td>-0.935613</td>\n",
       "      <td>-0.893809</td>\n",
       "      <td>-0.927965</td>\n",
       "      <td>1.000000</td>\n",
       "      <td>-0.906394</td>\n",
       "    </tr>\n",
       "    <tr>\n",
       "      <th>CO2EMISSIONS</th>\n",
       "      <td>NaN</td>\n",
       "      <td>0.874154</td>\n",
       "      <td>0.849685</td>\n",
       "      <td>0.898039</td>\n",
       "      <td>0.861748</td>\n",
       "      <td>0.892129</td>\n",
       "      <td>-0.906394</td>\n",
       "      <td>1.000000</td>\n",
       "    </tr>\n",
       "  </tbody>\n",
       "</table>\n",
       "</div>"
      ],
      "text/plain": [
       "                          MODELYEAR  ENGINESIZE  CYLINDERS  \\\n",
       "MODELYEAR                       NaN         NaN        NaN   \n",
       "ENGINESIZE                      NaN    1.000000   0.934011   \n",
       "CYLINDERS                       NaN    0.934011   1.000000   \n",
       "FUELCONSUMPTION_CITY            NaN    0.832225   0.796473   \n",
       "FUELCONSUMPTION_HWY             NaN    0.778746   0.724594   \n",
       "FUELCONSUMPTION_COMB            NaN    0.819482   0.776788   \n",
       "FUELCONSUMPTION_COMB_MPG        NaN   -0.808554  -0.770430   \n",
       "CO2EMISSIONS                    NaN    0.874154   0.849685   \n",
       "\n",
       "                          FUELCONSUMPTION_CITY  FUELCONSUMPTION_HWY  \\\n",
       "MODELYEAR                                  NaN                  NaN   \n",
       "ENGINESIZE                            0.832225             0.778746   \n",
       "CYLINDERS                             0.796473             0.724594   \n",
       "FUELCONSUMPTION_CITY                  1.000000             0.965718   \n",
       "FUELCONSUMPTION_HWY                   0.965718             1.000000   \n",
       "FUELCONSUMPTION_COMB                  0.995542             0.985804   \n",
       "FUELCONSUMPTION_COMB_MPG             -0.935613            -0.893809   \n",
       "CO2EMISSIONS                          0.898039             0.861748   \n",
       "\n",
       "                          FUELCONSUMPTION_COMB  FUELCONSUMPTION_COMB_MPG  \\\n",
       "MODELYEAR                                  NaN                       NaN   \n",
       "ENGINESIZE                            0.819482                 -0.808554   \n",
       "CYLINDERS                             0.776788                 -0.770430   \n",
       "FUELCONSUMPTION_CITY                  0.995542                 -0.935613   \n",
       "FUELCONSUMPTION_HWY                   0.985804                 -0.893809   \n",
       "FUELCONSUMPTION_COMB                  1.000000                 -0.927965   \n",
       "FUELCONSUMPTION_COMB_MPG             -0.927965                  1.000000   \n",
       "CO2EMISSIONS                          0.892129                 -0.906394   \n",
       "\n",
       "                          CO2EMISSIONS  \n",
       "MODELYEAR                          NaN  \n",
       "ENGINESIZE                    0.874154  \n",
       "CYLINDERS                     0.849685  \n",
       "FUELCONSUMPTION_CITY          0.898039  \n",
       "FUELCONSUMPTION_HWY           0.861748  \n",
       "FUELCONSUMPTION_COMB          0.892129  \n",
       "FUELCONSUMPTION_COMB_MPG     -0.906394  \n",
       "CO2EMISSIONS                  1.000000  "
      ]
     },
     "execution_count": 8,
     "metadata": {},
     "output_type": "execute_result"
    }
   ],
   "source": [
    "df.corr() # verisetinin degiskenleri arasındaki korelasyon durumu"
   ]
  },
  {
   "cell_type": "code",
   "execution_count": 9,
   "id": "2e6ccd06-fd3a-4c6c-8c9a-faa488210232",
   "metadata": {},
   "outputs": [
    {
     "data": {
      "image/png": "[encoded data removed]",
      "text/plain": [
       "<Figure size 432x288 with 1 Axes>"
      ]
     },
     "metadata": {},
     "output_type": "display_data"
    }
   ],
   "source": [
    "sns.set_theme(color_codes = True)\n",
    "sns.regplot(data = df, x = 'ENGINESIZE', y = 'CO2EMISSIONS', color = 'red', scatter_kws = {'s': 50, 'color' : 'b'});"
   ]
  },
  {
   "cell_type": "code",
   "execution_count": 10,
   "id": "45a7d34c-e130-4cf9-9492-13a04a284e9f",
   "metadata": {},
   "outputs": [
    {
     "data": {
      "image/png": "[encoded data removed]",
      "text/plain": [
       "<Figure size 429.675x360 with 1 Axes>"
      ]
     },
     "metadata": {},
     "output_type": "display_data"
    }
   ],
   "source": [
    "sns.lmplot(data = df, x = 'ENGINESIZE', y = 'FUELCONSUMPTION_COMB', hue = 'FUELTYPE', scatter_kws={'s': 22, 'color' : 'r'});"
   ]
  },
  {
   "cell_type": "code",
   "execution_count": 11,
   "id": "2f940fa1-67a1-40cd-a877-f156ffaf0f71",
   "metadata": {},
   "outputs": [
    {
     "data": {
      "image/png": "[encoded data removed]",
      "text/plain": [
       "<Figure size 432x432 with 3 Axes>"
      ]
     },
     "metadata": {},
     "output_type": "display_data"
    }
   ],
   "source": [
    "sns.jointplot(data = df, x = 'ENGINESIZE', y = 'CO2EMISSIONS', kind = 'reg', color = 'brown', scatter_kws = {'color': 'g', 's':22});"
   ]
  },
  {
   "cell_type": "markdown",
   "id": "7c9fa90c-0cb9-44e7-bb21-d624e712c2ac",
   "metadata": {
    "jp-MarkdownHeadingCollapsed": true,
    "tags": []
   },
   "source": [
    "### StatsModels İle Modelleme"
   ]
  },
  {
   "cell_type": "code",
   "execution_count": 12,
   "id": "68195dae-2e69-4933-b165-7ac19506e3bb",
   "metadata": {},
   "outputs": [
    {
     "name": "stdout",
     "output_type": "stream",
     "text": [
      "                            OLS Regression Results                            \n",
      "==============================================================================\n",
      "Dep. Variable:           CO2EMISSIONS   R-squared:                       0.764\n",
      "Model:                            OLS   Adj. R-squared:                  0.764\n",
      "Method:                 Least Squares   F-statistic:                     3451.\n",
      "Date:                Fri, 18 Feb 2022   Prob (F-statistic):               0.00\n",
      "Time:                        01:34:50   Log-Likelihood:                -5169.9\n",
      "No. Observations:                1067   AIC:                         1.034e+04\n",
      "Df Residuals:                    1065   BIC:                         1.035e+04\n",
      "Df Model:                           1                                         \n",
      "Covariance Type:            nonrobust                                         \n",
      "==============================================================================\n",
      "                 coef    std err          t      P>|t|      [0.025      0.975]\n",
      "------------------------------------------------------------------------------\n",
      "const        125.3041      2.420     51.779      0.000     120.556     130.053\n",
      "ENGINESIZE    39.1252      0.666     58.741      0.000      37.818      40.432\n",
      "==============================================================================\n",
      "Omnibus:                       27.459   Durbin-Watson:                   0.862\n",
      "Prob(Omnibus):                  0.000   Jarque-Bera (JB):               54.194\n",
      "Skew:                           0.126   Prob(JB):                     1.71e-12\n",
      "Kurtosis:                       4.075   Cond. No.                         9.93\n",
      "==============================================================================\n",
      "\n",
      "Notes:\n",
      "[1] Standard Errors assume that the covariance matrix of the errors is correctly specified.\n",
      "***********************************************\n",
      "Model Denklemi:  Co2 Emissions = 125.30409949535674 + enginesize * 39.12519978671176\n",
      "Modelin anlamlılıgı (p-value < 0.05 ise anlamlıdır):  0.0\n",
      "Modelin basarı yüzdesi (r-squared):  76.41458597854816\n",
      "Modelin hata kareler ortalaması (MSE):  946.314052718875\n",
      "Modelin hata degeri (RMSE):  30.762217942126263\n"
     ]
    }
   ],
   "source": [
    "# 1.yol modelleme,\n",
    "# bagımsız degisken: ENGINESIZE, bagımlı degisken: CO2EMISSIONS\n",
    "\n",
    "X1 = df[[\"ENGINESIZE\"]]\n",
    "X1 = sm.add_constant(X1) # katsayı eklenmeli\n",
    "y1 = df[\"CO2EMISSIONS\"]\n",
    "\n",
    "# model nesnesinin olusturulması ve fit edilmesi\n",
    "lm1 = sm.OLS(y1, X1)\n",
    "model1 = lm1.fit()\n",
    "\n",
    "denklem1 = \"Co2 Emissions = \" + str(model1.params[0]) + \" + enginesize * \" + str(model1.params[1]) # model denklemi\n",
    "\n",
    "# hata degerleri\n",
    "mse1 = np.mean((y1 - model1.fittedvalues) ** 2) # MSE\n",
    "rmse1 = np.sqrt(mse1) # RMSE\n",
    "rscore1 = model1.rsquared # r-squared\n",
    "pvalue1 = model1.f_pvalue # p-value\n",
    "\n",
    "print(model1.summary())\n",
    "print(\"***********************************************\")\n",
    "print(\"Model Denklemi: \", denklem1)\n",
    "print(\"Modelin anlamlılıgı (p-value < 0.05 ise anlamlıdır): \", pvalue1)\n",
    "print(\"Modelin basarı yüzdesi (r-squared): \", rscore1 * 100)\n",
    "print(\"Modelin hata kareler ortalaması (MSE): \", mse1)\n",
    "print(\"Modelin hata degeri (RMSE): \", rmse1)"
   ]
  },
  {
   "cell_type": "code",
   "execution_count": 13,
   "id": "db87de01-3c1a-497b-9df0-fa14773ddd13",
   "metadata": {},
   "outputs": [
    {
     "data": {
      "image/png": "[encoded data removed]",
      "text/plain": [
       "<Figure size 432x288 with 1 Axes>"
      ]
     },
     "metadata": {},
     "output_type": "display_data"
    }
   ],
   "source": [
    "# Modelin görsellestirilmesi\n",
    "plt.scatter(X1[\"ENGINESIZE\"], y1, color = 'purple');\n",
    "plt.plot(np.array(X1[\"ENGINESIZE\"]), model1.predict(), color = 'black')\n",
    "plt.title(\"Model Denklemi: \" + denklem1)\n",
    "plt.ylabel(\"Co2 Emissions\")\n",
    "plt.xlabel(\"Engine Size\");"
   ]
  },
  {
   "cell_type": "code",
   "execution_count": 14,
   "id": "9da8f13b-d5cd-47fa-a781-176813fe174f",
   "metadata": {},
   "outputs": [
    {
     "name": "stdout",
     "output_type": "stream",
     "text": [
      "                            OLS Regression Results                            \n",
      "==============================================================================\n",
      "Dep. Variable:           CO2EMISSIONS   R-squared:                       0.764\n",
      "Model:                            OLS   Adj. R-squared:                  0.764\n",
      "Method:                 Least Squares   F-statistic:                     3451.\n",
      "Date:                Fri, 18 Feb 2022   Prob (F-statistic):               0.00\n",
      "Time:                        01:34:50   Log-Likelihood:                -5169.9\n",
      "No. Observations:                1067   AIC:                         1.034e+04\n",
      "Df Residuals:                    1065   BIC:                         1.035e+04\n",
      "Df Model:                           1                                         \n",
      "Covariance Type:            nonrobust                                         \n",
      "==============================================================================\n",
      "                 coef    std err          t      P>|t|      [0.025      0.975]\n",
      "------------------------------------------------------------------------------\n",
      "Intercept    125.3041      2.420     51.779      0.000     120.556     130.053\n",
      "ENGINESIZE    39.1252      0.666     58.741      0.000      37.818      40.432\n",
      "==============================================================================\n",
      "Omnibus:                       27.459   Durbin-Watson:                   0.862\n",
      "Prob(Omnibus):                  0.000   Jarque-Bera (JB):               54.194\n",
      "Skew:                           0.126   Prob(JB):                     1.71e-12\n",
      "Kurtosis:                       4.075   Cond. No.                         9.93\n",
      "==============================================================================\n",
      "\n",
      "Notes:\n",
      "[1] Standard Errors assume that the covariance matrix of the errors is correctly specified.\n",
      "***********************************************\n",
      "Model Denklemi:  Co2 Emissions = 125.30409949535674 + enginesize * 39.12519978671176\n",
      "Modelin anlamlılıgı (p-value < 0.05 ise anlamlıdır):  0.0\n",
      "Modelin basarı yüzdesi (r-squared):  76.41458597854816\n",
      "Modelin hata kareler ortalaması (MSE):  946.314052718875\n",
      "Modelin hata degeri (RMSE):  30.762217942126263\n"
     ]
    }
   ],
   "source": [
    "# 2. yol modelleme,\n",
    "# bagımsız degisken: ENGINESIZE, bagımlı degisken: CO2EMISSIONS\n",
    "\n",
    "lm2 = smf.ols(formula = 'CO2EMISSIONS ~ ENGINESIZE', data = df) \n",
    "model2 = lm2.fit()\n",
    "\n",
    "denklem2 = \"Co2 Emissions = \" + str(model2.params[0]) + \" + enginesize * \" + str(model2.params[1]) # model denklemi\n",
    "\n",
    "# hata degerleri\n",
    "mse2 = np.mean((df['CO2EMISSIONS'] - model2.fittedvalues) ** 2) # MSE\n",
    "rmse2 = np.sqrt(mse2) # RMSE\n",
    "rscore2 = model2.rsquared # r-squared\n",
    "pvalue2 = model2.f_pvalue # p-value\n",
    "\n",
    "print(model2.summary())\n",
    "print(\"***********************************************\")\n",
    "print(\"Model Denklemi: \", denklem2)\n",
    "print(\"Modelin anlamlılıgı (p-value < 0.05 ise anlamlıdır): \", pvalue2)\n",
    "print(\"Modelin basarı yüzdesi (r-squared): \", rscore2 * 100)\n",
    "print(\"Modelin hata kareler ortalaması (MSE): \", mse2)\n",
    "print(\"Modelin hata degeri (RMSE): \", rmse2)"
   ]
  },
  {
   "cell_type": "code",
   "execution_count": 15,
   "id": "4ee5c1a1-3be0-4154-bad2-f792741401cc",
   "metadata": {},
   "outputs": [
    {
     "data": {
      "image/png": "[encoded data removed]",
      "text/plain": [
       "<Figure size 432x288 with 1 Axes>"
      ]
     },
     "metadata": {},
     "output_type": "display_data"
    }
   ],
   "source": [
    "# Modelin görsellestirilmesi\n",
    "plt.scatter(df[\"ENGINESIZE\"], df[\"CO2EMISSIONS\"], color = 'green');\n",
    "plt.plot(np.array(X1[\"ENGINESIZE\"]), model1.predict(), color = 'blue')\n",
    "plt.title(\"Model Denklemi: \" + denklem2)\n",
    "plt.ylabel(\"Co2 Emissions\")\n",
    "plt.xlabel(\"Engine Size\");"
   ]
  },
  {
   "cell_type": "markdown",
   "id": "9f0587ea-8b4d-4ac0-8c14-8a9fb2c3d483",
   "metadata": {
    "jp-MarkdownHeadingCollapsed": true,
    "tags": []
   },
   "source": [
    "### ScikitLearn ile Modelleme"
   ]
  },
  {
   "cell_type": "code",
   "execution_count": 16,
   "id": "cdb4476e-bae0-4c89-9873-b0f4134a7ef7",
   "metadata": {},
   "outputs": [
    {
     "name": "stdout",
     "output_type": "stream",
     "text": [
      "Model Denklemi:  Co2emissions = 125.30409949535692 + enginesize * 39.12519978671172\n",
      "Modelin basarı yüzdesi (r-squared):  76.41458597854816\n",
      "Modelin hata kareler ortalaması (MSE):  946.314052718875\n",
      "Modelin hata degeri (RMSE):  30.762217942126263\n"
     ]
    }
   ],
   "source": [
    "X = df[['ENGINESIZE']] # bagımsız degisken\n",
    "y = df[['CO2EMISSIONS']] # bagımlı degisken\n",
    "\n",
    "# nesne olusturulması ve fit edilmesi\n",
    "lm = LinearRegression()\n",
    "model = lm.fit(X, y)\n",
    "\n",
    "denklem = \"Co2emissions = {0} + enginesize * {1}\".format(model.intercept_[0], model.coef_[0][0])\n",
    "\n",
    "# hata degerleri\n",
    "ypred = model.predict(X) # bagımsız degisken uzerinden tahmin edilen y degerleri\n",
    "mse = mean_squared_error(y, ypred) # MSE\n",
    "rmse = np.sqrt(mse) # RMSE\n",
    "rscore = r2_score(y, ypred) # modelin anlamlılıgı\n",
    "\n",
    "print(\"Model Denklemi: \", denklem)\n",
    "print(\"Modelin basarı yüzdesi (r-squared): \", rscore * 100)\n",
    "print(\"Modelin hata kareler ortalaması (MSE): \", mse)\n",
    "print(\"Modelin hata degeri (RMSE): \", rmse)"
   ]
  },
  {
   "cell_type": "code",
   "execution_count": 17,
   "id": "952e4e4c-7e34-46c6-a552-42a7ff7e078d",
   "metadata": {},
   "outputs": [
    {
     "data": {
      "image/png": "[encoded data removed]",
      "text/plain": [
       "<Figure size 432x288 with 1 Axes>"
      ]
     },
     "metadata": {},
     "output_type": "display_data"
    }
   ],
   "source": [
    "# Modelin görsellestirilmesi\n",
    "plt.scatter(X, y, color = 'gray');\n",
    "plt.plot(np.array(X), ypred, color = 'blue')\n",
    "plt.title(\"Model Denklemi: \" + denklem)\n",
    "plt.ylabel(\"Co2 Emissions\")\n",
    "plt.xlabel(\"Engine Size\");"
   ]
  },
  {
   "cell_type": "markdown",
   "id": "49efa25e-1dae-4fae-9c9b-1090a8032ee8",
   "metadata": {},
   "source": [
    "#### Egitim ve test seti olusturularak modelleme"
   ]
  },
  {
   "cell_type": "code",
   "execution_count": 18,
   "id": "e08a1dfe-4454-4b51-a2fa-b016c59e4428",
   "metadata": {},
   "outputs": [
    {
     "name": "stdout",
     "output_type": "stream",
     "text": [
      "Modelin basarı yüzdesi (r-squared):  76.4404200181055\n",
      "Modelin hata kareler ortalaması (MSE):  985.9381692274999\n",
      "Modelin hata degeri (RMSE):  31.399652374309813\n"
     ]
    }
   ],
   "source": [
    "X = df[['ENGINESIZE']]\n",
    "y = df[['CO2EMISSIONS']]\n",
    "\n",
    "# %80 egitim seti, %20 test seti\n",
    "X_train, X_test, y_train, y_test = train_test_split(X,\n",
    "                                                   y,\n",
    "                                                   test_size = 0.20,\n",
    "                                                   random_state = 42)\n",
    "\n",
    "# nesne olusturulması ve fit edilmesi\n",
    "lm = LinearRegression()\n",
    "model = lm.fit(X_train, y_train)\n",
    "\n",
    "# hata degerleri\n",
    "ypred = model.predict(X_test)\n",
    "mse = mean_squared_error(y_test, ypred)\n",
    "rmse = np.sqrt(mse)\n",
    "rscore = model.score(X_train, y_train)\n",
    "\n",
    "print(\"Modelin basarı yüzdesi (r-squared): \", rscore * 100)\n",
    "print(\"Modelin hata kareler ortalaması (MSE): \", mse)\n",
    "print(\"Modelin hata degeri (RMSE): \", rmse)"
   ]
  },
  {
   "cell_type": "code",
   "execution_count": 19,
   "id": "43ab9c01-eaf2-4046-ae17-31583a601702",
   "metadata": {},
   "outputs": [
    {
     "data": {
      "image/png": "[encoded data removed]",
      "text/plain": [
       "<Figure size 432x288 with 1 Axes>"
      ]
     },
     "metadata": {},
     "output_type": "display_data"
    }
   ],
   "source": [
    "# modelin görsellestirilmesi\n",
    "plt.scatter(X, y, color = 'blue');\n",
    "plt.plot(np.array(X_test), ypred, color = 'red', linewidth = 4)\n",
    "plt.title(\"Model Denklemi: \" + denklem)\n",
    "plt.ylabel(\"Co2 Emissions\")\n",
    "plt.xlabel(\"Engine Size\");"
   ]
  },
  {
   "cell_type": "code",
   "execution_count": 20,
   "id": "478404ce-2aa3-4636-b833-fccfab8efab8",
   "metadata": {},
   "outputs": [],
   "source": [
    "# Örnek tahminler,\n",
    "# Enginesize degeri 4 olurusa Co2 tahmini degeri ne olur?\n",
    "# Farklı arac modellerinde enginesize degerleri 3.2, 2.5, 6 gibi degerler olursa tahmini Co2 degeri ne olur?"
   ]
  },
  {
   "cell_type": "code",
   "execution_count": 21,
   "id": "667a9ab8-96f8-434d-81bf-8fdf7e539d5f",
   "metadata": {},
   "outputs": [
    {
     "data": {
      "text/html": [
       "<div>\n",
       "<style scoped>\n",
       "    .dataframe tbody tr th:only-of-type {\n",
       "        vertical-align: middle;\n",
       "    }\n",
       "\n",
       "    .dataframe tbody tr th {\n",
       "        vertical-align: top;\n",
       "    }\n",
       "\n",
       "    .dataframe thead th {\n",
       "        text-align: right;\n",
       "    }\n",
       "</style>\n",
       "<table border=\"1\" class=\"dataframe\">\n",
       "  <thead>\n",
       "    <tr style=\"text-align: right;\">\n",
       "      <th></th>\n",
       "      <th>CO2EMISSIONS</th>\n",
       "    </tr>\n",
       "  </thead>\n",
       "  <tbody>\n",
       "    <tr>\n",
       "      <th>0</th>\n",
       "      <td>196</td>\n",
       "    </tr>\n",
       "    <tr>\n",
       "      <th>1</th>\n",
       "      <td>221</td>\n",
       "    </tr>\n",
       "    <tr>\n",
       "      <th>2</th>\n",
       "      <td>136</td>\n",
       "    </tr>\n",
       "    <tr>\n",
       "      <th>3</th>\n",
       "      <td>255</td>\n",
       "    </tr>\n",
       "    <tr>\n",
       "      <th>4</th>\n",
       "      <td>244</td>\n",
       "    </tr>\n",
       "    <tr>\n",
       "      <th>5</th>\n",
       "      <td>230</td>\n",
       "    </tr>\n",
       "    <tr>\n",
       "      <th>6</th>\n",
       "      <td>232</td>\n",
       "    </tr>\n",
       "    <tr>\n",
       "      <th>7</th>\n",
       "      <td>255</td>\n",
       "    </tr>\n",
       "    <tr>\n",
       "      <th>8</th>\n",
       "      <td>267</td>\n",
       "    </tr>\n",
       "    <tr>\n",
       "      <th>9</th>\n",
       "      <td>212</td>\n",
       "    </tr>\n",
       "  </tbody>\n",
       "</table>\n",
       "</div>"
      ],
      "text/plain": [
       "   CO2EMISSIONS\n",
       "0           196\n",
       "1           221\n",
       "2           136\n",
       "3           255\n",
       "4           244\n",
       "5           230\n",
       "6           232\n",
       "7           255\n",
       "8           267\n",
       "9           212"
      ]
     },
     "execution_count": 21,
     "metadata": {},
     "output_type": "execute_result"
    }
   ],
   "source": [
    "y.head(10) # gercek y degerleri"
   ]
  },
  {
   "cell_type": "code",
   "execution_count": 22,
   "id": "dc6dc013-9bf4-4e78-b23f-2c786db22a0f",
   "metadata": {},
   "outputs": [
    {
     "data": {
      "text/plain": [
       "array([[282.26161707]])"
      ]
     },
     "execution_count": 22,
     "metadata": {},
     "output_type": "execute_result"
    }
   ],
   "source": [
    "model.predict([[4]])"
   ]
  },
  {
   "cell_type": "code",
   "execution_count": 23,
   "id": "18f880d6-f8f1-4edb-8842-0ad6ad6ace43",
   "metadata": {},
   "outputs": [
    {
     "data": {
      "text/plain": [
       "array([[251.06723409],\n",
       "       [223.77214899],\n",
       "       [360.24757452]])"
      ]
     },
     "execution_count": 23,
     "metadata": {},
     "output_type": "execute_result"
    }
   ],
   "source": [
    "model.predict([[3.2], [2.5], [6]])"
   ]
  },
  {
   "cell_type": "markdown",
   "id": "72f438cc-25cd-41df-951e-d78a9118b19b",
   "metadata": {},
   "source": [
    "#### Model Tuning / Model Dogrulama "
   ]
  },
  {
   "cell_type": "code",
   "execution_count": 24,
   "id": "65b563f0-bb43-4ba7-a76d-e0c63f12e63f",
   "metadata": {},
   "outputs": [
    {
     "name": "stdout",
     "output_type": "stream",
     "text": [
      "Valide edilmis modelin basarı yüzdesi:  73.88375991355949\n",
      "Valide edilmis modelin hata degeri:  31.192232042002352\n"
     ]
    }
   ],
   "source": [
    "# cross validation\n",
    "rscore_cv = cross_val_score(model, X_test, y_test, cv = 10, scoring = \"r2\").mean()\n",
    "rmse_cv = np.sqrt(-cross_val_score(model, X_test, y_test, cv = 10, scoring = \"neg_mean_squared_error\")).mean()\n",
    "\n",
    "print(\"Valide edilmis modelin basarı yüzdesi: \", rscore_cv * 100)\n",
    "print(\"Valide edilmis modelin hata degeri: \", rmse_cv)"
   ]
  },
  {
   "cell_type": "markdown",
   "id": "11b08e22-45bd-41b1-add1-a4f8250a7529",
   "metadata": {
    "jp-MarkdownHeadingCollapsed": true,
    "tags": []
   },
   "source": [
    "### Sonuç"
   ]
  },
  {
   "cell_type": "markdown",
   "id": "2176ae18-5265-4ed3-9260-a819d610a5b2",
   "metadata": {},
   "source": [
    "* Statsmodels ile elde edilne degerler;\n",
    "    * Model Denklemi:  Co2 Emissions = 125.30409949535674 + enginesize * 39.12519978671176\n",
    "    * Modelin anlamlılıgı (p-value < 0.05 ise anlamlıdır):  0.0\n",
    "    * Modelin basarı yüzdesi (r-squared):  **76.41458597854816**\n",
    "    * Modelin hata kareler ortalaması (MSE):  946.314052718875\n",
    "    * Modelin hata degeri (RMSE):  **30.762217942126263**\n",
    "* Scikitlearn ile elde edilen degerler;\n",
    "    * Model Denklemi:  Co2emissions = 125.30409949535692 + enginesize * 39.12519978671172\n",
    "    * Modelin basarı yüzdesi (r-squared):  **76.41458597854816**\n",
    "    * Modelin hata kareler ortalaması (MSE):  946.314052718875\n",
    "    * Modelin hata degeri (RMSE):  **30.762217942126263**\n",
    "* Egitim ve test seti üzerinden modelleme degerleri;\n",
    "    * Modelin basarı yüzdesi (r-squared):  **76.4404200181055**\n",
    "    * Modelin hata kareler ortalaması (MSE):  985.9381692274999\n",
    "    * Modelin hata degeri (RMSE):  **31.399652374309813**\n",
    "    * Valide edilmis degerler, \n",
    "        * Valide edilmis modelin basarı yüzdesi:  **73.88375991355949**\n",
    "        * Valide edilmis modelin hata degeri:  **31.192232042002352**"
   ]
  },
  {
   "cell_type": "markdown",
   "id": "23d0fa38-2b1c-4b10-bdc1-752aaf773444",
   "metadata": {},
   "source": [
    "## ALIŞTIRMA - 2"
   ]
  },
  {
   "cell_type": "markdown",
   "id": "4a1f116f-06be-4562-a8a7-5c7fa9d28b6f",
   "metadata": {
    "jp-MarkdownHeadingCollapsed": true,
    "tags": []
   },
   "source": [
    "### Verisetinin İncelenmesi ve Manipüle Edilmesi"
   ]
  },
  {
   "cell_type": "markdown",
   "id": "047183db-ae88-485a-a4f1-8fa0d04dc7c1",
   "metadata": {},
   "source": [
    "* Verisetini [buradan](https://mrkizmaz-s3data.s3.eu-west-1.amazonaws.com/DataSets/Toyota.csv) indirebilirsiniz."
   ]
  },
  {
   "cell_type": "code",
   "execution_count": 2,
   "id": "4b15138a-30c3-404a-87d5-5d615e2fbdbb",
   "metadata": {},
   "outputs": [
    {
     "data": {
      "text/html": [
       "<div>\n",
       "<style scoped>\n",
       "    .dataframe tbody tr th:only-of-type {\n",
       "        vertical-align: middle;\n",
       "    }\n",
       "\n",
       "    .dataframe tbody tr th {\n",
       "        vertical-align: top;\n",
       "    }\n",
       "\n",
       "    .dataframe thead th {\n",
       "        text-align: right;\n",
       "    }\n",
       "</style>\n",
       "<table border=\"1\" class=\"dataframe\">\n",
       "  <thead>\n",
       "    <tr style=\"text-align: right;\">\n",
       "      <th></th>\n",
       "      <th>Unnamed: 0</th>\n",
       "      <th>Price</th>\n",
       "      <th>Age</th>\n",
       "      <th>KM</th>\n",
       "      <th>FuelType</th>\n",
       "      <th>HP</th>\n",
       "      <th>MetColor</th>\n",
       "      <th>Automatic</th>\n",
       "      <th>CC</th>\n",
       "      <th>Doors</th>\n",
       "      <th>Weight</th>\n",
       "    </tr>\n",
       "  </thead>\n",
       "  <tbody>\n",
       "    <tr>\n",
       "      <th>0</th>\n",
       "      <td>0</td>\n",
       "      <td>13500</td>\n",
       "      <td>23.0</td>\n",
       "      <td>46986</td>\n",
       "      <td>Diesel</td>\n",
       "      <td>90</td>\n",
       "      <td>1.0</td>\n",
       "      <td>0</td>\n",
       "      <td>2000</td>\n",
       "      <td>three</td>\n",
       "      <td>1165</td>\n",
       "    </tr>\n",
       "    <tr>\n",
       "      <th>1</th>\n",
       "      <td>1</td>\n",
       "      <td>13750</td>\n",
       "      <td>23.0</td>\n",
       "      <td>72937</td>\n",
       "      <td>Diesel</td>\n",
       "      <td>90</td>\n",
       "      <td>1.0</td>\n",
       "      <td>0</td>\n",
       "      <td>2000</td>\n",
       "      <td>3</td>\n",
       "      <td>1165</td>\n",
       "    </tr>\n",
       "    <tr>\n",
       "      <th>2</th>\n",
       "      <td>2</td>\n",
       "      <td>13950</td>\n",
       "      <td>24.0</td>\n",
       "      <td>41711</td>\n",
       "      <td>Diesel</td>\n",
       "      <td>90</td>\n",
       "      <td>NaN</td>\n",
       "      <td>0</td>\n",
       "      <td>2000</td>\n",
       "      <td>3</td>\n",
       "      <td>1165</td>\n",
       "    </tr>\n",
       "    <tr>\n",
       "      <th>3</th>\n",
       "      <td>3</td>\n",
       "      <td>14950</td>\n",
       "      <td>26.0</td>\n",
       "      <td>48000</td>\n",
       "      <td>Diesel</td>\n",
       "      <td>90</td>\n",
       "      <td>0.0</td>\n",
       "      <td>0</td>\n",
       "      <td>2000</td>\n",
       "      <td>3</td>\n",
       "      <td>1165</td>\n",
       "    </tr>\n",
       "    <tr>\n",
       "      <th>4</th>\n",
       "      <td>4</td>\n",
       "      <td>13750</td>\n",
       "      <td>30.0</td>\n",
       "      <td>38500</td>\n",
       "      <td>Diesel</td>\n",
       "      <td>90</td>\n",
       "      <td>0.0</td>\n",
       "      <td>0</td>\n",
       "      <td>2000</td>\n",
       "      <td>3</td>\n",
       "      <td>1170</td>\n",
       "    </tr>\n",
       "  </tbody>\n",
       "</table>\n",
       "</div>"
      ],
      "text/plain": [
       "   Unnamed: 0  Price   Age     KM FuelType  HP  MetColor  Automatic    CC  \\\n",
       "0           0  13500  23.0  46986   Diesel  90       1.0          0  2000   \n",
       "1           1  13750  23.0  72937   Diesel  90       1.0          0  2000   \n",
       "2           2  13950  24.0  41711   Diesel  90       NaN          0  2000   \n",
       "3           3  14950  26.0  48000   Diesel  90       0.0          0  2000   \n",
       "4           4  13750  30.0  38500   Diesel  90       0.0          0  2000   \n",
       "\n",
       "   Doors  Weight  \n",
       "0  three    1165  \n",
       "1      3    1165  \n",
       "2      3    1165  \n",
       "3      3    1165  \n",
       "4      3    1170  "
      ]
     },
     "execution_count": 2,
     "metadata": {},
     "output_type": "execute_result"
    }
   ],
   "source": [
    "df = pd.read_csv('https://mrkizmaz-s3data.s3.eu-west-1.amazonaws.com/DataSets/Toyota.csv')\n",
    "df.head()"
   ]
  },
  {
   "cell_type": "code",
   "execution_count": 3,
   "id": "2c0e510a-2e6b-4ae1-a3c8-83d9da2942f0",
   "metadata": {},
   "outputs": [
    {
     "data": {
      "text/html": [
       "<div>\n",
       "<style scoped>\n",
       "    .dataframe tbody tr th:only-of-type {\n",
       "        vertical-align: middle;\n",
       "    }\n",
       "\n",
       "    .dataframe tbody tr th {\n",
       "        vertical-align: top;\n",
       "    }\n",
       "\n",
       "    .dataframe thead th {\n",
       "        text-align: right;\n",
       "    }\n",
       "</style>\n",
       "<table border=\"1\" class=\"dataframe\">\n",
       "  <thead>\n",
       "    <tr style=\"text-align: right;\">\n",
       "      <th></th>\n",
       "      <th>Price</th>\n",
       "      <th>Age</th>\n",
       "      <th>KM</th>\n",
       "      <th>FuelType</th>\n",
       "      <th>HP</th>\n",
       "      <th>MetColor</th>\n",
       "      <th>Automatic</th>\n",
       "      <th>CC</th>\n",
       "      <th>Doors</th>\n",
       "      <th>Weight</th>\n",
       "    </tr>\n",
       "  </thead>\n",
       "  <tbody>\n",
       "    <tr>\n",
       "      <th>0</th>\n",
       "      <td>13500</td>\n",
       "      <td>23.0</td>\n",
       "      <td>46986</td>\n",
       "      <td>Diesel</td>\n",
       "      <td>90</td>\n",
       "      <td>1.0</td>\n",
       "      <td>0</td>\n",
       "      <td>2000</td>\n",
       "      <td>three</td>\n",
       "      <td>1165</td>\n",
       "    </tr>\n",
       "    <tr>\n",
       "      <th>1</th>\n",
       "      <td>13750</td>\n",
       "      <td>23.0</td>\n",
       "      <td>72937</td>\n",
       "      <td>Diesel</td>\n",
       "      <td>90</td>\n",
       "      <td>1.0</td>\n",
       "      <td>0</td>\n",
       "      <td>2000</td>\n",
       "      <td>3</td>\n",
       "      <td>1165</td>\n",
       "    </tr>\n",
       "    <tr>\n",
       "      <th>2</th>\n",
       "      <td>13950</td>\n",
       "      <td>24.0</td>\n",
       "      <td>41711</td>\n",
       "      <td>Diesel</td>\n",
       "      <td>90</td>\n",
       "      <td>NaN</td>\n",
       "      <td>0</td>\n",
       "      <td>2000</td>\n",
       "      <td>3</td>\n",
       "      <td>1165</td>\n",
       "    </tr>\n",
       "    <tr>\n",
       "      <th>3</th>\n",
       "      <td>14950</td>\n",
       "      <td>26.0</td>\n",
       "      <td>48000</td>\n",
       "      <td>Diesel</td>\n",
       "      <td>90</td>\n",
       "      <td>0.0</td>\n",
       "      <td>0</td>\n",
       "      <td>2000</td>\n",
       "      <td>3</td>\n",
       "      <td>1165</td>\n",
       "    </tr>\n",
       "    <tr>\n",
       "      <th>4</th>\n",
       "      <td>13750</td>\n",
       "      <td>30.0</td>\n",
       "      <td>38500</td>\n",
       "      <td>Diesel</td>\n",
       "      <td>90</td>\n",
       "      <td>0.0</td>\n",
       "      <td>0</td>\n",
       "      <td>2000</td>\n",
       "      <td>3</td>\n",
       "      <td>1170</td>\n",
       "    </tr>\n",
       "  </tbody>\n",
       "</table>\n",
       "</div>"
      ],
      "text/plain": [
       "   Price   Age     KM FuelType  HP  MetColor  Automatic    CC  Doors  Weight\n",
       "0  13500  23.0  46986   Diesel  90       1.0          0  2000  three    1165\n",
       "1  13750  23.0  72937   Diesel  90       1.0          0  2000      3    1165\n",
       "2  13950  24.0  41711   Diesel  90       NaN          0  2000      3    1165\n",
       "3  14950  26.0  48000   Diesel  90       0.0          0  2000      3    1165\n",
       "4  13750  30.0  38500   Diesel  90       0.0          0  2000      3    1170"
      ]
     },
     "execution_count": 3,
     "metadata": {},
     "output_type": "execute_result"
    }
   ],
   "source": [
    "df = df.iloc[:, 1:len(df)] # unnamed sütununun iptal edilmesi\n",
    "df.head()"
   ]
  },
  {
   "cell_type": "code",
   "execution_count": 4,
   "id": "9a1ff058-fef3-4b63-a565-89ac85ecd034",
   "metadata": {},
   "outputs": [
    {
     "data": {
      "text/plain": [
       "(1436, 10)"
      ]
     },
     "execution_count": 4,
     "metadata": {},
     "output_type": "execute_result"
    }
   ],
   "source": [
    "df.shape"
   ]
  },
  {
   "cell_type": "code",
   "execution_count": 5,
   "id": "8b670ba5-f16c-4ceb-90e6-966903ea07a5",
   "metadata": {},
   "outputs": [
    {
     "name": "stdout",
     "output_type": "stream",
     "text": [
      "<class 'pandas.core.frame.DataFrame'>\n",
      "RangeIndex: 1436 entries, 0 to 1435\n",
      "Data columns (total 10 columns):\n",
      " #   Column     Non-Null Count  Dtype  \n",
      "---  ------     --------------  -----  \n",
      " 0   Price      1436 non-null   int64  \n",
      " 1   Age        1336 non-null   float64\n",
      " 2   KM         1436 non-null   object \n",
      " 3   FuelType   1336 non-null   object \n",
      " 4   HP         1436 non-null   object \n",
      " 5   MetColor   1286 non-null   float64\n",
      " 6   Automatic  1436 non-null   int64  \n",
      " 7   CC         1436 non-null   int64  \n",
      " 8   Doors      1436 non-null   object \n",
      " 9   Weight     1436 non-null   int64  \n",
      "dtypes: float64(2), int64(4), object(4)\n",
      "memory usage: 112.3+ KB\n"
     ]
    }
   ],
   "source": [
    "df.info()"
   ]
  },
  {
   "cell_type": "code",
   "execution_count": 6,
   "id": "9f90c1c2-4203-4a38-aa36-2cbb20be03de",
   "metadata": {},
   "outputs": [
    {
     "data": {
      "text/plain": [
       "True"
      ]
     },
     "execution_count": 6,
     "metadata": {},
     "output_type": "execute_result"
    }
   ],
   "source": [
    "df.isnull().values.any() # verisetinde bos degerler var mı?"
   ]
  },
  {
   "cell_type": "code",
   "execution_count": 7,
   "id": "27bf710a-90fe-41c2-8f26-ce365e18f947",
   "metadata": {},
   "outputs": [
    {
     "data": {
      "text/plain": [
       "Price         236\n",
       "Age            77\n",
       "KM           1256\n",
       "FuelType        3\n",
       "HP             13\n",
       "MetColor        2\n",
       "Automatic       2\n",
       "CC             12\n",
       "Doors           7\n",
       "Weight         59\n",
       "dtype: int64"
      ]
     },
     "execution_count": 7,
     "metadata": {},
     "output_type": "execute_result"
    }
   ],
   "source": [
    "df.nunique() # sütun bazında essiz degerlerin sayısı"
   ]
  },
  {
   "cell_type": "code",
   "execution_count": 8,
   "id": "9f2612cd-2898-4881-87a7-acddd9a03a02",
   "metadata": {},
   "outputs": [
    {
     "data": {
      "text/plain": [
       "False"
      ]
     },
     "execution_count": 8,
     "metadata": {},
     "output_type": "execute_result"
    }
   ],
   "source": [
    "# price icin,\n",
    "df.Price.isnull().values.any()"
   ]
  },
  {
   "cell_type": "code",
   "execution_count": 9,
   "id": "874eb6b7-b72a-4511-856c-560fb1e3cb3b",
   "metadata": {},
   "outputs": [
    {
     "data": {
      "text/plain": [
       "dtype('int64')"
      ]
     },
     "execution_count": 9,
     "metadata": {},
     "output_type": "execute_result"
    }
   ],
   "source": [
    "df.Price.dtype"
   ]
  },
  {
   "cell_type": "code",
   "execution_count": 10,
   "id": "ba253723-5c5a-4f5e-ada8-0c7fa188d7f3",
   "metadata": {},
   "outputs": [
    {
     "data": {
      "text/plain": [
       "True"
      ]
     },
     "execution_count": 10,
     "metadata": {},
     "output_type": "execute_result"
    }
   ],
   "source": [
    "# Age icin,\n",
    "df.Age.isnull().values.any()"
   ]
  },
  {
   "cell_type": "code",
   "execution_count": 11,
   "id": "4dad3729-d9d4-4f48-82b4-470f80245018",
   "metadata": {},
   "outputs": [
    {
     "data": {
      "text/plain": [
       "dtype('float64')"
      ]
     },
     "execution_count": 11,
     "metadata": {},
     "output_type": "execute_result"
    }
   ],
   "source": [
    "df.Age.dtype"
   ]
  },
  {
   "cell_type": "code",
   "execution_count": 12,
   "id": "1db3af72-b059-4bc7-a2b3-2010f33a6314",
   "metadata": {},
   "outputs": [],
   "source": [
    "df.Age = df.Age.fillna(df.Age.mean()) # bos degerleri ortalama ile doldurma"
   ]
  },
  {
   "cell_type": "code",
   "execution_count": 13,
   "id": "91dc2bee-4dbf-4d8a-84f2-6072bf22c2e8",
   "metadata": {},
   "outputs": [
    {
     "data": {
      "text/plain": [
       "False"
      ]
     },
     "execution_count": 13,
     "metadata": {},
     "output_type": "execute_result"
    }
   ],
   "source": [
    "df.Age.isnull().values.any()"
   ]
  },
  {
   "cell_type": "code",
   "execution_count": 14,
   "id": "959e69e5-bc91-4cea-b9e9-8b7b2cb4467a",
   "metadata": {},
   "outputs": [
    {
     "data": {
      "text/plain": [
       "False"
      ]
     },
     "execution_count": 14,
     "metadata": {},
     "output_type": "execute_result"
    }
   ],
   "source": [
    "# KM icin,\n",
    "df.KM.isnull().values.any()"
   ]
  },
  {
   "cell_type": "code",
   "execution_count": 15,
   "id": "2aaa15b4-8981-4714-97a5-5964e26fef88",
   "metadata": {},
   "outputs": [
    {
     "data": {
      "text/plain": [
       "dtype('O')"
      ]
     },
     "execution_count": 15,
     "metadata": {},
     "output_type": "execute_result"
    }
   ],
   "source": [
    "df['KM'].dtype # KM degiskenin dtype'i object, sayısal degisken olmalı!"
   ]
  },
  {
   "cell_type": "code",
   "execution_count": 16,
   "id": "d3f3d017-0a4a-401a-8fc2-bf1fbb440922",
   "metadata": {},
   "outputs": [
    {
     "data": {
      "text/plain": [
       "??       15\n",
       "1         8\n",
       "59000     7\n",
       "36000     7\n",
       "43000     7\n",
       "         ..\n",
       "63635     1\n",
       "63792     1\n",
       "64193     1\n",
       "65170     1\n",
       "17016     1\n",
       "Name: KM, Length: 1256, dtype: int64"
      ]
     },
     "execution_count": 16,
     "metadata": {},
     "output_type": "execute_result"
    }
   ],
   "source": [
    "df.KM.value_counts() # tuhaf degerler var, dönüstürülmeli!"
   ]
  },
  {
   "cell_type": "code",
   "execution_count": 17,
   "id": "ced97481-b24b-43fd-b5fe-352b9dcbadbc",
   "metadata": {},
   "outputs": [
    {
     "data": {
      "text/plain": [
       "36000    7\n",
       "59000    7\n",
       "43000    7\n",
       "10000    6\n",
       "45000    6\n",
       "        ..\n",
       "63635    1\n",
       "63792    1\n",
       "64193    1\n",
       "65170    1\n",
       "17016    1\n",
       "Name: KM, Length: 1254, dtype: int64"
      ]
     },
     "execution_count": 17,
     "metadata": {},
     "output_type": "execute_result"
    }
   ],
   "source": [
    "df.KM = df.KM.replace('??', np.nan) # ?? yerine nan degeri\n",
    "df.KM = df.KM.replace('1', np.nan) # 1 yerine nan degeri\n",
    "df.KM.value_counts()"
   ]
  },
  {
   "cell_type": "code",
   "execution_count": 18,
   "id": "7bfa42f0-320b-41ab-b5f0-17dc6e58ccae",
   "metadata": {},
   "outputs": [],
   "source": [
    "df.KM = df.KM.apply(lambda x: float(x)) # dype'nı degistirme islemi"
   ]
  },
  {
   "cell_type": "code",
   "execution_count": 19,
   "id": "5c4afe75-7454-453c-a41d-aca9c0fcd6e6",
   "metadata": {},
   "outputs": [
    {
     "data": {
      "text/plain": [
       "dtype('float64')"
      ]
     },
     "execution_count": 19,
     "metadata": {},
     "output_type": "execute_result"
    }
   ],
   "source": [
    "df.KM.dtype"
   ]
  },
  {
   "cell_type": "code",
   "execution_count": 20,
   "id": "8556b780-436c-4154-bf34-661c79ff8ae7",
   "metadata": {},
   "outputs": [],
   "source": [
    "df.KM = df.KM.fillna(df.KM.mean()) # bos degerleri ortalama ile doldurma"
   ]
  },
  {
   "cell_type": "code",
   "execution_count": 21,
   "id": "505f0795-958c-41c2-b6a6-19c4ec9d7e3a",
   "metadata": {},
   "outputs": [
    {
     "data": {
      "text/plain": [
       "False"
      ]
     },
     "execution_count": 21,
     "metadata": {},
     "output_type": "execute_result"
    }
   ],
   "source": [
    "df.KM.isnull().values.any()"
   ]
  },
  {
   "cell_type": "code",
   "execution_count": 22,
   "id": "823f9fe2-aa7e-41ea-8c06-e4e9f3114933",
   "metadata": {},
   "outputs": [
    {
     "data": {
      "text/plain": [
       "False"
      ]
     },
     "execution_count": 22,
     "metadata": {},
     "output_type": "execute_result"
    }
   ],
   "source": [
    "# Doors icin,\n",
    "df.Doors.isnull().values.any()"
   ]
  },
  {
   "cell_type": "code",
   "execution_count": 23,
   "id": "d8545766-3c23-4a32-beef-1a5ea4e6a061",
   "metadata": {},
   "outputs": [
    {
     "data": {
      "text/plain": [
       "5        673\n",
       "3        621\n",
       "4        137\n",
       "2          2\n",
       "three      1\n",
       "four       1\n",
       "five       1\n",
       "Name: Doors, dtype: int64"
      ]
     },
     "execution_count": 23,
     "metadata": {},
     "output_type": "execute_result"
    }
   ],
   "source": [
    "df.Doors.value_counts() # tuhaf degerler var"
   ]
  },
  {
   "cell_type": "code",
   "execution_count": 24,
   "id": "60573ba8-abc8-4934-abd0-da7fae5fc58c",
   "metadata": {},
   "outputs": [],
   "source": [
    "df.Doors = df.Doors.replace('2', 'two')\n",
    "df.Doors = df.Doors.replace('3', 'three')\n",
    "df.Doors = df.Doors.replace('4', 'four')\n",
    "df.Doors = df.Doors.replace('5', 'five')"
   ]
  },
  {
   "cell_type": "code",
   "execution_count": 25,
   "id": "2fff5b45-4e2b-4af0-a7b1-683860e41c61",
   "metadata": {},
   "outputs": [
    {
     "data": {
      "text/plain": [
       "five     674\n",
       "three    622\n",
       "four     138\n",
       "two        2\n",
       "Name: Doors, dtype: int64"
      ]
     },
     "execution_count": 25,
     "metadata": {},
     "output_type": "execute_result"
    }
   ],
   "source": [
    "df.Doors.value_counts()"
   ]
  },
  {
   "cell_type": "code",
   "execution_count": 26,
   "id": "6f02d629-8b18-474f-9182-af434e3a15f6",
   "metadata": {},
   "outputs": [
    {
     "data": {
      "text/plain": [
       "1431    three\n",
       "1432    three\n",
       "1433    three\n",
       "1434    three\n",
       "1435     five\n",
       "Name: Doors, dtype: object"
      ]
     },
     "execution_count": 26,
     "metadata": {},
     "output_type": "execute_result"
    }
   ],
   "source": [
    "df.Doors.tail()"
   ]
  },
  {
   "cell_type": "code",
   "execution_count": 27,
   "id": "74e63f55-ea68-4499-932b-35308d275111",
   "metadata": {},
   "outputs": [
    {
     "data": {
      "text/plain": [
       "False"
      ]
     },
     "execution_count": 27,
     "metadata": {},
     "output_type": "execute_result"
    }
   ],
   "source": [
    "# Weight icin,\n",
    "df['Weight'].isnull().values.any()"
   ]
  },
  {
   "cell_type": "code",
   "execution_count": 28,
   "id": "e504d1d3-2d3b-4414-ac27-e041ee136324",
   "metadata": {},
   "outputs": [
    {
     "data": {
      "text/html": [
       "<div>\n",
       "<style scoped>\n",
       "    .dataframe tbody tr th:only-of-type {\n",
       "        vertical-align: middle;\n",
       "    }\n",
       "\n",
       "    .dataframe tbody tr th {\n",
       "        vertical-align: top;\n",
       "    }\n",
       "\n",
       "    .dataframe thead th {\n",
       "        text-align: right;\n",
       "    }\n",
       "</style>\n",
       "<table border=\"1\" class=\"dataframe\">\n",
       "  <thead>\n",
       "    <tr style=\"text-align: right;\">\n",
       "      <th></th>\n",
       "      <th>Price</th>\n",
       "      <th>Age</th>\n",
       "      <th>KM</th>\n",
       "      <th>FuelType</th>\n",
       "      <th>HP</th>\n",
       "      <th>MetColor</th>\n",
       "      <th>Automatic</th>\n",
       "      <th>CC</th>\n",
       "      <th>Doors</th>\n",
       "      <th>Weight</th>\n",
       "    </tr>\n",
       "  </thead>\n",
       "  <tbody>\n",
       "    <tr>\n",
       "      <th>0</th>\n",
       "      <td>13500</td>\n",
       "      <td>23.0</td>\n",
       "      <td>46986.0</td>\n",
       "      <td>Diesel</td>\n",
       "      <td>90</td>\n",
       "      <td>1.0</td>\n",
       "      <td>0</td>\n",
       "      <td>2000</td>\n",
       "      <td>three</td>\n",
       "      <td>1165</td>\n",
       "    </tr>\n",
       "    <tr>\n",
       "      <th>1</th>\n",
       "      <td>13750</td>\n",
       "      <td>23.0</td>\n",
       "      <td>72937.0</td>\n",
       "      <td>Diesel</td>\n",
       "      <td>90</td>\n",
       "      <td>1.0</td>\n",
       "      <td>0</td>\n",
       "      <td>2000</td>\n",
       "      <td>three</td>\n",
       "      <td>1165</td>\n",
       "    </tr>\n",
       "    <tr>\n",
       "      <th>2</th>\n",
       "      <td>13950</td>\n",
       "      <td>24.0</td>\n",
       "      <td>41711.0</td>\n",
       "      <td>Diesel</td>\n",
       "      <td>90</td>\n",
       "      <td>NaN</td>\n",
       "      <td>0</td>\n",
       "      <td>2000</td>\n",
       "      <td>three</td>\n",
       "      <td>1165</td>\n",
       "    </tr>\n",
       "    <tr>\n",
       "      <th>3</th>\n",
       "      <td>14950</td>\n",
       "      <td>26.0</td>\n",
       "      <td>48000.0</td>\n",
       "      <td>Diesel</td>\n",
       "      <td>90</td>\n",
       "      <td>0.0</td>\n",
       "      <td>0</td>\n",
       "      <td>2000</td>\n",
       "      <td>three</td>\n",
       "      <td>1165</td>\n",
       "    </tr>\n",
       "    <tr>\n",
       "      <th>4</th>\n",
       "      <td>13750</td>\n",
       "      <td>30.0</td>\n",
       "      <td>38500.0</td>\n",
       "      <td>Diesel</td>\n",
       "      <td>90</td>\n",
       "      <td>0.0</td>\n",
       "      <td>0</td>\n",
       "      <td>2000</td>\n",
       "      <td>three</td>\n",
       "      <td>1170</td>\n",
       "    </tr>\n",
       "  </tbody>\n",
       "</table>\n",
       "</div>"
      ],
      "text/plain": [
       "   Price   Age       KM FuelType  HP  MetColor  Automatic    CC  Doors  Weight\n",
       "0  13500  23.0  46986.0   Diesel  90       1.0          0  2000  three    1165\n",
       "1  13750  23.0  72937.0   Diesel  90       1.0          0  2000  three    1165\n",
       "2  13950  24.0  41711.0   Diesel  90       NaN          0  2000  three    1165\n",
       "3  14950  26.0  48000.0   Diesel  90       0.0          0  2000  three    1165\n",
       "4  13750  30.0  38500.0   Diesel  90       0.0          0  2000  three    1170"
      ]
     },
     "execution_count": 28,
     "metadata": {},
     "output_type": "execute_result"
    }
   ],
   "source": [
    "# Verisetinin son halini inceleme,\n",
    "df.head()"
   ]
  },
  {
   "cell_type": "code",
   "execution_count": 29,
   "id": "d234a740-3b48-4ddd-85c1-5e72e04266cb",
   "metadata": {},
   "outputs": [
    {
     "name": "stdout",
     "output_type": "stream",
     "text": [
      "<class 'pandas.core.frame.DataFrame'>\n",
      "RangeIndex: 1436 entries, 0 to 1435\n",
      "Data columns (total 10 columns):\n",
      " #   Column     Non-Null Count  Dtype  \n",
      "---  ------     --------------  -----  \n",
      " 0   Price      1436 non-null   int64  \n",
      " 1   Age        1436 non-null   float64\n",
      " 2   KM         1436 non-null   float64\n",
      " 3   FuelType   1336 non-null   object \n",
      " 4   HP         1436 non-null   object \n",
      " 5   MetColor   1286 non-null   float64\n",
      " 6   Automatic  1436 non-null   int64  \n",
      " 7   CC         1436 non-null   int64  \n",
      " 8   Doors      1436 non-null   object \n",
      " 9   Weight     1436 non-null   int64  \n",
      "dtypes: float64(3), int64(4), object(3)\n",
      "memory usage: 112.3+ KB\n"
     ]
    }
   ],
   "source": [
    "df.info()"
   ]
  },
  {
   "cell_type": "code",
   "execution_count": 30,
   "id": "240b0dd1-0a22-4d69-ac11-697c64b97cd1",
   "metadata": {},
   "outputs": [
    {
     "data": {
      "text/html": [
       "<div>\n",
       "<style scoped>\n",
       "    .dataframe tbody tr th:only-of-type {\n",
       "        vertical-align: middle;\n",
       "    }\n",
       "\n",
       "    .dataframe tbody tr th {\n",
       "        vertical-align: top;\n",
       "    }\n",
       "\n",
       "    .dataframe thead th {\n",
       "        text-align: right;\n",
       "    }\n",
       "</style>\n",
       "<table border=\"1\" class=\"dataframe\">\n",
       "  <thead>\n",
       "    <tr style=\"text-align: right;\">\n",
       "      <th></th>\n",
       "      <th>Age</th>\n",
       "      <th>KM</th>\n",
       "      <th>Weight</th>\n",
       "      <th>Price</th>\n",
       "    </tr>\n",
       "  </thead>\n",
       "  <tbody>\n",
       "    <tr>\n",
       "      <th>0</th>\n",
       "      <td>23.0</td>\n",
       "      <td>46986.0</td>\n",
       "      <td>1165</td>\n",
       "      <td>13500</td>\n",
       "    </tr>\n",
       "    <tr>\n",
       "      <th>1</th>\n",
       "      <td>23.0</td>\n",
       "      <td>72937.0</td>\n",
       "      <td>1165</td>\n",
       "      <td>13750</td>\n",
       "    </tr>\n",
       "    <tr>\n",
       "      <th>2</th>\n",
       "      <td>24.0</td>\n",
       "      <td>41711.0</td>\n",
       "      <td>1165</td>\n",
       "      <td>13950</td>\n",
       "    </tr>\n",
       "    <tr>\n",
       "      <th>3</th>\n",
       "      <td>26.0</td>\n",
       "      <td>48000.0</td>\n",
       "      <td>1165</td>\n",
       "      <td>14950</td>\n",
       "    </tr>\n",
       "    <tr>\n",
       "      <th>4</th>\n",
       "      <td>30.0</td>\n",
       "      <td>38500.0</td>\n",
       "      <td>1170</td>\n",
       "      <td>13750</td>\n",
       "    </tr>\n",
       "  </tbody>\n",
       "</table>\n",
       "</div>"
      ],
      "text/plain": [
       "    Age       KM  Weight  Price\n",
       "0  23.0  46986.0    1165  13500\n",
       "1  23.0  72937.0    1165  13750\n",
       "2  24.0  41711.0    1165  13950\n",
       "3  26.0  48000.0    1165  14950\n",
       "4  30.0  38500.0    1170  13750"
      ]
     },
     "execution_count": 30,
     "metadata": {},
     "output_type": "execute_result"
    }
   ],
   "source": [
    "# model icin gerekli olan birkac sayısal degisken secimi,\n",
    "df = df[['Age', 'KM', 'Weight', 'Price']]\n",
    "df.head()"
   ]
  },
  {
   "cell_type": "code",
   "execution_count": 31,
   "id": "efbb3588-2424-4178-921f-1e848ad58173",
   "metadata": {},
   "outputs": [
    {
     "name": "stdout",
     "output_type": "stream",
     "text": [
      "<class 'pandas.core.frame.DataFrame'>\n",
      "RangeIndex: 1436 entries, 0 to 1435\n",
      "Data columns (total 4 columns):\n",
      " #   Column  Non-Null Count  Dtype  \n",
      "---  ------  --------------  -----  \n",
      " 0   Age     1436 non-null   float64\n",
      " 1   KM      1436 non-null   float64\n",
      " 2   Weight  1436 non-null   int64  \n",
      " 3   Price   1436 non-null   int64  \n",
      "dtypes: float64(2), int64(2)\n",
      "memory usage: 45.0 KB\n"
     ]
    }
   ],
   "source": [
    "df.info()"
   ]
  },
  {
   "cell_type": "code",
   "execution_count": 32,
   "id": "39b08ce2-9c70-43ba-9c2c-3d8fc3ee983f",
   "metadata": {},
   "outputs": [
    {
     "data": {
      "text/html": [
       "<div>\n",
       "<style scoped>\n",
       "    .dataframe tbody tr th:only-of-type {\n",
       "        vertical-align: middle;\n",
       "    }\n",
       "\n",
       "    .dataframe tbody tr th {\n",
       "        vertical-align: top;\n",
       "    }\n",
       "\n",
       "    .dataframe thead th {\n",
       "        text-align: right;\n",
       "    }\n",
       "</style>\n",
       "<table border=\"1\" class=\"dataframe\">\n",
       "  <thead>\n",
       "    <tr style=\"text-align: right;\">\n",
       "      <th></th>\n",
       "      <th>Age</th>\n",
       "      <th>KM</th>\n",
       "      <th>Weight</th>\n",
       "      <th>Price</th>\n",
       "    </tr>\n",
       "  </thead>\n",
       "  <tbody>\n",
       "    <tr>\n",
       "      <th>Age</th>\n",
       "      <td>1.000000</td>\n",
       "      <td>0.486259</td>\n",
       "      <td>-0.442055</td>\n",
       "      <td>-0.845111</td>\n",
       "    </tr>\n",
       "    <tr>\n",
       "      <th>KM</th>\n",
       "      <td>0.486259</td>\n",
       "      <td>1.000000</td>\n",
       "      <td>-0.008700</td>\n",
       "      <td>-0.552009</td>\n",
       "    </tr>\n",
       "    <tr>\n",
       "      <th>Weight</th>\n",
       "      <td>-0.442055</td>\n",
       "      <td>-0.008700</td>\n",
       "      <td>1.000000</td>\n",
       "      <td>0.581198</td>\n",
       "    </tr>\n",
       "    <tr>\n",
       "      <th>Price</th>\n",
       "      <td>-0.845111</td>\n",
       "      <td>-0.552009</td>\n",
       "      <td>0.581198</td>\n",
       "      <td>1.000000</td>\n",
       "    </tr>\n",
       "  </tbody>\n",
       "</table>\n",
       "</div>"
      ],
      "text/plain": [
       "             Age        KM    Weight     Price\n",
       "Age     1.000000  0.486259 -0.442055 -0.845111\n",
       "KM      0.486259  1.000000 -0.008700 -0.552009\n",
       "Weight -0.442055 -0.008700  1.000000  0.581198\n",
       "Price  -0.845111 -0.552009  0.581198  1.000000"
      ]
     },
     "execution_count": 32,
     "metadata": {},
     "output_type": "execute_result"
    }
   ],
   "source": [
    "df.corr() # aralarındaki korelasyon degerleri"
   ]
  },
  {
   "cell_type": "code",
   "execution_count": 33,
   "id": "a7555dce-50ac-42ea-be4f-5ce9d31621c3",
   "metadata": {},
   "outputs": [
    {
     "data": {
      "image/png": "[encoded data removed]",
      "text/plain": [
       "<Figure size 1080x720 with 2 Axes>"
      ]
     },
     "metadata": {
      "needs_background": "light"
     },
     "output_type": "display_data"
    }
   ],
   "source": [
    "# görsellestirme\n",
    "plt.figure(figsize=(15, 10))\n",
    "sns.heatmap(df.corr(),  annot=True);"
   ]
  },
  {
   "cell_type": "code",
   "execution_count": 34,
   "id": "f84d3406-db32-4400-8b69-1fc282ab85d6",
   "metadata": {},
   "outputs": [
    {
     "data": {
      "image/png": "[encoded data removed]",
      "text/plain": [
       "<Figure size 720x720 with 14 Axes>"
      ]
     },
     "metadata": {
      "needs_background": "light"
     },
     "output_type": "display_data"
    }
   ],
   "source": [
    "sns.pairplot(df, kind = 'reg', corner = True);"
   ]
  },
  {
   "cell_type": "code",
   "execution_count": 35,
   "id": "5ea998b2-b575-46d5-bfb2-49f247247abd",
   "metadata": {},
   "outputs": [
    {
     "data": {
      "image/png": "[encoded data removed]",
      "text/plain": [
       "<Figure size 432x432 with 3 Axes>"
      ]
     },
     "metadata": {
      "needs_background": "light"
     },
     "output_type": "display_data"
    }
   ],
   "source": [
    "sns.jointplot(x = 'Weight', y = 'Price', data = df, kind = 'reg', color = 'r', joint_kws = {'color': 'red'}, marginal_kws = {'color': 'black'});"
   ]
  },
  {
   "cell_type": "markdown",
   "id": "64cfc942-341b-4c9d-87b0-2222fc6ec6fb",
   "metadata": {
    "jp-MarkdownHeadingCollapsed": true,
    "tags": []
   },
   "source": [
    "### Model Kurulumu"
   ]
  },
  {
   "cell_type": "markdown",
   "id": "a0aa811b-4df1-4eb8-bba1-7889a698e441",
   "metadata": {},
   "source": [
    "#### Statsmodels ile modelleme"
   ]
  },
  {
   "cell_type": "code",
   "execution_count": 36,
   "id": "f403343e-5ef1-47bf-ae80-f58afb36db4a",
   "metadata": {},
   "outputs": [
    {
     "name": "stdout",
     "output_type": "stream",
     "text": [
      "Model Denklemi: Price = -32215.197175213405 + Weight * 40.04441872326809\n",
      "Modelin basarı yüzdesi: 33.77906370435642 \n",
      "Hata degeri: 2950.459815458293\n",
      "                            OLS Regression Results                            \n",
      "==============================================================================\n",
      "Dep. Variable:                  Price   R-squared:                       0.338\n",
      "Model:                            OLS   Adj. R-squared:                  0.337\n",
      "Method:                 Least Squares   F-statistic:                     731.5\n",
      "Date:                Thu, 03 Mar 2022   Prob (F-statistic):          1.63e-130\n",
      "Time:                        13:18:56   Log-Likelihood:                -13511.\n",
      "No. Observations:                1436   AIC:                         2.703e+04\n",
      "Df Residuals:                    1434   BIC:                         2.704e+04\n",
      "Df Model:                           1                                         \n",
      "Covariance Type:            nonrobust                                         \n",
      "==============================================================================\n",
      "                 coef    std err          t      P>|t|      [0.025      0.975]\n",
      "------------------------------------------------------------------------------\n",
      "const      -3.222e+04   1589.807    -20.264      0.000   -3.53e+04   -2.91e+04\n",
      "Weight        40.0444      1.481     27.046      0.000      37.140      42.949\n",
      "==============================================================================\n",
      "Omnibus:                      105.784   Durbin-Watson:                   0.562\n",
      "Prob(Omnibus):                  0.000   Jarque-Bera (JB):              531.408\n",
      "Skew:                           0.028   Prob(JB):                    4.04e-116\n",
      "Kurtosis:                       5.980   Cond. No.                     2.19e+04\n",
      "==============================================================================\n",
      "\n",
      "Notes:\n",
      "[1] Standard Errors assume that the covariance matrix of the errors is correctly specified.\n",
      "[2] The condition number is large, 2.19e+04. This might indicate that there are\n",
      "strong multicollinearity or other numerical problems.\n"
     ]
    }
   ],
   "source": [
    "# 1. yol modelleme\n",
    "\n",
    "X = df[['Weight']] # bagımsız degisken\n",
    "y = df[['Price']] # bagımlı degisken\n",
    "\n",
    "# modelin kurulması ve fit edilmesi\n",
    "X = sm.add_constant(X)\n",
    "lm = sm.OLS(y, X)\n",
    "model = lm.fit()\n",
    "\n",
    "# modelin hata degeri\n",
    "ypred = model.predict(X)\n",
    "rmse = np.sqrt(mean_squared_error(y, ypred))\n",
    "\n",
    "denklem = f\"Model Denklemi: Price = {model.params[0]} + Weight * {model.params[1]}\"\n",
    "print(denklem)\n",
    "print(f\"Modelin basarı yüzdesi: {model.rsquared * 100} \\nHata degeri: {rmse}\")\n",
    "print(model.summary())"
   ]
  },
  {
   "cell_type": "code",
   "execution_count": 37,
   "id": "d989802d-86d9-4dcd-bd71-b3241aa4fc0c",
   "metadata": {},
   "outputs": [
    {
     "data": {
      "image/png": "[encoded data removed]",
      "text/plain": [
       "<Figure size 432x288 with 1 Axes>"
      ]
     },
     "metadata": {
      "needs_background": "light"
     },
     "output_type": "display_data"
    }
   ],
   "source": [
    "# Modelin görsellestirilmesi\n",
    "plt.scatter(X['Weight'], y, color = 'teal', alpha = 0.4, marker = '+', s = 100)\n",
    "plt.plot(X['Weight'], model.predict(), color = 'red')\n",
    "plt.title(\"Model Denklemi: \" + denklem)\n",
    "plt.ylabel(\"Car Price\")\n",
    "plt.xlabel(\"Car Weight\");"
   ]
  },
  {
   "cell_type": "code",
   "execution_count": 38,
   "id": "4539943f-b444-488e-9582-7ebbb7bec5b5",
   "metadata": {},
   "outputs": [
    {
     "name": "stdout",
     "output_type": "stream",
     "text": [
      "Model Denklemi: Price = -32215.197175213405 + Weight * 40.04441872326809\n",
      "Modelin basarı yüzdesi: 33.77906370435642 \n",
      "Hata degeri: 2950.459815458293\n",
      "                            OLS Regression Results                            \n",
      "==============================================================================\n",
      "Dep. Variable:                  Price   R-squared:                       0.338\n",
      "Model:                            OLS   Adj. R-squared:                  0.337\n",
      "Method:                 Least Squares   F-statistic:                     731.5\n",
      "Date:                Thu, 03 Mar 2022   Prob (F-statistic):          1.63e-130\n",
      "Time:                        13:19:09   Log-Likelihood:                -13511.\n",
      "No. Observations:                1436   AIC:                         2.703e+04\n",
      "Df Residuals:                    1434   BIC:                         2.704e+04\n",
      "Df Model:                           1                                         \n",
      "Covariance Type:            nonrobust                                         \n",
      "==============================================================================\n",
      "                 coef    std err          t      P>|t|      [0.025      0.975]\n",
      "------------------------------------------------------------------------------\n",
      "Intercept  -3.222e+04   1589.807    -20.264      0.000   -3.53e+04   -2.91e+04\n",
      "Weight        40.0444      1.481     27.046      0.000      37.140      42.949\n",
      "==============================================================================\n",
      "Omnibus:                      105.784   Durbin-Watson:                   0.562\n",
      "Prob(Omnibus):                  0.000   Jarque-Bera (JB):              531.408\n",
      "Skew:                           0.028   Prob(JB):                    4.04e-116\n",
      "Kurtosis:                       5.980   Cond. No.                     2.19e+04\n",
      "==============================================================================\n",
      "\n",
      "Notes:\n",
      "[1] Standard Errors assume that the covariance matrix of the errors is correctly specified.\n",
      "[2] The condition number is large, 2.19e+04. This might indicate that there are\n",
      "strong multicollinearity or other numerical problems.\n"
     ]
    }
   ],
   "source": [
    "# 2. yol modelleme\n",
    "\n",
    "lm = smf.ols(formula = 'Price ~ Weight', data = df)\n",
    "model2 = lm.fit()\n",
    "\n",
    "# modelin hata degeri\n",
    "ypred2 = model2.predict(X)\n",
    "rmse2 = np.sqrt(mean_squared_error(y, ypred2)) \n",
    "rmse2\n",
    "\n",
    "denklem2 = f\"Model Denklemi: Price = {model2.params[0]} + Weight * {model2.params[1]}\"\n",
    "print(denklem2)\n",
    "print(f\"Modelin basarı yüzdesi: {model2.rsquared * 100} \\nHata degeri: {rmse2}\")\n",
    "print(model2.summary())"
   ]
  },
  {
   "cell_type": "code",
   "execution_count": 39,
   "id": "196d12f6-23a1-469e-bcd6-11f8eb399495",
   "metadata": {},
   "outputs": [
    {
     "data": {
      "text/plain": [
       "array([7829.22154805])"
      ]
     },
     "execution_count": 39,
     "metadata": {},
     "output_type": "execute_result"
    }
   ],
   "source": [
    "# Örnek yorum: Aracın weight degeri 1000 olursa price degeri ne olur?\n",
    "model.predict([1, 1000]) # sabit degerin katsayısı 1 olarak verilmeli"
   ]
  },
  {
   "cell_type": "markdown",
   "id": "2426e49a-ca65-4652-a788-601893ad6102",
   "metadata": {},
   "source": [
    "#### ScikitLearn ile modelleme"
   ]
  },
  {
   "cell_type": "code",
   "execution_count": 40,
   "id": "58a7e393-de8a-4e38-b82b-ccfa35b172d4",
   "metadata": {},
   "outputs": [
    {
     "name": "stdout",
     "output_type": "stream",
     "text": [
      "Model Denklemi: Price = -33658.825797591795 + Weight * 41.39448852833754\n",
      "Modelin basarı yüzdesi: 33.18814235971044 \n",
      "Hata degeri: 2985.726894325478\n"
     ]
    }
   ],
   "source": [
    "X = df[['Weight']] \n",
    "y = df [['Price']]\n",
    "\n",
    "# verisetinin %80'i egitim, %20'si test\n",
    "X_train, X_test, y_train, y_test = train_test_split(X,\n",
    "                                                    y,\n",
    "                                                    test_size = 0.20, \n",
    "                                                    random_state = 42)\n",
    "# model kurulumu\n",
    "model_scikit = LinearRegression().fit(X_train, y_train)\n",
    "\n",
    "# modelin hata degeri\n",
    "ypred = model_scikit.predict(X_test)\n",
    "rmse_scikit = np.sqrt(mean_squared_error(y_test, ypred))\n",
    "\n",
    "denklem_scikit = f\"Model Denklemi: Price = {model_scikit.intercept_[0]} + Weight * {model_scikit.coef_[0][0]}\"\n",
    "print(denklem_scikit)\n",
    "print(f\"Modelin basarı yüzdesi: {r2_score(y_test, ypred) * 100} \\nHata degeri: {rmse_scikit}\")"
   ]
  },
  {
   "cell_type": "code",
   "execution_count": 43,
   "id": "93966fca-e236-4a23-97ce-7553d548279a",
   "metadata": {},
   "outputs": [
    {
     "data": {
      "text/plain": [
       "array([[7735.66273075]])"
      ]
     },
     "execution_count": 43,
     "metadata": {},
     "output_type": "execute_result"
    }
   ],
   "source": [
    "# Örnek yorum: Aracın weight degeri 1000 olursa price degeri ne olur?\n",
    "model_scikit.predict([[1000]])# sabit degerin katsayısı 1 olarak verilmeli"
   ]
  },
  {
   "cell_type": "markdown",
   "id": "b4ec4b19-f066-47c1-8bfe-8d07565654da",
   "metadata": {
    "jp-MarkdownHeadingCollapsed": true,
    "tags": []
   },
   "source": [
    "### Sonuç"
   ]
  },
  {
   "cell_type": "markdown",
   "id": "28e52050-f338-4250-a663-4aa160a28274",
   "metadata": {},
   "source": [
    "* Statsmodels ile elde edilen model degerleri,    \n",
    "    * Model Denklemi: Price = -32215.197175213405 + Weight * 40.04441872326809\n",
    "    * Modelin basarı yüzdesi: 33.77906370435642 \n",
    "    * Hata degeri: **2950.459815458293** \n",
    "* Scikitlearn ile elde edilen model degerleri,\n",
    "    * Model Denklemi: Price = -33658.825797591795 + Weight * 41.39448852833754\n",
    "    * Modelin basarı yüzdesi: 33.18814235971044 \n",
    "    * Hata degeri: **2985.726894325478**"
   ]
  }
 ],
 "metadata": {
  "kernelspec": {
   "display_name": "Python 3 (ipykernel)",
   "language": "python",
   "name": "python3"
  },
  "language_info": {
   "codemirror_mode": {
    "name": "ipython",
    "version": 3
   },
   "file_extension": ".py",
   "mimetype": "text/x-python",
   "name": "python",
   "nbconvert_exporter": "python",
   "pygments_lexer": "ipython3",
   "version": "3.8.10"
  }
 },
 "nbformat": 4,
 "nbformat_minor": 5
}
