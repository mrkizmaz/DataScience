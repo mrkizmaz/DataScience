{
 "cells": [
  {
   "cell_type": "markdown",
   "id": "569b23d1-e3f8-461b-8bf5-da5c8d000d99",
   "metadata": {},
   "source": [
    "# 4- En Küçük Kareler Regresyonu / Partial Least Squares (PLS) - Alıştırmalar"
   ]
  },
  {
   "cell_type": "markdown",
   "id": "66e3d20f-c598-4759-b9fc-d3573818f4c1",
   "metadata": {},
   "source": [
    "## ALIŞTIRMA - 1"
   ]
  },
  {
   "cell_type": "code",
   "execution_count": 1,
   "id": "dfe16132",
   "metadata": {},
   "outputs": [],
   "source": [
    "# 2. Alıştırma eklendi."
   ]
  },
  {
   "cell_type": "markdown",
   "id": "a3afa0e7-e738-48cb-9878-bacd3e5a5582",
   "metadata": {
    "tags": []
   },
   "source": [
    "### Verisetinin İncelenmesi ve Manipüle Edilmesi"
   ]
  },
  {
   "cell_type": "code",
   "execution_count": 2,
   "id": "603e66eb-2a86-4b84-b0b6-e0f127ccfef1",
   "metadata": {},
   "outputs": [],
   "source": [
    "# Gerekli kütüphanelerin dahil edilmesi,\n",
    "import pandas as pd\n",
    "import numpy as np\n",
    "import seaborn as sns\n",
    "import matplotlib.pyplot as plt\n",
    "from sklearn import model_selection\n",
    "from sklearn.model_selection import GridSearchCV\n",
    "from sklearn.model_selection import train_test_split\n",
    "from sklearn.metrics import mean_squared_error, r2_score\n",
    "from sklearn.cross_decomposition import PLSRegression, PLSSVD\n",
    "\n",
    "import warnings\n",
    "warnings.filterwarnings(\"ignore\", category=UserWarning)"
   ]
  },
  {
   "cell_type": "markdown",
   "id": "9d0c3d35-c2d2-4373-9766-6461dad36828",
   "metadata": {},
   "source": [
    "* Verisetini [buradan](https://mrkizmaz-s3data.s3.eu-west-1.amazonaws.com/DataSets/FuelConsumption.csv) indirebilirsiniz."
   ]
  },
  {
   "cell_type": "code",
   "execution_count": 2,
   "id": "2a72176e-057d-4251-8b22-e55ce371917e",
   "metadata": {},
   "outputs": [
    {
     "data": {
      "text/html": [
       "<div>\n",
       "<style scoped>\n",
       "    .dataframe tbody tr th:only-of-type {\n",
       "        vertical-align: middle;\n",
       "    }\n",
       "\n",
       "    .dataframe tbody tr th {\n",
       "        vertical-align: top;\n",
       "    }\n",
       "\n",
       "    .dataframe thead th {\n",
       "        text-align: right;\n",
       "    }\n",
       "</style>\n",
       "<table border=\"1\" class=\"dataframe\">\n",
       "  <thead>\n",
       "    <tr style=\"text-align: right;\">\n",
       "      <th></th>\n",
       "      <th>MODELYEAR</th>\n",
       "      <th>MAKE</th>\n",
       "      <th>MODEL</th>\n",
       "      <th>VEHICLECLASS</th>\n",
       "      <th>ENGINESIZE</th>\n",
       "      <th>CYLINDERS</th>\n",
       "      <th>TRANSMISSION</th>\n",
       "      <th>FUELTYPE</th>\n",
       "      <th>FUELCONSUMPTION_CITY</th>\n",
       "      <th>FUELCONSUMPTION_HWY</th>\n",
       "      <th>FUELCONSUMPTION_COMB</th>\n",
       "      <th>FUELCONSUMPTION_COMB_MPG</th>\n",
       "      <th>CO2EMISSIONS</th>\n",
       "    </tr>\n",
       "  </thead>\n",
       "  <tbody>\n",
       "    <tr>\n",
       "      <th>0</th>\n",
       "      <td>2014</td>\n",
       "      <td>ACURA</td>\n",
       "      <td>ILX</td>\n",
       "      <td>COMPACT</td>\n",
       "      <td>2.0</td>\n",
       "      <td>4</td>\n",
       "      <td>AS5</td>\n",
       "      <td>Z</td>\n",
       "      <td>9.9</td>\n",
       "      <td>6.7</td>\n",
       "      <td>8.5</td>\n",
       "      <td>33</td>\n",
       "      <td>196</td>\n",
       "    </tr>\n",
       "    <tr>\n",
       "      <th>1</th>\n",
       "      <td>2014</td>\n",
       "      <td>ACURA</td>\n",
       "      <td>ILX</td>\n",
       "      <td>COMPACT</td>\n",
       "      <td>2.4</td>\n",
       "      <td>4</td>\n",
       "      <td>M6</td>\n",
       "      <td>Z</td>\n",
       "      <td>11.2</td>\n",
       "      <td>7.7</td>\n",
       "      <td>9.6</td>\n",
       "      <td>29</td>\n",
       "      <td>221</td>\n",
       "    </tr>\n",
       "    <tr>\n",
       "      <th>2</th>\n",
       "      <td>2014</td>\n",
       "      <td>ACURA</td>\n",
       "      <td>ILX HYBRID</td>\n",
       "      <td>COMPACT</td>\n",
       "      <td>1.5</td>\n",
       "      <td>4</td>\n",
       "      <td>AV7</td>\n",
       "      <td>Z</td>\n",
       "      <td>6.0</td>\n",
       "      <td>5.8</td>\n",
       "      <td>5.9</td>\n",
       "      <td>48</td>\n",
       "      <td>136</td>\n",
       "    </tr>\n",
       "    <tr>\n",
       "      <th>3</th>\n",
       "      <td>2014</td>\n",
       "      <td>ACURA</td>\n",
       "      <td>MDX 4WD</td>\n",
       "      <td>SUV - SMALL</td>\n",
       "      <td>3.5</td>\n",
       "      <td>6</td>\n",
       "      <td>AS6</td>\n",
       "      <td>Z</td>\n",
       "      <td>12.7</td>\n",
       "      <td>9.1</td>\n",
       "      <td>11.1</td>\n",
       "      <td>25</td>\n",
       "      <td>255</td>\n",
       "    </tr>\n",
       "    <tr>\n",
       "      <th>4</th>\n",
       "      <td>2014</td>\n",
       "      <td>ACURA</td>\n",
       "      <td>RDX AWD</td>\n",
       "      <td>SUV - SMALL</td>\n",
       "      <td>3.5</td>\n",
       "      <td>6</td>\n",
       "      <td>AS6</td>\n",
       "      <td>Z</td>\n",
       "      <td>12.1</td>\n",
       "      <td>8.7</td>\n",
       "      <td>10.6</td>\n",
       "      <td>27</td>\n",
       "      <td>244</td>\n",
       "    </tr>\n",
       "  </tbody>\n",
       "</table>\n",
       "</div>"
      ],
      "text/plain": [
       "   MODELYEAR   MAKE       MODEL VEHICLECLASS  ENGINESIZE  CYLINDERS  \\\n",
       "0       2014  ACURA         ILX      COMPACT         2.0          4   \n",
       "1       2014  ACURA         ILX      COMPACT         2.4          4   \n",
       "2       2014  ACURA  ILX HYBRID      COMPACT         1.5          4   \n",
       "3       2014  ACURA     MDX 4WD  SUV - SMALL         3.5          6   \n",
       "4       2014  ACURA     RDX AWD  SUV - SMALL         3.5          6   \n",
       "\n",
       "  TRANSMISSION FUELTYPE  FUELCONSUMPTION_CITY  FUELCONSUMPTION_HWY  \\\n",
       "0          AS5        Z                   9.9                  6.7   \n",
       "1           M6        Z                  11.2                  7.7   \n",
       "2          AV7        Z                   6.0                  5.8   \n",
       "3          AS6        Z                  12.7                  9.1   \n",
       "4          AS6        Z                  12.1                  8.7   \n",
       "\n",
       "   FUELCONSUMPTION_COMB  FUELCONSUMPTION_COMB_MPG  CO2EMISSIONS  \n",
       "0                   8.5                        33           196  \n",
       "1                   9.6                        29           221  \n",
       "2                   5.9                        48           136  \n",
       "3                  11.1                        25           255  \n",
       "4                  10.6                        27           244  "
      ]
     },
     "execution_count": 2,
     "metadata": {},
     "output_type": "execute_result"
    }
   ],
   "source": [
    "url = \"https://mrkizmaz-s3data.s3.eu-west-1.amazonaws.com/DataSets/FuelConsumption.csv\"\n",
    "\n",
    "fuelcons = pd.read_csv(url)\n",
    "df = fuelcons.copy()\n",
    "df.head()"
   ]
  },
  {
   "cell_type": "code",
   "execution_count": 3,
   "id": "cbb3bd7d-8481-495c-b8b3-54f490cae6f1",
   "metadata": {},
   "outputs": [
    {
     "data": {
      "text/plain": [
       "False"
      ]
     },
     "execution_count": 3,
     "metadata": {},
     "output_type": "execute_result"
    }
   ],
   "source": [
    "df.isnull().values.any() # verisetinde bos degerler var mı?"
   ]
  },
  {
   "cell_type": "code",
   "execution_count": 4,
   "id": "4b3da6fe-bcac-4161-ae93-92fe97928988",
   "metadata": {},
   "outputs": [
    {
     "name": "stdout",
     "output_type": "stream",
     "text": [
      "<class 'pandas.core.frame.DataFrame'>\n",
      "RangeIndex: 1067 entries, 0 to 1066\n",
      "Data columns (total 13 columns):\n",
      " #   Column                    Non-Null Count  Dtype  \n",
      "---  ------                    --------------  -----  \n",
      " 0   MODELYEAR                 1067 non-null   int64  \n",
      " 1   MAKE                      1067 non-null   object \n",
      " 2   MODEL                     1067 non-null   object \n",
      " 3   VEHICLECLASS              1067 non-null   object \n",
      " 4   ENGINESIZE                1067 non-null   float64\n",
      " 5   CYLINDERS                 1067 non-null   int64  \n",
      " 6   TRANSMISSION              1067 non-null   object \n",
      " 7   FUELTYPE                  1067 non-null   object \n",
      " 8   FUELCONSUMPTION_CITY      1067 non-null   float64\n",
      " 9   FUELCONSUMPTION_HWY       1067 non-null   float64\n",
      " 10  FUELCONSUMPTION_COMB      1067 non-null   float64\n",
      " 11  FUELCONSUMPTION_COMB_MPG  1067 non-null   int64  \n",
      " 12  CO2EMISSIONS              1067 non-null   int64  \n",
      "dtypes: float64(4), int64(4), object(5)\n",
      "memory usage: 108.5+ KB\n"
     ]
    }
   ],
   "source": [
    "df.info() # verisetinin bilgi cıktısını verir"
   ]
  },
  {
   "cell_type": "code",
   "execution_count": 5,
   "id": "847ee96e-309b-4f36-920d-00586f03efb4",
   "metadata": {},
   "outputs": [],
   "source": [
    "# modelyear veriseti bilgisinde int olarak görünüyor, aslında datetime olması gerekir.\n",
    "df[\"MODELYEAR\"] = pd.to_datetime(df[\"MODELYEAR\"]) "
   ]
  },
  {
   "cell_type": "code",
   "execution_count": 6,
   "id": "c0b3bbf0-a433-475e-80d4-6d3370a1141e",
   "metadata": {},
   "outputs": [
    {
     "name": "stdout",
     "output_type": "stream",
     "text": [
      "<class 'pandas.core.frame.DataFrame'>\n",
      "RangeIndex: 1067 entries, 0 to 1066\n",
      "Data columns (total 13 columns):\n",
      " #   Column                    Non-Null Count  Dtype         \n",
      "---  ------                    --------------  -----         \n",
      " 0   MODELYEAR                 1067 non-null   datetime64[ns]\n",
      " 1   MAKE                      1067 non-null   object        \n",
      " 2   MODEL                     1067 non-null   object        \n",
      " 3   VEHICLECLASS              1067 non-null   object        \n",
      " 4   ENGINESIZE                1067 non-null   float64       \n",
      " 5   CYLINDERS                 1067 non-null   int64         \n",
      " 6   TRANSMISSION              1067 non-null   object        \n",
      " 7   FUELTYPE                  1067 non-null   object        \n",
      " 8   FUELCONSUMPTION_CITY      1067 non-null   float64       \n",
      " 9   FUELCONSUMPTION_HWY       1067 non-null   float64       \n",
      " 10  FUELCONSUMPTION_COMB      1067 non-null   float64       \n",
      " 11  FUELCONSUMPTION_COMB_MPG  1067 non-null   int64         \n",
      " 12  CO2EMISSIONS              1067 non-null   int64         \n",
      "dtypes: datetime64[ns](1), float64(4), int64(3), object(5)\n",
      "memory usage: 108.5+ KB\n"
     ]
    }
   ],
   "source": [
    "df.info()"
   ]
  },
  {
   "cell_type": "code",
   "execution_count": 7,
   "id": "69b10f80-d93b-4d06-8d25-0f6f011a301a",
   "metadata": {},
   "outputs": [
    {
     "data": {
      "text/plain": [
       "MODELYEAR                     1\n",
       "MAKE                         39\n",
       "MODEL                       663\n",
       "VEHICLECLASS                 16\n",
       "ENGINESIZE                   45\n",
       "CYLINDERS                     7\n",
       "TRANSMISSION                 22\n",
       "FUELTYPE                      4\n",
       "FUELCONSUMPTION_CITY        167\n",
       "FUELCONSUMPTION_HWY         118\n",
       "FUELCONSUMPTION_COMB        148\n",
       "FUELCONSUMPTION_COMB_MPG     43\n",
       "CO2EMISSIONS                159\n",
       "dtype: int64"
      ]
     },
     "execution_count": 7,
     "metadata": {},
     "output_type": "execute_result"
    }
   ],
   "source": [
    "df.nunique() # her sütun icin eşsiz degerlerin sayısı"
   ]
  },
  {
   "cell_type": "code",
   "execution_count": 8,
   "id": "ec0a158c-1af6-4b46-bf17-3f3a68cb7e1e",
   "metadata": {},
   "outputs": [
    {
     "data": {
      "text/html": [
       "<div>\n",
       "<style scoped>\n",
       "    .dataframe tbody tr th:only-of-type {\n",
       "        vertical-align: middle;\n",
       "    }\n",
       "\n",
       "    .dataframe tbody tr th {\n",
       "        vertical-align: top;\n",
       "    }\n",
       "\n",
       "    .dataframe thead th {\n",
       "        text-align: right;\n",
       "    }\n",
       "</style>\n",
       "<table border=\"1\" class=\"dataframe\">\n",
       "  <thead>\n",
       "    <tr style=\"text-align: right;\">\n",
       "      <th></th>\n",
       "      <th>count</th>\n",
       "      <th>mean</th>\n",
       "      <th>std</th>\n",
       "      <th>min</th>\n",
       "      <th>25%</th>\n",
       "      <th>50%</th>\n",
       "      <th>75%</th>\n",
       "      <th>max</th>\n",
       "    </tr>\n",
       "  </thead>\n",
       "  <tbody>\n",
       "    <tr>\n",
       "      <th>ENGINESIZE</th>\n",
       "      <td>1067.0</td>\n",
       "      <td>3.346298</td>\n",
       "      <td>1.415895</td>\n",
       "      <td>1.0</td>\n",
       "      <td>2.00</td>\n",
       "      <td>3.4</td>\n",
       "      <td>4.30</td>\n",
       "      <td>8.4</td>\n",
       "    </tr>\n",
       "    <tr>\n",
       "      <th>CYLINDERS</th>\n",
       "      <td>1067.0</td>\n",
       "      <td>5.794752</td>\n",
       "      <td>1.797447</td>\n",
       "      <td>3.0</td>\n",
       "      <td>4.00</td>\n",
       "      <td>6.0</td>\n",
       "      <td>8.00</td>\n",
       "      <td>12.0</td>\n",
       "    </tr>\n",
       "    <tr>\n",
       "      <th>FUELCONSUMPTION_CITY</th>\n",
       "      <td>1067.0</td>\n",
       "      <td>13.296532</td>\n",
       "      <td>4.101253</td>\n",
       "      <td>4.6</td>\n",
       "      <td>10.25</td>\n",
       "      <td>12.6</td>\n",
       "      <td>15.55</td>\n",
       "      <td>30.2</td>\n",
       "    </tr>\n",
       "    <tr>\n",
       "      <th>FUELCONSUMPTION_HWY</th>\n",
       "      <td>1067.0</td>\n",
       "      <td>9.474602</td>\n",
       "      <td>2.794510</td>\n",
       "      <td>4.9</td>\n",
       "      <td>7.50</td>\n",
       "      <td>8.8</td>\n",
       "      <td>10.85</td>\n",
       "      <td>20.5</td>\n",
       "    </tr>\n",
       "    <tr>\n",
       "      <th>FUELCONSUMPTION_COMB</th>\n",
       "      <td>1067.0</td>\n",
       "      <td>11.580881</td>\n",
       "      <td>3.485595</td>\n",
       "      <td>4.7</td>\n",
       "      <td>9.00</td>\n",
       "      <td>10.9</td>\n",
       "      <td>13.35</td>\n",
       "      <td>25.8</td>\n",
       "    </tr>\n",
       "    <tr>\n",
       "      <th>FUELCONSUMPTION_COMB_MPG</th>\n",
       "      <td>1067.0</td>\n",
       "      <td>26.441425</td>\n",
       "      <td>7.468702</td>\n",
       "      <td>11.0</td>\n",
       "      <td>21.00</td>\n",
       "      <td>26.0</td>\n",
       "      <td>31.00</td>\n",
       "      <td>60.0</td>\n",
       "    </tr>\n",
       "    <tr>\n",
       "      <th>CO2EMISSIONS</th>\n",
       "      <td>1067.0</td>\n",
       "      <td>256.228679</td>\n",
       "      <td>63.372304</td>\n",
       "      <td>108.0</td>\n",
       "      <td>207.00</td>\n",
       "      <td>251.0</td>\n",
       "      <td>294.00</td>\n",
       "      <td>488.0</td>\n",
       "    </tr>\n",
       "  </tbody>\n",
       "</table>\n",
       "</div>"
      ],
      "text/plain": [
       "                           count        mean        std    min     25%    50%  \\\n",
       "ENGINESIZE                1067.0    3.346298   1.415895    1.0    2.00    3.4   \n",
       "CYLINDERS                 1067.0    5.794752   1.797447    3.0    4.00    6.0   \n",
       "FUELCONSUMPTION_CITY      1067.0   13.296532   4.101253    4.6   10.25   12.6   \n",
       "FUELCONSUMPTION_HWY       1067.0    9.474602   2.794510    4.9    7.50    8.8   \n",
       "FUELCONSUMPTION_COMB      1067.0   11.580881   3.485595    4.7    9.00   10.9   \n",
       "FUELCONSUMPTION_COMB_MPG  1067.0   26.441425   7.468702   11.0   21.00   26.0   \n",
       "CO2EMISSIONS              1067.0  256.228679  63.372304  108.0  207.00  251.0   \n",
       "\n",
       "                             75%    max  \n",
       "ENGINESIZE                  4.30    8.4  \n",
       "CYLINDERS                   8.00   12.0  \n",
       "FUELCONSUMPTION_CITY       15.55   30.2  \n",
       "FUELCONSUMPTION_HWY        10.85   20.5  \n",
       "FUELCONSUMPTION_COMB       13.35   25.8  \n",
       "FUELCONSUMPTION_COMB_MPG   31.00   60.0  \n",
       "CO2EMISSIONS              294.00  488.0  "
      ]
     },
     "execution_count": 8,
     "metadata": {},
     "output_type": "execute_result"
    }
   ],
   "source": [
    "df.describe().T # verisetinin dagılımı hakkında bilgi verir."
   ]
  },
  {
   "cell_type": "code",
   "execution_count": 9,
   "id": "a598a023-00d9-45a9-8f38-fdea287a5a41",
   "metadata": {},
   "outputs": [
    {
     "data": {
      "text/html": [
       "<div>\n",
       "<style scoped>\n",
       "    .dataframe tbody tr th:only-of-type {\n",
       "        vertical-align: middle;\n",
       "    }\n",
       "\n",
       "    .dataframe tbody tr th {\n",
       "        vertical-align: top;\n",
       "    }\n",
       "\n",
       "    .dataframe thead th {\n",
       "        text-align: right;\n",
       "    }\n",
       "</style>\n",
       "<table border=\"1\" class=\"dataframe\">\n",
       "  <thead>\n",
       "    <tr style=\"text-align: right;\">\n",
       "      <th></th>\n",
       "      <th>ENGINESIZE</th>\n",
       "      <th>CYLINDERS</th>\n",
       "      <th>FUELCONSUMPTION_CITY</th>\n",
       "      <th>FUELCONSUMPTION_HWY</th>\n",
       "      <th>FUELCONSUMPTION_COMB</th>\n",
       "      <th>FUELCONSUMPTION_COMB_MPG</th>\n",
       "      <th>CO2EMISSIONS</th>\n",
       "    </tr>\n",
       "  </thead>\n",
       "  <tbody>\n",
       "    <tr>\n",
       "      <th>ENGINESIZE</th>\n",
       "      <td>1.000000</td>\n",
       "      <td>0.934011</td>\n",
       "      <td>0.832225</td>\n",
       "      <td>0.778746</td>\n",
       "      <td>0.819482</td>\n",
       "      <td>-0.808554</td>\n",
       "      <td>0.874154</td>\n",
       "    </tr>\n",
       "    <tr>\n",
       "      <th>CYLINDERS</th>\n",
       "      <td>0.934011</td>\n",
       "      <td>1.000000</td>\n",
       "      <td>0.796473</td>\n",
       "      <td>0.724594</td>\n",
       "      <td>0.776788</td>\n",
       "      <td>-0.770430</td>\n",
       "      <td>0.849685</td>\n",
       "    </tr>\n",
       "    <tr>\n",
       "      <th>FUELCONSUMPTION_CITY</th>\n",
       "      <td>0.832225</td>\n",
       "      <td>0.796473</td>\n",
       "      <td>1.000000</td>\n",
       "      <td>0.965718</td>\n",
       "      <td>0.995542</td>\n",
       "      <td>-0.935613</td>\n",
       "      <td>0.898039</td>\n",
       "    </tr>\n",
       "    <tr>\n",
       "      <th>FUELCONSUMPTION_HWY</th>\n",
       "      <td>0.778746</td>\n",
       "      <td>0.724594</td>\n",
       "      <td>0.965718</td>\n",
       "      <td>1.000000</td>\n",
       "      <td>0.985804</td>\n",
       "      <td>-0.893809</td>\n",
       "      <td>0.861748</td>\n",
       "    </tr>\n",
       "    <tr>\n",
       "      <th>FUELCONSUMPTION_COMB</th>\n",
       "      <td>0.819482</td>\n",
       "      <td>0.776788</td>\n",
       "      <td>0.995542</td>\n",
       "      <td>0.985804</td>\n",
       "      <td>1.000000</td>\n",
       "      <td>-0.927965</td>\n",
       "      <td>0.892129</td>\n",
       "    </tr>\n",
       "    <tr>\n",
       "      <th>FUELCONSUMPTION_COMB_MPG</th>\n",
       "      <td>-0.808554</td>\n",
       "      <td>-0.770430</td>\n",
       "      <td>-0.935613</td>\n",
       "      <td>-0.893809</td>\n",
       "      <td>-0.927965</td>\n",
       "      <td>1.000000</td>\n",
       "      <td>-0.906394</td>\n",
       "    </tr>\n",
       "    <tr>\n",
       "      <th>CO2EMISSIONS</th>\n",
       "      <td>0.874154</td>\n",
       "      <td>0.849685</td>\n",
       "      <td>0.898039</td>\n",
       "      <td>0.861748</td>\n",
       "      <td>0.892129</td>\n",
       "      <td>-0.906394</td>\n",
       "      <td>1.000000</td>\n",
       "    </tr>\n",
       "  </tbody>\n",
       "</table>\n",
       "</div>"
      ],
      "text/plain": [
       "                          ENGINESIZE  CYLINDERS  FUELCONSUMPTION_CITY  \\\n",
       "ENGINESIZE                  1.000000   0.934011              0.832225   \n",
       "CYLINDERS                   0.934011   1.000000              0.796473   \n",
       "FUELCONSUMPTION_CITY        0.832225   0.796473              1.000000   \n",
       "FUELCONSUMPTION_HWY         0.778746   0.724594              0.965718   \n",
       "FUELCONSUMPTION_COMB        0.819482   0.776788              0.995542   \n",
       "FUELCONSUMPTION_COMB_MPG   -0.808554  -0.770430             -0.935613   \n",
       "CO2EMISSIONS                0.874154   0.849685              0.898039   \n",
       "\n",
       "                          FUELCONSUMPTION_HWY  FUELCONSUMPTION_COMB  \\\n",
       "ENGINESIZE                           0.778746              0.819482   \n",
       "CYLINDERS                            0.724594              0.776788   \n",
       "FUELCONSUMPTION_CITY                 0.965718              0.995542   \n",
       "FUELCONSUMPTION_HWY                  1.000000              0.985804   \n",
       "FUELCONSUMPTION_COMB                 0.985804              1.000000   \n",
       "FUELCONSUMPTION_COMB_MPG            -0.893809             -0.927965   \n",
       "CO2EMISSIONS                         0.861748              0.892129   \n",
       "\n",
       "                          FUELCONSUMPTION_COMB_MPG  CO2EMISSIONS  \n",
       "ENGINESIZE                               -0.808554      0.874154  \n",
       "CYLINDERS                                -0.770430      0.849685  \n",
       "FUELCONSUMPTION_CITY                     -0.935613      0.898039  \n",
       "FUELCONSUMPTION_HWY                      -0.893809      0.861748  \n",
       "FUELCONSUMPTION_COMB                     -0.927965      0.892129  \n",
       "FUELCONSUMPTION_COMB_MPG                  1.000000     -0.906394  \n",
       "CO2EMISSIONS                             -0.906394      1.000000  "
      ]
     },
     "execution_count": 9,
     "metadata": {},
     "output_type": "execute_result"
    }
   ],
   "source": [
    "df.corr() # verisetinin degiskenleri arasındaki korelasyon durumu"
   ]
  },
  {
   "cell_type": "code",
   "execution_count": 10,
   "id": "35e23b92-c2bf-4ef7-a164-efa5ff277ff2",
   "metadata": {},
   "outputs": [
    {
     "data": {
      "image/png": "[encoded data removed]",
      "text/plain": [
       "<Figure size 432x288 with 1 Axes>"
      ]
     },
     "metadata": {},
     "output_type": "display_data"
    }
   ],
   "source": [
    "# enginesize ve co2emission görsel durumu\n",
    "sns.set_theme(color_codes = True)\n",
    "sns.regplot(data = df, x = 'ENGINESIZE', y = 'CO2EMISSIONS', color = 'green', scatter_kws = {'s': 50, 'color' : 'blue'});"
   ]
  },
  {
   "cell_type": "code",
   "execution_count": 11,
   "id": "46cc08f7-c4f4-4f62-af68-372c1f8d143d",
   "metadata": {},
   "outputs": [
    {
     "data": {
      "image/png": "[encoded data removed]",
      "text/plain": [
       "<Figure size 432x432 with 3 Axes>"
      ]
     },
     "metadata": {},
     "output_type": "display_data"
    }
   ],
   "source": [
    "sns.jointplot(data = df, x = 'ENGINESIZE', y = 'CO2EMISSIONS', kind = 'reg', color = 'red', scatter_kws = {'color': 'gray', 's':22});"
   ]
  },
  {
   "cell_type": "markdown",
   "id": "56093a2a-5e41-490b-afb9-ddbbec0e4182",
   "metadata": {
    "tags": []
   },
   "source": [
    "### Model Kurulumu"
   ]
  },
  {
   "cell_type": "code",
   "execution_count": 12,
   "id": "311b6125-e9ac-468f-92fe-f8521eb335bd",
   "metadata": {},
   "outputs": [
    {
     "data": {
      "text/html": [
       "<div>\n",
       "<style scoped>\n",
       "    .dataframe tbody tr th:only-of-type {\n",
       "        vertical-align: middle;\n",
       "    }\n",
       "\n",
       "    .dataframe tbody tr th {\n",
       "        vertical-align: top;\n",
       "    }\n",
       "\n",
       "    .dataframe thead th {\n",
       "        text-align: right;\n",
       "    }\n",
       "</style>\n",
       "<table border=\"1\" class=\"dataframe\">\n",
       "  <thead>\n",
       "    <tr style=\"text-align: right;\">\n",
       "      <th></th>\n",
       "      <th>ENGINESIZE</th>\n",
       "      <th>CYLINDERS</th>\n",
       "      <th>FUELCONSUMPTION_CITY</th>\n",
       "      <th>FUELCONSUMPTION_HWY</th>\n",
       "      <th>FUELCONSUMPTION_COMB</th>\n",
       "      <th>FUELCONSUMPTION_COMB_MPG</th>\n",
       "      <th>CO2EMISSIONS</th>\n",
       "    </tr>\n",
       "  </thead>\n",
       "  <tbody>\n",
       "    <tr>\n",
       "      <th>0</th>\n",
       "      <td>2.0</td>\n",
       "      <td>4</td>\n",
       "      <td>9.9</td>\n",
       "      <td>6.7</td>\n",
       "      <td>8.5</td>\n",
       "      <td>33</td>\n",
       "      <td>196</td>\n",
       "    </tr>\n",
       "    <tr>\n",
       "      <th>1</th>\n",
       "      <td>2.4</td>\n",
       "      <td>4</td>\n",
       "      <td>11.2</td>\n",
       "      <td>7.7</td>\n",
       "      <td>9.6</td>\n",
       "      <td>29</td>\n",
       "      <td>221</td>\n",
       "    </tr>\n",
       "    <tr>\n",
       "      <th>2</th>\n",
       "      <td>1.5</td>\n",
       "      <td>4</td>\n",
       "      <td>6.0</td>\n",
       "      <td>5.8</td>\n",
       "      <td>5.9</td>\n",
       "      <td>48</td>\n",
       "      <td>136</td>\n",
       "    </tr>\n",
       "    <tr>\n",
       "      <th>3</th>\n",
       "      <td>3.5</td>\n",
       "      <td>6</td>\n",
       "      <td>12.7</td>\n",
       "      <td>9.1</td>\n",
       "      <td>11.1</td>\n",
       "      <td>25</td>\n",
       "      <td>255</td>\n",
       "    </tr>\n",
       "    <tr>\n",
       "      <th>4</th>\n",
       "      <td>3.5</td>\n",
       "      <td>6</td>\n",
       "      <td>12.1</td>\n",
       "      <td>8.7</td>\n",
       "      <td>10.6</td>\n",
       "      <td>27</td>\n",
       "      <td>244</td>\n",
       "    </tr>\n",
       "  </tbody>\n",
       "</table>\n",
       "</div>"
      ],
      "text/plain": [
       "   ENGINESIZE  CYLINDERS  FUELCONSUMPTION_CITY  FUELCONSUMPTION_HWY  \\\n",
       "0         2.0          4                   9.9                  6.7   \n",
       "1         2.4          4                  11.2                  7.7   \n",
       "2         1.5          4                   6.0                  5.8   \n",
       "3         3.5          6                  12.7                  9.1   \n",
       "4         3.5          6                  12.1                  8.7   \n",
       "\n",
       "   FUELCONSUMPTION_COMB  FUELCONSUMPTION_COMB_MPG  CO2EMISSIONS  \n",
       "0                   8.5                        33           196  \n",
       "1                   9.6                        29           221  \n",
       "2                   5.9                        48           136  \n",
       "3                  11.1                        25           255  \n",
       "4                  10.6                        27           244  "
      ]
     },
     "execution_count": 12,
     "metadata": {},
     "output_type": "execute_result"
    }
   ],
   "source": [
    "df1 = df[['ENGINESIZE', 'CYLINDERS', 'FUELCONSUMPTION_CITY', 'FUELCONSUMPTION_HWY', 'FUELCONSUMPTION_COMB', 'FUELCONSUMPTION_COMB_MPG', 'CO2EMISSIONS']] # sürekli degiskenler\n",
    "df1.head()"
   ]
  },
  {
   "cell_type": "code",
   "execution_count": 13,
   "id": "e18743cd-e9ed-4355-9aec-d788851ea589",
   "metadata": {},
   "outputs": [],
   "source": [
    "X = df1.drop('CO2EMISSIONS', axis = 1) # bagımsız degiskenler (co2emissions dısındaki degiskenler)\n",
    "y = df1['CO2EMISSIONS']\n",
    "\n",
    "# %80 egitim, %20 test seti,\n",
    "X_train, X_test, y_train, y_test = train_test_split(X,\n",
    "                                                   y,\n",
    "                                                   test_size = 20,\n",
    "                                                   random_state = 42)\n",
    "# 10 katlı cross validation\n",
    "cv10 = model_selection.KFold(n_splits = 10, shuffle = True, random_state = 1)\n",
    "\n",
    "RMSE = []\n",
    "\n",
    "for i in np.arange(1, X_train.shape[1] + 1):\n",
    "    pls = PLSRegression(n_components = i)\n",
    "    model = pls.fit(X_train, y_train)\n",
    "    score = np.sqrt(-1 * model_selection.cross_val_score(pls,\n",
    "                                                        X_train,\n",
    "                                                        y_train,\n",
    "                                                        cv = cv10,\n",
    "                                                        scoring = 'neg_mean_squared_error').mean())\n",
    "    RMSE.append(score)"
   ]
  },
  {
   "cell_type": "code",
   "execution_count": 14,
   "id": "e43b1241-5fd1-4c52-8c13-78fbcc07c4af",
   "metadata": {},
   "outputs": [
    {
     "data": {
      "text/plain": [
       "[22.4676423446008,\n",
       " 21.750654896025498,\n",
       " 21.318496449240044,\n",
       " 21.30634291505458,\n",
       " 21.28182557765404,\n",
       " 21.300251841083174]"
      ]
     },
     "execution_count": 14,
     "metadata": {},
     "output_type": "execute_result"
    }
   ],
   "source": [
    "RMSE # hata degerleri"
   ]
  },
  {
   "cell_type": "code",
   "execution_count": 15,
   "id": "bda77245-f9ee-41ba-bacc-70ed9030cd06",
   "metadata": {},
   "outputs": [
    {
     "data": {
      "text/plain": [
       "PLSRegression(n_components=6)"
      ]
     },
     "execution_count": 15,
     "metadata": {},
     "output_type": "execute_result"
    }
   ],
   "source": [
    "pls"
   ]
  },
  {
   "cell_type": "code",
   "execution_count": 16,
   "id": "fcc07cd6-be5d-4893-ba1c-dbc3dbec17d0",
   "metadata": {},
   "outputs": [
    {
     "data": {
      "text/plain": [
       "0.890581329862396"
      ]
     },
     "execution_count": 16,
     "metadata": {},
     "output_type": "execute_result"
    }
   ],
   "source": [
    "model.score(X_train, y_train)"
   ]
  },
  {
   "cell_type": "code",
   "execution_count": 17,
   "id": "7640765e-28cd-40f6-8fe8-1f2ea845aaa5",
   "metadata": {},
   "outputs": [
    {
     "data": {
      "image/png": "[encoded data removed]",
      "text/plain": [
       "<Figure size 432x288 with 1 Axes>"
      ]
     },
     "metadata": {},
     "output_type": "display_data"
    }
   ],
   "source": [
    "# Degerlerin görsellestirilmesi,\n",
    "plt.plot(np.arange(1, X_train.shape[1] + 1), RMSE, '-v', c = 'red')\n",
    "plt.title('PLS modeli ile hata (rmse) degerleri')\n",
    "plt.xlabel('Bilesen Sayısı')\n",
    "plt.ylabel('RMSE Degerleri');"
   ]
  },
  {
   "cell_type": "code",
   "execution_count": 18,
   "id": "fb25b9f1-7455-4df1-b380-6059a4c02127",
   "metadata": {},
   "outputs": [
    {
     "data": {
      "text/plain": [
       "21.28182557765404"
      ]
     },
     "execution_count": 18,
     "metadata": {},
     "output_type": "execute_result"
    }
   ],
   "source": [
    "min(RMSE) # optimum hata degeri"
   ]
  },
  {
   "cell_type": "code",
   "execution_count": 19,
   "id": "6a74f60e-402d-4054-acea-2d8c449d3d35",
   "metadata": {},
   "outputs": [],
   "source": [
    "# optimum hata degerindeki bilesen sayısı nedir?\n",
    "params = {'n_components': np.arange(1, X_train.shape[1] + 1)}\n",
    "pls = PLSRegression()\n",
    "plsmodel = GridSearchCV(pls, params, cv = 10)\n",
    "modelcv = plsmodel.fit(X_train, y_train)"
   ]
  },
  {
   "cell_type": "code",
   "execution_count": 20,
   "id": "a0af9c90-d5bd-4909-9b05-05c4c5fe5827",
   "metadata": {},
   "outputs": [
    {
     "data": {
      "text/plain": [
       "GridSearchCV(cv=10, estimator=PLSRegression(),\n",
       "             param_grid={'n_components': array([1, 2, 3, 4, 5, 6])})"
      ]
     },
     "execution_count": 20,
     "metadata": {},
     "output_type": "execute_result"
    }
   ],
   "source": [
    "modelcv"
   ]
  },
  {
   "cell_type": "code",
   "execution_count": 21,
   "id": "563e166e-62b6-413e-a7d8-cdcc2548fb5f",
   "metadata": {},
   "outputs": [
    {
     "data": {
      "text/plain": [
       "{'n_components': 5}"
      ]
     },
     "execution_count": 21,
     "metadata": {},
     "output_type": "execute_result"
    }
   ],
   "source": [
    "modelcv.best_params_ # optimum hatadaki bilesen sayısı"
   ]
  },
  {
   "cell_type": "code",
   "execution_count": 22,
   "id": "6aaec95c-b6fd-4b82-b572-c4d3b5218267",
   "metadata": {},
   "outputs": [],
   "source": [
    "bilesen = modelcv.best_params_[\"n_components\"]"
   ]
  },
  {
   "cell_type": "code",
   "execution_count": 23,
   "id": "a30a9654-743d-4ce4-89d4-30d0074a3777",
   "metadata": {},
   "outputs": [
    {
     "data": {
      "text/plain": [
       "5"
      ]
     },
     "execution_count": 23,
     "metadata": {},
     "output_type": "execute_result"
    }
   ],
   "source": [
    "bilesen"
   ]
  },
  {
   "cell_type": "code",
   "execution_count": 24,
   "id": "42d87ba8-c2e2-4e22-aa78-8cd6d78ca173",
   "metadata": {},
   "outputs": [],
   "source": [
    "rscore = modelcv.score(X_train, y_train) # modelin basarı degeri"
   ]
  },
  {
   "cell_type": "code",
   "execution_count": 25,
   "id": "b8fafadd-a6fe-48bd-bfa6-523966f12033",
   "metadata": {},
   "outputs": [
    {
     "data": {
      "text/plain": [
       "0.890517535199825"
      ]
     },
     "execution_count": 25,
     "metadata": {},
     "output_type": "execute_result"
    }
   ],
   "source": [
    "rscore"
   ]
  },
  {
   "cell_type": "code",
   "execution_count": 26,
   "id": "fbb47824-8f5d-48ad-96cc-d7b1cb0f2479",
   "metadata": {},
   "outputs": [
    {
     "name": "stdout",
     "output_type": "stream",
     "text": [
      "Modelin basarı yüzdesi: 89.0517535199825\n",
      "PLS modeli elde edilen optiumum hata degeri: 21.28182557765404 ve Bilesen sayısı: 5\n"
     ]
    }
   ],
   "source": [
    "print(f\"Modelin basarı yüzdesi: {rscore * 100}\")\n",
    "print(\"PLS modeli elde edilen optiumum hata degeri: {0} ve Bilesen sayısı: {1}\".format(min(RMSE), bilesen))"
   ]
  },
  {
   "cell_type": "markdown",
   "id": "5ea0f18a-300e-4d88-8ddb-7c6f42a3f134",
   "metadata": {
    "tags": []
   },
   "source": [
    "### Sonuç"
   ]
  },
  {
   "cell_type": "markdown",
   "id": "450cf938-74d8-4164-b427-73789518cbcc",
   "metadata": {},
   "source": [
    "PLS Regresyon modeli ile elde edilen degerler,\n",
    "* Modelin basarı yüzdesi: 89.0581329862396\n",
    "* Optiumum hata degeri:  **21.28182557765404** ve Bilesen sayısı: 5"
   ]
  },
  {
   "cell_type": "markdown",
   "id": "ca43ba0f-0e14-4138-94ff-6ba0c7332bd1",
   "metadata": {},
   "source": [
    "Bu uygulamada da görüldüğü üzere cross validation uygulandıktan sonra optimum hata degeri elde edildi."
   ]
  },
  {
   "cell_type": "markdown",
   "id": "dc8f40cf-00d2-4287-84f8-e7da7cba59fe",
   "metadata": {},
   "source": [
    "* Aynı veriseti üzerinde,\n",
    "    * PCR regresyon modelinde optimum hata degeri: **21.51203259544392** olarak bulundu."
   ]
  },
  {
   "cell_type": "code",
   "execution_count": null,
   "id": "97d53e20",
   "metadata": {},
   "outputs": [],
   "source": []
  },
  {
   "cell_type": "markdown",
   "id": "67942a79",
   "metadata": {},
   "source": [
    "## ALIŞTIRMA - 2"
   ]
  },
  {
   "cell_type": "markdown",
   "id": "9b4c443c",
   "metadata": {},
   "source": [
    "### Verisetinin İncelenmesi ve Manipüle Edilmesi"
   ]
  },
  {
   "cell_type": "markdown",
   "id": "67b297fd",
   "metadata": {},
   "source": [
    "* Verisetini buradan [buradan](https://mrkizmaz-s3data.s3.eu-west-1.amazonaws.com/DataSets/data.csv) indirebilirsiniz."
   ]
  },
  {
   "cell_type": "code",
   "execution_count": 3,
   "id": "a3eeba50",
   "metadata": {},
   "outputs": [
    {
     "data": {
      "text/html": [
       "<div>\n",
       "<style scoped>\n",
       "    .dataframe tbody tr th:only-of-type {\n",
       "        vertical-align: middle;\n",
       "    }\n",
       "\n",
       "    .dataframe tbody tr th {\n",
       "        vertical-align: top;\n",
       "    }\n",
       "\n",
       "    .dataframe thead th {\n",
       "        text-align: right;\n",
       "    }\n",
       "</style>\n",
       "<table border=\"1\" class=\"dataframe\">\n",
       "  <thead>\n",
       "    <tr style=\"text-align: right;\">\n",
       "      <th></th>\n",
       "      <th>number_people</th>\n",
       "      <th>date</th>\n",
       "      <th>timestamp</th>\n",
       "      <th>day_of_week</th>\n",
       "      <th>is_weekend</th>\n",
       "      <th>is_holiday</th>\n",
       "      <th>temperature</th>\n",
       "      <th>is_start_of_semester</th>\n",
       "      <th>is_during_semester</th>\n",
       "      <th>month</th>\n",
       "      <th>hour</th>\n",
       "    </tr>\n",
       "  </thead>\n",
       "  <tbody>\n",
       "    <tr>\n",
       "      <th>0</th>\n",
       "      <td>37</td>\n",
       "      <td>2015-08-14 17:00:11-07:00</td>\n",
       "      <td>61211</td>\n",
       "      <td>4</td>\n",
       "      <td>0</td>\n",
       "      <td>0</td>\n",
       "      <td>71.76</td>\n",
       "      <td>0</td>\n",
       "      <td>0</td>\n",
       "      <td>8</td>\n",
       "      <td>17</td>\n",
       "    </tr>\n",
       "    <tr>\n",
       "      <th>1</th>\n",
       "      <td>45</td>\n",
       "      <td>2015-08-14 17:20:14-07:00</td>\n",
       "      <td>62414</td>\n",
       "      <td>4</td>\n",
       "      <td>0</td>\n",
       "      <td>0</td>\n",
       "      <td>71.76</td>\n",
       "      <td>0</td>\n",
       "      <td>0</td>\n",
       "      <td>8</td>\n",
       "      <td>17</td>\n",
       "    </tr>\n",
       "    <tr>\n",
       "      <th>2</th>\n",
       "      <td>40</td>\n",
       "      <td>2015-08-14 17:30:15-07:00</td>\n",
       "      <td>63015</td>\n",
       "      <td>4</td>\n",
       "      <td>0</td>\n",
       "      <td>0</td>\n",
       "      <td>71.76</td>\n",
       "      <td>0</td>\n",
       "      <td>0</td>\n",
       "      <td>8</td>\n",
       "      <td>17</td>\n",
       "    </tr>\n",
       "    <tr>\n",
       "      <th>3</th>\n",
       "      <td>44</td>\n",
       "      <td>2015-08-14 17:40:16-07:00</td>\n",
       "      <td>63616</td>\n",
       "      <td>4</td>\n",
       "      <td>0</td>\n",
       "      <td>0</td>\n",
       "      <td>71.76</td>\n",
       "      <td>0</td>\n",
       "      <td>0</td>\n",
       "      <td>8</td>\n",
       "      <td>17</td>\n",
       "    </tr>\n",
       "    <tr>\n",
       "      <th>4</th>\n",
       "      <td>45</td>\n",
       "      <td>2015-08-14 17:50:17-07:00</td>\n",
       "      <td>64217</td>\n",
       "      <td>4</td>\n",
       "      <td>0</td>\n",
       "      <td>0</td>\n",
       "      <td>71.76</td>\n",
       "      <td>0</td>\n",
       "      <td>0</td>\n",
       "      <td>8</td>\n",
       "      <td>17</td>\n",
       "    </tr>\n",
       "  </tbody>\n",
       "</table>\n",
       "</div>"
      ],
      "text/plain": [
       "   number_people                       date  timestamp  day_of_week  \\\n",
       "0             37  2015-08-14 17:00:11-07:00      61211            4   \n",
       "1             45  2015-08-14 17:20:14-07:00      62414            4   \n",
       "2             40  2015-08-14 17:30:15-07:00      63015            4   \n",
       "3             44  2015-08-14 17:40:16-07:00      63616            4   \n",
       "4             45  2015-08-14 17:50:17-07:00      64217            4   \n",
       "\n",
       "   is_weekend  is_holiday  temperature  is_start_of_semester  \\\n",
       "0           0           0        71.76                     0   \n",
       "1           0           0        71.76                     0   \n",
       "2           0           0        71.76                     0   \n",
       "3           0           0        71.76                     0   \n",
       "4           0           0        71.76                     0   \n",
       "\n",
       "   is_during_semester  month  hour  \n",
       "0                   0      8    17  \n",
       "1                   0      8    17  \n",
       "2                   0      8    17  \n",
       "3                   0      8    17  \n",
       "4                   0      8    17  "
      ]
     },
     "execution_count": 3,
     "metadata": {},
     "output_type": "execute_result"
    }
   ],
   "source": [
    "url = 'https://mrkizmaz-s3data.s3.eu-west-1.amazonaws.com/DataSets/data.csv'\n",
    "df = pd.read_csv('https://mrkizmaz-s3data.s3.eu-west-1.amazonaws.com/DataSets/data.csv')\n",
    "df.head()"
   ]
  },
  {
   "cell_type": "code",
   "execution_count": 4,
   "id": "670774a9",
   "metadata": {},
   "outputs": [
    {
     "name": "stdout",
     "output_type": "stream",
     "text": [
      "<class 'pandas.core.frame.DataFrame'>\n",
      "RangeIndex: 62184 entries, 0 to 62183\n",
      "Data columns (total 11 columns):\n",
      " #   Column                Non-Null Count  Dtype  \n",
      "---  ------                --------------  -----  \n",
      " 0   number_people         62184 non-null  int64  \n",
      " 1   date                  62184 non-null  object \n",
      " 2   timestamp             62184 non-null  int64  \n",
      " 3   day_of_week           62184 non-null  int64  \n",
      " 4   is_weekend            62184 non-null  int64  \n",
      " 5   is_holiday            62184 non-null  int64  \n",
      " 6   temperature           62184 non-null  float64\n",
      " 7   is_start_of_semester  62184 non-null  int64  \n",
      " 8   is_during_semester    62184 non-null  int64  \n",
      " 9   month                 62184 non-null  int64  \n",
      " 10  hour                  62184 non-null  int64  \n",
      "dtypes: float64(1), int64(9), object(1)\n",
      "memory usage: 5.2+ MB\n"
     ]
    }
   ],
   "source": [
    "df.info() # veriseti hakkında bilgiler verir"
   ]
  },
  {
   "cell_type": "code",
   "execution_count": 5,
   "id": "e0405025",
   "metadata": {},
   "outputs": [
    {
     "data": {
      "text/plain": [
       "False"
      ]
     },
     "execution_count": 5,
     "metadata": {},
     "output_type": "execute_result"
    }
   ],
   "source": [
    "df.isnull().values.any() # verisetinde bos degerler var mı?"
   ]
  },
  {
   "cell_type": "code",
   "execution_count": 6,
   "id": "ee036226",
   "metadata": {},
   "outputs": [
    {
     "data": {
      "text/html": [
       "<div>\n",
       "<style scoped>\n",
       "    .dataframe tbody tr th:only-of-type {\n",
       "        vertical-align: middle;\n",
       "    }\n",
       "\n",
       "    .dataframe tbody tr th {\n",
       "        vertical-align: top;\n",
       "    }\n",
       "\n",
       "    .dataframe thead th {\n",
       "        text-align: right;\n",
       "    }\n",
       "</style>\n",
       "<table border=\"1\" class=\"dataframe\">\n",
       "  <thead>\n",
       "    <tr style=\"text-align: right;\">\n",
       "      <th></th>\n",
       "      <th>number_people</th>\n",
       "      <th>timestamp</th>\n",
       "      <th>day_of_week</th>\n",
       "      <th>is_weekend</th>\n",
       "      <th>is_holiday</th>\n",
       "      <th>temperature</th>\n",
       "      <th>is_start_of_semester</th>\n",
       "      <th>is_during_semester</th>\n",
       "      <th>month</th>\n",
       "      <th>hour</th>\n",
       "    </tr>\n",
       "    <tr>\n",
       "      <th>date</th>\n",
       "      <th></th>\n",
       "      <th></th>\n",
       "      <th></th>\n",
       "      <th></th>\n",
       "      <th></th>\n",
       "      <th></th>\n",
       "      <th></th>\n",
       "      <th></th>\n",
       "      <th></th>\n",
       "      <th></th>\n",
       "    </tr>\n",
       "  </thead>\n",
       "  <tbody>\n",
       "    <tr>\n",
       "      <th>2015-08-14 17:00:11-07:00</th>\n",
       "      <td>37</td>\n",
       "      <td>61211</td>\n",
       "      <td>4</td>\n",
       "      <td>0</td>\n",
       "      <td>0</td>\n",
       "      <td>71.76</td>\n",
       "      <td>0</td>\n",
       "      <td>0</td>\n",
       "      <td>8</td>\n",
       "      <td>17</td>\n",
       "    </tr>\n",
       "    <tr>\n",
       "      <th>2015-08-14 17:20:14-07:00</th>\n",
       "      <td>45</td>\n",
       "      <td>62414</td>\n",
       "      <td>4</td>\n",
       "      <td>0</td>\n",
       "      <td>0</td>\n",
       "      <td>71.76</td>\n",
       "      <td>0</td>\n",
       "      <td>0</td>\n",
       "      <td>8</td>\n",
       "      <td>17</td>\n",
       "    </tr>\n",
       "    <tr>\n",
       "      <th>2015-08-14 17:30:15-07:00</th>\n",
       "      <td>40</td>\n",
       "      <td>63015</td>\n",
       "      <td>4</td>\n",
       "      <td>0</td>\n",
       "      <td>0</td>\n",
       "      <td>71.76</td>\n",
       "      <td>0</td>\n",
       "      <td>0</td>\n",
       "      <td>8</td>\n",
       "      <td>17</td>\n",
       "    </tr>\n",
       "    <tr>\n",
       "      <th>2015-08-14 17:40:16-07:00</th>\n",
       "      <td>44</td>\n",
       "      <td>63616</td>\n",
       "      <td>4</td>\n",
       "      <td>0</td>\n",
       "      <td>0</td>\n",
       "      <td>71.76</td>\n",
       "      <td>0</td>\n",
       "      <td>0</td>\n",
       "      <td>8</td>\n",
       "      <td>17</td>\n",
       "    </tr>\n",
       "    <tr>\n",
       "      <th>2015-08-14 17:50:17-07:00</th>\n",
       "      <td>45</td>\n",
       "      <td>64217</td>\n",
       "      <td>4</td>\n",
       "      <td>0</td>\n",
       "      <td>0</td>\n",
       "      <td>71.76</td>\n",
       "      <td>0</td>\n",
       "      <td>0</td>\n",
       "      <td>8</td>\n",
       "      <td>17</td>\n",
       "    </tr>\n",
       "  </tbody>\n",
       "</table>\n",
       "</div>"
      ],
      "text/plain": [
       "                           number_people  timestamp  day_of_week  is_weekend  \\\n",
       "date                                                                           \n",
       "2015-08-14 17:00:11-07:00             37      61211            4           0   \n",
       "2015-08-14 17:20:14-07:00             45      62414            4           0   \n",
       "2015-08-14 17:30:15-07:00             40      63015            4           0   \n",
       "2015-08-14 17:40:16-07:00             44      63616            4           0   \n",
       "2015-08-14 17:50:17-07:00             45      64217            4           0   \n",
       "\n",
       "                           is_holiday  temperature  is_start_of_semester  \\\n",
       "date                                                                       \n",
       "2015-08-14 17:00:11-07:00           0        71.76                     0   \n",
       "2015-08-14 17:20:14-07:00           0        71.76                     0   \n",
       "2015-08-14 17:30:15-07:00           0        71.76                     0   \n",
       "2015-08-14 17:40:16-07:00           0        71.76                     0   \n",
       "2015-08-14 17:50:17-07:00           0        71.76                     0   \n",
       "\n",
       "                           is_during_semester  month  hour  \n",
       "date                                                        \n",
       "2015-08-14 17:00:11-07:00                   0      8    17  \n",
       "2015-08-14 17:20:14-07:00                   0      8    17  \n",
       "2015-08-14 17:30:15-07:00                   0      8    17  \n",
       "2015-08-14 17:40:16-07:00                   0      8    17  \n",
       "2015-08-14 17:50:17-07:00                   0      8    17  "
      ]
     },
     "execution_count": 6,
     "metadata": {},
     "output_type": "execute_result"
    }
   ],
   "source": [
    "df = df.set_index(df.date) # index sütununu date yapma islemi\n",
    "df = df.drop(['date'], axis = 1)\n",
    "df.head()"
   ]
  },
  {
   "cell_type": "code",
   "execution_count": 7,
   "id": "87439833",
   "metadata": {},
   "outputs": [
    {
     "data": {
      "text/html": [
       "<div>\n",
       "<style scoped>\n",
       "    .dataframe tbody tr th:only-of-type {\n",
       "        vertical-align: middle;\n",
       "    }\n",
       "\n",
       "    .dataframe tbody tr th {\n",
       "        vertical-align: top;\n",
       "    }\n",
       "\n",
       "    .dataframe thead th {\n",
       "        text-align: right;\n",
       "    }\n",
       "</style>\n",
       "<table border=\"1\" class=\"dataframe\">\n",
       "  <thead>\n",
       "    <tr style=\"text-align: right;\">\n",
       "      <th></th>\n",
       "      <th>count</th>\n",
       "      <th>mean</th>\n",
       "      <th>std</th>\n",
       "      <th>min</th>\n",
       "      <th>25%</th>\n",
       "      <th>50%</th>\n",
       "      <th>75%</th>\n",
       "      <th>max</th>\n",
       "    </tr>\n",
       "  </thead>\n",
       "  <tbody>\n",
       "    <tr>\n",
       "      <th>number_people</th>\n",
       "      <td>62184.0</td>\n",
       "      <td>29.072543</td>\n",
       "      <td>22.689026</td>\n",
       "      <td>0.00</td>\n",
       "      <td>9.0</td>\n",
       "      <td>28.00</td>\n",
       "      <td>43.00</td>\n",
       "      <td>145.00</td>\n",
       "    </tr>\n",
       "    <tr>\n",
       "      <th>timestamp</th>\n",
       "      <td>62184.0</td>\n",
       "      <td>45799.437958</td>\n",
       "      <td>24211.275891</td>\n",
       "      <td>0.00</td>\n",
       "      <td>26624.0</td>\n",
       "      <td>46522.50</td>\n",
       "      <td>66612.00</td>\n",
       "      <td>86399.00</td>\n",
       "    </tr>\n",
       "    <tr>\n",
       "      <th>day_of_week</th>\n",
       "      <td>62184.0</td>\n",
       "      <td>2.982504</td>\n",
       "      <td>1.996825</td>\n",
       "      <td>0.00</td>\n",
       "      <td>1.0</td>\n",
       "      <td>3.00</td>\n",
       "      <td>5.00</td>\n",
       "      <td>6.00</td>\n",
       "    </tr>\n",
       "    <tr>\n",
       "      <th>is_weekend</th>\n",
       "      <td>62184.0</td>\n",
       "      <td>0.282870</td>\n",
       "      <td>0.450398</td>\n",
       "      <td>0.00</td>\n",
       "      <td>0.0</td>\n",
       "      <td>0.00</td>\n",
       "      <td>1.00</td>\n",
       "      <td>1.00</td>\n",
       "    </tr>\n",
       "    <tr>\n",
       "      <th>is_holiday</th>\n",
       "      <td>62184.0</td>\n",
       "      <td>0.002573</td>\n",
       "      <td>0.050660</td>\n",
       "      <td>0.00</td>\n",
       "      <td>0.0</td>\n",
       "      <td>0.00</td>\n",
       "      <td>0.00</td>\n",
       "      <td>1.00</td>\n",
       "    </tr>\n",
       "    <tr>\n",
       "      <th>temperature</th>\n",
       "      <td>62184.0</td>\n",
       "      <td>58.557108</td>\n",
       "      <td>6.316396</td>\n",
       "      <td>38.14</td>\n",
       "      <td>55.0</td>\n",
       "      <td>58.34</td>\n",
       "      <td>62.28</td>\n",
       "      <td>87.17</td>\n",
       "    </tr>\n",
       "    <tr>\n",
       "      <th>is_start_of_semester</th>\n",
       "      <td>62184.0</td>\n",
       "      <td>0.078831</td>\n",
       "      <td>0.269476</td>\n",
       "      <td>0.00</td>\n",
       "      <td>0.0</td>\n",
       "      <td>0.00</td>\n",
       "      <td>0.00</td>\n",
       "      <td>1.00</td>\n",
       "    </tr>\n",
       "    <tr>\n",
       "      <th>is_during_semester</th>\n",
       "      <td>62184.0</td>\n",
       "      <td>0.660218</td>\n",
       "      <td>0.473639</td>\n",
       "      <td>0.00</td>\n",
       "      <td>0.0</td>\n",
       "      <td>1.00</td>\n",
       "      <td>1.00</td>\n",
       "      <td>1.00</td>\n",
       "    </tr>\n",
       "    <tr>\n",
       "      <th>month</th>\n",
       "      <td>62184.0</td>\n",
       "      <td>7.439824</td>\n",
       "      <td>3.445069</td>\n",
       "      <td>1.00</td>\n",
       "      <td>5.0</td>\n",
       "      <td>8.00</td>\n",
       "      <td>10.00</td>\n",
       "      <td>12.00</td>\n",
       "    </tr>\n",
       "    <tr>\n",
       "      <th>hour</th>\n",
       "      <td>62184.0</td>\n",
       "      <td>12.236460</td>\n",
       "      <td>6.717631</td>\n",
       "      <td>0.00</td>\n",
       "      <td>7.0</td>\n",
       "      <td>12.00</td>\n",
       "      <td>18.00</td>\n",
       "      <td>23.00</td>\n",
       "    </tr>\n",
       "  </tbody>\n",
       "</table>\n",
       "</div>"
      ],
      "text/plain": [
       "                        count          mean           std    min      25%  \\\n",
       "number_people         62184.0     29.072543     22.689026   0.00      9.0   \n",
       "timestamp             62184.0  45799.437958  24211.275891   0.00  26624.0   \n",
       "day_of_week           62184.0      2.982504      1.996825   0.00      1.0   \n",
       "is_weekend            62184.0      0.282870      0.450398   0.00      0.0   \n",
       "is_holiday            62184.0      0.002573      0.050660   0.00      0.0   \n",
       "temperature           62184.0     58.557108      6.316396  38.14     55.0   \n",
       "is_start_of_semester  62184.0      0.078831      0.269476   0.00      0.0   \n",
       "is_during_semester    62184.0      0.660218      0.473639   0.00      0.0   \n",
       "month                 62184.0      7.439824      3.445069   1.00      5.0   \n",
       "hour                  62184.0     12.236460      6.717631   0.00      7.0   \n",
       "\n",
       "                           50%       75%       max  \n",
       "number_people            28.00     43.00    145.00  \n",
       "timestamp             46522.50  66612.00  86399.00  \n",
       "day_of_week               3.00      5.00      6.00  \n",
       "is_weekend                0.00      1.00      1.00  \n",
       "is_holiday                0.00      0.00      1.00  \n",
       "temperature              58.34     62.28     87.17  \n",
       "is_start_of_semester      0.00      0.00      1.00  \n",
       "is_during_semester        1.00      1.00      1.00  \n",
       "month                     8.00     10.00     12.00  \n",
       "hour                     12.00     18.00     23.00  "
      ]
     },
     "execution_count": 7,
     "metadata": {},
     "output_type": "execute_result"
    }
   ],
   "source": [
    "df.describe().T # istatistiksel bilgiler"
   ]
  },
  {
   "cell_type": "code",
   "execution_count": 8,
   "id": "23ca31b0",
   "metadata": {},
   "outputs": [
    {
     "data": {
      "text/html": [
       "<div>\n",
       "<style scoped>\n",
       "    .dataframe tbody tr th:only-of-type {\n",
       "        vertical-align: middle;\n",
       "    }\n",
       "\n",
       "    .dataframe tbody tr th {\n",
       "        vertical-align: top;\n",
       "    }\n",
       "\n",
       "    .dataframe thead th {\n",
       "        text-align: right;\n",
       "    }\n",
       "</style>\n",
       "<table border=\"1\" class=\"dataframe\">\n",
       "  <thead>\n",
       "    <tr style=\"text-align: right;\">\n",
       "      <th></th>\n",
       "      <th>number_people</th>\n",
       "      <th>timestamp</th>\n",
       "      <th>day_of_week</th>\n",
       "      <th>is_weekend</th>\n",
       "      <th>is_holiday</th>\n",
       "      <th>temperature</th>\n",
       "      <th>is_start_of_semester</th>\n",
       "      <th>is_during_semester</th>\n",
       "      <th>month</th>\n",
       "      <th>hour</th>\n",
       "    </tr>\n",
       "  </thead>\n",
       "  <tbody>\n",
       "    <tr>\n",
       "      <th>number_people</th>\n",
       "      <td>1.000000</td>\n",
       "      <td>0.550218</td>\n",
       "      <td>-0.162062</td>\n",
       "      <td>-0.173958</td>\n",
       "      <td>-0.048249</td>\n",
       "      <td>0.373327</td>\n",
       "      <td>0.182683</td>\n",
       "      <td>0.335350</td>\n",
       "      <td>-0.097854</td>\n",
       "      <td>0.552049</td>\n",
       "    </tr>\n",
       "    <tr>\n",
       "      <th>timestamp</th>\n",
       "      <td>0.550218</td>\n",
       "      <td>1.000000</td>\n",
       "      <td>-0.001793</td>\n",
       "      <td>-0.000509</td>\n",
       "      <td>0.002851</td>\n",
       "      <td>0.184849</td>\n",
       "      <td>0.009551</td>\n",
       "      <td>0.044676</td>\n",
       "      <td>-0.023221</td>\n",
       "      <td>0.999077</td>\n",
       "    </tr>\n",
       "    <tr>\n",
       "      <th>day_of_week</th>\n",
       "      <td>-0.162062</td>\n",
       "      <td>-0.001793</td>\n",
       "      <td>1.000000</td>\n",
       "      <td>0.791338</td>\n",
       "      <td>-0.075862</td>\n",
       "      <td>0.011169</td>\n",
       "      <td>-0.011782</td>\n",
       "      <td>-0.004824</td>\n",
       "      <td>0.015559</td>\n",
       "      <td>-0.001914</td>\n",
       "    </tr>\n",
       "    <tr>\n",
       "      <th>is_weekend</th>\n",
       "      <td>-0.173958</td>\n",
       "      <td>-0.000509</td>\n",
       "      <td>0.791338</td>\n",
       "      <td>1.000000</td>\n",
       "      <td>-0.031899</td>\n",
       "      <td>0.020673</td>\n",
       "      <td>-0.016646</td>\n",
       "      <td>-0.036127</td>\n",
       "      <td>0.008462</td>\n",
       "      <td>-0.000517</td>\n",
       "    </tr>\n",
       "    <tr>\n",
       "      <th>is_holiday</th>\n",
       "      <td>-0.048249</td>\n",
       "      <td>0.002851</td>\n",
       "      <td>-0.075862</td>\n",
       "      <td>-0.031899</td>\n",
       "      <td>1.000000</td>\n",
       "      <td>-0.088527</td>\n",
       "      <td>-0.014858</td>\n",
       "      <td>-0.070798</td>\n",
       "      <td>-0.094942</td>\n",
       "      <td>0.002843</td>\n",
       "    </tr>\n",
       "    <tr>\n",
       "      <th>temperature</th>\n",
       "      <td>0.373327</td>\n",
       "      <td>0.184849</td>\n",
       "      <td>0.011169</td>\n",
       "      <td>0.020673</td>\n",
       "      <td>-0.088527</td>\n",
       "      <td>1.000000</td>\n",
       "      <td>0.093242</td>\n",
       "      <td>0.152476</td>\n",
       "      <td>0.063125</td>\n",
       "      <td>0.185121</td>\n",
       "    </tr>\n",
       "    <tr>\n",
       "      <th>is_start_of_semester</th>\n",
       "      <td>0.182683</td>\n",
       "      <td>0.009551</td>\n",
       "      <td>-0.011782</td>\n",
       "      <td>-0.016646</td>\n",
       "      <td>-0.014858</td>\n",
       "      <td>0.093242</td>\n",
       "      <td>1.000000</td>\n",
       "      <td>0.209862</td>\n",
       "      <td>-0.137160</td>\n",
       "      <td>0.010091</td>\n",
       "    </tr>\n",
       "    <tr>\n",
       "      <th>is_during_semester</th>\n",
       "      <td>0.335350</td>\n",
       "      <td>0.044676</td>\n",
       "      <td>-0.004824</td>\n",
       "      <td>-0.036127</td>\n",
       "      <td>-0.070798</td>\n",
       "      <td>0.152476</td>\n",
       "      <td>0.209862</td>\n",
       "      <td>1.000000</td>\n",
       "      <td>0.096556</td>\n",
       "      <td>0.045581</td>\n",
       "    </tr>\n",
       "    <tr>\n",
       "      <th>month</th>\n",
       "      <td>-0.097854</td>\n",
       "      <td>-0.023221</td>\n",
       "      <td>0.015559</td>\n",
       "      <td>0.008462</td>\n",
       "      <td>-0.094942</td>\n",
       "      <td>0.063125</td>\n",
       "      <td>-0.137160</td>\n",
       "      <td>0.096556</td>\n",
       "      <td>1.000000</td>\n",
       "      <td>-0.023624</td>\n",
       "    </tr>\n",
       "    <tr>\n",
       "      <th>hour</th>\n",
       "      <td>0.552049</td>\n",
       "      <td>0.999077</td>\n",
       "      <td>-0.001914</td>\n",
       "      <td>-0.000517</td>\n",
       "      <td>0.002843</td>\n",
       "      <td>0.185121</td>\n",
       "      <td>0.010091</td>\n",
       "      <td>0.045581</td>\n",
       "      <td>-0.023624</td>\n",
       "      <td>1.000000</td>\n",
       "    </tr>\n",
       "  </tbody>\n",
       "</table>\n",
       "</div>"
      ],
      "text/plain": [
       "                      number_people  timestamp  day_of_week  is_weekend  \\\n",
       "number_people              1.000000   0.550218    -0.162062   -0.173958   \n",
       "timestamp                  0.550218   1.000000    -0.001793   -0.000509   \n",
       "day_of_week               -0.162062  -0.001793     1.000000    0.791338   \n",
       "is_weekend                -0.173958  -0.000509     0.791338    1.000000   \n",
       "is_holiday                -0.048249   0.002851    -0.075862   -0.031899   \n",
       "temperature                0.373327   0.184849     0.011169    0.020673   \n",
       "is_start_of_semester       0.182683   0.009551    -0.011782   -0.016646   \n",
       "is_during_semester         0.335350   0.044676    -0.004824   -0.036127   \n",
       "month                     -0.097854  -0.023221     0.015559    0.008462   \n",
       "hour                       0.552049   0.999077    -0.001914   -0.000517   \n",
       "\n",
       "                      is_holiday  temperature  is_start_of_semester  \\\n",
       "number_people          -0.048249     0.373327              0.182683   \n",
       "timestamp               0.002851     0.184849              0.009551   \n",
       "day_of_week            -0.075862     0.011169             -0.011782   \n",
       "is_weekend             -0.031899     0.020673             -0.016646   \n",
       "is_holiday              1.000000    -0.088527             -0.014858   \n",
       "temperature            -0.088527     1.000000              0.093242   \n",
       "is_start_of_semester   -0.014858     0.093242              1.000000   \n",
       "is_during_semester     -0.070798     0.152476              0.209862   \n",
       "month                  -0.094942     0.063125             -0.137160   \n",
       "hour                    0.002843     0.185121              0.010091   \n",
       "\n",
       "                      is_during_semester     month      hour  \n",
       "number_people                   0.335350 -0.097854  0.552049  \n",
       "timestamp                       0.044676 -0.023221  0.999077  \n",
       "day_of_week                    -0.004824  0.015559 -0.001914  \n",
       "is_weekend                     -0.036127  0.008462 -0.000517  \n",
       "is_holiday                     -0.070798 -0.094942  0.002843  \n",
       "temperature                     0.152476  0.063125  0.185121  \n",
       "is_start_of_semester            0.209862 -0.137160  0.010091  \n",
       "is_during_semester              1.000000  0.096556  0.045581  \n",
       "month                           0.096556  1.000000 -0.023624  \n",
       "hour                            0.045581 -0.023624  1.000000  "
      ]
     },
     "execution_count": 8,
     "metadata": {},
     "output_type": "execute_result"
    }
   ],
   "source": [
    "df.corr() # aralarındaki korelasyon degerleri"
   ]
  },
  {
   "cell_type": "code",
   "execution_count": 9,
   "id": "afb00688",
   "metadata": {},
   "outputs": [
    {
     "data": {
      "image/png": "[encoded data removed]",
      "text/plain": [
       "<Figure size 720x720 with 2 Axes>"
      ]
     },
     "metadata": {
      "needs_background": "light"
     },
     "output_type": "display_data"
    }
   ],
   "source": [
    "plt.figure(figsize = (10, 10))\n",
    "sns.heatmap(df.corr(), square=True, annot=True, cmap='Reds');"
   ]
  },
  {
   "cell_type": "code",
   "execution_count": 10,
   "id": "5b7af33b",
   "metadata": {},
   "outputs": [
    {
     "data": {
      "image/png": "[encoded data removed]",
      "text/plain": [
       "<Figure size 432x288 with 1 Axes>"
      ]
     },
     "metadata": {
      "needs_background": "light"
     },
     "output_type": "display_data"
    }
   ],
   "source": [
    "plt.scatter(df['number_people'], df['month'])\n",
    "plt.xlabel('Number of people')\n",
    "plt.ylabel('Month of year');"
   ]
  },
  {
   "cell_type": "code",
   "execution_count": 11,
   "id": "de2f498b",
   "metadata": {},
   "outputs": [
    {
     "data": {
      "text/html": [
       "<div>\n",
       "<style scoped>\n",
       "    .dataframe tbody tr th:only-of-type {\n",
       "        vertical-align: middle;\n",
       "    }\n",
       "\n",
       "    .dataframe tbody tr th {\n",
       "        vertical-align: top;\n",
       "    }\n",
       "\n",
       "    .dataframe thead th {\n",
       "        text-align: right;\n",
       "    }\n",
       "</style>\n",
       "<table border=\"1\" class=\"dataframe\">\n",
       "  <thead>\n",
       "    <tr style=\"text-align: right;\">\n",
       "      <th></th>\n",
       "      <th>number_people</th>\n",
       "      <th>timestamp</th>\n",
       "      <th>day_of_week</th>\n",
       "      <th>is_weekend</th>\n",
       "      <th>is_holiday</th>\n",
       "      <th>temperature</th>\n",
       "      <th>is_start_of_semester</th>\n",
       "      <th>is_during_semester</th>\n",
       "      <th>month</th>\n",
       "      <th>hour</th>\n",
       "    </tr>\n",
       "    <tr>\n",
       "      <th>date</th>\n",
       "      <th></th>\n",
       "      <th></th>\n",
       "      <th></th>\n",
       "      <th></th>\n",
       "      <th></th>\n",
       "      <th></th>\n",
       "      <th></th>\n",
       "      <th></th>\n",
       "      <th></th>\n",
       "      <th></th>\n",
       "    </tr>\n",
       "  </thead>\n",
       "  <tbody>\n",
       "    <tr>\n",
       "      <th>2015-08-14 17:00:11-07:00</th>\n",
       "      <td>37</td>\n",
       "      <td>61211</td>\n",
       "      <td>4</td>\n",
       "      <td>0</td>\n",
       "      <td>0</td>\n",
       "      <td>22.088889</td>\n",
       "      <td>0</td>\n",
       "      <td>0</td>\n",
       "      <td>8</td>\n",
       "      <td>17</td>\n",
       "    </tr>\n",
       "    <tr>\n",
       "      <th>2015-08-14 17:20:14-07:00</th>\n",
       "      <td>45</td>\n",
       "      <td>62414</td>\n",
       "      <td>4</td>\n",
       "      <td>0</td>\n",
       "      <td>0</td>\n",
       "      <td>22.088889</td>\n",
       "      <td>0</td>\n",
       "      <td>0</td>\n",
       "      <td>8</td>\n",
       "      <td>17</td>\n",
       "    </tr>\n",
       "    <tr>\n",
       "      <th>2015-08-14 17:30:15-07:00</th>\n",
       "      <td>40</td>\n",
       "      <td>63015</td>\n",
       "      <td>4</td>\n",
       "      <td>0</td>\n",
       "      <td>0</td>\n",
       "      <td>22.088889</td>\n",
       "      <td>0</td>\n",
       "      <td>0</td>\n",
       "      <td>8</td>\n",
       "      <td>17</td>\n",
       "    </tr>\n",
       "    <tr>\n",
       "      <th>2015-08-14 17:40:16-07:00</th>\n",
       "      <td>44</td>\n",
       "      <td>63616</td>\n",
       "      <td>4</td>\n",
       "      <td>0</td>\n",
       "      <td>0</td>\n",
       "      <td>22.088889</td>\n",
       "      <td>0</td>\n",
       "      <td>0</td>\n",
       "      <td>8</td>\n",
       "      <td>17</td>\n",
       "    </tr>\n",
       "    <tr>\n",
       "      <th>2015-08-14 17:50:17-07:00</th>\n",
       "      <td>45</td>\n",
       "      <td>64217</td>\n",
       "      <td>4</td>\n",
       "      <td>0</td>\n",
       "      <td>0</td>\n",
       "      <td>22.088889</td>\n",
       "      <td>0</td>\n",
       "      <td>0</td>\n",
       "      <td>8</td>\n",
       "      <td>17</td>\n",
       "    </tr>\n",
       "  </tbody>\n",
       "</table>\n",
       "</div>"
      ],
      "text/plain": [
       "                           number_people  timestamp  day_of_week  is_weekend  \\\n",
       "date                                                                           \n",
       "2015-08-14 17:00:11-07:00             37      61211            4           0   \n",
       "2015-08-14 17:20:14-07:00             45      62414            4           0   \n",
       "2015-08-14 17:30:15-07:00             40      63015            4           0   \n",
       "2015-08-14 17:40:16-07:00             44      63616            4           0   \n",
       "2015-08-14 17:50:17-07:00             45      64217            4           0   \n",
       "\n",
       "                           is_holiday  temperature  is_start_of_semester  \\\n",
       "date                                                                       \n",
       "2015-08-14 17:00:11-07:00           0    22.088889                     0   \n",
       "2015-08-14 17:20:14-07:00           0    22.088889                     0   \n",
       "2015-08-14 17:30:15-07:00           0    22.088889                     0   \n",
       "2015-08-14 17:40:16-07:00           0    22.088889                     0   \n",
       "2015-08-14 17:50:17-07:00           0    22.088889                     0   \n",
       "\n",
       "                           is_during_semester  month  hour  \n",
       "date                                                        \n",
       "2015-08-14 17:00:11-07:00                   0      8    17  \n",
       "2015-08-14 17:20:14-07:00                   0      8    17  \n",
       "2015-08-14 17:30:15-07:00                   0      8    17  \n",
       "2015-08-14 17:40:16-07:00                   0      8    17  \n",
       "2015-08-14 17:50:17-07:00                   0      8    17  "
      ]
     },
     "execution_count": 11,
     "metadata": {},
     "output_type": "execute_result"
    }
   ],
   "source": [
    "# sıcaklık degerini (fahrenheint) celsiusa dönüstürme islmei\n",
    "df['temperature'] = df['temperature'].apply(lambda x: (float(5) / 9 * (x - 32)))\n",
    "df.head()"
   ]
  },
  {
   "cell_type": "code",
   "execution_count": 12,
   "id": "4cdec651",
   "metadata": {},
   "outputs": [
    {
     "name": "stdout",
     "output_type": "stream",
     "text": [
      "<class 'pandas.core.frame.DataFrame'>\n",
      "Index: 62184 entries, 2015-08-14 17:00:11-07:00 to 2017-03-18 19:22:51-07:00\n",
      "Data columns (total 10 columns):\n",
      " #   Column                Non-Null Count  Dtype  \n",
      "---  ------                --------------  -----  \n",
      " 0   number_people         62184 non-null  int64  \n",
      " 1   timestamp             62184 non-null  int64  \n",
      " 2   day_of_week           62184 non-null  int64  \n",
      " 3   is_weekend            62184 non-null  int64  \n",
      " 4   is_holiday            62184 non-null  int64  \n",
      " 5   temperature           62184 non-null  float64\n",
      " 6   is_start_of_semester  62184 non-null  int64  \n",
      " 7   is_during_semester    62184 non-null  int64  \n",
      " 8   month                 62184 non-null  int64  \n",
      " 9   hour                  62184 non-null  int64  \n",
      "dtypes: float64(1), int64(9)\n",
      "memory usage: 7.2+ MB\n"
     ]
    }
   ],
   "source": [
    "df.info() # verisetinin son halinin bilgisi"
   ]
  },
  {
   "cell_type": "markdown",
   "id": "cc844fcd",
   "metadata": {},
   "source": [
    "### Model Kurulumu"
   ]
  },
  {
   "cell_type": "code",
   "execution_count": 13,
   "id": "5bc3060d",
   "metadata": {},
   "outputs": [
    {
     "data": {
      "image/png": "[encoded data removed]",
      "text/plain": [
       "<Figure size 432x288 with 1 Axes>"
      ]
     },
     "metadata": {
      "needs_background": "light"
     },
     "output_type": "display_data"
    }
   ],
   "source": [
    "X = df.drop(['number_people'], axis = 1) # bagımsız degiskenler\n",
    "y = df['number_people'] # bagımlı degisken\n",
    "\n",
    "# egitim veriseti %80, test veriseti %20,\n",
    "X_train, X_test, y_train, y_test = train_test_split(X,\n",
    "y,\n",
    "test_size = 0.20,\n",
    "random_state = 42)\n",
    "\n",
    "# 10 katlı cross validation ile model dogrulama,\n",
    "cv10 = model_selection.KFold(n_splits = 10, shuffle = True, random_state = 1)\n",
    "\n",
    "RMSE = [] # hesaplanan hata degerleri listesi\n",
    "\n",
    "for i in np.arange(1, X_train.shape[1] + 1):\n",
    "    pls = PLSRegression(n_components = i)\n",
    "    model = pls.fit(X_train, y_train)\n",
    "    score = np.sqrt(-1 * model_selection.cross_val_score(pls,\n",
    "                                                        X_train,\n",
    "                                                        y_train,\n",
    "                                                        cv = cv10,\n",
    "                                                        scoring = 'neg_mean_squared_error').mean())\n",
    "    RMSE.append(score)\n",
    "    \n",
    "# Degerlerin Görsellestirilmesi,\n",
    "plt.plot(np.arange(1, X_train.shape[1] + 1), RMSE, '-v', c = 'lime')\n",
    "plt.title('PLC modeli ile RMSE degerleri')\n",
    "plt.xlabel('Bilesen Sayısı')\n",
    "plt.ylabel('RMSE Degerleri');"
   ]
  },
  {
   "cell_type": "code",
   "execution_count": 14,
   "id": "48529a73",
   "metadata": {},
   "outputs": [
    {
     "data": {
      "text/plain": [
       "15.909175946583522"
      ]
     },
     "execution_count": 14,
     "metadata": {},
     "output_type": "execute_result"
    }
   ],
   "source": [
    "min(RMSE)"
   ]
  },
  {
   "cell_type": "code",
   "execution_count": 15,
   "id": "c369d760",
   "metadata": {},
   "outputs": [],
   "source": [
    "# optimum hata degerindeki bilesen sayısı nedir?\n",
    "pls_params = {'n_components': np.arange(1, X_train.shape[1] + 1)}\n",
    "pls = PLSRegression()\n",
    "plsmodel = GridSearchCV(pls, pls_params, cv = 10)\n",
    "modelcv = plsmodel.fit(X_train, y_train)"
   ]
  },
  {
   "cell_type": "code",
   "execution_count": 16,
   "id": "afa3dbae",
   "metadata": {},
   "outputs": [
    {
     "data": {
      "text/plain": [
       "{'n_components': 9}"
      ]
     },
     "execution_count": 16,
     "metadata": {},
     "output_type": "execute_result"
    }
   ],
   "source": [
    "modelcv.best_params_ # optiumum hata degerinde bilesen sayısı"
   ]
  },
  {
   "cell_type": "markdown",
   "id": "53c17d2c",
   "metadata": {},
   "source": [
    "### Sonuç"
   ]
  },
  {
   "cell_type": "code",
   "execution_count": 17,
   "id": "dd68ea43",
   "metadata": {},
   "outputs": [
    {
     "name": "stdout",
     "output_type": "stream",
     "text": [
      "Modelin basarı yüzdesi: 50.80585617886868     Optimum bileşen sayısı: 9     Minimum hata degeri: 15.909175946583522\n"
     ]
    }
   ],
   "source": [
    "print(f\"Modelin basarı yüzdesi: {plsmodel.score(X_train, y_train) * 100} \\\n",
    "    Optimum bileşen sayısı: {modelcv.best_params_['n_components']} \\\n",
    "    Minimum hata degeri: {min(RMSE)}\")"
   ]
  }
 ],
 "metadata": {
  "kernelspec": {
   "display_name": "Python 3 (ipykernel)",
   "language": "python",
   "name": "python3"
  },
  "language_info": {
   "codemirror_mode": {
    "name": "ipython",
    "version": 3
   },
   "file_extension": ".py",
   "mimetype": "text/x-python",
   "name": "python",
   "nbconvert_exporter": "python",
   "pygments_lexer": "ipython3",
   "version": "3.8.10"
  }
 },
 "nbformat": 4,
 "nbformat_minor": 5
}
