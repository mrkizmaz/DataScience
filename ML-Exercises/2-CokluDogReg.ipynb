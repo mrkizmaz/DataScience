{
 "cells": [
  {
   "cell_type": "markdown",
   "id": "44fbc4c0-2643-4eb1-9145-d26ed436e4e8",
   "metadata": {},
   "source": [
    "# Çoklu Doğrusal Regresyon (Multiple Linear Regression) - Alıştırmalar"
   ]
  },
  {
   "cell_type": "markdown",
   "id": "253c23f7-44b4-4429-b498-c7259bdf0d58",
   "metadata": {},
   "source": [
    "## ALIŞTIRMA - 1"
   ]
  },
  {
   "cell_type": "markdown",
   "id": "e85b029c-ea33-4d16-8b0e-281fa03eeef4",
   "metadata": {
    "tags": []
   },
   "source": [
    "### Veri Setinin İncelenmesi ve Manüle Edilmesi"
   ]
  },
  {
   "cell_type": "code",
   "execution_count": 1,
   "id": "e206bd7d-dddb-4aab-9363-a32d8eb10c46",
   "metadata": {},
   "outputs": [],
   "source": [
    "# Gerekli kütüpanelerin dahil edilmesi,\n",
    "import pandas as pd\n",
    "import numpy as np\n",
    "import seaborn as sns\n",
    "import matplotlib.pyplot as plt\n",
    "import statsmodels.api as sm\n",
    "import statsmodels.formula.api as smf\n",
    "from sklearn.linear_model import LinearRegression\n",
    "from sklearn.metrics import mean_squared_error, r2_score\n",
    "from sklearn.model_selection import train_test_split, cross_val_score\n",
    "\n",
    "import warnings\n",
    "warnings.filterwarnings(\"ignore\", category=UserWarning)"
   ]
  },
  {
   "cell_type": "markdown",
   "id": "b63c8fc4-ec51-4c6a-8c18-0bf66746e243",
   "metadata": {},
   "source": [
    "* Verisetini [buradan](https://mrkizmaz-s3data.s3.eu-west-1.amazonaws.com/DataSets/FuelConsumption.csv) indirebilirsiniz."
   ]
  },
  {
   "cell_type": "code",
   "execution_count": 2,
   "id": "f1392301-bf9d-47ac-85a7-9c6716efa43c",
   "metadata": {
    "tags": []
   },
   "outputs": [
    {
     "data": {
      "text/html": [
       "<div>\n",
       "<style scoped>\n",
       "    .dataframe tbody tr th:only-of-type {\n",
       "        vertical-align: middle;\n",
       "    }\n",
       "\n",
       "    .dataframe tbody tr th {\n",
       "        vertical-align: top;\n",
       "    }\n",
       "\n",
       "    .dataframe thead th {\n",
       "        text-align: right;\n",
       "    }\n",
       "</style>\n",
       "<table border=\"1\" class=\"dataframe\">\n",
       "  <thead>\n",
       "    <tr style=\"text-align: right;\">\n",
       "      <th></th>\n",
       "      <th>MODELYEAR</th>\n",
       "      <th>MAKE</th>\n",
       "      <th>MODEL</th>\n",
       "      <th>VEHICLECLASS</th>\n",
       "      <th>ENGINESIZE</th>\n",
       "      <th>CYLINDERS</th>\n",
       "      <th>TRANSMISSION</th>\n",
       "      <th>FUELTYPE</th>\n",
       "      <th>FUELCONSUMPTION_CITY</th>\n",
       "      <th>FUELCONSUMPTION_HWY</th>\n",
       "      <th>FUELCONSUMPTION_COMB</th>\n",
       "      <th>FUELCONSUMPTION_COMB_MPG</th>\n",
       "      <th>CO2EMISSIONS</th>\n",
       "    </tr>\n",
       "  </thead>\n",
       "  <tbody>\n",
       "    <tr>\n",
       "      <th>0</th>\n",
       "      <td>2014</td>\n",
       "      <td>ACURA</td>\n",
       "      <td>ILX</td>\n",
       "      <td>COMPACT</td>\n",
       "      <td>2.0</td>\n",
       "      <td>4</td>\n",
       "      <td>AS5</td>\n",
       "      <td>Z</td>\n",
       "      <td>9.9</td>\n",
       "      <td>6.7</td>\n",
       "      <td>8.5</td>\n",
       "      <td>33</td>\n",
       "      <td>196</td>\n",
       "    </tr>\n",
       "    <tr>\n",
       "      <th>1</th>\n",
       "      <td>2014</td>\n",
       "      <td>ACURA</td>\n",
       "      <td>ILX</td>\n",
       "      <td>COMPACT</td>\n",
       "      <td>2.4</td>\n",
       "      <td>4</td>\n",
       "      <td>M6</td>\n",
       "      <td>Z</td>\n",
       "      <td>11.2</td>\n",
       "      <td>7.7</td>\n",
       "      <td>9.6</td>\n",
       "      <td>29</td>\n",
       "      <td>221</td>\n",
       "    </tr>\n",
       "    <tr>\n",
       "      <th>2</th>\n",
       "      <td>2014</td>\n",
       "      <td>ACURA</td>\n",
       "      <td>ILX HYBRID</td>\n",
       "      <td>COMPACT</td>\n",
       "      <td>1.5</td>\n",
       "      <td>4</td>\n",
       "      <td>AV7</td>\n",
       "      <td>Z</td>\n",
       "      <td>6.0</td>\n",
       "      <td>5.8</td>\n",
       "      <td>5.9</td>\n",
       "      <td>48</td>\n",
       "      <td>136</td>\n",
       "    </tr>\n",
       "    <tr>\n",
       "      <th>3</th>\n",
       "      <td>2014</td>\n",
       "      <td>ACURA</td>\n",
       "      <td>MDX 4WD</td>\n",
       "      <td>SUV - SMALL</td>\n",
       "      <td>3.5</td>\n",
       "      <td>6</td>\n",
       "      <td>AS6</td>\n",
       "      <td>Z</td>\n",
       "      <td>12.7</td>\n",
       "      <td>9.1</td>\n",
       "      <td>11.1</td>\n",
       "      <td>25</td>\n",
       "      <td>255</td>\n",
       "    </tr>\n",
       "    <tr>\n",
       "      <th>4</th>\n",
       "      <td>2014</td>\n",
       "      <td>ACURA</td>\n",
       "      <td>RDX AWD</td>\n",
       "      <td>SUV - SMALL</td>\n",
       "      <td>3.5</td>\n",
       "      <td>6</td>\n",
       "      <td>AS6</td>\n",
       "      <td>Z</td>\n",
       "      <td>12.1</td>\n",
       "      <td>8.7</td>\n",
       "      <td>10.6</td>\n",
       "      <td>27</td>\n",
       "      <td>244</td>\n",
       "    </tr>\n",
       "  </tbody>\n",
       "</table>\n",
       "</div>"
      ],
      "text/plain": [
       "   MODELYEAR   MAKE       MODEL VEHICLECLASS  ENGINESIZE  CYLINDERS  \\\n",
       "0       2014  ACURA         ILX      COMPACT         2.0          4   \n",
       "1       2014  ACURA         ILX      COMPACT         2.4          4   \n",
       "2       2014  ACURA  ILX HYBRID      COMPACT         1.5          4   \n",
       "3       2014  ACURA     MDX 4WD  SUV - SMALL         3.5          6   \n",
       "4       2014  ACURA     RDX AWD  SUV - SMALL         3.5          6   \n",
       "\n",
       "  TRANSMISSION FUELTYPE  FUELCONSUMPTION_CITY  FUELCONSUMPTION_HWY  \\\n",
       "0          AS5        Z                   9.9                  6.7   \n",
       "1           M6        Z                  11.2                  7.7   \n",
       "2          AV7        Z                   6.0                  5.8   \n",
       "3          AS6        Z                  12.7                  9.1   \n",
       "4          AS6        Z                  12.1                  8.7   \n",
       "\n",
       "   FUELCONSUMPTION_COMB  FUELCONSUMPTION_COMB_MPG  CO2EMISSIONS  \n",
       "0                   8.5                        33           196  \n",
       "1                   9.6                        29           221  \n",
       "2                   5.9                        48           136  \n",
       "3                  11.1                        25           255  \n",
       "4                  10.6                        27           244  "
      ]
     },
     "execution_count": 2,
     "metadata": {},
     "output_type": "execute_result"
    }
   ],
   "source": [
    "url = \"https://mrkizmaz-s3data.s3.eu-west-1.amazonaws.com/DataSets/FuelConsumption.csv\"\n",
    "\n",
    "fuelcons = pd.read_csv(url)\n",
    "df = fuelcons.copy()\n",
    "df.head()"
   ]
  },
  {
   "cell_type": "code",
   "execution_count": 3,
   "id": "7f16a4c4-6ae7-4245-9fc4-7264dfffa87b",
   "metadata": {},
   "outputs": [
    {
     "data": {
      "text/plain": [
       "False"
      ]
     },
     "execution_count": 3,
     "metadata": {},
     "output_type": "execute_result"
    }
   ],
   "source": [
    "df.isnull().values.any() # verisetinde bos eleman var mı?"
   ]
  },
  {
   "cell_type": "code",
   "execution_count": 4,
   "id": "40caef63-566b-491d-b8d8-18dfd1a46db9",
   "metadata": {},
   "outputs": [
    {
     "name": "stdout",
     "output_type": "stream",
     "text": [
      "<class 'pandas.core.frame.DataFrame'>\n",
      "RangeIndex: 1067 entries, 0 to 1066\n",
      "Data columns (total 13 columns):\n",
      " #   Column                    Non-Null Count  Dtype  \n",
      "---  ------                    --------------  -----  \n",
      " 0   MODELYEAR                 1067 non-null   int64  \n",
      " 1   MAKE                      1067 non-null   object \n",
      " 2   MODEL                     1067 non-null   object \n",
      " 3   VEHICLECLASS              1067 non-null   object \n",
      " 4   ENGINESIZE                1067 non-null   float64\n",
      " 5   CYLINDERS                 1067 non-null   int64  \n",
      " 6   TRANSMISSION              1067 non-null   object \n",
      " 7   FUELTYPE                  1067 non-null   object \n",
      " 8   FUELCONSUMPTION_CITY      1067 non-null   float64\n",
      " 9   FUELCONSUMPTION_HWY       1067 non-null   float64\n",
      " 10  FUELCONSUMPTION_COMB      1067 non-null   float64\n",
      " 11  FUELCONSUMPTION_COMB_MPG  1067 non-null   int64  \n",
      " 12  CO2EMISSIONS              1067 non-null   int64  \n",
      "dtypes: float64(4), int64(4), object(5)\n",
      "memory usage: 108.5+ KB\n"
     ]
    }
   ],
   "source": [
    "df.info() # verisetinin bilgisi"
   ]
  },
  {
   "cell_type": "code",
   "execution_count": 5,
   "id": "aed52012-ec2e-4375-98bc-b5c5dbe13c0a",
   "metadata": {},
   "outputs": [
    {
     "data": {
      "text/html": [
       "<div>\n",
       "<style scoped>\n",
       "    .dataframe tbody tr th:only-of-type {\n",
       "        vertical-align: middle;\n",
       "    }\n",
       "\n",
       "    .dataframe tbody tr th {\n",
       "        vertical-align: top;\n",
       "    }\n",
       "\n",
       "    .dataframe thead th {\n",
       "        text-align: right;\n",
       "    }\n",
       "</style>\n",
       "<table border=\"1\" class=\"dataframe\">\n",
       "  <thead>\n",
       "    <tr style=\"text-align: right;\">\n",
       "      <th></th>\n",
       "      <th>MODELYEAR</th>\n",
       "      <th>ENGINESIZE</th>\n",
       "      <th>CYLINDERS</th>\n",
       "      <th>FUELCONSUMPTION_CITY</th>\n",
       "      <th>FUELCONSUMPTION_HWY</th>\n",
       "      <th>FUELCONSUMPTION_COMB</th>\n",
       "      <th>FUELCONSUMPTION_COMB_MPG</th>\n",
       "      <th>CO2EMISSIONS</th>\n",
       "    </tr>\n",
       "  </thead>\n",
       "  <tbody>\n",
       "    <tr>\n",
       "      <th>MODELYEAR</th>\n",
       "      <td>NaN</td>\n",
       "      <td>NaN</td>\n",
       "      <td>NaN</td>\n",
       "      <td>NaN</td>\n",
       "      <td>NaN</td>\n",
       "      <td>NaN</td>\n",
       "      <td>NaN</td>\n",
       "      <td>NaN</td>\n",
       "    </tr>\n",
       "    <tr>\n",
       "      <th>ENGINESIZE</th>\n",
       "      <td>NaN</td>\n",
       "      <td>1.000000</td>\n",
       "      <td>0.934011</td>\n",
       "      <td>0.832225</td>\n",
       "      <td>0.778746</td>\n",
       "      <td>0.819482</td>\n",
       "      <td>-0.808554</td>\n",
       "      <td>0.874154</td>\n",
       "    </tr>\n",
       "    <tr>\n",
       "      <th>CYLINDERS</th>\n",
       "      <td>NaN</td>\n",
       "      <td>0.934011</td>\n",
       "      <td>1.000000</td>\n",
       "      <td>0.796473</td>\n",
       "      <td>0.724594</td>\n",
       "      <td>0.776788</td>\n",
       "      <td>-0.770430</td>\n",
       "      <td>0.849685</td>\n",
       "    </tr>\n",
       "    <tr>\n",
       "      <th>FUELCONSUMPTION_CITY</th>\n",
       "      <td>NaN</td>\n",
       "      <td>0.832225</td>\n",
       "      <td>0.796473</td>\n",
       "      <td>1.000000</td>\n",
       "      <td>0.965718</td>\n",
       "      <td>0.995542</td>\n",
       "      <td>-0.935613</td>\n",
       "      <td>0.898039</td>\n",
       "    </tr>\n",
       "    <tr>\n",
       "      <th>FUELCONSUMPTION_HWY</th>\n",
       "      <td>NaN</td>\n",
       "      <td>0.778746</td>\n",
       "      <td>0.724594</td>\n",
       "      <td>0.965718</td>\n",
       "      <td>1.000000</td>\n",
       "      <td>0.985804</td>\n",
       "      <td>-0.893809</td>\n",
       "      <td>0.861748</td>\n",
       "    </tr>\n",
       "    <tr>\n",
       "      <th>FUELCONSUMPTION_COMB</th>\n",
       "      <td>NaN</td>\n",
       "      <td>0.819482</td>\n",
       "      <td>0.776788</td>\n",
       "      <td>0.995542</td>\n",
       "      <td>0.985804</td>\n",
       "      <td>1.000000</td>\n",
       "      <td>-0.927965</td>\n",
       "      <td>0.892129</td>\n",
       "    </tr>\n",
       "    <tr>\n",
       "      <th>FUELCONSUMPTION_COMB_MPG</th>\n",
       "      <td>NaN</td>\n",
       "      <td>-0.808554</td>\n",
       "      <td>-0.770430</td>\n",
       "      <td>-0.935613</td>\n",
       "      <td>-0.893809</td>\n",
       "      <td>-0.927965</td>\n",
       "      <td>1.000000</td>\n",
       "      <td>-0.906394</td>\n",
       "    </tr>\n",
       "    <tr>\n",
       "      <th>CO2EMISSIONS</th>\n",
       "      <td>NaN</td>\n",
       "      <td>0.874154</td>\n",
       "      <td>0.849685</td>\n",
       "      <td>0.898039</td>\n",
       "      <td>0.861748</td>\n",
       "      <td>0.892129</td>\n",
       "      <td>-0.906394</td>\n",
       "      <td>1.000000</td>\n",
       "    </tr>\n",
       "  </tbody>\n",
       "</table>\n",
       "</div>"
      ],
      "text/plain": [
       "                          MODELYEAR  ENGINESIZE  CYLINDERS  \\\n",
       "MODELYEAR                       NaN         NaN        NaN   \n",
       "ENGINESIZE                      NaN    1.000000   0.934011   \n",
       "CYLINDERS                       NaN    0.934011   1.000000   \n",
       "FUELCONSUMPTION_CITY            NaN    0.832225   0.796473   \n",
       "FUELCONSUMPTION_HWY             NaN    0.778746   0.724594   \n",
       "FUELCONSUMPTION_COMB            NaN    0.819482   0.776788   \n",
       "FUELCONSUMPTION_COMB_MPG        NaN   -0.808554  -0.770430   \n",
       "CO2EMISSIONS                    NaN    0.874154   0.849685   \n",
       "\n",
       "                          FUELCONSUMPTION_CITY  FUELCONSUMPTION_HWY  \\\n",
       "MODELYEAR                                  NaN                  NaN   \n",
       "ENGINESIZE                            0.832225             0.778746   \n",
       "CYLINDERS                             0.796473             0.724594   \n",
       "FUELCONSUMPTION_CITY                  1.000000             0.965718   \n",
       "FUELCONSUMPTION_HWY                   0.965718             1.000000   \n",
       "FUELCONSUMPTION_COMB                  0.995542             0.985804   \n",
       "FUELCONSUMPTION_COMB_MPG             -0.935613            -0.893809   \n",
       "CO2EMISSIONS                          0.898039             0.861748   \n",
       "\n",
       "                          FUELCONSUMPTION_COMB  FUELCONSUMPTION_COMB_MPG  \\\n",
       "MODELYEAR                                  NaN                       NaN   \n",
       "ENGINESIZE                            0.819482                 -0.808554   \n",
       "CYLINDERS                             0.776788                 -0.770430   \n",
       "FUELCONSUMPTION_CITY                  0.995542                 -0.935613   \n",
       "FUELCONSUMPTION_HWY                   0.985804                 -0.893809   \n",
       "FUELCONSUMPTION_COMB                  1.000000                 -0.927965   \n",
       "FUELCONSUMPTION_COMB_MPG             -0.927965                  1.000000   \n",
       "CO2EMISSIONS                          0.892129                 -0.906394   \n",
       "\n",
       "                          CO2EMISSIONS  \n",
       "MODELYEAR                          NaN  \n",
       "ENGINESIZE                    0.874154  \n",
       "CYLINDERS                     0.849685  \n",
       "FUELCONSUMPTION_CITY          0.898039  \n",
       "FUELCONSUMPTION_HWY           0.861748  \n",
       "FUELCONSUMPTION_COMB          0.892129  \n",
       "FUELCONSUMPTION_COMB_MPG     -0.906394  \n",
       "CO2EMISSIONS                  1.000000  "
      ]
     },
     "execution_count": 5,
     "metadata": {},
     "output_type": "execute_result"
    }
   ],
   "source": [
    "df.corr() # aralarındaki korelasyon"
   ]
  },
  {
   "cell_type": "code",
   "execution_count": 6,
   "id": "e0b2cf5f-373e-4784-badd-4c2e30fba33a",
   "metadata": {},
   "outputs": [
    {
     "data": {
      "image/png": "[encoded data removed]",
      "text/plain": [
       "<Figure size 432x288 with 9 Axes>"
      ]
     },
     "metadata": {
      "needs_background": "light"
     },
     "output_type": "display_data"
    }
   ],
   "source": [
    "df.hist(); # degiskenlerin dagılımı"
   ]
  },
  {
   "cell_type": "code",
   "execution_count": 7,
   "id": "84f79eaf-a3ed-49d3-acfc-1b7b4609565c",
   "metadata": {},
   "outputs": [
    {
     "data": {
      "image/png": "[encoded data removed]",
      "text/plain": [
       "<Figure size 360x360 with 1 Axes>"
      ]
     },
     "metadata": {
      "needs_background": "light"
     },
     "output_type": "display_data"
    }
   ],
   "source": [
    "sns.lmplot(x = \"ENGINESIZE\", y = \"CO2EMISSIONS\", data = df, scatter_kws = {'s': 22, 'color': 'r', 'alpha':0.4}, line_kws = {'color' : 'blue', 'lw': 1})\n",
    "plt.xlabel('Engine size')\n",
    "plt.ylabel('Co2 emissions');"
   ]
  },
  {
   "cell_type": "code",
   "execution_count": 8,
   "id": "993f2af2-ec69-41ba-ad14-8962be8fdf19",
   "metadata": {},
   "outputs": [
    {
     "data": {
      "image/png": "[encoded data removed]",
      "text/plain": [
       "<Figure size 432x288 with 1 Axes>"
      ]
     },
     "metadata": {
      "needs_background": "light"
     },
     "output_type": "display_data"
    }
   ],
   "source": [
    "sns.regplot(x = \"ENGINESIZE\", y = \"CO2EMISSIONS\", data = df, scatter_kws = {'s': 30, 'color': 'purple', 'alpha':0.4}, line_kws = {'color' : 'k', 'lw': 2});"
   ]
  },
  {
   "cell_type": "markdown",
   "id": "77331afa-66e9-479a-9f9b-9669296cd020",
   "metadata": {
    "jp-MarkdownHeadingCollapsed": true,
    "tags": []
   },
   "source": [
    "### Statsmodels İle Modelleme"
   ]
  },
  {
   "cell_type": "code",
   "execution_count": 9,
   "id": "773a172b-8c98-4e96-90ad-d1549c89f797",
   "metadata": {},
   "outputs": [
    {
     "name": "stdout",
     "output_type": "stream",
     "text": [
      "                            OLS Regression Results                            \n",
      "==============================================================================\n",
      "Dep. Variable:           CO2EMISSIONS   R-squared:                       0.864\n",
      "Model:                            OLS   Adj. R-squared:                  0.864\n",
      "Method:                 Least Squares   F-statistic:                     1350.\n",
      "Date:                Fri, 18 Feb 2022   Prob (F-statistic):               0.00\n",
      "Time:                        01:44:22   Log-Likelihood:                -4875.4\n",
      "No. Observations:                1067   AIC:                             9763.\n",
      "Df Residuals:                    1061   BIC:                             9793.\n",
      "Df Model:                           5                                         \n",
      "Covariance Type:            nonrobust                                         \n",
      "========================================================================================\n",
      "                           coef    std err          t      P>|t|      [0.025      0.975]\n",
      "----------------------------------------------------------------------------------------\n",
      "const                   66.1478      3.320     19.926      0.000      59.634      72.662\n",
      "ENGINESIZE              10.9182      1.561      6.994      0.000       7.855      13.981\n",
      "CYLINDERS                7.2014      1.158      6.218      0.000       4.929       9.474\n",
      "FUELCONSUMPTION_CITY    -6.6906     13.770     -0.486      0.627     -33.710      20.328\n",
      "FUELCONSUMPTION_HWY     -7.2416     11.350     -0.638      0.524     -29.513      15.030\n",
      "FUELCONSUMPTION_COMB    23.2615     25.037      0.929      0.353     -25.866      72.389\n",
      "==============================================================================\n",
      "Omnibus:                       49.965   Durbin-Watson:                   1.807\n",
      "Prob(Omnibus):                  0.000   Jarque-Bera (JB):               77.191\n",
      "Skew:                          -0.392   Prob(JB):                     1.73e-17\n",
      "Kurtosis:                       4.059   Cond. No.                         945.\n",
      "==============================================================================\n",
      "\n",
      "Notes:\n",
      "[1] Standard Errors assume that the covariance matrix of the errors is correctly specified.\n",
      "***********************************************\n",
      "Modelin anlamlılıgı (p-value < 0.05 ise anlamlıdır):  0.0\n",
      "Modelin basarı yüzdesi (r-squared):  86.41751789540444\n",
      "Modelin hata kareler ortalaması (MSE):  544.9679057866376\n",
      "Modelin hata degeri (RMSE):  23.34454766720995\n",
      "Model denkleminin katsayıları: \n",
      " const                   66.147827\n",
      "ENGINESIZE              10.918179\n",
      "CYLINDERS                7.201397\n",
      "FUELCONSUMPTION_CITY    -6.690605\n",
      "FUELCONSUMPTION_HWY     -7.241631\n",
      "FUELCONSUMPTION_COMB    23.261483\n",
      "dtype: float64\n"
     ]
    }
   ],
   "source": [
    "# bagımısız degiskenler sürekli olmalı\n",
    "X = df[['ENGINESIZE', 'CYLINDERS', 'FUELCONSUMPTION_CITY', 'FUELCONSUMPTION_HWY', 'FUELCONSUMPTION_COMB']]\n",
    "y = df['CO2EMISSIONS'] # bagımlı degisken\n",
    "\n",
    "# model nesnesini olusturulması ve fit edilmesi\n",
    "X = sm.add_constant(X)\n",
    "lm = sm.OLS(y, X)\n",
    "model = lm.fit()\n",
    "\n",
    "# hata degerleri\n",
    "ypred = model.predict(X)\n",
    "mse = np.mean((y - ypred) ** 2) # MSE\n",
    "rmse = np.sqrt(mse) # RMSE\n",
    "rscore = model.rsquared # r-squared\n",
    "pvalue = model.f_pvalue # p-value\n",
    "\n",
    "print(model.summary())\n",
    "print(\"***********************************************\")\n",
    "print(\"Modelin anlamlılıgı (p-value < 0.05 ise anlamlıdır): \", pvalue)\n",
    "print(\"Modelin basarı yüzdesi (r-squared): \", rscore * 100)\n",
    "print(\"Modelin hata kareler ortalaması (MSE): \", mse)\n",
    "print(\"Modelin hata degeri (RMSE): \", rmse)\n",
    "print(\"Model denkleminin katsayıları: \\n\", model.params)"
   ]
  },
  {
   "cell_type": "code",
   "execution_count": 10,
   "id": "d51b0770-d4f6-4b51-bceb-fe73ad7b1f33",
   "metadata": {},
   "outputs": [],
   "source": [
    "# Örnek tahmin,\n",
    "# enginesize = 2.1, cylinders = 5, fc_city = 9.3, fc_hwy = 6.8, fc_comb = 10.4 olursa co2emission degeri ne olur?"
   ]
  },
  {
   "cell_type": "code",
   "execution_count": 11,
   "id": "7e1c3329-f6bc-46d6-bd9c-c2b2f168a393",
   "metadata": {},
   "outputs": [
    {
     "data": {
      "text/plain": [
       "0    196\n",
       "1    221\n",
       "2    136\n",
       "3    255\n",
       "4    244\n",
       "Name: CO2EMISSIONS, dtype: int64"
      ]
     },
     "execution_count": 11,
     "metadata": {},
     "output_type": "execute_result"
    }
   ],
   "source": [
    "y.head() # y gercek degerleri"
   ]
  },
  {
   "cell_type": "code",
   "execution_count": 12,
   "id": "78c40791-0521-4ae8-a51a-7a7e61aef6d9",
   "metadata": {},
   "outputs": [
    {
     "data": {
      "text/plain": [
       "0    199.756470\n",
       "1    213.771957\n",
       "2    166.428350\n",
       "3    254.902784\n",
       "4    250.183057\n",
       "dtype: float64"
      ]
     },
     "execution_count": 12,
     "metadata": {},
     "output_type": "execute_result"
    }
   ],
   "source": [
    "model.predict(X)[0:5] # bagımsız degiskenler ile edilen y tahmin degerleri"
   ]
  },
  {
   "cell_type": "code",
   "execution_count": 13,
   "id": "b1701860-4a6c-4470-b1b1-c7dda74e4879",
   "metadata": {},
   "outputs": [
    {
     "data": {
      "text/plain": [
       "array([255.53670387])"
      ]
     },
     "execution_count": 13,
     "metadata": {},
     "output_type": "execute_result"
    }
   ],
   "source": [
    "tahmin = [[1, 2.1, 5, 9.3, 6.8, 10.4]] # sabit degerin katsayı degeri 1 olarak verilmeli!\n",
    "model.predict(tahmin)"
   ]
  },
  {
   "cell_type": "markdown",
   "id": "b67a861f-803e-4676-8323-aeff506d6c41",
   "metadata": {
    "jp-MarkdownHeadingCollapsed": true,
    "tags": []
   },
   "source": [
    "### ScikitLearn İle Modelleme"
   ]
  },
  {
   "cell_type": "code",
   "execution_count": 14,
   "id": "37ceb432-f61e-46cf-9c28-ea7e4cd3675f",
   "metadata": {},
   "outputs": [
    {
     "name": "stdout",
     "output_type": "stream",
     "text": [
      "Modelin basarı yüzdesi (r-squared):  86.06754712260789\n",
      "Modelin hata kareler ortalaması (MSE):  511.36521872802297\n",
      "Modelin hata degeri (RMSE):  22.613385830698217\n",
      "Model denkleminin degerleri; \n",
      " constant = [67.68380015] \n",
      " katsayılar = [11.24245948  7.01602813 -8.28459694 -7.5814794  25.26626471]\n"
     ]
    }
   ],
   "source": [
    "X = df[['ENGINESIZE', 'CYLINDERS', 'FUELCONSUMPTION_CITY', 'FUELCONSUMPTION_HWY', 'FUELCONSUMPTION_COMB']] # bagımsız degiskenler\n",
    "y = df[['CO2EMISSIONS']] # bagımlı degisken\n",
    "\n",
    "# %80 egitim seti, %20 test seti,\n",
    "X_train, X_test, y_train, y_test = train_test_split(X,\n",
    "                                                   y,\n",
    "                                                   test_size = 0.20,\n",
    "                                                   random_state = 42)\n",
    "# model nesenesinin olsuturulması ve fit edilmesi\n",
    "lm = LinearRegression()\n",
    "model = lm.fit(X_train, y_train)\n",
    "\n",
    "# hata degerleri\n",
    "ypred = model.predict(X_test)\n",
    "mse = mean_squared_error(y_test, ypred) # MSE\n",
    "rmse = np.sqrt(mse) # RMSE\n",
    "rscore = model.score(X_train, y_train)\n",
    "\n",
    "print(\"Modelin basarı yüzdesi (r-squared): \", rscore * 100)\n",
    "print(\"Modelin hata kareler ortalaması (MSE): \", mse)\n",
    "print(\"Modelin hata degeri (RMSE): \", rmse)\n",
    "print(f\"Model denkleminin degerleri; \\n constant = {model.intercept_} \\n katsayılar = {model.coef_[0]}\")"
   ]
  },
  {
   "cell_type": "code",
   "execution_count": 15,
   "id": "1d6672c2-5863-49a3-bce2-3da35686c272",
   "metadata": {},
   "outputs": [],
   "source": [
    "# Örnek tahmin,\n",
    "# enginesize = 2.1, cylinders = 5, fc_city = 9.3, fc_hwy = 6.8, fc_comb = 10.4 olursa co2emission degeri ne olur?"
   ]
  },
  {
   "cell_type": "code",
   "execution_count": 16,
   "id": "5a26e9c5-9f44-496c-9dc9-2a5001140c1d",
   "metadata": {},
   "outputs": [
    {
     "data": {
      "text/html": [
       "<div>\n",
       "<style scoped>\n",
       "    .dataframe tbody tr th:only-of-type {\n",
       "        vertical-align: middle;\n",
       "    }\n",
       "\n",
       "    .dataframe tbody tr th {\n",
       "        vertical-align: top;\n",
       "    }\n",
       "\n",
       "    .dataframe thead th {\n",
       "        text-align: right;\n",
       "    }\n",
       "</style>\n",
       "<table border=\"1\" class=\"dataframe\">\n",
       "  <thead>\n",
       "    <tr style=\"text-align: right;\">\n",
       "      <th></th>\n",
       "      <th>CO2EMISSIONS</th>\n",
       "    </tr>\n",
       "  </thead>\n",
       "  <tbody>\n",
       "    <tr>\n",
       "      <th>0</th>\n",
       "      <td>196</td>\n",
       "    </tr>\n",
       "    <tr>\n",
       "      <th>1</th>\n",
       "      <td>221</td>\n",
       "    </tr>\n",
       "    <tr>\n",
       "      <th>2</th>\n",
       "      <td>136</td>\n",
       "    </tr>\n",
       "    <tr>\n",
       "      <th>3</th>\n",
       "      <td>255</td>\n",
       "    </tr>\n",
       "    <tr>\n",
       "      <th>4</th>\n",
       "      <td>244</td>\n",
       "    </tr>\n",
       "  </tbody>\n",
       "</table>\n",
       "</div>"
      ],
      "text/plain": [
       "   CO2EMISSIONS\n",
       "0           196\n",
       "1           221\n",
       "2           136\n",
       "3           255\n",
       "4           244"
      ]
     },
     "execution_count": 16,
     "metadata": {},
     "output_type": "execute_result"
    }
   ],
   "source": [
    "y.head() # gercek y degerleri"
   ]
  },
  {
   "cell_type": "code",
   "execution_count": 17,
   "id": "d7dcd666-e6b9-48cf-ba72-1ccd43a0f233",
   "metadata": {},
   "outputs": [
    {
     "data": {
      "text/plain": [
       "array([[303.73610032],\n",
       "       [240.44952949],\n",
       "       [273.50695152],\n",
       "       [236.27428387],\n",
       "       [204.81244243]])"
      ]
     },
     "execution_count": 17,
     "metadata": {},
     "output_type": "execute_result"
    }
   ],
   "source": [
    "ypred[0:5] # tahmin y degerleri"
   ]
  },
  {
   "cell_type": "code",
   "execution_count": 18,
   "id": "407aacae-185b-4e46-8d7a-31e22d3f01e3",
   "metadata": {},
   "outputs": [
    {
     "data": {
      "text/plain": [
       "array([[260.54144725]])"
      ]
     },
     "execution_count": 18,
     "metadata": {},
     "output_type": "execute_result"
    }
   ],
   "source": [
    "tahmin = [[2.1, 5, 9.3, 6.8, 10.4]] # sabit degerin katsayı degeri 1 olarak verilmeli!\n",
    "model.predict(tahmin)"
   ]
  },
  {
   "cell_type": "code",
   "execution_count": 19,
   "id": "ad40973a-acfd-4ba8-b7ba-f8c73bfb3dae",
   "metadata": {},
   "outputs": [
    {
     "data": {
      "image/png": "[encoded data removed]",
      "text/plain": [
       "<Figure size 432x288 with 1 Axes>"
      ]
     },
     "metadata": {
      "needs_background": "light"
     },
     "output_type": "display_data"
    }
   ],
   "source": [
    "# Görsellestirme\n",
    "plt.scatter(X_test['ENGINESIZE'], ypred)\n",
    "plt.scatter(X_test['CYLINDERS'], ypred)\n",
    "plt.scatter(X_test['FUELCONSUMPTION_CITY'], ypred)\n",
    "plt.scatter(X_test['FUELCONSUMPTION_HWY'], ypred)\n",
    "plt.scatter(X_test['FUELCONSUMPTION_COMB'], ypred)\n",
    "plt.xlabel('Bagımsız Degiskenler')\n",
    "plt.ylabel('Bagımlı Degisken')\n",
    "plt.title('Model Graifigi');"
   ]
  },
  {
   "cell_type": "markdown",
   "id": "ea241d02-b7c5-407c-9a31-6a63b5718aec",
   "metadata": {},
   "source": [
    "#### Model Tuning / Model Dogrulama"
   ]
  },
  {
   "cell_type": "code",
   "execution_count": 20,
   "id": "2d1a89c8-a1bf-4f5d-9185-26a1249e9208",
   "metadata": {},
   "outputs": [
    {
     "name": "stdout",
     "output_type": "stream",
     "text": [
      "Valide edilmis modelin basarı yüzdesi:  85.58275368456071\n",
      "Valide edilmis modelin hata degeri:  23.035879133825702\n"
     ]
    }
   ],
   "source": [
    "# cross validation\n",
    "rscore_cv = cross_val_score(model, X_train, y_train, cv = 10, scoring = \"r2\").mean()\n",
    "rmse_cv = np.sqrt(-cross_val_score(model, X_test, y_test, cv = 10, scoring = \"neg_mean_squared_error\")).mean()\n",
    "\n",
    "print(\"Valide edilmis modelin basarı yüzdesi: \", rscore_cv * 100)\n",
    "print(\"Valide edilmis modelin hata degeri: \", rmse_cv)"
   ]
  },
  {
   "cell_type": "markdown",
   "id": "ccd5e2c4-8e57-455b-8f29-fcf9dc71e57b",
   "metadata": {
    "jp-MarkdownHeadingCollapsed": true,
    "tags": []
   },
   "source": [
    "### Sonuç"
   ]
  },
  {
   "cell_type": "markdown",
   "id": "821b6a3f-15f8-40ef-9627-7d6cd65735f1",
   "metadata": {},
   "source": [
    "* Statsmodels ile elde edilen degerler;\n",
    "    * Modelin anlamlılıgı (p-value < 0.05 ise anlamlıdır):  0.0\n",
    "    * Modelin basarı yüzdesi (r-squared):  **86.41751789540444**\n",
    "    * Modelin hata kareler ortalaması (MSE):  544.9679057866376\n",
    "    * Modelin hata degeri (RMSE):  **23.34454766720995**\n",
    "    * Model denkleminin katsayıları: \n",
    "        * const                   66.147827\n",
    "        * ENGINESIZE              10.918179\n",
    "        * CYLINDERS                7.201397\n",
    "        * FUELCONSUMPTION_CITY    -6.690605\n",
    "        * FUELCONSUMPTION_HWY     -7.241631\n",
    "        * FUELCONSUMPTION_COMB    23.261483\n",
    "* ScikitLearn (egitim ve test seti üzerinde) ile elde edilen degerler;\n",
    "    * Modelin basarı yüzdesi (r-squared):  **86.06754712260789**\n",
    "    * Modelin hata kareler ortalaması (MSE):  511.36521872802297\n",
    "    * Modelin hata degeri (RMSE):  **22.613385830698217**\n",
    "    * Model denkleminin degerleri: \n",
    "        * constant = [67.68380015] \n",
    "        * katsayılar = [11.24245948  7.01602813 -8.28459694 -7.5814794  25.26626471]\n",
    "    * Valide edilmis modelin basarı yüzdesi:  **85.58275368456071**\n",
    "    * Valide edilmis modelin hata degeri:  **23.035879133825702**"
   ]
  },
  {
   "cell_type": "code",
   "execution_count": null,
   "id": "37285db8-0282-4359-b959-a3267969f0a5",
   "metadata": {},
   "outputs": [],
   "source": []
  }
 ],
 "metadata": {
  "kernelspec": {
   "display_name": "Python 3 (ipykernel)",
   "language": "python",
   "name": "python3"
  },
  "language_info": {
   "codemirror_mode": {
    "name": "ipython",
    "version": 3
   },
   "file_extension": ".py",
   "mimetype": "text/x-python",
   "name": "python",
   "nbconvert_exporter": "python",
   "pygments_lexer": "ipython3",
   "version": "3.8.10"
  }
 },
 "nbformat": 4,
 "nbformat_minor": 5
}
