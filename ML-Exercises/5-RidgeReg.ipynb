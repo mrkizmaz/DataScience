{
 "cells": [
  {
   "cell_type": "markdown",
   "id": "964c7c69-0950-4878-bf2f-fb9183c7f5c4",
   "metadata": {},
   "source": [
    "# 5- Sırt Regreyonu / Ridge Regression - Alıştırmalar"
   ]
  },
  {
   "cell_type": "code",
   "execution_count": 1,
   "id": "e5f0030f",
   "metadata": {},
   "outputs": [],
   "source": [
    "# 2. Alıştırma eklendi!"
   ]
  },
  {
   "cell_type": "markdown",
   "id": "206e0a7e-ef07-460d-afba-10594920ca56",
   "metadata": {
    "tags": []
   },
   "source": [
    "## ALIŞTIRMA - 1"
   ]
  },
  {
   "cell_type": "markdown",
   "id": "1ec0ffba-30dd-47c4-a2ff-f76bd21593e0",
   "metadata": {
    "jp-MarkdownHeadingCollapsed": true,
    "tags": []
   },
   "source": [
    "### Verisetinin İncelenmesi ve Manipüle Edilmesi"
   ]
  },
  {
   "cell_type": "code",
   "execution_count": 2,
   "id": "58068101-e5ed-4cbf-918d-c0a9e87d6f60",
   "metadata": {},
   "outputs": [],
   "source": [
    "# Gerekli kütüphanelerin dahil edilmesi,\n",
    "import pandas as pd\n",
    "import numpy as np\n",
    "import seaborn as sns\n",
    "import matplotlib.pyplot as plt\n",
    "from sklearn.linear_model import Ridge, RidgeCV\n",
    "from sklearn.model_selection import train_test_split, cross_val_score\n",
    "from sklearn.metrics import mean_squared_error, r2_score\n",
    "\n",
    "import warnings\n",
    "warnings.filterwarnings(\"ignore\", category=UserWarning)"
   ]
  },
  {
   "cell_type": "markdown",
   "id": "bced9b12-5ec4-494f-b9ba-b385ee54736e",
   "metadata": {},
   "source": [
    "* Verisetini [buradan](https://mrkizmaz-s3data.s3.eu-west-1.amazonaws.com/DataSets/FuelConsumption.csv) indirebilirsiniz."
   ]
  },
  {
   "cell_type": "code",
   "execution_count": 2,
   "id": "cf710143-25f0-4817-b9e0-68aa9a526c14",
   "metadata": {},
   "outputs": [
    {
     "data": {
      "text/html": [
       "<div>\n",
       "<style scoped>\n",
       "    .dataframe tbody tr th:only-of-type {\n",
       "        vertical-align: middle;\n",
       "    }\n",
       "\n",
       "    .dataframe tbody tr th {\n",
       "        vertical-align: top;\n",
       "    }\n",
       "\n",
       "    .dataframe thead th {\n",
       "        text-align: right;\n",
       "    }\n",
       "</style>\n",
       "<table border=\"1\" class=\"dataframe\">\n",
       "  <thead>\n",
       "    <tr style=\"text-align: right;\">\n",
       "      <th></th>\n",
       "      <th>MODELYEAR</th>\n",
       "      <th>MAKE</th>\n",
       "      <th>MODEL</th>\n",
       "      <th>VEHICLECLASS</th>\n",
       "      <th>ENGINESIZE</th>\n",
       "      <th>CYLINDERS</th>\n",
       "      <th>TRANSMISSION</th>\n",
       "      <th>FUELTYPE</th>\n",
       "      <th>FUELCONSUMPTION_CITY</th>\n",
       "      <th>FUELCONSUMPTION_HWY</th>\n",
       "      <th>FUELCONSUMPTION_COMB</th>\n",
       "      <th>FUELCONSUMPTION_COMB_MPG</th>\n",
       "      <th>CO2EMISSIONS</th>\n",
       "    </tr>\n",
       "  </thead>\n",
       "  <tbody>\n",
       "    <tr>\n",
       "      <th>0</th>\n",
       "      <td>2014</td>\n",
       "      <td>ACURA</td>\n",
       "      <td>ILX</td>\n",
       "      <td>COMPACT</td>\n",
       "      <td>2.0</td>\n",
       "      <td>4</td>\n",
       "      <td>AS5</td>\n",
       "      <td>Z</td>\n",
       "      <td>9.9</td>\n",
       "      <td>6.7</td>\n",
       "      <td>8.5</td>\n",
       "      <td>33</td>\n",
       "      <td>196</td>\n",
       "    </tr>\n",
       "    <tr>\n",
       "      <th>1</th>\n",
       "      <td>2014</td>\n",
       "      <td>ACURA</td>\n",
       "      <td>ILX</td>\n",
       "      <td>COMPACT</td>\n",
       "      <td>2.4</td>\n",
       "      <td>4</td>\n",
       "      <td>M6</td>\n",
       "      <td>Z</td>\n",
       "      <td>11.2</td>\n",
       "      <td>7.7</td>\n",
       "      <td>9.6</td>\n",
       "      <td>29</td>\n",
       "      <td>221</td>\n",
       "    </tr>\n",
       "    <tr>\n",
       "      <th>2</th>\n",
       "      <td>2014</td>\n",
       "      <td>ACURA</td>\n",
       "      <td>ILX HYBRID</td>\n",
       "      <td>COMPACT</td>\n",
       "      <td>1.5</td>\n",
       "      <td>4</td>\n",
       "      <td>AV7</td>\n",
       "      <td>Z</td>\n",
       "      <td>6.0</td>\n",
       "      <td>5.8</td>\n",
       "      <td>5.9</td>\n",
       "      <td>48</td>\n",
       "      <td>136</td>\n",
       "    </tr>\n",
       "    <tr>\n",
       "      <th>3</th>\n",
       "      <td>2014</td>\n",
       "      <td>ACURA</td>\n",
       "      <td>MDX 4WD</td>\n",
       "      <td>SUV - SMALL</td>\n",
       "      <td>3.5</td>\n",
       "      <td>6</td>\n",
       "      <td>AS6</td>\n",
       "      <td>Z</td>\n",
       "      <td>12.7</td>\n",
       "      <td>9.1</td>\n",
       "      <td>11.1</td>\n",
       "      <td>25</td>\n",
       "      <td>255</td>\n",
       "    </tr>\n",
       "    <tr>\n",
       "      <th>4</th>\n",
       "      <td>2014</td>\n",
       "      <td>ACURA</td>\n",
       "      <td>RDX AWD</td>\n",
       "      <td>SUV - SMALL</td>\n",
       "      <td>3.5</td>\n",
       "      <td>6</td>\n",
       "      <td>AS6</td>\n",
       "      <td>Z</td>\n",
       "      <td>12.1</td>\n",
       "      <td>8.7</td>\n",
       "      <td>10.6</td>\n",
       "      <td>27</td>\n",
       "      <td>244</td>\n",
       "    </tr>\n",
       "  </tbody>\n",
       "</table>\n",
       "</div>"
      ],
      "text/plain": [
       "   MODELYEAR   MAKE       MODEL VEHICLECLASS  ENGINESIZE  CYLINDERS  \\\n",
       "0       2014  ACURA         ILX      COMPACT         2.0          4   \n",
       "1       2014  ACURA         ILX      COMPACT         2.4          4   \n",
       "2       2014  ACURA  ILX HYBRID      COMPACT         1.5          4   \n",
       "3       2014  ACURA     MDX 4WD  SUV - SMALL         3.5          6   \n",
       "4       2014  ACURA     RDX AWD  SUV - SMALL         3.5          6   \n",
       "\n",
       "  TRANSMISSION FUELTYPE  FUELCONSUMPTION_CITY  FUELCONSUMPTION_HWY  \\\n",
       "0          AS5        Z                   9.9                  6.7   \n",
       "1           M6        Z                  11.2                  7.7   \n",
       "2          AV7        Z                   6.0                  5.8   \n",
       "3          AS6        Z                  12.7                  9.1   \n",
       "4          AS6        Z                  12.1                  8.7   \n",
       "\n",
       "   FUELCONSUMPTION_COMB  FUELCONSUMPTION_COMB_MPG  CO2EMISSIONS  \n",
       "0                   8.5                        33           196  \n",
       "1                   9.6                        29           221  \n",
       "2                   5.9                        48           136  \n",
       "3                  11.1                        25           255  \n",
       "4                  10.6                        27           244  "
      ]
     },
     "execution_count": 2,
     "metadata": {},
     "output_type": "execute_result"
    }
   ],
   "source": [
    "url = \"https://mrkizmaz-s3data.s3.eu-west-1.amazonaws.com/DataSets/FuelConsumption.csv\"\n",
    "\n",
    "fuelcons = pd.read_csv(url)\n",
    "df = fuelcons.copy()\n",
    "df.head()"
   ]
  },
  {
   "cell_type": "code",
   "execution_count": 3,
   "id": "0a30c036-e048-4140-923b-099d72a7f9bf",
   "metadata": {},
   "outputs": [
    {
     "data": {
      "text/plain": [
       "False"
      ]
     },
     "execution_count": 3,
     "metadata": {},
     "output_type": "execute_result"
    }
   ],
   "source": [
    "df.isnull().values.any() # verisetinde bos degerler var mı?"
   ]
  },
  {
   "cell_type": "code",
   "execution_count": 4,
   "id": "776609dc-033b-4c0a-8641-ff4698a1f556",
   "metadata": {},
   "outputs": [
    {
     "name": "stdout",
     "output_type": "stream",
     "text": [
      "<class 'pandas.core.frame.DataFrame'>\n",
      "RangeIndex: 1067 entries, 0 to 1066\n",
      "Data columns (total 13 columns):\n",
      " #   Column                    Non-Null Count  Dtype  \n",
      "---  ------                    --------------  -----  \n",
      " 0   MODELYEAR                 1067 non-null   int64  \n",
      " 1   MAKE                      1067 non-null   object \n",
      " 2   MODEL                     1067 non-null   object \n",
      " 3   VEHICLECLASS              1067 non-null   object \n",
      " 4   ENGINESIZE                1067 non-null   float64\n",
      " 5   CYLINDERS                 1067 non-null   int64  \n",
      " 6   TRANSMISSION              1067 non-null   object \n",
      " 7   FUELTYPE                  1067 non-null   object \n",
      " 8   FUELCONSUMPTION_CITY      1067 non-null   float64\n",
      " 9   FUELCONSUMPTION_HWY       1067 non-null   float64\n",
      " 10  FUELCONSUMPTION_COMB      1067 non-null   float64\n",
      " 11  FUELCONSUMPTION_COMB_MPG  1067 non-null   int64  \n",
      " 12  CO2EMISSIONS              1067 non-null   int64  \n",
      "dtypes: float64(4), int64(4), object(5)\n",
      "memory usage: 108.5+ KB\n"
     ]
    }
   ],
   "source": [
    "df.info() # verisetinin bilgi cıktısını verir"
   ]
  },
  {
   "cell_type": "code",
   "execution_count": 5,
   "id": "2e4e9bc7-3a15-4611-a0dc-c7c2049a9a1a",
   "metadata": {},
   "outputs": [],
   "source": [
    "# modelyear veriseti bilgisinde int olarak görünüyor, aslında datetime olması gerekir.\n",
    "df[\"MODELYEAR\"] = pd.to_datetime(df[\"MODELYEAR\"]) "
   ]
  },
  {
   "cell_type": "code",
   "execution_count": 6,
   "id": "fd851229-bcd3-4007-84c0-8ced2330ba1c",
   "metadata": {},
   "outputs": [
    {
     "name": "stdout",
     "output_type": "stream",
     "text": [
      "<class 'pandas.core.frame.DataFrame'>\n",
      "RangeIndex: 1067 entries, 0 to 1066\n",
      "Data columns (total 13 columns):\n",
      " #   Column                    Non-Null Count  Dtype         \n",
      "---  ------                    --------------  -----         \n",
      " 0   MODELYEAR                 1067 non-null   datetime64[ns]\n",
      " 1   MAKE                      1067 non-null   object        \n",
      " 2   MODEL                     1067 non-null   object        \n",
      " 3   VEHICLECLASS              1067 non-null   object        \n",
      " 4   ENGINESIZE                1067 non-null   float64       \n",
      " 5   CYLINDERS                 1067 non-null   int64         \n",
      " 6   TRANSMISSION              1067 non-null   object        \n",
      " 7   FUELTYPE                  1067 non-null   object        \n",
      " 8   FUELCONSUMPTION_CITY      1067 non-null   float64       \n",
      " 9   FUELCONSUMPTION_HWY       1067 non-null   float64       \n",
      " 10  FUELCONSUMPTION_COMB      1067 non-null   float64       \n",
      " 11  FUELCONSUMPTION_COMB_MPG  1067 non-null   int64         \n",
      " 12  CO2EMISSIONS              1067 non-null   int64         \n",
      "dtypes: datetime64[ns](1), float64(4), int64(3), object(5)\n",
      "memory usage: 108.5+ KB\n"
     ]
    }
   ],
   "source": [
    "df.info()"
   ]
  },
  {
   "cell_type": "code",
   "execution_count": 7,
   "id": "35ba8045-4f5e-4a37-890c-3f07ec59457f",
   "metadata": {},
   "outputs": [
    {
     "data": {
      "text/html": [
       "<div>\n",
       "<style scoped>\n",
       "    .dataframe tbody tr th:only-of-type {\n",
       "        vertical-align: middle;\n",
       "    }\n",
       "\n",
       "    .dataframe tbody tr th {\n",
       "        vertical-align: top;\n",
       "    }\n",
       "\n",
       "    .dataframe thead th {\n",
       "        text-align: right;\n",
       "    }\n",
       "</style>\n",
       "<table border=\"1\" class=\"dataframe\">\n",
       "  <thead>\n",
       "    <tr style=\"text-align: right;\">\n",
       "      <th></th>\n",
       "      <th>ENGINESIZE</th>\n",
       "      <th>CYLINDERS</th>\n",
       "      <th>FUELCONSUMPTION_CITY</th>\n",
       "      <th>FUELCONSUMPTION_HWY</th>\n",
       "      <th>FUELCONSUMPTION_COMB</th>\n",
       "      <th>FUELCONSUMPTION_COMB_MPG</th>\n",
       "      <th>CO2EMISSIONS</th>\n",
       "    </tr>\n",
       "  </thead>\n",
       "  <tbody>\n",
       "    <tr>\n",
       "      <th>count</th>\n",
       "      <td>1067.000000</td>\n",
       "      <td>1067.000000</td>\n",
       "      <td>1067.000000</td>\n",
       "      <td>1067.000000</td>\n",
       "      <td>1067.000000</td>\n",
       "      <td>1067.000000</td>\n",
       "      <td>1067.000000</td>\n",
       "    </tr>\n",
       "    <tr>\n",
       "      <th>mean</th>\n",
       "      <td>3.346298</td>\n",
       "      <td>5.794752</td>\n",
       "      <td>13.296532</td>\n",
       "      <td>9.474602</td>\n",
       "      <td>11.580881</td>\n",
       "      <td>26.441425</td>\n",
       "      <td>256.228679</td>\n",
       "    </tr>\n",
       "    <tr>\n",
       "      <th>std</th>\n",
       "      <td>1.415895</td>\n",
       "      <td>1.797447</td>\n",
       "      <td>4.101253</td>\n",
       "      <td>2.794510</td>\n",
       "      <td>3.485595</td>\n",
       "      <td>7.468702</td>\n",
       "      <td>63.372304</td>\n",
       "    </tr>\n",
       "    <tr>\n",
       "      <th>min</th>\n",
       "      <td>1.000000</td>\n",
       "      <td>3.000000</td>\n",
       "      <td>4.600000</td>\n",
       "      <td>4.900000</td>\n",
       "      <td>4.700000</td>\n",
       "      <td>11.000000</td>\n",
       "      <td>108.000000</td>\n",
       "    </tr>\n",
       "    <tr>\n",
       "      <th>25%</th>\n",
       "      <td>2.000000</td>\n",
       "      <td>4.000000</td>\n",
       "      <td>10.250000</td>\n",
       "      <td>7.500000</td>\n",
       "      <td>9.000000</td>\n",
       "      <td>21.000000</td>\n",
       "      <td>207.000000</td>\n",
       "    </tr>\n",
       "    <tr>\n",
       "      <th>50%</th>\n",
       "      <td>3.400000</td>\n",
       "      <td>6.000000</td>\n",
       "      <td>12.600000</td>\n",
       "      <td>8.800000</td>\n",
       "      <td>10.900000</td>\n",
       "      <td>26.000000</td>\n",
       "      <td>251.000000</td>\n",
       "    </tr>\n",
       "    <tr>\n",
       "      <th>75%</th>\n",
       "      <td>4.300000</td>\n",
       "      <td>8.000000</td>\n",
       "      <td>15.550000</td>\n",
       "      <td>10.850000</td>\n",
       "      <td>13.350000</td>\n",
       "      <td>31.000000</td>\n",
       "      <td>294.000000</td>\n",
       "    </tr>\n",
       "    <tr>\n",
       "      <th>max</th>\n",
       "      <td>8.400000</td>\n",
       "      <td>12.000000</td>\n",
       "      <td>30.200000</td>\n",
       "      <td>20.500000</td>\n",
       "      <td>25.800000</td>\n",
       "      <td>60.000000</td>\n",
       "      <td>488.000000</td>\n",
       "    </tr>\n",
       "  </tbody>\n",
       "</table>\n",
       "</div>"
      ],
      "text/plain": [
       "        ENGINESIZE    CYLINDERS  FUELCONSUMPTION_CITY  FUELCONSUMPTION_HWY  \\\n",
       "count  1067.000000  1067.000000           1067.000000          1067.000000   \n",
       "mean      3.346298     5.794752             13.296532             9.474602   \n",
       "std       1.415895     1.797447              4.101253             2.794510   \n",
       "min       1.000000     3.000000              4.600000             4.900000   \n",
       "25%       2.000000     4.000000             10.250000             7.500000   \n",
       "50%       3.400000     6.000000             12.600000             8.800000   \n",
       "75%       4.300000     8.000000             15.550000            10.850000   \n",
       "max       8.400000    12.000000             30.200000            20.500000   \n",
       "\n",
       "       FUELCONSUMPTION_COMB  FUELCONSUMPTION_COMB_MPG  CO2EMISSIONS  \n",
       "count           1067.000000               1067.000000   1067.000000  \n",
       "mean              11.580881                 26.441425    256.228679  \n",
       "std                3.485595                  7.468702     63.372304  \n",
       "min                4.700000                 11.000000    108.000000  \n",
       "25%                9.000000                 21.000000    207.000000  \n",
       "50%               10.900000                 26.000000    251.000000  \n",
       "75%               13.350000                 31.000000    294.000000  \n",
       "max               25.800000                 60.000000    488.000000  "
      ]
     },
     "execution_count": 7,
     "metadata": {},
     "output_type": "execute_result"
    }
   ],
   "source": [
    "df.describe() # degiskenlerin istatistiksel degerleri"
   ]
  },
  {
   "cell_type": "code",
   "execution_count": 8,
   "id": "e1f5545c-f928-4ab3-ba49-a7d74b5b6e05",
   "metadata": {},
   "outputs": [
    {
     "data": {
      "text/html": [
       "<div>\n",
       "<style scoped>\n",
       "    .dataframe tbody tr th:only-of-type {\n",
       "        vertical-align: middle;\n",
       "    }\n",
       "\n",
       "    .dataframe tbody tr th {\n",
       "        vertical-align: top;\n",
       "    }\n",
       "\n",
       "    .dataframe thead th {\n",
       "        text-align: right;\n",
       "    }\n",
       "</style>\n",
       "<table border=\"1\" class=\"dataframe\">\n",
       "  <thead>\n",
       "    <tr style=\"text-align: right;\">\n",
       "      <th></th>\n",
       "      <th>ENGINESIZE</th>\n",
       "      <th>CYLINDERS</th>\n",
       "      <th>FUELCONSUMPTION_CITY</th>\n",
       "      <th>FUELCONSUMPTION_HWY</th>\n",
       "      <th>FUELCONSUMPTION_COMB</th>\n",
       "      <th>FUELCONSUMPTION_COMB_MPG</th>\n",
       "      <th>CO2EMISSIONS</th>\n",
       "    </tr>\n",
       "  </thead>\n",
       "  <tbody>\n",
       "    <tr>\n",
       "      <th>ENGINESIZE</th>\n",
       "      <td>1.000000</td>\n",
       "      <td>0.934011</td>\n",
       "      <td>0.832225</td>\n",
       "      <td>0.778746</td>\n",
       "      <td>0.819482</td>\n",
       "      <td>-0.808554</td>\n",
       "      <td>0.874154</td>\n",
       "    </tr>\n",
       "    <tr>\n",
       "      <th>CYLINDERS</th>\n",
       "      <td>0.934011</td>\n",
       "      <td>1.000000</td>\n",
       "      <td>0.796473</td>\n",
       "      <td>0.724594</td>\n",
       "      <td>0.776788</td>\n",
       "      <td>-0.770430</td>\n",
       "      <td>0.849685</td>\n",
       "    </tr>\n",
       "    <tr>\n",
       "      <th>FUELCONSUMPTION_CITY</th>\n",
       "      <td>0.832225</td>\n",
       "      <td>0.796473</td>\n",
       "      <td>1.000000</td>\n",
       "      <td>0.965718</td>\n",
       "      <td>0.995542</td>\n",
       "      <td>-0.935613</td>\n",
       "      <td>0.898039</td>\n",
       "    </tr>\n",
       "    <tr>\n",
       "      <th>FUELCONSUMPTION_HWY</th>\n",
       "      <td>0.778746</td>\n",
       "      <td>0.724594</td>\n",
       "      <td>0.965718</td>\n",
       "      <td>1.000000</td>\n",
       "      <td>0.985804</td>\n",
       "      <td>-0.893809</td>\n",
       "      <td>0.861748</td>\n",
       "    </tr>\n",
       "    <tr>\n",
       "      <th>FUELCONSUMPTION_COMB</th>\n",
       "      <td>0.819482</td>\n",
       "      <td>0.776788</td>\n",
       "      <td>0.995542</td>\n",
       "      <td>0.985804</td>\n",
       "      <td>1.000000</td>\n",
       "      <td>-0.927965</td>\n",
       "      <td>0.892129</td>\n",
       "    </tr>\n",
       "    <tr>\n",
       "      <th>FUELCONSUMPTION_COMB_MPG</th>\n",
       "      <td>-0.808554</td>\n",
       "      <td>-0.770430</td>\n",
       "      <td>-0.935613</td>\n",
       "      <td>-0.893809</td>\n",
       "      <td>-0.927965</td>\n",
       "      <td>1.000000</td>\n",
       "      <td>-0.906394</td>\n",
       "    </tr>\n",
       "    <tr>\n",
       "      <th>CO2EMISSIONS</th>\n",
       "      <td>0.874154</td>\n",
       "      <td>0.849685</td>\n",
       "      <td>0.898039</td>\n",
       "      <td>0.861748</td>\n",
       "      <td>0.892129</td>\n",
       "      <td>-0.906394</td>\n",
       "      <td>1.000000</td>\n",
       "    </tr>\n",
       "  </tbody>\n",
       "</table>\n",
       "</div>"
      ],
      "text/plain": [
       "                          ENGINESIZE  CYLINDERS  FUELCONSUMPTION_CITY  \\\n",
       "ENGINESIZE                  1.000000   0.934011              0.832225   \n",
       "CYLINDERS                   0.934011   1.000000              0.796473   \n",
       "FUELCONSUMPTION_CITY        0.832225   0.796473              1.000000   \n",
       "FUELCONSUMPTION_HWY         0.778746   0.724594              0.965718   \n",
       "FUELCONSUMPTION_COMB        0.819482   0.776788              0.995542   \n",
       "FUELCONSUMPTION_COMB_MPG   -0.808554  -0.770430             -0.935613   \n",
       "CO2EMISSIONS                0.874154   0.849685              0.898039   \n",
       "\n",
       "                          FUELCONSUMPTION_HWY  FUELCONSUMPTION_COMB  \\\n",
       "ENGINESIZE                           0.778746              0.819482   \n",
       "CYLINDERS                            0.724594              0.776788   \n",
       "FUELCONSUMPTION_CITY                 0.965718              0.995542   \n",
       "FUELCONSUMPTION_HWY                  1.000000              0.985804   \n",
       "FUELCONSUMPTION_COMB                 0.985804              1.000000   \n",
       "FUELCONSUMPTION_COMB_MPG            -0.893809             -0.927965   \n",
       "CO2EMISSIONS                         0.861748              0.892129   \n",
       "\n",
       "                          FUELCONSUMPTION_COMB_MPG  CO2EMISSIONS  \n",
       "ENGINESIZE                               -0.808554      0.874154  \n",
       "CYLINDERS                                -0.770430      0.849685  \n",
       "FUELCONSUMPTION_CITY                     -0.935613      0.898039  \n",
       "FUELCONSUMPTION_HWY                      -0.893809      0.861748  \n",
       "FUELCONSUMPTION_COMB                     -0.927965      0.892129  \n",
       "FUELCONSUMPTION_COMB_MPG                  1.000000     -0.906394  \n",
       "CO2EMISSIONS                             -0.906394      1.000000  "
      ]
     },
     "execution_count": 8,
     "metadata": {},
     "output_type": "execute_result"
    }
   ],
   "source": [
    "df.corr() # verisetinin degiskenleri arasındaki korelasyon durumu"
   ]
  },
  {
   "cell_type": "code",
   "execution_count": 9,
   "id": "66f4819f-6a10-4bc8-b62e-fb1e8538775c",
   "metadata": {},
   "outputs": [
    {
     "data": {
      "image/png": "[encoded data removed]",
      "text/plain": [
       "<Figure size 432x288 with 1 Axes>"
      ]
     },
     "metadata": {},
     "output_type": "display_data"
    }
   ],
   "source": [
    "# enginesize ve co2emission görsel durumu\n",
    "sns.set_theme(color_codes = True)\n",
    "sns.regplot(data = df, x = 'ENGINESIZE', y = 'CO2EMISSIONS', color = 'black', scatter_kws = {'s': 50, 'color' : 'gray'});"
   ]
  },
  {
   "cell_type": "code",
   "execution_count": 10,
   "id": "d81fa6b4-a890-4402-84e0-7d2b55368ec2",
   "metadata": {},
   "outputs": [
    {
     "data": {
      "image/png": "[encoded data removed]",
      "text/plain": [
       "<Figure size 432x432 with 3 Axes>"
      ]
     },
     "metadata": {},
     "output_type": "display_data"
    }
   ],
   "source": [
    "sns.jointplot(data = df, x = 'ENGINESIZE', y = 'CO2EMISSIONS', kind = 'reg', color = 'green', scatter_kws = {'color': 'red', 's':22});"
   ]
  },
  {
   "cell_type": "markdown",
   "id": "e91cffc6-7e43-458f-89bb-7a62a8131752",
   "metadata": {
    "jp-MarkdownHeadingCollapsed": true,
    "tags": []
   },
   "source": [
    "### Model Kurulumu"
   ]
  },
  {
   "cell_type": "code",
   "execution_count": 11,
   "id": "4c29a21d-9d81-462a-9e93-a57574953cf1",
   "metadata": {},
   "outputs": [
    {
     "data": {
      "text/html": [
       "<div>\n",
       "<style scoped>\n",
       "    .dataframe tbody tr th:only-of-type {\n",
       "        vertical-align: middle;\n",
       "    }\n",
       "\n",
       "    .dataframe tbody tr th {\n",
       "        vertical-align: top;\n",
       "    }\n",
       "\n",
       "    .dataframe thead th {\n",
       "        text-align: right;\n",
       "    }\n",
       "</style>\n",
       "<table border=\"1\" class=\"dataframe\">\n",
       "  <thead>\n",
       "    <tr style=\"text-align: right;\">\n",
       "      <th></th>\n",
       "      <th>ENGINESIZE</th>\n",
       "      <th>CYLINDERS</th>\n",
       "      <th>FUELCONSUMPTION_CITY</th>\n",
       "      <th>FUELCONSUMPTION_HWY</th>\n",
       "      <th>FUELCONSUMPTION_COMB</th>\n",
       "      <th>FUELCONSUMPTION_COMB_MPG</th>\n",
       "      <th>CO2EMISSIONS</th>\n",
       "    </tr>\n",
       "  </thead>\n",
       "  <tbody>\n",
       "    <tr>\n",
       "      <th>0</th>\n",
       "      <td>2.0</td>\n",
       "      <td>4</td>\n",
       "      <td>9.9</td>\n",
       "      <td>6.7</td>\n",
       "      <td>8.5</td>\n",
       "      <td>33</td>\n",
       "      <td>196</td>\n",
       "    </tr>\n",
       "    <tr>\n",
       "      <th>1</th>\n",
       "      <td>2.4</td>\n",
       "      <td>4</td>\n",
       "      <td>11.2</td>\n",
       "      <td>7.7</td>\n",
       "      <td>9.6</td>\n",
       "      <td>29</td>\n",
       "      <td>221</td>\n",
       "    </tr>\n",
       "    <tr>\n",
       "      <th>2</th>\n",
       "      <td>1.5</td>\n",
       "      <td>4</td>\n",
       "      <td>6.0</td>\n",
       "      <td>5.8</td>\n",
       "      <td>5.9</td>\n",
       "      <td>48</td>\n",
       "      <td>136</td>\n",
       "    </tr>\n",
       "    <tr>\n",
       "      <th>3</th>\n",
       "      <td>3.5</td>\n",
       "      <td>6</td>\n",
       "      <td>12.7</td>\n",
       "      <td>9.1</td>\n",
       "      <td>11.1</td>\n",
       "      <td>25</td>\n",
       "      <td>255</td>\n",
       "    </tr>\n",
       "    <tr>\n",
       "      <th>4</th>\n",
       "      <td>3.5</td>\n",
       "      <td>6</td>\n",
       "      <td>12.1</td>\n",
       "      <td>8.7</td>\n",
       "      <td>10.6</td>\n",
       "      <td>27</td>\n",
       "      <td>244</td>\n",
       "    </tr>\n",
       "  </tbody>\n",
       "</table>\n",
       "</div>"
      ],
      "text/plain": [
       "   ENGINESIZE  CYLINDERS  FUELCONSUMPTION_CITY  FUELCONSUMPTION_HWY  \\\n",
       "0         2.0          4                   9.9                  6.7   \n",
       "1         2.4          4                  11.2                  7.7   \n",
       "2         1.5          4                   6.0                  5.8   \n",
       "3         3.5          6                  12.7                  9.1   \n",
       "4         3.5          6                  12.1                  8.7   \n",
       "\n",
       "   FUELCONSUMPTION_COMB  FUELCONSUMPTION_COMB_MPG  CO2EMISSIONS  \n",
       "0                   8.5                        33           196  \n",
       "1                   9.6                        29           221  \n",
       "2                   5.9                        48           136  \n",
       "3                  11.1                        25           255  \n",
       "4                  10.6                        27           244  "
      ]
     },
     "execution_count": 11,
     "metadata": {},
     "output_type": "execute_result"
    }
   ],
   "source": [
    "df1 = df[['ENGINESIZE', 'CYLINDERS', 'FUELCONSUMPTION_CITY', 'FUELCONSUMPTION_HWY', 'FUELCONSUMPTION_COMB', 'FUELCONSUMPTION_COMB_MPG', 'CO2EMISSIONS']] # sürekli degiskenler\n",
    "df1.head()"
   ]
  },
  {
   "cell_type": "code",
   "execution_count": 12,
   "id": "e9338dda-3ae5-4d41-9445-272ff7c4447f",
   "metadata": {},
   "outputs": [
    {
     "data": {
      "image/png": "[encoded data removed]",
      "text/plain": [
       "<Figure size 432x288 with 1 Axes>"
      ]
     },
     "metadata": {},
     "output_type": "display_data"
    }
   ],
   "source": [
    "X = df1.drop('CO2EMISSIONS', axis = 1) # bagımsız degiskenler (co2emissions haric)\n",
    "y = df1['CO2EMISSIONS'] # bagımlı degisken\n",
    "\n",
    "# %80 egitim, %20 test seti\n",
    "X_train, X_test, y_train, y_test = train_test_split(X,\n",
    "                                                    y,\n",
    "                                                    test_size = 0.20, \n",
    "                                                    random_state = 42)\n",
    "\n",
    "alpha_degerleri = 10 ** np.linspace(-2, 10, 100) * 0.5 # random alpha degerleri\n",
    "\n",
    "katsayilar = []\n",
    "\n",
    "model = Ridge() # model nesnesinin olusturulması ve fit edilmesi\n",
    "\n",
    "for i in alpha_degerleri:\n",
    "    model.set_params(alpha = i)\n",
    "    model.fit(X_train, y_train)\n",
    "    katsayilar.append(model.coef_)\n",
    "    \n",
    "# Katsayı degerlerin görsellestirilmesi,\n",
    "ax = plt.gca()\n",
    "ax.plot(alpha_degerleri, katsayilar)\n",
    "ax.set_xscale('log')\n",
    "\n",
    "plt.xlabel('Alpha (Lambda) Degerleri')\n",
    "plt.ylabel('Katsayılar / Agırlıklar')\n",
    "plt.title('Ridge Regresyon ile Düzelestirilmis Katsayılar');"
   ]
  },
  {
   "cell_type": "code",
   "execution_count": 13,
   "id": "e5bd42c6-10f4-40d2-a062-9b4e49f99906",
   "metadata": {},
   "outputs": [
    {
     "data": {
      "text/plain": [
       "array([ 1.32978850e-05,  1.65376494e-05,  3.93274320e-05,  2.57845256e-05,\n",
       "        3.32298926e-05, -7.12485388e-05])"
      ]
     },
     "execution_count": 13,
     "metadata": {},
     "output_type": "execute_result"
    }
   ],
   "source": [
    "model.coef_"
   ]
  },
  {
   "cell_type": "markdown",
   "id": "7f9e6b81-9532-4d42-8c5b-9dea39684fe9",
   "metadata": {},
   "source": [
    "* Katsayılar 0'a yaklasır, 0 olmaz!"
   ]
  },
  {
   "cell_type": "code",
   "execution_count": 14,
   "id": "48f1974f-d781-4f29-89a7-4579a5f34767",
   "metadata": {},
   "outputs": [
    {
     "name": "stderr",
     "output_type": "stream",
     "text": [
      "/home/mrkizmaz/.local/lib/python3.8/site-packages/sklearn/linear_model/_base.py:141: FutureWarning: 'normalize' was deprecated in version 1.0 and will be removed in 1.2.\n",
      "If you wish to scale the data, use Pipeline with a StandardScaler in a preprocessing stage. To reproduce the previous behavior:\n",
      "\n",
      "from sklearn.pipeline import make_pipeline\n",
      "\n",
      "model = make_pipeline(StandardScaler(with_mean=False), _RidgeGCV())\n",
      "\n",
      "If you wish to pass a sample_weight parameter, you need to pass it as a fit parameter to each step of the pipeline as follows:\n",
      "\n",
      "kwargs = {s[0] + '__sample_weight': sample_weight for s in model.steps}\n",
      "model.fit(X, y, **kwargs)\n",
      "\n",
      "\n",
      "  warnings.warn(\n"
     ]
    }
   ],
   "source": [
    "# Optimum alpha degeri elde edilerek final modelinin olusturulması ve hata degerinin hesaplanması,\n",
    "rid = RidgeCV(alphas = alpha_degerleri,\n",
    "                    scoring = 'neg_mean_squared_error',\n",
    "                    normalize = True).fit(X_train, y_train)\n",
    "\n",
    "ridge = Ridge(alpha = rid.alpha_)\n",
    "ridgemodel = ridge.fit(X_train, y_train)\n",
    "\n",
    "y_pred = ridgemodel.predict(X_test)\n",
    "mse = mean_squared_error(y_test, y_pred)\n",
    "rmse = np.sqrt(mse) # hata degeri\n",
    "\n",
    "rscore = ridgemodel.score(X_train, y_train) # modelin basarı degeri"
   ]
  },
  {
   "cell_type": "code",
   "execution_count": 15,
   "id": "891c3fff-f8a5-4274-acb6-94a2acaf81c1",
   "metadata": {},
   "outputs": [
    {
     "data": {
      "text/plain": [
       "19.985272655300285"
      ]
     },
     "execution_count": 15,
     "metadata": {},
     "output_type": "execute_result"
    }
   ],
   "source": [
    "rmse"
   ]
  },
  {
   "cell_type": "code",
   "execution_count": 16,
   "id": "981b8342-e88e-413c-b5d7-61bcb4178452",
   "metadata": {},
   "outputs": [
    {
     "data": {
      "text/plain": [
       "0.8853597797190174"
      ]
     },
     "execution_count": 16,
     "metadata": {},
     "output_type": "execute_result"
    }
   ],
   "source": [
    "rscore"
   ]
  },
  {
   "cell_type": "code",
   "execution_count": 17,
   "id": "8efd969d-9bbe-4c68-baf6-176ceed9f665",
   "metadata": {},
   "outputs": [
    {
     "name": "stdout",
     "output_type": "stream",
     "text": [
      "Modelin basarı yüzdesi: 88.53597797190173\n",
      "Ridge modeli elde edilen optiumum hata degeri: 19.985272655300285\n"
     ]
    }
   ],
   "source": [
    "print(f\"Modelin basarı yüzdesi: {rscore * 100}\")\n",
    "print(\"Ridge modeli elde edilen optiumum hata degeri: {0}\".format(rmse))"
   ]
  },
  {
   "cell_type": "markdown",
   "id": "1b976891-37b7-46b9-a9b7-2e75fcea3f23",
   "metadata": {
    "jp-MarkdownHeadingCollapsed": true,
    "tags": []
   },
   "source": [
    "### Sonuç"
   ]
  },
  {
   "cell_type": "markdown",
   "id": "2816a571-d891-41bf-a184-37c5b75c9b0c",
   "metadata": {},
   "source": [
    "Ridge Regresyon modeli ile elde edilen degerler,\n",
    "* Modelin basarı yüzdesi: 88.53597797190173\n",
    "* Optiumum hata degeri:  **19.985272655300285**"
   ]
  },
  {
   "cell_type": "markdown",
   "id": "dd1acc3d-bf45-42d7-bbbb-db915377a437",
   "metadata": {},
   "source": [
    "* Aynı veriseti üzerinde,\n",
    "    * PCR regresyon modelinde optimum hata degeri: **21.51203259544392** olarak bulundu.\n",
    "    * PLS regresyon modelinde optimum hata degeri: **21.28182557765404** olarak bulundu."
   ]
  },
  {
   "cell_type": "code",
   "execution_count": null,
   "id": "ec551a32",
   "metadata": {},
   "outputs": [],
   "source": []
  },
  {
   "cell_type": "markdown",
   "id": "4fa846c9",
   "metadata": {},
   "source": [
    "## ALIŞTIRMA - 2"
   ]
  },
  {
   "cell_type": "markdown",
   "id": "1a3091b9",
   "metadata": {},
   "source": [
    "### Verisetinin İncelenmesi ve Manipüle Edilmesi"
   ]
  },
  {
   "cell_type": "markdown",
   "id": "f3778dd4",
   "metadata": {},
   "source": [
    "* Verisetini [buradan](https://mrkizmaz-s3data.s3.eu-west-1.amazonaws.com/DataSets/BTC-USD.csv) indirebilirsiniz."
   ]
  },
  {
   "cell_type": "code",
   "execution_count": 17,
   "id": "6f4a55c7",
   "metadata": {},
   "outputs": [
    {
     "data": {
      "text/html": [
       "<div>\n",
       "<style scoped>\n",
       "    .dataframe tbody tr th:only-of-type {\n",
       "        vertical-align: middle;\n",
       "    }\n",
       "\n",
       "    .dataframe tbody tr th {\n",
       "        vertical-align: top;\n",
       "    }\n",
       "\n",
       "    .dataframe thead th {\n",
       "        text-align: right;\n",
       "    }\n",
       "</style>\n",
       "<table border=\"1\" class=\"dataframe\">\n",
       "  <thead>\n",
       "    <tr style=\"text-align: right;\">\n",
       "      <th></th>\n",
       "      <th>Open</th>\n",
       "      <th>High</th>\n",
       "      <th>Low</th>\n",
       "      <th>Close</th>\n",
       "      <th>Adj Close</th>\n",
       "      <th>Volume</th>\n",
       "    </tr>\n",
       "    <tr>\n",
       "      <th>Date</th>\n",
       "      <th></th>\n",
       "      <th></th>\n",
       "      <th></th>\n",
       "      <th></th>\n",
       "      <th></th>\n",
       "      <th></th>\n",
       "    </tr>\n",
       "  </thead>\n",
       "  <tbody>\n",
       "    <tr>\n",
       "      <th>2021-03-13</th>\n",
       "      <td>57343.371094</td>\n",
       "      <td>61683.863281</td>\n",
       "      <td>56217.972656</td>\n",
       "      <td>61243.085938</td>\n",
       "      <td>61243.085938</td>\n",
       "      <td>6.066983e+10</td>\n",
       "    </tr>\n",
       "    <tr>\n",
       "      <th>2021-03-14</th>\n",
       "      <td>61221.132813</td>\n",
       "      <td>61597.917969</td>\n",
       "      <td>59302.316406</td>\n",
       "      <td>59302.316406</td>\n",
       "      <td>59302.316406</td>\n",
       "      <td>4.390123e+10</td>\n",
       "    </tr>\n",
       "    <tr>\n",
       "      <th>2021-03-15</th>\n",
       "      <td>59267.429688</td>\n",
       "      <td>60540.992188</td>\n",
       "      <td>55393.164063</td>\n",
       "      <td>55907.199219</td>\n",
       "      <td>55907.199219</td>\n",
       "      <td>6.641937e+10</td>\n",
       "    </tr>\n",
       "    <tr>\n",
       "      <th>2021-03-16</th>\n",
       "      <td>55840.785156</td>\n",
       "      <td>56833.179688</td>\n",
       "      <td>53555.027344</td>\n",
       "      <td>56804.902344</td>\n",
       "      <td>56804.902344</td>\n",
       "      <td>5.974980e+10</td>\n",
       "    </tr>\n",
       "    <tr>\n",
       "      <th>2021-03-17</th>\n",
       "      <td>56825.828125</td>\n",
       "      <td>58969.816406</td>\n",
       "      <td>54528.628906</td>\n",
       "      <td>58870.894531</td>\n",
       "      <td>58870.894531</td>\n",
       "      <td>6.025831e+10</td>\n",
       "    </tr>\n",
       "  </tbody>\n",
       "</table>\n",
       "</div>"
      ],
      "text/plain": [
       "                    Open          High           Low         Close  \\\n",
       "Date                                                                 \n",
       "2021-03-13  57343.371094  61683.863281  56217.972656  61243.085938   \n",
       "2021-03-14  61221.132813  61597.917969  59302.316406  59302.316406   \n",
       "2021-03-15  59267.429688  60540.992188  55393.164063  55907.199219   \n",
       "2021-03-16  55840.785156  56833.179688  53555.027344  56804.902344   \n",
       "2021-03-17  56825.828125  58969.816406  54528.628906  58870.894531   \n",
       "\n",
       "               Adj Close        Volume  \n",
       "Date                                    \n",
       "2021-03-13  61243.085938  6.066983e+10  \n",
       "2021-03-14  59302.316406  4.390123e+10  \n",
       "2021-03-15  55907.199219  6.641937e+10  \n",
       "2021-03-16  56804.902344  5.974980e+10  \n",
       "2021-03-17  58870.894531  6.025831e+10  "
      ]
     },
     "execution_count": 17,
     "metadata": {},
     "output_type": "execute_result"
    }
   ],
   "source": [
    "url = \"https://mrkizmaz-s3data.s3.eu-west-1.amazonaws.com/DataSets/BTC-USD.csv\"\n",
    "\n",
    "btc_usd = pd.read_csv(url, index_col = ['Date'])\n",
    "df = btc_usd.copy()\n",
    "df.head()"
   ]
  },
  {
   "cell_type": "code",
   "execution_count": 18,
   "id": "663e6c6d",
   "metadata": {},
   "outputs": [
    {
     "data": {
      "text/plain": [
       "True"
      ]
     },
     "execution_count": 18,
     "metadata": {},
     "output_type": "execute_result"
    }
   ],
   "source": [
    "df.isnull().values.any() # verisetinde bos degerler var mı?"
   ]
  },
  {
   "cell_type": "code",
   "execution_count": 19,
   "id": "a611fdf0",
   "metadata": {},
   "outputs": [
    {
     "data": {
      "text/html": [
       "<div>\n",
       "<style scoped>\n",
       "    .dataframe tbody tr th:only-of-type {\n",
       "        vertical-align: middle;\n",
       "    }\n",
       "\n",
       "    .dataframe tbody tr th {\n",
       "        vertical-align: top;\n",
       "    }\n",
       "\n",
       "    .dataframe thead th {\n",
       "        text-align: right;\n",
       "    }\n",
       "</style>\n",
       "<table border=\"1\" class=\"dataframe\">\n",
       "  <thead>\n",
       "    <tr style=\"text-align: right;\">\n",
       "      <th></th>\n",
       "      <th>Open</th>\n",
       "      <th>High</th>\n",
       "      <th>Low</th>\n",
       "      <th>Close</th>\n",
       "      <th>Adj Close</th>\n",
       "      <th>Volume</th>\n",
       "    </tr>\n",
       "    <tr>\n",
       "      <th>Date</th>\n",
       "      <th></th>\n",
       "      <th></th>\n",
       "      <th></th>\n",
       "      <th></th>\n",
       "      <th></th>\n",
       "      <th></th>\n",
       "    </tr>\n",
       "  </thead>\n",
       "  <tbody>\n",
       "    <tr>\n",
       "      <th>2022-03-12</th>\n",
       "      <td>NaN</td>\n",
       "      <td>NaN</td>\n",
       "      <td>NaN</td>\n",
       "      <td>NaN</td>\n",
       "      <td>NaN</td>\n",
       "      <td>NaN</td>\n",
       "    </tr>\n",
       "  </tbody>\n",
       "</table>\n",
       "</div>"
      ],
      "text/plain": [
       "            Open  High  Low  Close  Adj Close  Volume\n",
       "Date                                                 \n",
       "2022-03-12   NaN   NaN  NaN    NaN        NaN     NaN"
      ]
     },
     "execution_count": 19,
     "metadata": {},
     "output_type": "execute_result"
    }
   ],
   "source": [
    "df[df.isnull().any(axis = 1)] # bos degerler hangi satırda?"
   ]
  },
  {
   "cell_type": "code",
   "execution_count": 20,
   "id": "f129f07d",
   "metadata": {},
   "outputs": [
    {
     "data": {
      "text/plain": [
       "Open         1\n",
       "High         1\n",
       "Low          1\n",
       "Close        1\n",
       "Adj Close    1\n",
       "Volume       1\n",
       "dtype: int64"
      ]
     },
     "execution_count": 20,
     "metadata": {},
     "output_type": "execute_result"
    }
   ],
   "source": [
    "df.isna().sum() # bos degerler nerede ve kac tane var?"
   ]
  },
  {
   "cell_type": "code",
   "execution_count": 22,
   "id": "98e079c1",
   "metadata": {},
   "outputs": [],
   "source": [
    "df = df.dropna() # bos degerlerin oldugu satırı siler"
   ]
  },
  {
   "cell_type": "code",
   "execution_count": 23,
   "id": "91e616e0",
   "metadata": {},
   "outputs": [
    {
     "data": {
      "text/plain": [
       "False"
      ]
     },
     "execution_count": 23,
     "metadata": {},
     "output_type": "execute_result"
    }
   ],
   "source": [
    "df.isnull().values.any()"
   ]
  },
  {
   "cell_type": "code",
   "execution_count": 24,
   "id": "06a635bb",
   "metadata": {},
   "outputs": [
    {
     "name": "stdout",
     "output_type": "stream",
     "text": [
      "<class 'pandas.core.frame.DataFrame'>\n",
      "Index: 365 entries, 2021-03-13 to 2022-03-13\n",
      "Data columns (total 6 columns):\n",
      " #   Column     Non-Null Count  Dtype  \n",
      "---  ------     --------------  -----  \n",
      " 0   Open       365 non-null    float64\n",
      " 1   High       365 non-null    float64\n",
      " 2   Low        365 non-null    float64\n",
      " 3   Close      365 non-null    float64\n",
      " 4   Adj Close  365 non-null    float64\n",
      " 5   Volume     365 non-null    float64\n",
      "dtypes: float64(6)\n",
      "memory usage: 20.0+ KB\n"
     ]
    }
   ],
   "source": [
    "df.info() # veriseti hakkında bilgi verir"
   ]
  },
  {
   "cell_type": "code",
   "execution_count": 26,
   "id": "daf796fe",
   "metadata": {},
   "outputs": [
    {
     "data": {
      "text/html": [
       "<div>\n",
       "<style scoped>\n",
       "    .dataframe tbody tr th:only-of-type {\n",
       "        vertical-align: middle;\n",
       "    }\n",
       "\n",
       "    .dataframe tbody tr th {\n",
       "        vertical-align: top;\n",
       "    }\n",
       "\n",
       "    .dataframe thead th {\n",
       "        text-align: right;\n",
       "    }\n",
       "</style>\n",
       "<table border=\"1\" class=\"dataframe\">\n",
       "  <thead>\n",
       "    <tr style=\"text-align: right;\">\n",
       "      <th></th>\n",
       "      <th>Open</th>\n",
       "      <th>High</th>\n",
       "      <th>Low</th>\n",
       "      <th>Close</th>\n",
       "      <th>Volume</th>\n",
       "    </tr>\n",
       "    <tr>\n",
       "      <th>Date</th>\n",
       "      <th></th>\n",
       "      <th></th>\n",
       "      <th></th>\n",
       "      <th></th>\n",
       "      <th></th>\n",
       "    </tr>\n",
       "  </thead>\n",
       "  <tbody>\n",
       "    <tr>\n",
       "      <th>2021-03-13</th>\n",
       "      <td>57343.371094</td>\n",
       "      <td>61683.863281</td>\n",
       "      <td>56217.972656</td>\n",
       "      <td>61243.085938</td>\n",
       "      <td>6.066983e+10</td>\n",
       "    </tr>\n",
       "    <tr>\n",
       "      <th>2021-03-14</th>\n",
       "      <td>61221.132813</td>\n",
       "      <td>61597.917969</td>\n",
       "      <td>59302.316406</td>\n",
       "      <td>59302.316406</td>\n",
       "      <td>4.390123e+10</td>\n",
       "    </tr>\n",
       "    <tr>\n",
       "      <th>2021-03-15</th>\n",
       "      <td>59267.429688</td>\n",
       "      <td>60540.992188</td>\n",
       "      <td>55393.164063</td>\n",
       "      <td>55907.199219</td>\n",
       "      <td>6.641937e+10</td>\n",
       "    </tr>\n",
       "    <tr>\n",
       "      <th>2021-03-16</th>\n",
       "      <td>55840.785156</td>\n",
       "      <td>56833.179688</td>\n",
       "      <td>53555.027344</td>\n",
       "      <td>56804.902344</td>\n",
       "      <td>5.974980e+10</td>\n",
       "    </tr>\n",
       "    <tr>\n",
       "      <th>2021-03-17</th>\n",
       "      <td>56825.828125</td>\n",
       "      <td>58969.816406</td>\n",
       "      <td>54528.628906</td>\n",
       "      <td>58870.894531</td>\n",
       "      <td>6.025831e+10</td>\n",
       "    </tr>\n",
       "  </tbody>\n",
       "</table>\n",
       "</div>"
      ],
      "text/plain": [
       "                    Open          High           Low         Close  \\\n",
       "Date                                                                 \n",
       "2021-03-13  57343.371094  61683.863281  56217.972656  61243.085938   \n",
       "2021-03-14  61221.132813  61597.917969  59302.316406  59302.316406   \n",
       "2021-03-15  59267.429688  60540.992188  55393.164063  55907.199219   \n",
       "2021-03-16  55840.785156  56833.179688  53555.027344  56804.902344   \n",
       "2021-03-17  56825.828125  58969.816406  54528.628906  58870.894531   \n",
       "\n",
       "                  Volume  \n",
       "Date                      \n",
       "2021-03-13  6.066983e+10  \n",
       "2021-03-14  4.390123e+10  \n",
       "2021-03-15  6.641937e+10  \n",
       "2021-03-16  5.974980e+10  \n",
       "2021-03-17  6.025831e+10  "
      ]
     },
     "execution_count": 26,
     "metadata": {},
     "output_type": "execute_result"
    }
   ],
   "source": [
    "df = df.drop(['Adj Close'], axis = 1) # Close ve AdjClose klonları aynı degerlere sahip\n",
    "df.head()"
   ]
  },
  {
   "cell_type": "code",
   "execution_count": 27,
   "id": "a820ceb2",
   "metadata": {},
   "outputs": [
    {
     "data": {
      "text/html": [
       "<div>\n",
       "<style scoped>\n",
       "    .dataframe tbody tr th:only-of-type {\n",
       "        vertical-align: middle;\n",
       "    }\n",
       "\n",
       "    .dataframe tbody tr th {\n",
       "        vertical-align: top;\n",
       "    }\n",
       "\n",
       "    .dataframe thead th {\n",
       "        text-align: right;\n",
       "    }\n",
       "</style>\n",
       "<table border=\"1\" class=\"dataframe\">\n",
       "  <thead>\n",
       "    <tr style=\"text-align: right;\">\n",
       "      <th></th>\n",
       "      <th>Open</th>\n",
       "      <th>High</th>\n",
       "      <th>Low</th>\n",
       "      <th>Close</th>\n",
       "      <th>Volume</th>\n",
       "    </tr>\n",
       "  </thead>\n",
       "  <tbody>\n",
       "    <tr>\n",
       "      <th>Open</th>\n",
       "      <td>1.000000</td>\n",
       "      <td>0.993427</td>\n",
       "      <td>0.986870</td>\n",
       "      <td>0.981471</td>\n",
       "      <td>0.363396</td>\n",
       "    </tr>\n",
       "    <tr>\n",
       "      <th>High</th>\n",
       "      <td>0.993427</td>\n",
       "      <td>1.000000</td>\n",
       "      <td>0.986737</td>\n",
       "      <td>0.991491</td>\n",
       "      <td>0.386418</td>\n",
       "    </tr>\n",
       "    <tr>\n",
       "      <th>Low</th>\n",
       "      <td>0.986870</td>\n",
       "      <td>0.986737</td>\n",
       "      <td>1.000000</td>\n",
       "      <td>0.991451</td>\n",
       "      <td>0.283163</td>\n",
       "    </tr>\n",
       "    <tr>\n",
       "      <th>Close</th>\n",
       "      <td>0.981471</td>\n",
       "      <td>0.991491</td>\n",
       "      <td>0.991451</td>\n",
       "      <td>1.000000</td>\n",
       "      <td>0.333019</td>\n",
       "    </tr>\n",
       "    <tr>\n",
       "      <th>Volume</th>\n",
       "      <td>0.363396</td>\n",
       "      <td>0.386418</td>\n",
       "      <td>0.283163</td>\n",
       "      <td>0.333019</td>\n",
       "      <td>1.000000</td>\n",
       "    </tr>\n",
       "  </tbody>\n",
       "</table>\n",
       "</div>"
      ],
      "text/plain": [
       "            Open      High       Low     Close    Volume\n",
       "Open    1.000000  0.993427  0.986870  0.981471  0.363396\n",
       "High    0.993427  1.000000  0.986737  0.991491  0.386418\n",
       "Low     0.986870  0.986737  1.000000  0.991451  0.283163\n",
       "Close   0.981471  0.991491  0.991451  1.000000  0.333019\n",
       "Volume  0.363396  0.386418  0.283163  0.333019  1.000000"
      ]
     },
     "execution_count": 27,
     "metadata": {},
     "output_type": "execute_result"
    }
   ],
   "source": [
    "df.corr() # verisetinin gözlemleri arasındaki korelasyon"
   ]
  },
  {
   "cell_type": "code",
   "execution_count": 29,
   "id": "22cb5234",
   "metadata": {},
   "outputs": [
    {
     "data": {
      "image/png": "[encoded data removed]",
      "text/plain": [
       "<Figure size 432x288 with 2 Axes>"
      ]
     },
     "metadata": {
      "needs_background": "light"
     },
     "output_type": "display_data"
    }
   ],
   "source": [
    "sns.heatmap(df.corr(), square = True, annot = True, cmap = 'Reds');"
   ]
  },
  {
   "cell_type": "code",
   "execution_count": 30,
   "id": "f3dda645",
   "metadata": {},
   "outputs": [
    {
     "data": {
      "image/png": "[encoded data removed]",
      "text/plain": [
       "<Figure size 432x288 with 1 Axes>"
      ]
     },
     "metadata": {
      "needs_background": "light"
     },
     "output_type": "display_data"
    }
   ],
   "source": [
    "plt.scatter(df['Open'], df['Close'])\n",
    "plt.xlabel('Close')\n",
    "plt.ylabel('Open');"
   ]
  },
  {
   "cell_type": "markdown",
   "id": "535f83cb",
   "metadata": {},
   "source": [
    "### Model Kurulumu"
   ]
  },
  {
   "cell_type": "code",
   "execution_count": 38,
   "id": "a23dcf5c",
   "metadata": {},
   "outputs": [
    {
     "name": "stdout",
     "output_type": "stream",
     "text": [
      "Modelin basarı degeri: 0.9929316972275579 ve hata degeri: 600.1689793656219\n"
     ]
    }
   ],
   "source": [
    "X = df.drop('Close', axis = 1) # bagımsız degiskenler\n",
    "y = df['Close'] # bagımlı degisken\n",
    "\n",
    "# %20'test, %80'i egitim seti\n",
    "X_train, X_test, y_train, y_test = train_test_split(X, y, test_size = 0.2, random_state = 42)\n",
    "\n",
    "# optimum alpha degerinin elde edilmesi\n",
    "alphalar = 1000 ** np.linspace(10, -2, 100) * 0.5\n",
    "ridgecv = RidgeCV(alphas = alphalar,\n",
    "                  scoring = 'neg_mean_squared_error').fit(X_train, y_train)\n",
    "\n",
    "# optimum alpha degeri ile model kurulumu\n",
    "ridge = Ridge(alpha = ridgecv.alpha_).fit(X_train, y_train)\n",
    "score = ridge.score(X_train, y_train)\n",
    "# modelin hata degeri\n",
    "ypred = ridge.predict(X_test)\n",
    "rmse = np.sqrt(mean_squared_error(y_test, ypred))\n",
    "\n",
    "print(f\"Modelin basarı degeri: {score} ve hata degeri: {rmse}\")\n"
   ]
  },
  {
   "cell_type": "code",
   "execution_count": 39,
   "id": "2c4153a9",
   "metadata": {},
   "outputs": [
    {
     "data": {
      "image/png": "[encoded data removed]",
      "text/plain": [
       "<Figure size 432x288 with 1 Axes>"
      ]
     },
     "metadata": {
      "needs_background": "light"
     },
     "output_type": "display_data"
    }
   ],
   "source": [
    "# katsayılar durumunun görsellestirilmesi\n",
    "modelridge = Ridge()\n",
    "katsayilar = []\n",
    "\n",
    "for i in alphalar:\n",
    "    modelridge.set_params(alpha = i)\n",
    "    modelridge.fit(X_train, y_train)\n",
    "    katsayilar.append(modelridge.coef_)\n",
    "    \n",
    "# Elde edilen degerlerin görsellestirilmesi,\n",
    "ax = plt.gca()\n",
    "ax.plot(alphalar, katsayilar)\n",
    "ax.set_xscale('log')\n",
    "\n",
    "plt.xlabel('Alpha (Lambda) Degerleri')\n",
    "plt.ylabel('Katsayılar / Agırlıklar')\n",
    "plt.title('Ridge Regresyon ile Düzenlestirilmis Katsayılar');"
   ]
  },
  {
   "cell_type": "markdown",
   "id": "799800e9",
   "metadata": {},
   "source": [
    "### Sonuç"
   ]
  },
  {
   "cell_type": "markdown",
   "id": "0038ac0e",
   "metadata": {},
   "source": [
    "* Modelin basarı degeri: 0.9929316972275579 ve hata degeri: 600.1689793656219"
   ]
  }
 ],
 "metadata": {
  "kernelspec": {
   "display_name": "Python 3 (ipykernel)",
   "language": "python",
   "name": "python3"
  },
  "language_info": {
   "codemirror_mode": {
    "name": "ipython",
    "version": 3
   },
   "file_extension": ".py",
   "mimetype": "text/x-python",
   "name": "python",
   "nbconvert_exporter": "python",
   "pygments_lexer": "ipython3",
   "version": "3.8.10"
  }
 },
 "nbformat": 4,
 "nbformat_minor": 5
}
