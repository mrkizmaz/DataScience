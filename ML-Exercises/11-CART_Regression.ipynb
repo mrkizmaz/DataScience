{
 "cells": [
  {
   "cell_type": "markdown",
   "id": "e9038532-9986-4153-a1c0-5c4019730650",
   "metadata": {},
   "source": [
    "# 4- Sınıflandırma ve Regresyon Ağaçları / Classification and Regression Trees (CART) - Alıştırmalar"
   ]
  },
  {
   "cell_type": "markdown",
   "id": "8aa7096f-d73c-4d16-a862-953d72eb8fe3",
   "metadata": {},
   "source": [
    "* Bu bölümdeki uygulamada, CART-Regresyon modeli kullanılmıştır."
   ]
  },
  {
   "cell_type": "markdown",
   "id": "1f6a77a9-71f9-4c00-a691-7cf04438fd71",
   "metadata": {},
   "source": [
    "## Alıştırma - 1"
   ]
  },
  {
   "cell_type": "markdown",
   "id": "e577c510-a568-4a6e-96ac-e79a752c2c58",
   "metadata": {
    "jp-MarkdownHeadingCollapsed": true,
    "tags": []
   },
   "source": [
    "### Verisetinin İncelenmesi ve Manipüle Edilmesi"
   ]
  },
  {
   "cell_type": "code",
   "execution_count": 1,
   "id": "5ededea2-486f-487f-8be2-6ed97586c070",
   "metadata": {},
   "outputs": [],
   "source": [
    "# Gerekli kütüphanelerin dahil edilmesi,\n",
    "import pandas as pd\n",
    "import numpy as np\n",
    "import seaborn as sns\n",
    "import matplotlib.pyplot as plt\n",
    "from skompiler import skompile\n",
    "from sklearn.tree import DecisionTreeRegressor\n",
    "from sklearn.metrics import mean_squared_error, r2_score\n",
    "from sklearn.model_selection import train_test_split, cross_val_score, GridSearchCV\n",
    "\n",
    "import warnings\n",
    "warnings.filterwarnings(\"ignore\", category=UserWarning)"
   ]
  },
  {
   "cell_type": "markdown",
   "id": "9e053143-5e28-44a9-9076-1f44524fab47",
   "metadata": {},
   "source": [
    "* Verisetini [buradan](https://mrkizmaz-s3data.s3.eu-west-1.amazonaws.com/DataSets/FuelConsumption.csv) indirebilirsiniz."
   ]
  },
  {
   "cell_type": "code",
   "execution_count": 2,
   "id": "3bd856dc-df6c-4f40-9675-7ad75952fb01",
   "metadata": {},
   "outputs": [
    {
     "data": {
      "text/html": [
       "<div>\n",
       "<style scoped>\n",
       "    .dataframe tbody tr th:only-of-type {\n",
       "        vertical-align: middle;\n",
       "    }\n",
       "\n",
       "    .dataframe tbody tr th {\n",
       "        vertical-align: top;\n",
       "    }\n",
       "\n",
       "    .dataframe thead th {\n",
       "        text-align: right;\n",
       "    }\n",
       "</style>\n",
       "<table border=\"1\" class=\"dataframe\">\n",
       "  <thead>\n",
       "    <tr style=\"text-align: right;\">\n",
       "      <th></th>\n",
       "      <th>MODELYEAR</th>\n",
       "      <th>MAKE</th>\n",
       "      <th>MODEL</th>\n",
       "      <th>VEHICLECLASS</th>\n",
       "      <th>ENGINESIZE</th>\n",
       "      <th>CYLINDERS</th>\n",
       "      <th>TRANSMISSION</th>\n",
       "      <th>FUELTYPE</th>\n",
       "      <th>FUELCONSUMPTION_CITY</th>\n",
       "      <th>FUELCONSUMPTION_HWY</th>\n",
       "      <th>FUELCONSUMPTION_COMB</th>\n",
       "      <th>FUELCONSUMPTION_COMB_MPG</th>\n",
       "      <th>CO2EMISSIONS</th>\n",
       "    </tr>\n",
       "  </thead>\n",
       "  <tbody>\n",
       "    <tr>\n",
       "      <th>0</th>\n",
       "      <td>2014</td>\n",
       "      <td>ACURA</td>\n",
       "      <td>ILX</td>\n",
       "      <td>COMPACT</td>\n",
       "      <td>2.0</td>\n",
       "      <td>4</td>\n",
       "      <td>AS5</td>\n",
       "      <td>Z</td>\n",
       "      <td>9.9</td>\n",
       "      <td>6.7</td>\n",
       "      <td>8.5</td>\n",
       "      <td>33</td>\n",
       "      <td>196</td>\n",
       "    </tr>\n",
       "    <tr>\n",
       "      <th>1</th>\n",
       "      <td>2014</td>\n",
       "      <td>ACURA</td>\n",
       "      <td>ILX</td>\n",
       "      <td>COMPACT</td>\n",
       "      <td>2.4</td>\n",
       "      <td>4</td>\n",
       "      <td>M6</td>\n",
       "      <td>Z</td>\n",
       "      <td>11.2</td>\n",
       "      <td>7.7</td>\n",
       "      <td>9.6</td>\n",
       "      <td>29</td>\n",
       "      <td>221</td>\n",
       "    </tr>\n",
       "    <tr>\n",
       "      <th>2</th>\n",
       "      <td>2014</td>\n",
       "      <td>ACURA</td>\n",
       "      <td>ILX HYBRID</td>\n",
       "      <td>COMPACT</td>\n",
       "      <td>1.5</td>\n",
       "      <td>4</td>\n",
       "      <td>AV7</td>\n",
       "      <td>Z</td>\n",
       "      <td>6.0</td>\n",
       "      <td>5.8</td>\n",
       "      <td>5.9</td>\n",
       "      <td>48</td>\n",
       "      <td>136</td>\n",
       "    </tr>\n",
       "    <tr>\n",
       "      <th>3</th>\n",
       "      <td>2014</td>\n",
       "      <td>ACURA</td>\n",
       "      <td>MDX 4WD</td>\n",
       "      <td>SUV - SMALL</td>\n",
       "      <td>3.5</td>\n",
       "      <td>6</td>\n",
       "      <td>AS6</td>\n",
       "      <td>Z</td>\n",
       "      <td>12.7</td>\n",
       "      <td>9.1</td>\n",
       "      <td>11.1</td>\n",
       "      <td>25</td>\n",
       "      <td>255</td>\n",
       "    </tr>\n",
       "    <tr>\n",
       "      <th>4</th>\n",
       "      <td>2014</td>\n",
       "      <td>ACURA</td>\n",
       "      <td>RDX AWD</td>\n",
       "      <td>SUV - SMALL</td>\n",
       "      <td>3.5</td>\n",
       "      <td>6</td>\n",
       "      <td>AS6</td>\n",
       "      <td>Z</td>\n",
       "      <td>12.1</td>\n",
       "      <td>8.7</td>\n",
       "      <td>10.6</td>\n",
       "      <td>27</td>\n",
       "      <td>244</td>\n",
       "    </tr>\n",
       "  </tbody>\n",
       "</table>\n",
       "</div>"
      ],
      "text/plain": [
       "   MODELYEAR   MAKE       MODEL VEHICLECLASS  ENGINESIZE  CYLINDERS  \\\n",
       "0       2014  ACURA         ILX      COMPACT         2.0          4   \n",
       "1       2014  ACURA         ILX      COMPACT         2.4          4   \n",
       "2       2014  ACURA  ILX HYBRID      COMPACT         1.5          4   \n",
       "3       2014  ACURA     MDX 4WD  SUV - SMALL         3.5          6   \n",
       "4       2014  ACURA     RDX AWD  SUV - SMALL         3.5          6   \n",
       "\n",
       "  TRANSMISSION FUELTYPE  FUELCONSUMPTION_CITY  FUELCONSUMPTION_HWY  \\\n",
       "0          AS5        Z                   9.9                  6.7   \n",
       "1           M6        Z                  11.2                  7.7   \n",
       "2          AV7        Z                   6.0                  5.8   \n",
       "3          AS6        Z                  12.7                  9.1   \n",
       "4          AS6        Z                  12.1                  8.7   \n",
       "\n",
       "   FUELCONSUMPTION_COMB  FUELCONSUMPTION_COMB_MPG  CO2EMISSIONS  \n",
       "0                   8.5                        33           196  \n",
       "1                   9.6                        29           221  \n",
       "2                   5.9                        48           136  \n",
       "3                  11.1                        25           255  \n",
       "4                  10.6                        27           244  "
      ]
     },
     "execution_count": 2,
     "metadata": {},
     "output_type": "execute_result"
    }
   ],
   "source": [
    "url = \"https://mrkizmaz-s3data.s3.eu-west-1.amazonaws.com/DataSets/FuelConsumption.csv\"\n",
    "\n",
    "fuelcons = pd.read_csv(url)\n",
    "df = fuelcons.copy()\n",
    "df.head()"
   ]
  },
  {
   "cell_type": "code",
   "execution_count": 3,
   "id": "16cc82e9-0354-4309-824b-167993caf187",
   "metadata": {},
   "outputs": [
    {
     "data": {
      "text/plain": [
       "False"
      ]
     },
     "execution_count": 3,
     "metadata": {},
     "output_type": "execute_result"
    }
   ],
   "source": [
    "df.isnull().values.any() # verisetinde bos degerler var mı?"
   ]
  },
  {
   "cell_type": "code",
   "execution_count": 4,
   "id": "53625bfd-6796-4426-9c91-24d4bcd01fce",
   "metadata": {},
   "outputs": [
    {
     "name": "stdout",
     "output_type": "stream",
     "text": [
      "<class 'pandas.core.frame.DataFrame'>\n",
      "RangeIndex: 1067 entries, 0 to 1066\n",
      "Data columns (total 13 columns):\n",
      " #   Column                    Non-Null Count  Dtype  \n",
      "---  ------                    --------------  -----  \n",
      " 0   MODELYEAR                 1067 non-null   int64  \n",
      " 1   MAKE                      1067 non-null   object \n",
      " 2   MODEL                     1067 non-null   object \n",
      " 3   VEHICLECLASS              1067 non-null   object \n",
      " 4   ENGINESIZE                1067 non-null   float64\n",
      " 5   CYLINDERS                 1067 non-null   int64  \n",
      " 6   TRANSMISSION              1067 non-null   object \n",
      " 7   FUELTYPE                  1067 non-null   object \n",
      " 8   FUELCONSUMPTION_CITY      1067 non-null   float64\n",
      " 9   FUELCONSUMPTION_HWY       1067 non-null   float64\n",
      " 10  FUELCONSUMPTION_COMB      1067 non-null   float64\n",
      " 11  FUELCONSUMPTION_COMB_MPG  1067 non-null   int64  \n",
      " 12  CO2EMISSIONS              1067 non-null   int64  \n",
      "dtypes: float64(4), int64(4), object(5)\n",
      "memory usage: 108.5+ KB\n"
     ]
    }
   ],
   "source": [
    "df.info() # verisetinin bilgi cıktısını verir"
   ]
  },
  {
   "cell_type": "code",
   "execution_count": 5,
   "id": "a16ca3fd-58d6-46ca-ac4c-6ce9c9318fa4",
   "metadata": {},
   "outputs": [],
   "source": [
    "# modelyear veriseti bilgisinde int olarak görünüyor, aslında datetime olması gerekir.\n",
    "df[\"MODELYEAR\"] = pd.to_datetime(df[\"MODELYEAR\"]) "
   ]
  },
  {
   "cell_type": "code",
   "execution_count": 6,
   "id": "c7c43059-e6cc-4a02-a47f-912f9a5919d3",
   "metadata": {},
   "outputs": [
    {
     "data": {
      "text/html": [
       "<div>\n",
       "<style scoped>\n",
       "    .dataframe tbody tr th:only-of-type {\n",
       "        vertical-align: middle;\n",
       "    }\n",
       "\n",
       "    .dataframe tbody tr th {\n",
       "        vertical-align: top;\n",
       "    }\n",
       "\n",
       "    .dataframe thead th {\n",
       "        text-align: right;\n",
       "    }\n",
       "</style>\n",
       "<table border=\"1\" class=\"dataframe\">\n",
       "  <thead>\n",
       "    <tr style=\"text-align: right;\">\n",
       "      <th></th>\n",
       "      <th>ENGINESIZE</th>\n",
       "      <th>CYLINDERS</th>\n",
       "      <th>FUELCONSUMPTION_CITY</th>\n",
       "      <th>FUELCONSUMPTION_HWY</th>\n",
       "      <th>FUELCONSUMPTION_COMB</th>\n",
       "      <th>FUELCONSUMPTION_COMB_MPG</th>\n",
       "      <th>CO2EMISSIONS</th>\n",
       "    </tr>\n",
       "  </thead>\n",
       "  <tbody>\n",
       "    <tr>\n",
       "      <th>ENGINESIZE</th>\n",
       "      <td>1.000000</td>\n",
       "      <td>0.934011</td>\n",
       "      <td>0.832225</td>\n",
       "      <td>0.778746</td>\n",
       "      <td>0.819482</td>\n",
       "      <td>-0.808554</td>\n",
       "      <td>0.874154</td>\n",
       "    </tr>\n",
       "    <tr>\n",
       "      <th>CYLINDERS</th>\n",
       "      <td>0.934011</td>\n",
       "      <td>1.000000</td>\n",
       "      <td>0.796473</td>\n",
       "      <td>0.724594</td>\n",
       "      <td>0.776788</td>\n",
       "      <td>-0.770430</td>\n",
       "      <td>0.849685</td>\n",
       "    </tr>\n",
       "    <tr>\n",
       "      <th>FUELCONSUMPTION_CITY</th>\n",
       "      <td>0.832225</td>\n",
       "      <td>0.796473</td>\n",
       "      <td>1.000000</td>\n",
       "      <td>0.965718</td>\n",
       "      <td>0.995542</td>\n",
       "      <td>-0.935613</td>\n",
       "      <td>0.898039</td>\n",
       "    </tr>\n",
       "    <tr>\n",
       "      <th>FUELCONSUMPTION_HWY</th>\n",
       "      <td>0.778746</td>\n",
       "      <td>0.724594</td>\n",
       "      <td>0.965718</td>\n",
       "      <td>1.000000</td>\n",
       "      <td>0.985804</td>\n",
       "      <td>-0.893809</td>\n",
       "      <td>0.861748</td>\n",
       "    </tr>\n",
       "    <tr>\n",
       "      <th>FUELCONSUMPTION_COMB</th>\n",
       "      <td>0.819482</td>\n",
       "      <td>0.776788</td>\n",
       "      <td>0.995542</td>\n",
       "      <td>0.985804</td>\n",
       "      <td>1.000000</td>\n",
       "      <td>-0.927965</td>\n",
       "      <td>0.892129</td>\n",
       "    </tr>\n",
       "    <tr>\n",
       "      <th>FUELCONSUMPTION_COMB_MPG</th>\n",
       "      <td>-0.808554</td>\n",
       "      <td>-0.770430</td>\n",
       "      <td>-0.935613</td>\n",
       "      <td>-0.893809</td>\n",
       "      <td>-0.927965</td>\n",
       "      <td>1.000000</td>\n",
       "      <td>-0.906394</td>\n",
       "    </tr>\n",
       "    <tr>\n",
       "      <th>CO2EMISSIONS</th>\n",
       "      <td>0.874154</td>\n",
       "      <td>0.849685</td>\n",
       "      <td>0.898039</td>\n",
       "      <td>0.861748</td>\n",
       "      <td>0.892129</td>\n",
       "      <td>-0.906394</td>\n",
       "      <td>1.000000</td>\n",
       "    </tr>\n",
       "  </tbody>\n",
       "</table>\n",
       "</div>"
      ],
      "text/plain": [
       "                          ENGINESIZE  CYLINDERS  FUELCONSUMPTION_CITY  \\\n",
       "ENGINESIZE                  1.000000   0.934011              0.832225   \n",
       "CYLINDERS                   0.934011   1.000000              0.796473   \n",
       "FUELCONSUMPTION_CITY        0.832225   0.796473              1.000000   \n",
       "FUELCONSUMPTION_HWY         0.778746   0.724594              0.965718   \n",
       "FUELCONSUMPTION_COMB        0.819482   0.776788              0.995542   \n",
       "FUELCONSUMPTION_COMB_MPG   -0.808554  -0.770430             -0.935613   \n",
       "CO2EMISSIONS                0.874154   0.849685              0.898039   \n",
       "\n",
       "                          FUELCONSUMPTION_HWY  FUELCONSUMPTION_COMB  \\\n",
       "ENGINESIZE                           0.778746              0.819482   \n",
       "CYLINDERS                            0.724594              0.776788   \n",
       "FUELCONSUMPTION_CITY                 0.965718              0.995542   \n",
       "FUELCONSUMPTION_HWY                  1.000000              0.985804   \n",
       "FUELCONSUMPTION_COMB                 0.985804              1.000000   \n",
       "FUELCONSUMPTION_COMB_MPG            -0.893809             -0.927965   \n",
       "CO2EMISSIONS                         0.861748              0.892129   \n",
       "\n",
       "                          FUELCONSUMPTION_COMB_MPG  CO2EMISSIONS  \n",
       "ENGINESIZE                               -0.808554      0.874154  \n",
       "CYLINDERS                                -0.770430      0.849685  \n",
       "FUELCONSUMPTION_CITY                     -0.935613      0.898039  \n",
       "FUELCONSUMPTION_HWY                      -0.893809      0.861748  \n",
       "FUELCONSUMPTION_COMB                     -0.927965      0.892129  \n",
       "FUELCONSUMPTION_COMB_MPG                  1.000000     -0.906394  \n",
       "CO2EMISSIONS                             -0.906394      1.000000  "
      ]
     },
     "execution_count": 6,
     "metadata": {},
     "output_type": "execute_result"
    }
   ],
   "source": [
    "df.corr() # verisetinin degiskenleri arasındaki korelasyon durumu"
   ]
  },
  {
   "cell_type": "code",
   "execution_count": 7,
   "id": "0564a239-e1b1-4909-b77b-65a34b57c45b",
   "metadata": {},
   "outputs": [
    {
     "data": {
      "image/png": "[encoded data removed]",
      "text/plain": [
       "<Figure size 432x288 with 1 Axes>"
      ]
     },
     "metadata": {},
     "output_type": "display_data"
    }
   ],
   "source": [
    "# enginesize ve co2emission görsel durumu\n",
    "sns.set_theme(color_codes = True)\n",
    "sns.regplot(data = df, x = 'ENGINESIZE', y = 'CO2EMISSIONS', \n",
    "            ci = 60, \n",
    "            marker = '2', \n",
    "            scatter_kws = {'s': 50, 'color' : 'firebrick'},\n",
    "            line_kws = {'lw':3, 'color': 'aqua'});"
   ]
  },
  {
   "cell_type": "code",
   "execution_count": 8,
   "id": "3e6a0782-a9c3-4e70-908f-f6c0f1765ff3",
   "metadata": {},
   "outputs": [
    {
     "data": {
      "image/png": "[encoded data removed]",
      "text/plain": [
       "<Figure size 432x432 with 3 Axes>"
      ]
     },
     "metadata": {},
     "output_type": "display_data"
    }
   ],
   "source": [
    "sns.jointplot(data = df, x = 'ENGINESIZE', y = 'CO2EMISSIONS',\n",
    "              kind = 'reg', color = 'lime',\n",
    "              scatter_kws = {'color': 'brown', 's':22});"
   ]
  },
  {
   "cell_type": "markdown",
   "id": "e4bbe5dd-cac8-465f-8db2-77468ca00eed",
   "metadata": {
    "jp-MarkdownHeadingCollapsed": true,
    "tags": []
   },
   "source": [
    "### Model Kurulumu"
   ]
  },
  {
   "cell_type": "code",
   "execution_count": 9,
   "id": "5358f9b3-6567-4fdb-9867-0b7b2c1f7bd7",
   "metadata": {},
   "outputs": [
    {
     "data": {
      "text/html": [
       "<div>\n",
       "<style scoped>\n",
       "    .dataframe tbody tr th:only-of-type {\n",
       "        vertical-align: middle;\n",
       "    }\n",
       "\n",
       "    .dataframe tbody tr th {\n",
       "        vertical-align: top;\n",
       "    }\n",
       "\n",
       "    .dataframe thead th {\n",
       "        text-align: right;\n",
       "    }\n",
       "</style>\n",
       "<table border=\"1\" class=\"dataframe\">\n",
       "  <thead>\n",
       "    <tr style=\"text-align: right;\">\n",
       "      <th></th>\n",
       "      <th>ENGINESIZE</th>\n",
       "      <th>CYLINDERS</th>\n",
       "      <th>FUELCONSUMPTION_CITY</th>\n",
       "      <th>FUELCONSUMPTION_HWY</th>\n",
       "      <th>FUELCONSUMPTION_COMB</th>\n",
       "      <th>FUELCONSUMPTION_COMB_MPG</th>\n",
       "      <th>CO2EMISSIONS</th>\n",
       "    </tr>\n",
       "  </thead>\n",
       "  <tbody>\n",
       "    <tr>\n",
       "      <th>0</th>\n",
       "      <td>2.0</td>\n",
       "      <td>4</td>\n",
       "      <td>9.9</td>\n",
       "      <td>6.7</td>\n",
       "      <td>8.5</td>\n",
       "      <td>33</td>\n",
       "      <td>196</td>\n",
       "    </tr>\n",
       "    <tr>\n",
       "      <th>1</th>\n",
       "      <td>2.4</td>\n",
       "      <td>4</td>\n",
       "      <td>11.2</td>\n",
       "      <td>7.7</td>\n",
       "      <td>9.6</td>\n",
       "      <td>29</td>\n",
       "      <td>221</td>\n",
       "    </tr>\n",
       "    <tr>\n",
       "      <th>2</th>\n",
       "      <td>1.5</td>\n",
       "      <td>4</td>\n",
       "      <td>6.0</td>\n",
       "      <td>5.8</td>\n",
       "      <td>5.9</td>\n",
       "      <td>48</td>\n",
       "      <td>136</td>\n",
       "    </tr>\n",
       "    <tr>\n",
       "      <th>3</th>\n",
       "      <td>3.5</td>\n",
       "      <td>6</td>\n",
       "      <td>12.7</td>\n",
       "      <td>9.1</td>\n",
       "      <td>11.1</td>\n",
       "      <td>25</td>\n",
       "      <td>255</td>\n",
       "    </tr>\n",
       "    <tr>\n",
       "      <th>4</th>\n",
       "      <td>3.5</td>\n",
       "      <td>6</td>\n",
       "      <td>12.1</td>\n",
       "      <td>8.7</td>\n",
       "      <td>10.6</td>\n",
       "      <td>27</td>\n",
       "      <td>244</td>\n",
       "    </tr>\n",
       "  </tbody>\n",
       "</table>\n",
       "</div>"
      ],
      "text/plain": [
       "   ENGINESIZE  CYLINDERS  FUELCONSUMPTION_CITY  FUELCONSUMPTION_HWY  \\\n",
       "0         2.0          4                   9.9                  6.7   \n",
       "1         2.4          4                  11.2                  7.7   \n",
       "2         1.5          4                   6.0                  5.8   \n",
       "3         3.5          6                  12.7                  9.1   \n",
       "4         3.5          6                  12.1                  8.7   \n",
       "\n",
       "   FUELCONSUMPTION_COMB  FUELCONSUMPTION_COMB_MPG  CO2EMISSIONS  \n",
       "0                   8.5                        33           196  \n",
       "1                   9.6                        29           221  \n",
       "2                   5.9                        48           136  \n",
       "3                  11.1                        25           255  \n",
       "4                  10.6                        27           244  "
      ]
     },
     "execution_count": 9,
     "metadata": {},
     "output_type": "execute_result"
    }
   ],
   "source": [
    "df1 = df[['ENGINESIZE', 'CYLINDERS', 'FUELCONSUMPTION_CITY', 'FUELCONSUMPTION_HWY', 'FUELCONSUMPTION_COMB', 'FUELCONSUMPTION_COMB_MPG', 'CO2EMISSIONS']] # sürekli degiskenler\n",
    "df1.head()"
   ]
  },
  {
   "cell_type": "code",
   "execution_count": 10,
   "id": "8a442cdb-6da0-45ba-9769-36acd7f97eaa",
   "metadata": {},
   "outputs": [],
   "source": [
    "X = df1.drop('CO2EMISSIONS', axis = 1) # bagımsız degiskenler (co2emissions haricindekiler)\n",
    "y = df1['CO2EMISSIONS'] # bagımsız degisken\n",
    "\n",
    "# %20 egitim seti, %80 test seti\n",
    "X_train, X_test, y_train, y_test = train_test_split(X,\n",
    "                                                   y,\n",
    "                                                   test_size = 0.20,\n",
    "                                                   random_state = 42)\n",
    "# optimum degerlerin bulunması,\n",
    "cart_params = {'min_samples_split': range(2, 100),\n",
    "              'max_leaf_nodes': range(2, 10)}\n",
    "cart = DecisionTreeRegressor()\n",
    "cart_cv = GridSearchCV(cart, \n",
    "                       cart_params, \n",
    "                       cv = 10,\n",
    "                       n_jobs = -1).fit(X_train, y_train) # 3-4 dk sürebilir.\n",
    "\n",
    "# optimum parametrelerle modelin olusturulması ve hata degerinin bulunması\n",
    "cart_model = DecisionTreeRegressor(min_samples_split= cart_cv.best_params_['min_samples_split'],\n",
    "                                  max_leaf_nodes = cart_cv.best_params_['max_leaf_nodes']).fit(X_train, y_train)\n",
    "\n",
    "y_pred = cart_model.predict(X_test)\n",
    "rmse = np.sqrt(mean_squared_error(y_test, y_pred))\n",
    "\n",
    "# model basarı degeri\n",
    "rscore = cart_model.score(X_train, y_train)"
   ]
  },
  {
   "cell_type": "code",
   "execution_count": 11,
   "id": "a7b39581-64ef-439f-8b1c-642e44bfdc5d",
   "metadata": {},
   "outputs": [
    {
     "data": {
      "text/plain": [
       "{'max_leaf_nodes': 9, 'min_samples_split': 58}"
      ]
     },
     "execution_count": 11,
     "metadata": {},
     "output_type": "execute_result"
    }
   ],
   "source": [
    "cart_cv.best_params_ # optimum parametreler"
   ]
  },
  {
   "cell_type": "code",
   "execution_count": 12,
   "id": "3035f0d4-c3cc-4243-9b7d-43cff2ecbc82",
   "metadata": {},
   "outputs": [
    {
     "data": {
      "text/plain": [
       "20.63066674339402"
      ]
     },
     "execution_count": 12,
     "metadata": {},
     "output_type": "execute_result"
    }
   ],
   "source": [
    "rmse"
   ]
  },
  {
   "cell_type": "code",
   "execution_count": 13,
   "id": "14e833e5-75cf-41cd-bb7a-f0124e0ba820",
   "metadata": {},
   "outputs": [
    {
     "data": {
      "text/plain": [
       "0.9144269507113654"
      ]
     },
     "execution_count": 13,
     "metadata": {},
     "output_type": "execute_result"
    }
   ],
   "source": [
    "rscore"
   ]
  },
  {
   "cell_type": "code",
   "execution_count": 14,
   "id": "ec55879d-2e92-4339-b00b-56b46d1eb943",
   "metadata": {},
   "outputs": [
    {
     "name": "stdout",
     "output_type": "stream",
     "text": [
      "Optimum degerler ile elde edilen hata degeri: 20.63066674339402 ve basarı yüzdesi: 91.44269507113654\n"
     ]
    }
   ],
   "source": [
    "print(f\"Optimum degerler ile elde edilen hata degeri: {rmse} ve basarı yüzdesi: {rscore * 100}\")"
   ]
  },
  {
   "cell_type": "markdown",
   "id": "d9308ac3-754a-4ad2-a235-2fa734e800d6",
   "metadata": {
    "jp-MarkdownHeadingCollapsed": true,
    "tags": []
   },
   "source": [
    "### Sonuç"
   ]
  },
  {
   "cell_type": "markdown",
   "id": "b9a3346b-eac7-4e2b-bc1f-fb203f4e53b1",
   "metadata": {},
   "source": [
    "Optimum degerler ile elde edilen hata degeri: **20.63066674339402** ve basarı yüzdesi: 91.44269507113654"
   ]
  }
 ],
 "metadata": {
  "kernelspec": {
   "display_name": "Python 3 (ipykernel)",
   "language": "python",
   "name": "python3"
  },
  "language_info": {
   "codemirror_mode": {
    "name": "ipython",
    "version": 3
   },
   "file_extension": ".py",
   "mimetype": "text/x-python",
   "name": "python",
   "nbconvert_exporter": "python",
   "pygments_lexer": "ipython3",
   "version": "3.8.10"
  }
 },
 "nbformat": 4,
 "nbformat_minor": 5
}
