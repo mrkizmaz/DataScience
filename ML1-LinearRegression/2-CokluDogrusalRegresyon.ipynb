{
 "cells": [
  {
   "cell_type": "markdown",
   "id": "2ba55f71-04ce-4420-b03a-87812cdf4f8c",
   "metadata": {
    "tags": []
   },
   "source": [
    "# 2- Çoklu Doğrusal Regresyon / Multiple Linear Regression"
   ]
  },
  {
   "cell_type": "markdown",
   "id": "8a521b6f-aef7-4bf3-b8ad-a8a66da49878",
   "metadata": {
    "tags": []
   },
   "source": [
    "## TEORİ"
   ]
  },
  {
   "cell_type": "markdown",
   "id": "aa2fabc0-ddda-4137-a2d8-5dd476895b77",
   "metadata": {},
   "source": [
    "**Temel amaç, bağımlı ve bağımsız değişkenler arasındaki ilişkiyi ifade eden doğrusal fonksiyonu bulmaktır.**"
   ]
  },
  {
   "cell_type": "markdown",
   "id": "9c436410-f785-4d03-9dce-1121f0cec49d",
   "metadata": {},
   "source": [
    "* Hata kareler toplamını minimize edecek şekilde katsayı tahminlerini bulmaya çalışarak yapılır.\n",
    "* Çoklu Doğrusal Regresyon, gözlem sayısı fazla olan verisetlerinde kullanılabilir.\n",
    "* Bağımsız değişkenlerin adet sayısı farketmez ancak bağımlı değişkenin adedi 1 olmalı ve değişkenler sürekli olmalıdır."
   ]
  },
  {
   "cell_type": "markdown",
   "id": "eb5fd7ab-3dd7-4b68-a898-b2c4ec608977",
   "metadata": {},
   "source": [
    "Veri bilimicilerin/analistlerin amacı;\n",
    "1. Bağımlı değişkeni etkilediği belirlenen değişkenler aracılığıyla bağımlı değişkenin değerlerinin tahmin edilmesi,\n",
    "2. Bağımlı değişkeni etkilediği düşünülen bağımsız değişkenlerden hangisinin veya hangilerinin bağımlı değişkeni ne yönde, ne şeklide etkilediğini tespit etmek, aralarındaki ilişkiyi tanımlamaktır."
   ]
  },
  {
   "cell_type": "markdown",
   "id": "240d3242-3e9e-4ccb-8b50-61653d85daec",
   "metadata": {
    "tags": []
   },
   "source": [
    "## UYGULAMA"
   ]
  },
  {
   "cell_type": "markdown",
   "id": "a0cd930e-79ae-40b3-9226-74217fac9c4a",
   "metadata": {
    "jp-MarkdownHeadingCollapsed": true,
    "tags": []
   },
   "source": [
    "### Verisetinin İncelenmesi ve Manipule Edilmesi"
   ]
  },
  {
   "cell_type": "markdown",
   "id": "1352a278-c2be-41c0-8466-372bf1b0ec75",
   "metadata": {},
   "source": [
    "* Kullanılan Kütüphaneler"
   ]
  },
  {
   "cell_type": "code",
   "execution_count": 1,
   "id": "90c0cf56-3353-4d67-92b6-be9c1661ffa8",
   "metadata": {},
   "outputs": [],
   "source": [
    "import pandas as pd\n",
    "import numpy as np\n",
    "import seaborn as sns\n",
    "import matplotlib.pyplot as plt\n",
    "import statsmodels.api as sm\n",
    "import statsmodels.formula.api as smf\n",
    "from sklearn.linear_model import LinearRegression\n",
    "from sklearn.metrics import mean_squared_error, r2_score\n",
    "from sklearn.model_selection import train_test_split, cross_val_score\n",
    "\n",
    "import warnings\n",
    "warnings.filterwarnings(\"ignore\", category=UserWarning)"
   ]
  },
  {
   "cell_type": "markdown",
   "id": "b8195a19-6044-4f2d-9643-3dff6d6456af",
   "metadata": {},
   "source": [
    "* Verisetinin Yüklenmsei ve İncelenmesi"
   ]
  },
  {
   "cell_type": "markdown",
   "id": "95e48294-6a5e-4fac-81b2-91f8c1da6b6d",
   "metadata": {},
   "source": [
    "Verisetini [buradan](https://mrkizmaz-s3data.s3.eu-west-1.amazonaws.com/DataSets/Advertising.csv) indirebilirsiniz."
   ]
  },
  {
   "cell_type": "code",
   "execution_count": 2,
   "id": "0693673b-1b56-4f10-90de-b28660e1f405",
   "metadata": {},
   "outputs": [
    {
     "data": {
      "text/html": [
       "<div>\n",
       "<style scoped>\n",
       "    .dataframe tbody tr th:only-of-type {\n",
       "        vertical-align: middle;\n",
       "    }\n",
       "\n",
       "    .dataframe tbody tr th {\n",
       "        vertical-align: top;\n",
       "    }\n",
       "\n",
       "    .dataframe thead th {\n",
       "        text-align: right;\n",
       "    }\n",
       "</style>\n",
       "<table border=\"1\" class=\"dataframe\">\n",
       "  <thead>\n",
       "    <tr style=\"text-align: right;\">\n",
       "      <th></th>\n",
       "      <th>TV</th>\n",
       "      <th>radio</th>\n",
       "      <th>newspaper</th>\n",
       "      <th>sales</th>\n",
       "    </tr>\n",
       "  </thead>\n",
       "  <tbody>\n",
       "    <tr>\n",
       "      <th>0</th>\n",
       "      <td>230.1</td>\n",
       "      <td>37.8</td>\n",
       "      <td>69.2</td>\n",
       "      <td>22.1</td>\n",
       "    </tr>\n",
       "    <tr>\n",
       "      <th>1</th>\n",
       "      <td>44.5</td>\n",
       "      <td>39.3</td>\n",
       "      <td>45.1</td>\n",
       "      <td>10.4</td>\n",
       "    </tr>\n",
       "    <tr>\n",
       "      <th>2</th>\n",
       "      <td>17.2</td>\n",
       "      <td>45.9</td>\n",
       "      <td>69.3</td>\n",
       "      <td>9.3</td>\n",
       "    </tr>\n",
       "    <tr>\n",
       "      <th>3</th>\n",
       "      <td>151.5</td>\n",
       "      <td>41.3</td>\n",
       "      <td>58.5</td>\n",
       "      <td>18.5</td>\n",
       "    </tr>\n",
       "    <tr>\n",
       "      <th>4</th>\n",
       "      <td>180.8</td>\n",
       "      <td>10.8</td>\n",
       "      <td>58.4</td>\n",
       "      <td>12.9</td>\n",
       "    </tr>\n",
       "  </tbody>\n",
       "</table>\n",
       "</div>"
      ],
      "text/plain": [
       "      TV  radio  newspaper  sales\n",
       "0  230.1   37.8       69.2   22.1\n",
       "1   44.5   39.3       45.1   10.4\n",
       "2   17.2   45.9       69.3    9.3\n",
       "3  151.5   41.3       58.5   18.5\n",
       "4  180.8   10.8       58.4   12.9"
      ]
     },
     "execution_count": 2,
     "metadata": {},
     "output_type": "execute_result"
    }
   ],
   "source": [
    "url = \"https://mrkizmaz-s3data.s3.eu-west-1.amazonaws.com/DataSets/Advertising.csv\"\n",
    "\n",
    "ad = pd.read_csv(url, usecols = [1, 2, 3, 4])\n",
    "df = ad.copy()\n",
    "df.head()"
   ]
  },
  {
   "cell_type": "code",
   "execution_count": 3,
   "id": "4832c2dd-730f-4841-9003-cfb4b0154a38",
   "metadata": {},
   "outputs": [
    {
     "data": {
      "text/plain": [
       "((200, 4), 2, 800)"
      ]
     },
     "execution_count": 3,
     "metadata": {},
     "output_type": "execute_result"
    }
   ],
   "source": [
    "df.shape, df.ndim, df.size # verisetinin sekli"
   ]
  },
  {
   "cell_type": "code",
   "execution_count": 4,
   "id": "8cf50fcb-10bd-4847-8fdb-877f2bc78f18",
   "metadata": {},
   "outputs": [
    {
     "data": {
      "text/plain": [
       "False"
      ]
     },
     "execution_count": 4,
     "metadata": {},
     "output_type": "execute_result"
    }
   ],
   "source": [
    "df.isnull().values.any() # verisetinde ayrık veya bos deger var mı?"
   ]
  },
  {
   "cell_type": "code",
   "execution_count": 5,
   "id": "a9a5eeb8-5855-404b-9b61-daab2f365544",
   "metadata": {},
   "outputs": [
    {
     "name": "stdout",
     "output_type": "stream",
     "text": [
      "<class 'pandas.core.frame.DataFrame'>\n",
      "RangeIndex: 200 entries, 0 to 199\n",
      "Data columns (total 4 columns):\n",
      " #   Column     Non-Null Count  Dtype  \n",
      "---  ------     --------------  -----  \n",
      " 0   TV         200 non-null    float64\n",
      " 1   radio      200 non-null    float64\n",
      " 2   newspaper  200 non-null    float64\n",
      " 3   sales      200 non-null    float64\n",
      "dtypes: float64(4)\n",
      "memory usage: 6.4 KB\n"
     ]
    }
   ],
   "source": [
    "df.info() # verisetinin bilgileri"
   ]
  },
  {
   "cell_type": "code",
   "execution_count": 6,
   "id": "cf082a0a-c31a-4ce0-ac81-e867b2eb6260",
   "metadata": {},
   "outputs": [
    {
     "data": {
      "text/html": [
       "<div>\n",
       "<style scoped>\n",
       "    .dataframe tbody tr th:only-of-type {\n",
       "        vertical-align: middle;\n",
       "    }\n",
       "\n",
       "    .dataframe tbody tr th {\n",
       "        vertical-align: top;\n",
       "    }\n",
       "\n",
       "    .dataframe thead th {\n",
       "        text-align: right;\n",
       "    }\n",
       "</style>\n",
       "<table border=\"1\" class=\"dataframe\">\n",
       "  <thead>\n",
       "    <tr style=\"text-align: right;\">\n",
       "      <th></th>\n",
       "      <th>TV</th>\n",
       "      <th>radio</th>\n",
       "      <th>newspaper</th>\n",
       "      <th>sales</th>\n",
       "    </tr>\n",
       "  </thead>\n",
       "  <tbody>\n",
       "    <tr>\n",
       "      <th>count</th>\n",
       "      <td>200.000000</td>\n",
       "      <td>200.000000</td>\n",
       "      <td>200.000000</td>\n",
       "      <td>200.000000</td>\n",
       "    </tr>\n",
       "    <tr>\n",
       "      <th>mean</th>\n",
       "      <td>147.042500</td>\n",
       "      <td>23.264000</td>\n",
       "      <td>30.554000</td>\n",
       "      <td>14.022500</td>\n",
       "    </tr>\n",
       "    <tr>\n",
       "      <th>std</th>\n",
       "      <td>85.854236</td>\n",
       "      <td>14.846809</td>\n",
       "      <td>21.778621</td>\n",
       "      <td>5.217457</td>\n",
       "    </tr>\n",
       "    <tr>\n",
       "      <th>min</th>\n",
       "      <td>0.700000</td>\n",
       "      <td>0.000000</td>\n",
       "      <td>0.300000</td>\n",
       "      <td>1.600000</td>\n",
       "    </tr>\n",
       "    <tr>\n",
       "      <th>25%</th>\n",
       "      <td>74.375000</td>\n",
       "      <td>9.975000</td>\n",
       "      <td>12.750000</td>\n",
       "      <td>10.375000</td>\n",
       "    </tr>\n",
       "    <tr>\n",
       "      <th>50%</th>\n",
       "      <td>149.750000</td>\n",
       "      <td>22.900000</td>\n",
       "      <td>25.750000</td>\n",
       "      <td>12.900000</td>\n",
       "    </tr>\n",
       "    <tr>\n",
       "      <th>75%</th>\n",
       "      <td>218.825000</td>\n",
       "      <td>36.525000</td>\n",
       "      <td>45.100000</td>\n",
       "      <td>17.400000</td>\n",
       "    </tr>\n",
       "    <tr>\n",
       "      <th>max</th>\n",
       "      <td>296.400000</td>\n",
       "      <td>49.600000</td>\n",
       "      <td>114.000000</td>\n",
       "      <td>27.000000</td>\n",
       "    </tr>\n",
       "  </tbody>\n",
       "</table>\n",
       "</div>"
      ],
      "text/plain": [
       "               TV       radio   newspaper       sales\n",
       "count  200.000000  200.000000  200.000000  200.000000\n",
       "mean   147.042500   23.264000   30.554000   14.022500\n",
       "std     85.854236   14.846809   21.778621    5.217457\n",
       "min      0.700000    0.000000    0.300000    1.600000\n",
       "25%     74.375000    9.975000   12.750000   10.375000\n",
       "50%    149.750000   22.900000   25.750000   12.900000\n",
       "75%    218.825000   36.525000   45.100000   17.400000\n",
       "max    296.400000   49.600000  114.000000   27.000000"
      ]
     },
     "execution_count": 6,
     "metadata": {},
     "output_type": "execute_result"
    }
   ],
   "source": [
    "df.describe() # verisetinin dagılım bilgileri"
   ]
  },
  {
   "cell_type": "code",
   "execution_count": 7,
   "id": "15015f5e-094a-4c0e-9974-576385926108",
   "metadata": {},
   "outputs": [
    {
     "data": {
      "text/html": [
       "<div>\n",
       "<style scoped>\n",
       "    .dataframe tbody tr th:only-of-type {\n",
       "        vertical-align: middle;\n",
       "    }\n",
       "\n",
       "    .dataframe tbody tr th {\n",
       "        vertical-align: top;\n",
       "    }\n",
       "\n",
       "    .dataframe thead th {\n",
       "        text-align: right;\n",
       "    }\n",
       "</style>\n",
       "<table border=\"1\" class=\"dataframe\">\n",
       "  <thead>\n",
       "    <tr style=\"text-align: right;\">\n",
       "      <th></th>\n",
       "      <th>TV</th>\n",
       "      <th>radio</th>\n",
       "      <th>newspaper</th>\n",
       "      <th>sales</th>\n",
       "    </tr>\n",
       "  </thead>\n",
       "  <tbody>\n",
       "    <tr>\n",
       "      <th>TV</th>\n",
       "      <td>1.000000</td>\n",
       "      <td>0.054809</td>\n",
       "      <td>0.056648</td>\n",
       "      <td>0.782224</td>\n",
       "    </tr>\n",
       "    <tr>\n",
       "      <th>radio</th>\n",
       "      <td>0.054809</td>\n",
       "      <td>1.000000</td>\n",
       "      <td>0.354104</td>\n",
       "      <td>0.576223</td>\n",
       "    </tr>\n",
       "    <tr>\n",
       "      <th>newspaper</th>\n",
       "      <td>0.056648</td>\n",
       "      <td>0.354104</td>\n",
       "      <td>1.000000</td>\n",
       "      <td>0.228299</td>\n",
       "    </tr>\n",
       "    <tr>\n",
       "      <th>sales</th>\n",
       "      <td>0.782224</td>\n",
       "      <td>0.576223</td>\n",
       "      <td>0.228299</td>\n",
       "      <td>1.000000</td>\n",
       "    </tr>\n",
       "  </tbody>\n",
       "</table>\n",
       "</div>"
      ],
      "text/plain": [
       "                 TV     radio  newspaper     sales\n",
       "TV         1.000000  0.054809   0.056648  0.782224\n",
       "radio      0.054809  1.000000   0.354104  0.576223\n",
       "newspaper  0.056648  0.354104   1.000000  0.228299\n",
       "sales      0.782224  0.576223   0.228299  1.000000"
      ]
     },
     "execution_count": 7,
     "metadata": {},
     "output_type": "execute_result"
    }
   ],
   "source": [
    "df.corr() # verisetindeki degiskenlerin aralarındaki korelasyon"
   ]
  },
  {
   "cell_type": "markdown",
   "id": "9fe511a6-d9c6-4c04-aa6a-19175783c097",
   "metadata": {
    "tags": []
   },
   "source": [
    "### Statsmodels ile Modelleme"
   ]
  },
  {
   "cell_type": "markdown",
   "id": "baf73354-f59d-42ea-83e4-45bb78c31983",
   "metadata": {
    "jp-MarkdownHeadingCollapsed": true,
    "tags": []
   },
   "source": [
    "#### Model Kurulumu"
   ]
  },
  {
   "cell_type": "code",
   "execution_count": 8,
   "id": "849c4bc6-5d43-4837-9ec3-76b6143937b8",
   "metadata": {},
   "outputs": [
    {
     "data": {
      "text/html": [
       "<table class=\"simpletable\">\n",
       "<caption>OLS Regression Results</caption>\n",
       "<tr>\n",
       "  <th>Dep. Variable:</th>          <td>sales</td>      <th>  R-squared:         </th> <td>   0.897</td>\n",
       "</tr>\n",
       "<tr>\n",
       "  <th>Model:</th>                   <td>OLS</td>       <th>  Adj. R-squared:    </th> <td>   0.896</td>\n",
       "</tr>\n",
       "<tr>\n",
       "  <th>Method:</th>             <td>Least Squares</td>  <th>  F-statistic:       </th> <td>   570.3</td>\n",
       "</tr>\n",
       "<tr>\n",
       "  <th>Date:</th>             <td>Fri, 18 Feb 2022</td> <th>  Prob (F-statistic):</th> <td>1.58e-96</td>\n",
       "</tr>\n",
       "<tr>\n",
       "  <th>Time:</th>                 <td>01:56:08</td>     <th>  Log-Likelihood:    </th> <td> -386.18</td>\n",
       "</tr>\n",
       "<tr>\n",
       "  <th>No. Observations:</th>      <td>   200</td>      <th>  AIC:               </th> <td>   780.4</td>\n",
       "</tr>\n",
       "<tr>\n",
       "  <th>Df Residuals:</th>          <td>   196</td>      <th>  BIC:               </th> <td>   793.6</td>\n",
       "</tr>\n",
       "<tr>\n",
       "  <th>Df Model:</th>              <td>     3</td>      <th>                     </th>     <td> </td>   \n",
       "</tr>\n",
       "<tr>\n",
       "  <th>Covariance Type:</th>      <td>nonrobust</td>    <th>                     </th>     <td> </td>   \n",
       "</tr>\n",
       "</table>\n",
       "<table class=\"simpletable\">\n",
       "<tr>\n",
       "      <td></td>         <th>coef</th>     <th>std err</th>      <th>t</th>      <th>P>|t|</th>  <th>[0.025</th>    <th>0.975]</th>  \n",
       "</tr>\n",
       "<tr>\n",
       "  <th>const</th>     <td>    2.9389</td> <td>    0.312</td> <td>    9.422</td> <td> 0.000</td> <td>    2.324</td> <td>    3.554</td>\n",
       "</tr>\n",
       "<tr>\n",
       "  <th>TV</th>        <td>    0.0458</td> <td>    0.001</td> <td>   32.809</td> <td> 0.000</td> <td>    0.043</td> <td>    0.049</td>\n",
       "</tr>\n",
       "<tr>\n",
       "  <th>radio</th>     <td>    0.1885</td> <td>    0.009</td> <td>   21.893</td> <td> 0.000</td> <td>    0.172</td> <td>    0.206</td>\n",
       "</tr>\n",
       "<tr>\n",
       "  <th>newspaper</th> <td>   -0.0010</td> <td>    0.006</td> <td>   -0.177</td> <td> 0.860</td> <td>   -0.013</td> <td>    0.011</td>\n",
       "</tr>\n",
       "</table>\n",
       "<table class=\"simpletable\">\n",
       "<tr>\n",
       "  <th>Omnibus:</th>       <td>60.414</td> <th>  Durbin-Watson:     </th> <td>   2.084</td>\n",
       "</tr>\n",
       "<tr>\n",
       "  <th>Prob(Omnibus):</th> <td> 0.000</td> <th>  Jarque-Bera (JB):  </th> <td> 151.241</td>\n",
       "</tr>\n",
       "<tr>\n",
       "  <th>Skew:</th>          <td>-1.327</td> <th>  Prob(JB):          </th> <td>1.44e-33</td>\n",
       "</tr>\n",
       "<tr>\n",
       "  <th>Kurtosis:</th>      <td> 6.332</td> <th>  Cond. No.          </th> <td>    454.</td>\n",
       "</tr>\n",
       "</table><br/><br/>Notes:<br/>[1] Standard Errors assume that the covariance matrix of the errors is correctly specified."
      ],
      "text/plain": [
       "<class 'statsmodels.iolib.summary.Summary'>\n",
       "\"\"\"\n",
       "                            OLS Regression Results                            \n",
       "==============================================================================\n",
       "Dep. Variable:                  sales   R-squared:                       0.897\n",
       "Model:                            OLS   Adj. R-squared:                  0.896\n",
       "Method:                 Least Squares   F-statistic:                     570.3\n",
       "Date:                Fri, 18 Feb 2022   Prob (F-statistic):           1.58e-96\n",
       "Time:                        01:56:08   Log-Likelihood:                -386.18\n",
       "No. Observations:                 200   AIC:                             780.4\n",
       "Df Residuals:                     196   BIC:                             793.6\n",
       "Df Model:                           3                                         \n",
       "Covariance Type:            nonrobust                                         \n",
       "==============================================================================\n",
       "                 coef    std err          t      P>|t|      [0.025      0.975]\n",
       "------------------------------------------------------------------------------\n",
       "const          2.9389      0.312      9.422      0.000       2.324       3.554\n",
       "TV             0.0458      0.001     32.809      0.000       0.043       0.049\n",
       "radio          0.1885      0.009     21.893      0.000       0.172       0.206\n",
       "newspaper     -0.0010      0.006     -0.177      0.860      -0.013       0.011\n",
       "==============================================================================\n",
       "Omnibus:                       60.414   Durbin-Watson:                   2.084\n",
       "Prob(Omnibus):                  0.000   Jarque-Bera (JB):              151.241\n",
       "Skew:                          -1.327   Prob(JB):                     1.44e-33\n",
       "Kurtosis:                       6.332   Cond. No.                         454.\n",
       "==============================================================================\n",
       "\n",
       "Notes:\n",
       "[1] Standard Errors assume that the covariance matrix of the errors is correctly specified.\n",
       "\"\"\""
      ]
     },
     "execution_count": 8,
     "metadata": {},
     "output_type": "execute_result"
    }
   ],
   "source": [
    "# 1. yol\n",
    "X1 = df.drop('sales', axis = 1) # bagımsız degiskenler (sales dısındaki degiskenler)\n",
    "y1 = df['sales'] # bagımlı degisken\n",
    "\n",
    "X1 = sm.add_constant(X1) # bu modelde katsayı eklenmeli!\n",
    "lm1 = sm.OLS(y1, X1)\n",
    "model1 = lm1.fit()\n",
    "model1.summary() # model hakkında özet bilgi tablosu verir"
   ]
  },
  {
   "cell_type": "code",
   "execution_count": 9,
   "id": "8a86fee4-4c25-4a13-b19b-5ba3821cd542",
   "metadata": {},
   "outputs": [
    {
     "data": {
      "text/html": [
       "<div>\n",
       "<style scoped>\n",
       "    .dataframe tbody tr th:only-of-type {\n",
       "        vertical-align: middle;\n",
       "    }\n",
       "\n",
       "    .dataframe tbody tr th {\n",
       "        vertical-align: top;\n",
       "    }\n",
       "\n",
       "    .dataframe thead th {\n",
       "        text-align: right;\n",
       "    }\n",
       "</style>\n",
       "<table border=\"1\" class=\"dataframe\">\n",
       "  <thead>\n",
       "    <tr style=\"text-align: right;\">\n",
       "      <th></th>\n",
       "      <th>const</th>\n",
       "      <th>TV</th>\n",
       "      <th>radio</th>\n",
       "      <th>newspaper</th>\n",
       "    </tr>\n",
       "  </thead>\n",
       "  <tbody>\n",
       "    <tr>\n",
       "      <th>0</th>\n",
       "      <td>1.0</td>\n",
       "      <td>230.1</td>\n",
       "      <td>37.8</td>\n",
       "      <td>69.2</td>\n",
       "    </tr>\n",
       "    <tr>\n",
       "      <th>1</th>\n",
       "      <td>1.0</td>\n",
       "      <td>44.5</td>\n",
       "      <td>39.3</td>\n",
       "      <td>45.1</td>\n",
       "    </tr>\n",
       "    <tr>\n",
       "      <th>2</th>\n",
       "      <td>1.0</td>\n",
       "      <td>17.2</td>\n",
       "      <td>45.9</td>\n",
       "      <td>69.3</td>\n",
       "    </tr>\n",
       "    <tr>\n",
       "      <th>3</th>\n",
       "      <td>1.0</td>\n",
       "      <td>151.5</td>\n",
       "      <td>41.3</td>\n",
       "      <td>58.5</td>\n",
       "    </tr>\n",
       "    <tr>\n",
       "      <th>4</th>\n",
       "      <td>1.0</td>\n",
       "      <td>180.8</td>\n",
       "      <td>10.8</td>\n",
       "      <td>58.4</td>\n",
       "    </tr>\n",
       "  </tbody>\n",
       "</table>\n",
       "</div>"
      ],
      "text/plain": [
       "   const     TV  radio  newspaper\n",
       "0    1.0  230.1   37.8       69.2\n",
       "1    1.0   44.5   39.3       45.1\n",
       "2    1.0   17.2   45.9       69.3\n",
       "3    1.0  151.5   41.3       58.5\n",
       "4    1.0  180.8   10.8       58.4"
      ]
     },
     "execution_count": 9,
     "metadata": {},
     "output_type": "execute_result"
    }
   ],
   "source": [
    "X1.head()"
   ]
  },
  {
   "cell_type": "code",
   "execution_count": 10,
   "id": "e4285494-4b6b-460b-b786-7849cc9f1dbf",
   "metadata": {},
   "outputs": [
    {
     "data": {
      "text/plain": [
       "0    22.1\n",
       "1    10.4\n",
       "2     9.3\n",
       "3    18.5\n",
       "4    12.9\n",
       "Name: sales, dtype: float64"
      ]
     },
     "execution_count": 10,
     "metadata": {},
     "output_type": "execute_result"
    }
   ],
   "source": [
    "y1.head()"
   ]
  },
  {
   "cell_type": "code",
   "execution_count": 11,
   "id": "1a1c9a23-08f6-4def-8f96-2682db6d02b6",
   "metadata": {},
   "outputs": [
    {
     "data": {
      "text/plain": [
       "const        2.938889\n",
       "TV           0.045765\n",
       "radio        0.188530\n",
       "newspaper   -0.001037\n",
       "dtype: float64"
      ]
     },
     "execution_count": 11,
     "metadata": {},
     "output_type": "execute_result"
    }
   ],
   "source": [
    "model1.params # modelin parametre degerleri"
   ]
  },
  {
   "cell_type": "code",
   "execution_count": 12,
   "id": "18c39849-e894-4658-8922-67590a373a7f",
   "metadata": {},
   "outputs": [
    {
     "data": {
      "text/html": [
       "<table class=\"simpletable\">\n",
       "<tr>\n",
       "      <td></td>         <th>coef</th>     <th>std err</th>      <th>t</th>      <th>P>|t|</th>  <th>[0.025</th>    <th>0.975]</th>  \n",
       "</tr>\n",
       "<tr>\n",
       "  <th>const</th>     <td>    2.9389</td> <td>    0.312</td> <td>    9.422</td> <td> 0.000</td> <td>    2.324</td> <td>    3.554</td>\n",
       "</tr>\n",
       "<tr>\n",
       "  <th>TV</th>        <td>    0.0458</td> <td>    0.001</td> <td>   32.809</td> <td> 0.000</td> <td>    0.043</td> <td>    0.049</td>\n",
       "</tr>\n",
       "<tr>\n",
       "  <th>radio</th>     <td>    0.1885</td> <td>    0.009</td> <td>   21.893</td> <td> 0.000</td> <td>    0.172</td> <td>    0.206</td>\n",
       "</tr>\n",
       "<tr>\n",
       "  <th>newspaper</th> <td>   -0.0010</td> <td>    0.006</td> <td>   -0.177</td> <td> 0.860</td> <td>   -0.013</td> <td>    0.011</td>\n",
       "</tr>\n",
       "</table>"
      ],
      "text/plain": [
       "<class 'statsmodels.iolib.table.SimpleTable'>"
      ]
     },
     "execution_count": 12,
     "metadata": {},
     "output_type": "execute_result"
    }
   ],
   "source": [
    "model1.summary().tables[1] # katsayı tablosu"
   ]
  },
  {
   "cell_type": "code",
   "execution_count": 13,
   "id": "459588e2-d5e8-4914-83b2-c27ef08529eb",
   "metadata": {},
   "outputs": [
    {
     "data": {
      "text/plain": [
       "1.575227256092437e-96"
      ]
     },
     "execution_count": 13,
     "metadata": {},
     "output_type": "execute_result"
    }
   ],
   "source": [
    "model1.f_pvalue # modelin anlamlılıgı"
   ]
  },
  {
   "cell_type": "code",
   "execution_count": 14,
   "id": "3054cf21-6771-4719-a9e9-a597863f86d5",
   "metadata": {},
   "outputs": [
    {
     "name": "stdout",
     "output_type": "stream",
     "text": [
      "Modelin anlamlılıgı (p-value): 0.00000\n"
     ]
    }
   ],
   "source": [
    "print(\"Modelin anlamlılıgı (p-value): %.5f\" %model1.f_pvalue) # p-value < 0.05 ise anlamlıdır"
   ]
  },
  {
   "cell_type": "code",
   "execution_count": 15,
   "id": "6d2ef1ec-6f24-4ab9-9e7e-2312acaaafbe",
   "metadata": {},
   "outputs": [
    {
     "data": {
      "text/plain": [
       "89.72106381789521"
      ]
     },
     "execution_count": 15,
     "metadata": {},
     "output_type": "execute_result"
    }
   ],
   "source": [
    "model1.rsquared * 100 # Modelin acıklanabilirlik basarı oranı"
   ]
  },
  {
   "cell_type": "code",
   "execution_count": 16,
   "id": "dff323cb-f4b8-4e5b-94ae-15fcefa22cb6",
   "metadata": {},
   "outputs": [
    {
     "data": {
      "text/html": [
       "<table class=\"simpletable\">\n",
       "<caption>OLS Regression Results</caption>\n",
       "<tr>\n",
       "  <th>Dep. Variable:</th>          <td>sales</td>      <th>  R-squared:         </th> <td>   0.897</td>\n",
       "</tr>\n",
       "<tr>\n",
       "  <th>Model:</th>                   <td>OLS</td>       <th>  Adj. R-squared:    </th> <td>   0.896</td>\n",
       "</tr>\n",
       "<tr>\n",
       "  <th>Method:</th>             <td>Least Squares</td>  <th>  F-statistic:       </th> <td>   570.3</td>\n",
       "</tr>\n",
       "<tr>\n",
       "  <th>Date:</th>             <td>Fri, 18 Feb 2022</td> <th>  Prob (F-statistic):</th> <td>1.58e-96</td>\n",
       "</tr>\n",
       "<tr>\n",
       "  <th>Time:</th>                 <td>01:56:08</td>     <th>  Log-Likelihood:    </th> <td> -386.18</td>\n",
       "</tr>\n",
       "<tr>\n",
       "  <th>No. Observations:</th>      <td>   200</td>      <th>  AIC:               </th> <td>   780.4</td>\n",
       "</tr>\n",
       "<tr>\n",
       "  <th>Df Residuals:</th>          <td>   196</td>      <th>  BIC:               </th> <td>   793.6</td>\n",
       "</tr>\n",
       "<tr>\n",
       "  <th>Df Model:</th>              <td>     3</td>      <th>                     </th>     <td> </td>   \n",
       "</tr>\n",
       "<tr>\n",
       "  <th>Covariance Type:</th>      <td>nonrobust</td>    <th>                     </th>     <td> </td>   \n",
       "</tr>\n",
       "</table>\n",
       "<table class=\"simpletable\">\n",
       "<tr>\n",
       "      <td></td>         <th>coef</th>     <th>std err</th>      <th>t</th>      <th>P>|t|</th>  <th>[0.025</th>    <th>0.975]</th>  \n",
       "</tr>\n",
       "<tr>\n",
       "  <th>Intercept</th> <td>    2.9389</td> <td>    0.312</td> <td>    9.422</td> <td> 0.000</td> <td>    2.324</td> <td>    3.554</td>\n",
       "</tr>\n",
       "<tr>\n",
       "  <th>TV</th>        <td>    0.0458</td> <td>    0.001</td> <td>   32.809</td> <td> 0.000</td> <td>    0.043</td> <td>    0.049</td>\n",
       "</tr>\n",
       "<tr>\n",
       "  <th>radio</th>     <td>    0.1885</td> <td>    0.009</td> <td>   21.893</td> <td> 0.000</td> <td>    0.172</td> <td>    0.206</td>\n",
       "</tr>\n",
       "<tr>\n",
       "  <th>newspaper</th> <td>   -0.0010</td> <td>    0.006</td> <td>   -0.177</td> <td> 0.860</td> <td>   -0.013</td> <td>    0.011</td>\n",
       "</tr>\n",
       "</table>\n",
       "<table class=\"simpletable\">\n",
       "<tr>\n",
       "  <th>Omnibus:</th>       <td>60.414</td> <th>  Durbin-Watson:     </th> <td>   2.084</td>\n",
       "</tr>\n",
       "<tr>\n",
       "  <th>Prob(Omnibus):</th> <td> 0.000</td> <th>  Jarque-Bera (JB):  </th> <td> 151.241</td>\n",
       "</tr>\n",
       "<tr>\n",
       "  <th>Skew:</th>          <td>-1.327</td> <th>  Prob(JB):          </th> <td>1.44e-33</td>\n",
       "</tr>\n",
       "<tr>\n",
       "  <th>Kurtosis:</th>      <td> 6.332</td> <th>  Cond. No.          </th> <td>    454.</td>\n",
       "</tr>\n",
       "</table><br/><br/>Notes:<br/>[1] Standard Errors assume that the covariance matrix of the errors is correctly specified."
      ],
      "text/plain": [
       "<class 'statsmodels.iolib.summary.Summary'>\n",
       "\"\"\"\n",
       "                            OLS Regression Results                            \n",
       "==============================================================================\n",
       "Dep. Variable:                  sales   R-squared:                       0.897\n",
       "Model:                            OLS   Adj. R-squared:                  0.896\n",
       "Method:                 Least Squares   F-statistic:                     570.3\n",
       "Date:                Fri, 18 Feb 2022   Prob (F-statistic):           1.58e-96\n",
       "Time:                        01:56:08   Log-Likelihood:                -386.18\n",
       "No. Observations:                 200   AIC:                             780.4\n",
       "Df Residuals:                     196   BIC:                             793.6\n",
       "Df Model:                           3                                         \n",
       "Covariance Type:            nonrobust                                         \n",
       "==============================================================================\n",
       "                 coef    std err          t      P>|t|      [0.025      0.975]\n",
       "------------------------------------------------------------------------------\n",
       "Intercept      2.9389      0.312      9.422      0.000       2.324       3.554\n",
       "TV             0.0458      0.001     32.809      0.000       0.043       0.049\n",
       "radio          0.1885      0.009     21.893      0.000       0.172       0.206\n",
       "newspaper     -0.0010      0.006     -0.177      0.860      -0.013       0.011\n",
       "==============================================================================\n",
       "Omnibus:                       60.414   Durbin-Watson:                   2.084\n",
       "Prob(Omnibus):                  0.000   Jarque-Bera (JB):              151.241\n",
       "Skew:                          -1.327   Prob(JB):                     1.44e-33\n",
       "Kurtosis:                       6.332   Cond. No.                         454.\n",
       "==============================================================================\n",
       "\n",
       "Notes:\n",
       "[1] Standard Errors assume that the covariance matrix of the errors is correctly specified.\n",
       "\"\"\""
      ]
     },
     "execution_count": 16,
     "metadata": {},
     "output_type": "execute_result"
    }
   ],
   "source": [
    "# 2. yol\n",
    "# bagımlı degisken: TV, bagımsız degiskenler: TV, radio, newspaper\n",
    "lm2 = smf.ols(formula = 'sales ~ TV + radio + newspaper', data = df) \n",
    "model2 = lm2.fit()\n",
    "model2.summary()"
   ]
  },
  {
   "cell_type": "code",
   "execution_count": 17,
   "id": "d9eec774-1215-40c7-b5a0-0d37a7dd131b",
   "metadata": {},
   "outputs": [
    {
     "data": {
      "text/plain": [
       "Intercept    2.938889\n",
       "TV           0.045765\n",
       "radio        0.188530\n",
       "newspaper   -0.001037\n",
       "dtype: float64"
      ]
     },
     "execution_count": 17,
     "metadata": {},
     "output_type": "execute_result"
    }
   ],
   "source": [
    "model2.params # model parametreleri"
   ]
  },
  {
   "cell_type": "code",
   "execution_count": 18,
   "id": "8cbf24ce-6711-46b0-a946-1208ea58ff33",
   "metadata": {},
   "outputs": [
    {
     "name": "stdout",
     "output_type": "stream",
     "text": [
      "Modelin anlamlılıgı (p-value): 0.00000\n"
     ]
    }
   ],
   "source": [
    "print(\"Modelin anlamlılıgı (p-value): %.5f\" %model2.f_pvalue) # 0.05'den küçük olmalıdır."
   ]
  },
  {
   "cell_type": "code",
   "execution_count": 19,
   "id": "fdd90231-515a-496a-b120-9d9cb9f159c9",
   "metadata": {},
   "outputs": [
    {
     "data": {
      "text/plain": [
       "89.72106381789521"
      ]
     },
     "execution_count": 19,
     "metadata": {},
     "output_type": "execute_result"
    }
   ],
   "source": [
    "model2.rsquared * 100 # Modelin basarı yüzdesi"
   ]
  },
  {
   "cell_type": "code",
   "execution_count": 20,
   "id": "6a7b804e-f8f8-4b08-b117-2e7b4a5da43a",
   "metadata": {},
   "outputs": [],
   "source": [
    "# Sonuç: İki modelde de sonuclar neredeyse aynı, bu nedenle uygulama alanlarında herhangi birinin kullanılması farketmez!"
   ]
  },
  {
   "cell_type": "code",
   "execution_count": 21,
   "id": "ce4509a4-c610-4e9b-ac1a-81f219981cde",
   "metadata": {},
   "outputs": [
    {
     "data": {
      "text/plain": [
       "'Statsmodels ile elde edilen denklem: Sales = 2.9388893694594076 + TV * 0.04576464545539764 + radio * 0.1885300169182042 + newspaper * -0.0010374930424762382'"
      ]
     },
     "execution_count": 21,
     "metadata": {},
     "output_type": "execute_result"
    }
   ],
   "source": [
    "# Model denkemi,\n",
    "denklem_stats = \"Statsmodels ile elde edilen denklem: Sales = {} + TV * {} + radio * {} + newspaper * {}\".format(model1.params[0],\n",
    "                                                                                                                       model1.params[1],\n",
    "                                                                                                                       model1.params[2],\n",
    "                                                                                                                       model1.params[3])\n",
    "denklem_stats"
   ]
  },
  {
   "cell_type": "markdown",
   "id": "99b9e4e8-edfb-4dfa-b306-abdb12ce4913",
   "metadata": {
    "jp-MarkdownHeadingCollapsed": true,
    "tags": []
   },
   "source": [
    "#### Tahminleme"
   ]
  },
  {
   "cell_type": "code",
   "execution_count": 22,
   "id": "d0e00fb0-8e29-4c78-8af8-2e8290e5b9e5",
   "metadata": {},
   "outputs": [
    {
     "data": {
      "text/html": [
       "<div>\n",
       "<style scoped>\n",
       "    .dataframe tbody tr th:only-of-type {\n",
       "        vertical-align: middle;\n",
       "    }\n",
       "\n",
       "    .dataframe tbody tr th {\n",
       "        vertical-align: top;\n",
       "    }\n",
       "\n",
       "    .dataframe thead th {\n",
       "        text-align: right;\n",
       "    }\n",
       "</style>\n",
       "<table border=\"1\" class=\"dataframe\">\n",
       "  <thead>\n",
       "    <tr style=\"text-align: right;\">\n",
       "      <th></th>\n",
       "      <th>TV</th>\n",
       "      <th>radio</th>\n",
       "      <th>newspaper</th>\n",
       "      <th>sales</th>\n",
       "    </tr>\n",
       "  </thead>\n",
       "  <tbody>\n",
       "    <tr>\n",
       "      <th>0</th>\n",
       "      <td>230.1</td>\n",
       "      <td>37.8</td>\n",
       "      <td>69.2</td>\n",
       "      <td>22.1</td>\n",
       "    </tr>\n",
       "    <tr>\n",
       "      <th>1</th>\n",
       "      <td>44.5</td>\n",
       "      <td>39.3</td>\n",
       "      <td>45.1</td>\n",
       "      <td>10.4</td>\n",
       "    </tr>\n",
       "    <tr>\n",
       "      <th>2</th>\n",
       "      <td>17.2</td>\n",
       "      <td>45.9</td>\n",
       "      <td>69.3</td>\n",
       "      <td>9.3</td>\n",
       "    </tr>\n",
       "    <tr>\n",
       "      <th>3</th>\n",
       "      <td>151.5</td>\n",
       "      <td>41.3</td>\n",
       "      <td>58.5</td>\n",
       "      <td>18.5</td>\n",
       "    </tr>\n",
       "    <tr>\n",
       "      <th>4</th>\n",
       "      <td>180.8</td>\n",
       "      <td>10.8</td>\n",
       "      <td>58.4</td>\n",
       "      <td>12.9</td>\n",
       "    </tr>\n",
       "  </tbody>\n",
       "</table>\n",
       "</div>"
      ],
      "text/plain": [
       "      TV  radio  newspaper  sales\n",
       "0  230.1   37.8       69.2   22.1\n",
       "1   44.5   39.3       45.1   10.4\n",
       "2   17.2   45.9       69.3    9.3\n",
       "3  151.5   41.3       58.5   18.5\n",
       "4  180.8   10.8       58.4   12.9"
      ]
     },
     "execution_count": 22,
     "metadata": {},
     "output_type": "execute_result"
    }
   ],
   "source": [
    "df.head()"
   ]
  },
  {
   "cell_type": "markdown",
   "id": "2dfe90a1-d9a7-4da9-a635-09dc6600c053",
   "metadata": {},
   "source": [
    "* Örneğin, reklam harcamalarında 130 birim TV, 40 birim radio ve 10 birim de newspaper harcama olduğunda satışların tahmini değeri ne olur?"
   ]
  },
  {
   "cell_type": "code",
   "execution_count": 23,
   "id": "b375b3a6-67b3-4e73-b30e-0e601956bd0b",
   "metadata": {},
   "outputs": [],
   "source": [
    "birimler = [[1, 130, 40, 10]] # sabit degerin katsayı degeri 1 olarak verilmelidir!"
   ]
  },
  {
   "cell_type": "code",
   "execution_count": 24,
   "id": "3d1d3125-fe99-42d8-9c19-fad585d48f05",
   "metadata": {},
   "outputs": [
    {
     "data": {
      "text/plain": [
       "array([16.41911902])"
      ]
     },
     "execution_count": 24,
     "metadata": {},
     "output_type": "execute_result"
    }
   ],
   "source": [
    "model1.predict(birimler)"
   ]
  },
  {
   "cell_type": "code",
   "execution_count": 25,
   "id": "f30737cb-2f0c-47f1-ba6a-d1a457858f1b",
   "metadata": {},
   "outputs": [],
   "source": [
    "# Modelin basarı degerlerinin hesaplanması,"
   ]
  },
  {
   "cell_type": "code",
   "execution_count": 26,
   "id": "eac22661-132e-4fb4-a52d-51c7d1ad15ca",
   "metadata": {},
   "outputs": [
    {
     "data": {
      "text/plain": [
       "0    22.1\n",
       "1    10.4\n",
       "2     9.3\n",
       "3    18.5\n",
       "4    12.9\n",
       "Name: sales, dtype: float64"
      ]
     },
     "execution_count": 26,
     "metadata": {},
     "output_type": "execute_result"
    }
   ],
   "source": [
    "y1.head() # gercek y degerleri"
   ]
  },
  {
   "cell_type": "code",
   "execution_count": 27,
   "id": "c7b03814-b128-435f-9b21-7abbf2bb3450",
   "metadata": {},
   "outputs": [],
   "source": [
    "ypred1 = model1.predict(X1) # bagımsız degiskenler üzerinden tahmin edilen y degerleri"
   ]
  },
  {
   "cell_type": "code",
   "execution_count": 28,
   "id": "0dd38578-4620-4ccf-a3e2-30d3779ada16",
   "metadata": {},
   "outputs": [
    {
     "data": {
      "text/plain": [
       "0    20.523974\n",
       "1    12.337855\n",
       "2    12.307671\n",
       "3    17.597830\n",
       "4    13.188672\n",
       "dtype: float64"
      ]
     },
     "execution_count": 28,
     "metadata": {},
     "output_type": "execute_result"
    }
   ],
   "source": [
    "ypred1[0:5]"
   ]
  },
  {
   "cell_type": "code",
   "execution_count": 29,
   "id": "05244e1d-fd04-43de-9665-0cb8900c4db6",
   "metadata": {},
   "outputs": [],
   "source": [
    "mse = mean_squared_error(y1, ypred1) # MSE\n",
    "rmse_stats = np.sqrt(mse) # RMSE"
   ]
  },
  {
   "cell_type": "code",
   "execution_count": 30,
   "id": "744e857e-3620-4e3a-9a00-14238136747d",
   "metadata": {},
   "outputs": [
    {
     "data": {
      "text/plain": [
       "1.66857014072257"
      ]
     },
     "execution_count": 30,
     "metadata": {},
     "output_type": "execute_result"
    }
   ],
   "source": [
    "rmse_stats # hata basarı degeri [önemli]"
   ]
  },
  {
   "cell_type": "code",
   "execution_count": 31,
   "id": "26713de2-2660-45f2-afb0-88f3931ffcee",
   "metadata": {},
   "outputs": [],
   "source": [
    "r2_stats = r2_score(y1, ypred1)"
   ]
  },
  {
   "cell_type": "code",
   "execution_count": 32,
   "id": "662f609b-388a-41a7-9603-45f05e2872c4",
   "metadata": {},
   "outputs": [
    {
     "data": {
      "text/plain": [
       "89.72106381789521"
      ]
     },
     "execution_count": 32,
     "metadata": {},
     "output_type": "execute_result"
    }
   ],
   "source": [
    "r2_stats * 100 # modelin basarı yüzdesi [önemli]"
   ]
  },
  {
   "cell_type": "code",
   "execution_count": 33,
   "id": "8d4afd46-e521-4c5d-b1ea-ba17d40f1a0e",
   "metadata": {},
   "outputs": [
    {
     "name": "stdout",
     "output_type": "stream",
     "text": [
      "Statsmodels ile elde edilen denklem: Sales = 2.9388893694594076 + TV * 0.04576464545539764 + radio * 0.1885300169182042 + newspaper * -0.0010374930424762382\n",
      "Modelin hata degeri: 1.66857014072257\n",
      "Modelin basarı yüzdesi:  89.72106381789521\n"
     ]
    }
   ],
   "source": [
    "print(denklem_stats)\n",
    "print(f\"Modelin hata degeri: {rmse_stats}\")\n",
    "print(\"Modelin basarı yüzdesi: \", r2_stats * 100)"
   ]
  },
  {
   "cell_type": "markdown",
   "id": "d41dfee7-1b3d-4e36-bdc0-55c3d832d03e",
   "metadata": {
    "tags": []
   },
   "source": [
    "### ScikitLearn ile Modelleme"
   ]
  },
  {
   "cell_type": "markdown",
   "id": "34e84a95-9d3a-4f6e-9115-7ebe3b34a967",
   "metadata": {
    "jp-MarkdownHeadingCollapsed": true,
    "tags": []
   },
   "source": [
    "#### Model Kurulumu"
   ]
  },
  {
   "cell_type": "code",
   "execution_count": 34,
   "id": "5e4b95fd-ca30-42b8-9fc2-0ba4de4ade23",
   "metadata": {},
   "outputs": [
    {
     "data": {
      "text/plain": [
       "LinearRegression()"
      ]
     },
     "execution_count": 34,
     "metadata": {},
     "output_type": "execute_result"
    }
   ],
   "source": [
    "X = df.drop('sales', axis = 1) # bagımsız degiskenler\n",
    "y = df['sales'] # bagımlı degiskenler\n",
    "\n",
    "# %80 egitim, %20 test seti,\n",
    "X_train, X_test, y_train, y_test = train_test_split(X,\n",
    "                                                   y,\n",
    "                                                   test_size = 0.20,\n",
    "                                                   random_state = 42)\n",
    "# model nesnesinin olusturulması ve fit edilmesi\n",
    "lm = LinearRegression() # nesne modeli\n",
    "model = lm.fit(X_train, y_train) # modeli fit eder\n",
    "model"
   ]
  },
  {
   "cell_type": "code",
   "execution_count": 35,
   "id": "23df5337-8155-44da-97fd-7463e2c78476",
   "metadata": {},
   "outputs": [
    {
     "data": {
      "text/plain": [
       "2.9790673381226256"
      ]
     },
     "execution_count": 35,
     "metadata": {},
     "output_type": "execute_result"
    }
   ],
   "source": [
    "model.intercept_ # sabit deger"
   ]
  },
  {
   "cell_type": "code",
   "execution_count": 36,
   "id": "e8157b15-34d9-481a-a143-181ae949331a",
   "metadata": {},
   "outputs": [
    {
     "data": {
      "text/plain": [
       "array([0.04472952, 0.18919505, 0.00276111])"
      ]
     },
     "execution_count": 36,
     "metadata": {},
     "output_type": "execute_result"
    }
   ],
   "source": [
    "model.coef_ # katsayılar"
   ]
  },
  {
   "cell_type": "code",
   "execution_count": 37,
   "id": "dfb5f303-c613-4a39-a3b2-a1bf9cb65a5d",
   "metadata": {},
   "outputs": [
    {
     "data": {
      "text/plain": [
       "0.8957008271017817"
      ]
     },
     "execution_count": 37,
     "metadata": {},
     "output_type": "execute_result"
    }
   ],
   "source": [
    "model.score(X_train, y_train) # modelin basarı degeri (r-squared)"
   ]
  },
  {
   "cell_type": "code",
   "execution_count": 38,
   "id": "d0df414a-dcd1-40ed-a5ec-1807af12d586",
   "metadata": {},
   "outputs": [
    {
     "name": "stdout",
     "output_type": "stream",
     "text": [
      "Scikitlearn ile elde edilen denklem: Sales = 2.9790673381226256 + TV * 0.044729517468716326 + radio * 0.1891950542343766 + newspaper * 0.0027611143413672056\n"
     ]
    }
   ],
   "source": [
    "denklem_sklearn = \"Scikitlearn ile elde edilen denklem: Sales = {} + TV * {} + radio * {} + newspaper * {}\".format(model.intercept_,\n",
    "                                                                                                                   model.coef_[0],\n",
    "                                                                                                                   model.coef_[1],\n",
    "                                                                                                                   model.coef_[2])\n",
    "print(denklem_sklearn)"
   ]
  },
  {
   "cell_type": "markdown",
   "id": "b5de0429-d138-404a-ad38-1ece232aa6b3",
   "metadata": {
    "jp-MarkdownHeadingCollapsed": true,
    "tags": []
   },
   "source": [
    "#### Tahminleme"
   ]
  },
  {
   "cell_type": "code",
   "execution_count": 39,
   "id": "13171554-29d5-4a66-a394-f1ca8fb8ac77",
   "metadata": {},
   "outputs": [
    {
     "data": {
      "text/plain": [
       "0    22.1\n",
       "1    10.4\n",
       "2     9.3\n",
       "3    18.5\n",
       "4    12.9\n",
       "5     7.2\n",
       "6    11.8\n",
       "7    13.2\n",
       "8     4.8\n",
       "9    10.6\n",
       "Name: sales, dtype: float64"
      ]
     },
     "execution_count": 39,
     "metadata": {},
     "output_type": "execute_result"
    }
   ],
   "source": [
    "y.head(10) # gercek y degerleri"
   ]
  },
  {
   "cell_type": "code",
   "execution_count": 40,
   "id": "d6d6004f-19bf-49dd-b47d-4f7b08c8e0e3",
   "metadata": {},
   "outputs": [
    {
     "data": {
      "text/plain": [
       "array([16.38931792])"
      ]
     },
     "execution_count": 40,
     "metadata": {},
     "output_type": "execute_result"
    }
   ],
   "source": [
    "model.predict([[130,40,10]]) # örnek tahmin; 130 TV, 40 radio, 10 np icin sales ne olur?"
   ]
  },
  {
   "cell_type": "code",
   "execution_count": 41,
   "id": "78b60631-7444-4faa-88ec-88c3719b68d5",
   "metadata": {},
   "outputs": [
    {
     "data": {
      "text/plain": [
       "array([16.4080242 , 20.88988209, 21.55384318, 10.60850256, 22.11237326,\n",
       "       13.10559172, 21.05719192,  7.46101034, 13.60634581, 15.15506967])"
      ]
     },
     "execution_count": 41,
     "metadata": {},
     "output_type": "execute_result"
    }
   ],
   "source": [
    "ypred = model.predict(X_test)\n",
    "ypred[0:10] # tahmin edilen y degerleri"
   ]
  },
  {
   "cell_type": "code",
   "execution_count": 42,
   "id": "01899df8-c95c-493c-9ff0-0c2c69065e8b",
   "metadata": {},
   "outputs": [],
   "source": [
    "mse = mean_squared_error(y_test, ypred) # MSE\n",
    "rmse_sklearn = np.sqrt(mse) # RMSE"
   ]
  },
  {
   "cell_type": "code",
   "execution_count": 43,
   "id": "e1fdda06-eab3-4971-a576-8492c909dce6",
   "metadata": {},
   "outputs": [
    {
     "data": {
      "text/plain": [
       "1.7815996615334502"
      ]
     },
     "execution_count": 43,
     "metadata": {},
     "output_type": "execute_result"
    }
   ],
   "source": [
    "rmse_sklearn # Hata degeri [önemli]"
   ]
  },
  {
   "cell_type": "code",
   "execution_count": 44,
   "id": "a5306068-51f8-4375-9516-a27ac97bc452",
   "metadata": {},
   "outputs": [],
   "source": [
    "r2_sklearn = r2_score(y_test, ypred)"
   ]
  },
  {
   "cell_type": "code",
   "execution_count": 45,
   "id": "f106b790-2a3e-4954-bbe4-7ac4960b1f73",
   "metadata": {},
   "outputs": [
    {
     "data": {
      "text/plain": [
       "89.9438024100912"
      ]
     },
     "execution_count": 45,
     "metadata": {},
     "output_type": "execute_result"
    }
   ],
   "source": [
    "r2_sklearn * 100 # Modelin basarı yüzdesi [önemli]"
   ]
  },
  {
   "cell_type": "code",
   "execution_count": 46,
   "id": "3dc83123-d96a-4f53-aadc-144c327ff7ed",
   "metadata": {},
   "outputs": [
    {
     "name": "stdout",
     "output_type": "stream",
     "text": [
      "Scikitlearn ile elde edilen denklem: Sales = 2.9790673381226256 + TV * 0.044729517468716326 + radio * 0.1891950542343766 + newspaper * 0.0027611143413672056\n",
      "Modelin hata degeri: 1.7815996615334502\n",
      "Modelin basarı yüzdesi:  89.9438024100912\n"
     ]
    }
   ],
   "source": [
    "print(denklem_sklearn)\n",
    "print(f\"Modelin hata degeri: {rmse_sklearn}\")\n",
    "print(\"Modelin basarı yüzdesi: \", r2_sklearn * 100)"
   ]
  },
  {
   "cell_type": "markdown",
   "id": "b04ed597-5a11-4597-b467-ca2df470d60b",
   "metadata": {
    "tags": []
   },
   "source": [
    "#### Model Tuning / Model Doğrulama"
   ]
  },
  {
   "cell_type": "markdown",
   "id": "0dbb56c2-95bf-4184-b754-07eabdcb5b31",
   "metadata": {},
   "source": [
    "* random_state = 42, 120, 10, ... random state degerleri degisirse modelin parametreleri de degisir. \n",
    "* Bu sorunu gidermek icin, model üzerinde capraz dogrulama (cross validation) uygulanır. \n",
    "* Böylelikle modelin dogrulugu hakkında daha net bilgi elde edilir."
   ]
  },
  {
   "cell_type": "code",
   "execution_count": 47,
   "id": "1c8d5818-417f-4daa-8143-3111cf25cfb0",
   "metadata": {},
   "outputs": [
    {
     "data": {
      "text/plain": [
       "array([0.71981527, 0.92992247, 0.92652848, 0.91883369, 0.80234225])"
      ]
     },
     "execution_count": 47,
     "metadata": {},
     "output_type": "execute_result"
    }
   ],
   "source": [
    "# model veriseti üzerinde 5 katlı capraz dogrulama uygulandıgında r2 (r-squared) degerleri\n",
    "cross_val_score(model, X_train, y_train, cv = 5, scoring = \"r2\")"
   ]
  },
  {
   "cell_type": "code",
   "execution_count": 48,
   "id": "0315fc25-be1d-4c02-84f2-0ba39d795925",
   "metadata": {},
   "outputs": [],
   "source": [
    "r2_real = cross_val_score(model, X_train, y_train, cv = 5, scoring = \"r2\").mean() # r2 degerlerinin ortalaması"
   ]
  },
  {
   "cell_type": "code",
   "execution_count": 49,
   "id": "cf07b8ba-cc3d-4592-9ebf-a853a9d23275",
   "metadata": {},
   "outputs": [
    {
     "data": {
      "text/plain": [
       "85.94884313276513"
      ]
     },
     "execution_count": 49,
     "metadata": {},
     "output_type": "execute_result"
    }
   ],
   "source": [
    "r2_real * 100 # modelin basarı yüzdesi [önemli]"
   ]
  },
  {
   "cell_type": "code",
   "execution_count": 50,
   "id": "04f10dd2-1fbc-4489-8e8f-539f52c77356",
   "metadata": {},
   "outputs": [],
   "source": [
    "rmse_real = np.sqrt(-cross_val_score(model, X_train, y_train, cv = 10, scoring = \"neg_mean_squared_error\").mean()) # RMSE"
   ]
  },
  {
   "cell_type": "code",
   "execution_count": 51,
   "id": "6ce07356-8d80-4592-be07-9d63862a1537",
   "metadata": {},
   "outputs": [
    {
     "data": {
      "text/plain": [
       "1.7201075950880973"
      ]
     },
     "execution_count": 51,
     "metadata": {},
     "output_type": "execute_result"
    }
   ],
   "source": [
    "rmse_real # modelin hata degeri [önemli]"
   ]
  },
  {
   "cell_type": "code",
   "execution_count": 54,
   "id": "f99cf95e-e40a-4cb6-b35c-4eaa19899722",
   "metadata": {},
   "outputs": [
    {
     "name": "stdout",
     "output_type": "stream",
     "text": [
      "Cross Validation yöntemiyle elde edilen hata degerleri;\n",
      "Modelin hata degeri:  1.7201075950880973\n",
      "Modelin basarı yüzdesi:  85.94884313276513\n"
     ]
    }
   ],
   "source": [
    "print(\"Cross Validation yöntemiyle elde edilen hata degerleri;\")\n",
    "print(\"Modelin hata degeri: \", rmse_real)\n",
    "print(\"Modelin basarı yüzdesi: \", r2_real * 100)"
   ]
  },
  {
   "cell_type": "markdown",
   "id": "4bdc215a-569c-4090-b0f9-604114c4b181",
   "metadata": {
    "tags": []
   },
   "source": [
    "## SONUÇ"
   ]
  },
  {
   "cell_type": "markdown",
   "id": "b647ca3f-059a-4354-b249-de2fdcaf91eb",
   "metadata": {},
   "source": [
    "* Statsmodels ile elde edilen denklem: Sales = 2.9388893694594076 + TV * 0.04576464545539764 + radio * 0.1885300169182042 + newspaper * -0.0010374930424762382\n",
    "    * Modelin hata degeri: **1.66857014072257**\n",
    "    * Modelin basarı yüzdesi:  **89.72106381789521**\n",
    "* Scikitlearn ile elde edilen denklem: Sales = 2.9790673381226256 + TV * 0.044729517468716326 + radio * 0.1891950542343766 + newspaper * 0.0027611143413672056\n",
    "    * Modelin hata degeri: **1.7815996615334502**\n",
    "    * Modelin basarı yüzdesi:  **89.9438024100912**\n",
    "* Cross Validation yöntemiyle elde edilen hata degerleri;\n",
    "    * Modelin hata degeri:  **1.7201075950880973**\n",
    "    * Modelin basarı yüzdesi:  **85.94884313276513**\n"
   ]
  }
 ],
 "metadata": {
  "kernelspec": {
   "display_name": "Python 3 (ipykernel)",
   "language": "python",
   "name": "python3"
  },
  "language_info": {
   "codemirror_mode": {
    "name": "ipython",
    "version": 3
   },
   "file_extension": ".py",
   "mimetype": "text/x-python",
   "name": "python",
   "nbconvert_exporter": "python",
   "pygments_lexer": "ipython3",
   "version": "3.8.10"
  }
 },
 "nbformat": 4,
 "nbformat_minor": 5
}
