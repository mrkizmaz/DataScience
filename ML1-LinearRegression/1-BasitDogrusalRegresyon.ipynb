{
 "cells": [
  {
   "cell_type": "markdown",
   "id": "2c38c1fd-d3ad-489b-b719-dddfa2635d8a",
   "metadata": {
    "tags": []
   },
   "source": [
    "# 1- Basit Doğrusal Regresyon / Simple Linear Regression"
   ]
  },
  {
   "cell_type": "markdown",
   "id": "fcbcb6fa-5f79-40a2-8726-cfbbb9b0d974",
   "metadata": {
    "tags": []
   },
   "source": [
    "## TEORİ"
   ]
  },
  {
   "cell_type": "markdown",
   "id": "089a7008-89a5-40de-8032-a13ccc1a0329",
   "metadata": {},
   "source": [
    "**Temel amaç, bağımlı ve bağımsız değişken arasındaki ilişkiyi ifade eden doğrusal fonksiyonu bulmaktır.**\n",
    "* Doğrusal Regresyon, belirli bir bağımsız değişkene dayalı olarak bir bağımlı değişkeni tahmin eder. Böylece iki değişken arasında doğrusal ilişki bulunur.\n",
    "* Hata kareler toplamını minimize edecek katsayı tahminlerini bulmaya çalışarak yapılır.\n",
    "* Basit linear regresyon genelde gözlem sayısı az olan verisetlerinde uygulanır.\n",
    "* Bağımlı ve bağımsız değişkenlerin adetleri 1 olmalı ve sürekli değişkenlerden seçilmelidir."
   ]
  },
  {
   "cell_type": "markdown",
   "id": "73e705f2-2ebc-4f6c-9111-ee9baa3b4bb5",
   "metadata": {
    "tags": []
   },
   "source": [
    "## UYGULAMA"
   ]
  },
  {
   "cell_type": "markdown",
   "id": "e71ce3e3-5ee6-4625-9801-9463aa02aa38",
   "metadata": {
    "jp-MarkdownHeadingCollapsed": true,
    "tags": []
   },
   "source": [
    "### Verisetinin İncelenmesi ve Manipule Edilmesi"
   ]
  },
  {
   "cell_type": "markdown",
   "id": "4b8775f6-2603-4290-997a-60c41ed15bb1",
   "metadata": {
    "jp-MarkdownHeadingCollapsed": true,
    "tags": []
   },
   "source": [
    "* Kullanılan kütüphanelerin dahil edilmesi"
   ]
  },
  {
   "cell_type": "code",
   "execution_count": 1,
   "id": "87f0c1cb-2ea7-494a-bf28-481c82ab2fed",
   "metadata": {},
   "outputs": [],
   "source": [
    "import pandas as pd\n",
    "import numpy as np\n",
    "import seaborn as sns\n",
    "import statsmodels.api as sm\n",
    "import matplotlib.pyplot as plt\n",
    "import statsmodels.formula.api as smf\n",
    "from sklearn.linear_model import LinearRegression\n",
    "from sklearn.metrics import mean_squared_error, r2_score\n",
    "from sklearn.model_selection import train_test_split\n",
    "\n",
    "import warnings\n",
    "warnings.filterwarnings(\"ignore\", category = UserWarning)"
   ]
  },
  {
   "cell_type": "markdown",
   "id": "744679b1-7d43-4cb8-9b2c-9e0c5278709d",
   "metadata": {},
   "source": [
    "* Veri setinin yüklenmesi ve incelenmesi"
   ]
  },
  {
   "cell_type": "markdown",
   "id": "6d0793fd-6988-4312-bf72-f391663beb7e",
   "metadata": {},
   "source": [
    "Verisetini [buradan](https://mrkizmaz-s3data.s3.eu-west-1.amazonaws.com/DataSets/Advertising.csv) indirebilirsiniz."
   ]
  },
  {
   "cell_type": "code",
   "execution_count": 2,
   "id": "cbbd2287-9b6f-4cd6-aaa1-91f47b5d6162",
   "metadata": {},
   "outputs": [
    {
     "data": {
      "text/html": [
       "<div>\n",
       "<style scoped>\n",
       "    .dataframe tbody tr th:only-of-type {\n",
       "        vertical-align: middle;\n",
       "    }\n",
       "\n",
       "    .dataframe tbody tr th {\n",
       "        vertical-align: top;\n",
       "    }\n",
       "\n",
       "    .dataframe thead th {\n",
       "        text-align: right;\n",
       "    }\n",
       "</style>\n",
       "<table border=\"1\" class=\"dataframe\">\n",
       "  <thead>\n",
       "    <tr style=\"text-align: right;\">\n",
       "      <th></th>\n",
       "      <th>Unnamed: 0</th>\n",
       "      <th>TV</th>\n",
       "      <th>radio</th>\n",
       "      <th>newspaper</th>\n",
       "      <th>sales</th>\n",
       "    </tr>\n",
       "  </thead>\n",
       "  <tbody>\n",
       "    <tr>\n",
       "      <th>0</th>\n",
       "      <td>1</td>\n",
       "      <td>230.1</td>\n",
       "      <td>37.8</td>\n",
       "      <td>69.2</td>\n",
       "      <td>22.1</td>\n",
       "    </tr>\n",
       "    <tr>\n",
       "      <th>1</th>\n",
       "      <td>2</td>\n",
       "      <td>44.5</td>\n",
       "      <td>39.3</td>\n",
       "      <td>45.1</td>\n",
       "      <td>10.4</td>\n",
       "    </tr>\n",
       "    <tr>\n",
       "      <th>2</th>\n",
       "      <td>3</td>\n",
       "      <td>17.2</td>\n",
       "      <td>45.9</td>\n",
       "      <td>69.3</td>\n",
       "      <td>9.3</td>\n",
       "    </tr>\n",
       "    <tr>\n",
       "      <th>3</th>\n",
       "      <td>4</td>\n",
       "      <td>151.5</td>\n",
       "      <td>41.3</td>\n",
       "      <td>58.5</td>\n",
       "      <td>18.5</td>\n",
       "    </tr>\n",
       "    <tr>\n",
       "      <th>4</th>\n",
       "      <td>5</td>\n",
       "      <td>180.8</td>\n",
       "      <td>10.8</td>\n",
       "      <td>58.4</td>\n",
       "      <td>12.9</td>\n",
       "    </tr>\n",
       "  </tbody>\n",
       "</table>\n",
       "</div>"
      ],
      "text/plain": [
       "   Unnamed: 0     TV  radio  newspaper  sales\n",
       "0           1  230.1   37.8       69.2   22.1\n",
       "1           2   44.5   39.3       45.1   10.4\n",
       "2           3   17.2   45.9       69.3    9.3\n",
       "3           4  151.5   41.3       58.5   18.5\n",
       "4           5  180.8   10.8       58.4   12.9"
      ]
     },
     "execution_count": 2,
     "metadata": {},
     "output_type": "execute_result"
    }
   ],
   "source": [
    "url = \"https://mrkizmaz-s3data.s3.eu-west-1.amazonaws.com/DataSets/Advertising.csv\"\n",
    "\n",
    "ad = pd.read_csv(url)\n",
    "df = ad.copy()\n",
    "df.head()"
   ]
  },
  {
   "cell_type": "code",
   "execution_count": 3,
   "id": "47d3258c-a454-4998-afd2-bd5ce7ddde99",
   "metadata": {},
   "outputs": [
    {
     "data": {
      "text/html": [
       "<div>\n",
       "<style scoped>\n",
       "    .dataframe tbody tr th:only-of-type {\n",
       "        vertical-align: middle;\n",
       "    }\n",
       "\n",
       "    .dataframe tbody tr th {\n",
       "        vertical-align: top;\n",
       "    }\n",
       "\n",
       "    .dataframe thead th {\n",
       "        text-align: right;\n",
       "    }\n",
       "</style>\n",
       "<table border=\"1\" class=\"dataframe\">\n",
       "  <thead>\n",
       "    <tr style=\"text-align: right;\">\n",
       "      <th></th>\n",
       "      <th>TV</th>\n",
       "      <th>radio</th>\n",
       "      <th>newspaper</th>\n",
       "      <th>sales</th>\n",
       "    </tr>\n",
       "  </thead>\n",
       "  <tbody>\n",
       "    <tr>\n",
       "      <th>0</th>\n",
       "      <td>230.1</td>\n",
       "      <td>37.8</td>\n",
       "      <td>69.2</td>\n",
       "      <td>22.1</td>\n",
       "    </tr>\n",
       "    <tr>\n",
       "      <th>1</th>\n",
       "      <td>44.5</td>\n",
       "      <td>39.3</td>\n",
       "      <td>45.1</td>\n",
       "      <td>10.4</td>\n",
       "    </tr>\n",
       "    <tr>\n",
       "      <th>2</th>\n",
       "      <td>17.2</td>\n",
       "      <td>45.9</td>\n",
       "      <td>69.3</td>\n",
       "      <td>9.3</td>\n",
       "    </tr>\n",
       "    <tr>\n",
       "      <th>3</th>\n",
       "      <td>151.5</td>\n",
       "      <td>41.3</td>\n",
       "      <td>58.5</td>\n",
       "      <td>18.5</td>\n",
       "    </tr>\n",
       "    <tr>\n",
       "      <th>4</th>\n",
       "      <td>180.8</td>\n",
       "      <td>10.8</td>\n",
       "      <td>58.4</td>\n",
       "      <td>12.9</td>\n",
       "    </tr>\n",
       "  </tbody>\n",
       "</table>\n",
       "</div>"
      ],
      "text/plain": [
       "      TV  radio  newspaper  sales\n",
       "0  230.1   37.8       69.2   22.1\n",
       "1   44.5   39.3       45.1   10.4\n",
       "2   17.2   45.9       69.3    9.3\n",
       "3  151.5   41.3       58.5   18.5\n",
       "4  180.8   10.8       58.4   12.9"
      ]
     },
     "execution_count": 3,
     "metadata": {},
     "output_type": "execute_result"
    }
   ],
   "source": [
    "df = df.iloc[:,1:len(df)] # index sütunun düzenlenmesi\n",
    "df.head()"
   ]
  },
  {
   "cell_type": "code",
   "execution_count": 4,
   "id": "7d6e549e-9efa-4516-82d5-acd1dcddb0cd",
   "metadata": {},
   "outputs": [
    {
     "data": {
      "text/plain": [
       "False"
      ]
     },
     "execution_count": 4,
     "metadata": {},
     "output_type": "execute_result"
    }
   ],
   "source": [
    "df.isnull().values.any() # veri setinde eksik degerler var mı?"
   ]
  },
  {
   "cell_type": "code",
   "execution_count": 5,
   "id": "33dbbe97-3379-42cc-a578-d661db16e774",
   "metadata": {},
   "outputs": [
    {
     "name": "stdout",
     "output_type": "stream",
     "text": [
      "<class 'pandas.core.frame.DataFrame'>\n",
      "RangeIndex: 200 entries, 0 to 199\n",
      "Data columns (total 4 columns):\n",
      " #   Column     Non-Null Count  Dtype  \n",
      "---  ------     --------------  -----  \n",
      " 0   TV         200 non-null    float64\n",
      " 1   radio      200 non-null    float64\n",
      " 2   newspaper  200 non-null    float64\n",
      " 3   sales      200 non-null    float64\n",
      "dtypes: float64(4)\n",
      "memory usage: 6.4 KB\n"
     ]
    }
   ],
   "source": [
    "df.info() # veriseti hakkında bilgiler verir"
   ]
  },
  {
   "cell_type": "code",
   "execution_count": 6,
   "id": "e8051c92-9ec8-4ef5-b15b-e4fc781a6da7",
   "metadata": {},
   "outputs": [],
   "source": [
    "# görüldügü üzere tüm degiskenler süreklidir.\n",
    "# 3 bagımsız degişken ve 1 bagımlı degisken vardır."
   ]
  },
  {
   "cell_type": "code",
   "execution_count": 7,
   "id": "c8f4a1d2-fbc1-487d-a582-b729f626dcee",
   "metadata": {},
   "outputs": [
    {
     "data": {
      "text/html": [
       "<div>\n",
       "<style scoped>\n",
       "    .dataframe tbody tr th:only-of-type {\n",
       "        vertical-align: middle;\n",
       "    }\n",
       "\n",
       "    .dataframe tbody tr th {\n",
       "        vertical-align: top;\n",
       "    }\n",
       "\n",
       "    .dataframe thead th {\n",
       "        text-align: right;\n",
       "    }\n",
       "</style>\n",
       "<table border=\"1\" class=\"dataframe\">\n",
       "  <thead>\n",
       "    <tr style=\"text-align: right;\">\n",
       "      <th></th>\n",
       "      <th>count</th>\n",
       "      <th>mean</th>\n",
       "      <th>std</th>\n",
       "      <th>min</th>\n",
       "      <th>25%</th>\n",
       "      <th>50%</th>\n",
       "      <th>75%</th>\n",
       "      <th>max</th>\n",
       "    </tr>\n",
       "  </thead>\n",
       "  <tbody>\n",
       "    <tr>\n",
       "      <th>TV</th>\n",
       "      <td>200.0</td>\n",
       "      <td>147.0425</td>\n",
       "      <td>85.854236</td>\n",
       "      <td>0.7</td>\n",
       "      <td>74.375</td>\n",
       "      <td>149.75</td>\n",
       "      <td>218.825</td>\n",
       "      <td>296.4</td>\n",
       "    </tr>\n",
       "    <tr>\n",
       "      <th>radio</th>\n",
       "      <td>200.0</td>\n",
       "      <td>23.2640</td>\n",
       "      <td>14.846809</td>\n",
       "      <td>0.0</td>\n",
       "      <td>9.975</td>\n",
       "      <td>22.90</td>\n",
       "      <td>36.525</td>\n",
       "      <td>49.6</td>\n",
       "    </tr>\n",
       "    <tr>\n",
       "      <th>newspaper</th>\n",
       "      <td>200.0</td>\n",
       "      <td>30.5540</td>\n",
       "      <td>21.778621</td>\n",
       "      <td>0.3</td>\n",
       "      <td>12.750</td>\n",
       "      <td>25.75</td>\n",
       "      <td>45.100</td>\n",
       "      <td>114.0</td>\n",
       "    </tr>\n",
       "    <tr>\n",
       "      <th>sales</th>\n",
       "      <td>200.0</td>\n",
       "      <td>14.0225</td>\n",
       "      <td>5.217457</td>\n",
       "      <td>1.6</td>\n",
       "      <td>10.375</td>\n",
       "      <td>12.90</td>\n",
       "      <td>17.400</td>\n",
       "      <td>27.0</td>\n",
       "    </tr>\n",
       "  </tbody>\n",
       "</table>\n",
       "</div>"
      ],
      "text/plain": [
       "           count      mean        std  min     25%     50%      75%    max\n",
       "TV         200.0  147.0425  85.854236  0.7  74.375  149.75  218.825  296.4\n",
       "radio      200.0   23.2640  14.846809  0.0   9.975   22.90   36.525   49.6\n",
       "newspaper  200.0   30.5540  21.778621  0.3  12.750   25.75   45.100  114.0\n",
       "sales      200.0   14.0225   5.217457  1.6  10.375   12.90   17.400   27.0"
      ]
     },
     "execution_count": 7,
     "metadata": {},
     "output_type": "execute_result"
    }
   ],
   "source": [
    "df.describe().T # verisetinin dagılımı hakkında bilgi verir"
   ]
  },
  {
   "cell_type": "code",
   "execution_count": 8,
   "id": "f888b0f7-9e5e-44f8-900b-2816df685512",
   "metadata": {},
   "outputs": [
    {
     "data": {
      "text/html": [
       "<div>\n",
       "<style scoped>\n",
       "    .dataframe tbody tr th:only-of-type {\n",
       "        vertical-align: middle;\n",
       "    }\n",
       "\n",
       "    .dataframe tbody tr th {\n",
       "        vertical-align: top;\n",
       "    }\n",
       "\n",
       "    .dataframe thead th {\n",
       "        text-align: right;\n",
       "    }\n",
       "</style>\n",
       "<table border=\"1\" class=\"dataframe\">\n",
       "  <thead>\n",
       "    <tr style=\"text-align: right;\">\n",
       "      <th></th>\n",
       "      <th>TV</th>\n",
       "      <th>radio</th>\n",
       "      <th>newspaper</th>\n",
       "      <th>sales</th>\n",
       "    </tr>\n",
       "  </thead>\n",
       "  <tbody>\n",
       "    <tr>\n",
       "      <th>TV</th>\n",
       "      <td>1.000000</td>\n",
       "      <td>0.054809</td>\n",
       "      <td>0.056648</td>\n",
       "      <td>0.782224</td>\n",
       "    </tr>\n",
       "    <tr>\n",
       "      <th>radio</th>\n",
       "      <td>0.054809</td>\n",
       "      <td>1.000000</td>\n",
       "      <td>0.354104</td>\n",
       "      <td>0.576223</td>\n",
       "    </tr>\n",
       "    <tr>\n",
       "      <th>newspaper</th>\n",
       "      <td>0.056648</td>\n",
       "      <td>0.354104</td>\n",
       "      <td>1.000000</td>\n",
       "      <td>0.228299</td>\n",
       "    </tr>\n",
       "    <tr>\n",
       "      <th>sales</th>\n",
       "      <td>0.782224</td>\n",
       "      <td>0.576223</td>\n",
       "      <td>0.228299</td>\n",
       "      <td>1.000000</td>\n",
       "    </tr>\n",
       "  </tbody>\n",
       "</table>\n",
       "</div>"
      ],
      "text/plain": [
       "                 TV     radio  newspaper     sales\n",
       "TV         1.000000  0.054809   0.056648  0.782224\n",
       "radio      0.054809  1.000000   0.354104  0.576223\n",
       "newspaper  0.056648  0.354104   1.000000  0.228299\n",
       "sales      0.782224  0.576223   0.228299  1.000000"
      ]
     },
     "execution_count": 8,
     "metadata": {},
     "output_type": "execute_result"
    }
   ],
   "source": [
    "df.corr() # Degiskenler araınsndaki korelasyon durumları"
   ]
  },
  {
   "cell_type": "markdown",
   "id": "0f0c3cd1-5847-4f03-be6f-bb8b523c2c52",
   "metadata": {},
   "source": [
    "* Korelasyon, iki veya daha fazla değişken arasında bir ilişki olup olmadığını, eğer ilişki var ise bu ilişkinin miktarını ve yönünü sayısal olarak belirleyen istatistiksel bir tekniktir. İki değişken arasındaki ilişkinin derecesine ise korelasyon katsayısı denir.\n",
    "+ Korelasyon katsayısı -1 ile +1 arasında değer alır. Korelasyon katsayısının pozitif (+) olması durumunda değişenler aynı yönde değişim göstermiş demektir, negatif (-) olması durumunda ise iki değişken arasında ters bir ilişki oldugunu gösterir."
   ]
  },
  {
   "cell_type": "markdown",
   "id": "df2dea1c-4610-43ab-b7f5-bc66e842cf9c",
   "metadata": {},
   "source": [
    "* Örnek yorum, TV ve sales arasında 0.78 derecede pozitif yönde artan bir korelasyon vardır."
   ]
  },
  {
   "cell_type": "code",
   "execution_count": 9,
   "id": "b6d83421-57ac-4f3c-8e7c-dc0245bbeb45",
   "metadata": {},
   "outputs": [
    {
     "data": {
      "image/png": "[encoded data removed]",
      "text/plain": [
       "<Figure size 720x720 with 14 Axes>"
      ]
     },
     "metadata": {
      "needs_background": "light"
     },
     "output_type": "display_data"
    }
   ],
   "source": [
    "# verisetini daha iyi gözlemlemek icin verilerin görselleştirilmesi \n",
    "sns.pairplot(df, kind = 'reg', corner = True);"
   ]
  },
  {
   "cell_type": "code",
   "execution_count": 10,
   "id": "a2a2007c-a5d1-4f94-b328-44be61d559e4",
   "metadata": {},
   "outputs": [
    {
     "data": {
      "image/png": "[encoded data removed]",
      "text/plain": [
       "<Figure size 432x432 with 3 Axes>"
      ]
     },
     "metadata": {
      "needs_background": "light"
     },
     "output_type": "display_data"
    }
   ],
   "source": [
    "sns.jointplot(x = 'TV', y = 'sales', data = df, kind = 'reg');"
   ]
  },
  {
   "cell_type": "markdown",
   "id": "0aa3eba2-edba-4191-8d3e-31c64dbb7c8b",
   "metadata": {
    "tags": []
   },
   "source": [
    "### Statsmodels ile Modelleme"
   ]
  },
  {
   "cell_type": "markdown",
   "id": "24caa7e0-e660-46de-9aba-f644b3e4bed9",
   "metadata": {
    "jp-MarkdownHeadingCollapsed": true,
    "tags": []
   },
   "source": [
    "#### Model Kurulumu"
   ]
  },
  {
   "cell_type": "code",
   "execution_count": 11,
   "id": "958caa95-d9d4-4260-a32d-bccbb6628336",
   "metadata": {
    "tags": []
   },
   "outputs": [],
   "source": [
    "# 1. yol\n",
    "X_tv = df[[\"TV\"]] # bagımsız degisken\n",
    "y = df[\"sales\"] # bagımlı degisken"
   ]
  },
  {
   "cell_type": "code",
   "execution_count": 12,
   "id": "4b58372f-378c-4a3d-91f1-87ef5dd95d34",
   "metadata": {},
   "outputs": [
    {
     "data": {
      "text/html": [
       "<div>\n",
       "<style scoped>\n",
       "    .dataframe tbody tr th:only-of-type {\n",
       "        vertical-align: middle;\n",
       "    }\n",
       "\n",
       "    .dataframe tbody tr th {\n",
       "        vertical-align: top;\n",
       "    }\n",
       "\n",
       "    .dataframe thead th {\n",
       "        text-align: right;\n",
       "    }\n",
       "</style>\n",
       "<table border=\"1\" class=\"dataframe\">\n",
       "  <thead>\n",
       "    <tr style=\"text-align: right;\">\n",
       "      <th></th>\n",
       "      <th>TV</th>\n",
       "    </tr>\n",
       "  </thead>\n",
       "  <tbody>\n",
       "    <tr>\n",
       "      <th>0</th>\n",
       "      <td>230.1</td>\n",
       "    </tr>\n",
       "    <tr>\n",
       "      <th>1</th>\n",
       "      <td>44.5</td>\n",
       "    </tr>\n",
       "    <tr>\n",
       "      <th>2</th>\n",
       "      <td>17.2</td>\n",
       "    </tr>\n",
       "    <tr>\n",
       "      <th>3</th>\n",
       "      <td>151.5</td>\n",
       "    </tr>\n",
       "    <tr>\n",
       "      <th>4</th>\n",
       "      <td>180.8</td>\n",
       "    </tr>\n",
       "  </tbody>\n",
       "</table>\n",
       "</div>"
      ],
      "text/plain": [
       "      TV\n",
       "0  230.1\n",
       "1   44.5\n",
       "2   17.2\n",
       "3  151.5\n",
       "4  180.8"
      ]
     },
     "execution_count": 12,
     "metadata": {},
     "output_type": "execute_result"
    }
   ],
   "source": [
    "X_tv.head()"
   ]
  },
  {
   "cell_type": "code",
   "execution_count": 13,
   "id": "84ca6bf8-ebfa-46c7-9140-809197644f60",
   "metadata": {},
   "outputs": [
    {
     "data": {
      "text/plain": [
       "0    22.1\n",
       "1    10.4\n",
       "2     9.3\n",
       "3    18.5\n",
       "4    12.9\n",
       "Name: sales, dtype: float64"
      ]
     },
     "execution_count": 13,
     "metadata": {},
     "output_type": "execute_result"
    }
   ],
   "source": [
    "y.head()"
   ]
  },
  {
   "cell_type": "code",
   "execution_count": 14,
   "id": "d91fd071-db3e-4ce5-b774-f1a7087db091",
   "metadata": {},
   "outputs": [],
   "source": [
    "# model nesnesinin olusturulması ve fit edilmesi,\n",
    "X_tv = sm.add_constant(X_tv) # sabit katsayı ekler (model bu sekilde olusturuluyorsa sabit sayı eklenmeli!)\n",
    "lm_tv = sm.OLS(y, X_tv) # Nesne modeli olusturur\n",
    "model_tv = lm_tv.fit() # olusturulan modeli fit eder."
   ]
  },
  {
   "cell_type": "code",
   "execution_count": 15,
   "id": "3d160121-8deb-4c9b-accb-2886fe6d8d3f",
   "metadata": {},
   "outputs": [
    {
     "data": {
      "text/html": [
       "<table class=\"simpletable\">\n",
       "<caption>OLS Regression Results</caption>\n",
       "<tr>\n",
       "  <th>Dep. Variable:</th>          <td>sales</td>      <th>  R-squared:         </th> <td>   0.612</td>\n",
       "</tr>\n",
       "<tr>\n",
       "  <th>Model:</th>                   <td>OLS</td>       <th>  Adj. R-squared:    </th> <td>   0.610</td>\n",
       "</tr>\n",
       "<tr>\n",
       "  <th>Method:</th>             <td>Least Squares</td>  <th>  F-statistic:       </th> <td>   312.1</td>\n",
       "</tr>\n",
       "<tr>\n",
       "  <th>Date:</th>             <td>Fri, 18 Feb 2022</td> <th>  Prob (F-statistic):</th> <td>1.47e-42</td>\n",
       "</tr>\n",
       "<tr>\n",
       "  <th>Time:</th>                 <td>01:26:19</td>     <th>  Log-Likelihood:    </th> <td> -519.05</td>\n",
       "</tr>\n",
       "<tr>\n",
       "  <th>No. Observations:</th>      <td>   200</td>      <th>  AIC:               </th> <td>   1042.</td>\n",
       "</tr>\n",
       "<tr>\n",
       "  <th>Df Residuals:</th>          <td>   198</td>      <th>  BIC:               </th> <td>   1049.</td>\n",
       "</tr>\n",
       "<tr>\n",
       "  <th>Df Model:</th>              <td>     1</td>      <th>                     </th>     <td> </td>   \n",
       "</tr>\n",
       "<tr>\n",
       "  <th>Covariance Type:</th>      <td>nonrobust</td>    <th>                     </th>     <td> </td>   \n",
       "</tr>\n",
       "</table>\n",
       "<table class=\"simpletable\">\n",
       "<tr>\n",
       "    <td></td>       <th>coef</th>     <th>std err</th>      <th>t</th>      <th>P>|t|</th>  <th>[0.025</th>    <th>0.975]</th>  \n",
       "</tr>\n",
       "<tr>\n",
       "  <th>const</th> <td>    7.0326</td> <td>    0.458</td> <td>   15.360</td> <td> 0.000</td> <td>    6.130</td> <td>    7.935</td>\n",
       "</tr>\n",
       "<tr>\n",
       "  <th>TV</th>    <td>    0.0475</td> <td>    0.003</td> <td>   17.668</td> <td> 0.000</td> <td>    0.042</td> <td>    0.053</td>\n",
       "</tr>\n",
       "</table>\n",
       "<table class=\"simpletable\">\n",
       "<tr>\n",
       "  <th>Omnibus:</th>       <td> 0.531</td> <th>  Durbin-Watson:     </th> <td>   1.935</td>\n",
       "</tr>\n",
       "<tr>\n",
       "  <th>Prob(Omnibus):</th> <td> 0.767</td> <th>  Jarque-Bera (JB):  </th> <td>   0.669</td>\n",
       "</tr>\n",
       "<tr>\n",
       "  <th>Skew:</th>          <td>-0.089</td> <th>  Prob(JB):          </th> <td>   0.716</td>\n",
       "</tr>\n",
       "<tr>\n",
       "  <th>Kurtosis:</th>      <td> 2.779</td> <th>  Cond. No.          </th> <td>    338.</td>\n",
       "</tr>\n",
       "</table><br/><br/>Notes:<br/>[1] Standard Errors assume that the covariance matrix of the errors is correctly specified."
      ],
      "text/plain": [
       "<class 'statsmodels.iolib.summary.Summary'>\n",
       "\"\"\"\n",
       "                            OLS Regression Results                            \n",
       "==============================================================================\n",
       "Dep. Variable:                  sales   R-squared:                       0.612\n",
       "Model:                            OLS   Adj. R-squared:                  0.610\n",
       "Method:                 Least Squares   F-statistic:                     312.1\n",
       "Date:                Fri, 18 Feb 2022   Prob (F-statistic):           1.47e-42\n",
       "Time:                        01:26:19   Log-Likelihood:                -519.05\n",
       "No. Observations:                 200   AIC:                             1042.\n",
       "Df Residuals:                     198   BIC:                             1049.\n",
       "Df Model:                           1                                         \n",
       "Covariance Type:            nonrobust                                         \n",
       "==============================================================================\n",
       "                 coef    std err          t      P>|t|      [0.025      0.975]\n",
       "------------------------------------------------------------------------------\n",
       "const          7.0326      0.458     15.360      0.000       6.130       7.935\n",
       "TV             0.0475      0.003     17.668      0.000       0.042       0.053\n",
       "==============================================================================\n",
       "Omnibus:                        0.531   Durbin-Watson:                   1.935\n",
       "Prob(Omnibus):                  0.767   Jarque-Bera (JB):                0.669\n",
       "Skew:                          -0.089   Prob(JB):                        0.716\n",
       "Kurtosis:                       2.779   Cond. No.                         338.\n",
       "==============================================================================\n",
       "\n",
       "Notes:\n",
       "[1] Standard Errors assume that the covariance matrix of the errors is correctly specified.\n",
       "\"\"\""
      ]
     },
     "execution_count": 15,
     "metadata": {},
     "output_type": "execute_result"
    }
   ],
   "source": [
    "model_tv.summary() # olusturulan model hakkında bigi cıktısını verir."
   ]
  },
  {
   "cell_type": "markdown",
   "id": "a72bfbc3-0f95-4d0f-b4f4-f08f25a7df77",
   "metadata": {},
   "source": [
    "Tablodaki önemli değerlerin incelenmesi,\n",
    "* R-squared: Bağımsız değişkenin bağımlı değişkendeki değişkenliği açıklama başarısıdır.\n",
    "* Adj. R-squared: R-squared değerinin duyarlılığı.\n",
    "* F-statistic: Modelin anlamlılığının anlaşılması için kurulan test istatistiğinin değeri\n",
    "* p value: Modelin anlamlılığını gösterir < 0.05 ise bu model anlamlıdır.\n",
    "* constant: B0, coef: B1 (katsayı değerleri)"
   ]
  },
  {
   "cell_type": "code",
   "execution_count": 16,
   "id": "29bf3aa7-c5eb-4431-9973-991780fab913",
   "metadata": {},
   "outputs": [],
   "source": [
    "# Kurulan modelin parametrelerine erisilmesi,"
   ]
  },
  {
   "cell_type": "code",
   "execution_count": 17,
   "id": "8bebfa73-2fbf-4ea5-aa15-fd850384fc21",
   "metadata": {},
   "outputs": [
    {
     "data": {
      "text/plain": [
       "const    7.032594\n",
       "TV       0.047537\n",
       "dtype: float64"
      ]
     },
     "execution_count": 17,
     "metadata": {},
     "output_type": "execute_result"
    }
   ],
   "source": [
    "model_tv.params"
   ]
  },
  {
   "cell_type": "code",
   "execution_count": 18,
   "id": "5d9a8411-c221-4b8e-89a5-3d45a7f05afa",
   "metadata": {},
   "outputs": [
    {
     "data": {
      "text/html": [
       "<table class=\"simpletable\">\n",
       "<tr>\n",
       "    <td></td>       <th>coef</th>     <th>std err</th>      <th>t</th>      <th>P>|t|</th>  <th>[0.025</th>    <th>0.975]</th>  \n",
       "</tr>\n",
       "<tr>\n",
       "  <th>const</th> <td>    7.0326</td> <td>    0.458</td> <td>   15.360</td> <td> 0.000</td> <td>    6.130</td> <td>    7.935</td>\n",
       "</tr>\n",
       "<tr>\n",
       "  <th>TV</th>    <td>    0.0475</td> <td>    0.003</td> <td>   17.668</td> <td> 0.000</td> <td>    0.042</td> <td>    0.053</td>\n",
       "</tr>\n",
       "</table>"
      ],
      "text/plain": [
       "<class 'statsmodels.iolib.table.SimpleTable'>"
      ]
     },
     "execution_count": 18,
     "metadata": {},
     "output_type": "execute_result"
    }
   ],
   "source": [
    "model_tv.summary().tables[1] # 1.tabloyu verir. (katsayılar tablosu)"
   ]
  },
  {
   "cell_type": "code",
   "execution_count": 19,
   "id": "801119f3-f60c-4624-9a01-265b3871c607",
   "metadata": {},
   "outputs": [
    {
     "data": {
      "text/html": [
       "<div>\n",
       "<style scoped>\n",
       "    .dataframe tbody tr th:only-of-type {\n",
       "        vertical-align: middle;\n",
       "    }\n",
       "\n",
       "    .dataframe tbody tr th {\n",
       "        vertical-align: top;\n",
       "    }\n",
       "\n",
       "    .dataframe thead th {\n",
       "        text-align: right;\n",
       "    }\n",
       "</style>\n",
       "<table border=\"1\" class=\"dataframe\">\n",
       "  <thead>\n",
       "    <tr style=\"text-align: right;\">\n",
       "      <th></th>\n",
       "      <th>0</th>\n",
       "      <th>1</th>\n",
       "    </tr>\n",
       "  </thead>\n",
       "  <tbody>\n",
       "    <tr>\n",
       "      <th>const</th>\n",
       "      <td>6.129719</td>\n",
       "      <td>7.935468</td>\n",
       "    </tr>\n",
       "    <tr>\n",
       "      <th>TV</th>\n",
       "      <td>0.042231</td>\n",
       "      <td>0.052843</td>\n",
       "    </tr>\n",
       "  </tbody>\n",
       "</table>\n",
       "</div>"
      ],
      "text/plain": [
       "              0         1\n",
       "const  6.129719  7.935468\n",
       "TV     0.042231  0.052843"
      ]
     },
     "execution_count": 19,
     "metadata": {},
     "output_type": "execute_result"
    }
   ],
   "source": [
    "model_tv.conf_int() # katsayıların güven aralıkları"
   ]
  },
  {
   "cell_type": "code",
   "execution_count": 20,
   "id": "2a32bbfd-1552-475d-8c4b-42a380e4a1f2",
   "metadata": {},
   "outputs": [
    {
     "data": {
      "text/plain": [
       "1.4673897001947095e-42"
      ]
     },
     "execution_count": 20,
     "metadata": {},
     "output_type": "execute_result"
    }
   ],
   "source": [
    "model_tv.f_pvalue # p value değeri"
   ]
  },
  {
   "cell_type": "code",
   "execution_count": 21,
   "id": "9c6db844-a864-4c8e-ac2d-d33a2418b8d2",
   "metadata": {},
   "outputs": [
    {
     "name": "stdout",
     "output_type": "stream",
     "text": [
      "P-value: 0.0000000000\n"
     ]
    }
   ],
   "source": [
    "# p value degerini daha iyi okumak icin,\n",
    "print(f\"P-value: %.10f\"  %model_tv.f_pvalue) # 0.05'den kuçuk ise model anlamlıdır"
   ]
  },
  {
   "cell_type": "code",
   "execution_count": 22,
   "id": "c423b4a9-e076-42f4-9c7b-4ff39860a747",
   "metadata": {},
   "outputs": [
    {
     "data": {
      "text/plain": [
       "61.187505085007096"
      ]
     },
     "execution_count": 22,
     "metadata": {},
     "output_type": "execute_result"
    }
   ],
   "source": [
    "model_tv.rsquared * 100 # modelin basarı yüzdesi"
   ]
  },
  {
   "cell_type": "code",
   "execution_count": 23,
   "id": "1dfb7667-1b12-4856-b791-47061b421ca6",
   "metadata": {},
   "outputs": [
    {
     "data": {
      "text/plain": [
       "<statsmodels.regression.linear_model.RegressionResultsWrapper at 0x7f371cda1910>"
      ]
     },
     "execution_count": 23,
     "metadata": {},
     "output_type": "execute_result"
    }
   ],
   "source": [
    "# 2. yol modelleme,\n",
    "# model nesnesinin olusturulması ve fit edilmesi,\n",
    "# bagımlı degisken: sales, bagımsız degisken: TV\n",
    "lm2 = smf.ols(formula = 'sales ~ TV', data = df)\n",
    "model2 = lm2.fit()\n",
    "model2"
   ]
  },
  {
   "cell_type": "code",
   "execution_count": 24,
   "id": "730c5369-938a-48b9-96fa-5449813ab300",
   "metadata": {},
   "outputs": [
    {
     "data": {
      "text/html": [
       "<table class=\"simpletable\">\n",
       "<caption>OLS Regression Results</caption>\n",
       "<tr>\n",
       "  <th>Dep. Variable:</th>          <td>sales</td>      <th>  R-squared:         </th> <td>   0.612</td>\n",
       "</tr>\n",
       "<tr>\n",
       "  <th>Model:</th>                   <td>OLS</td>       <th>  Adj. R-squared:    </th> <td>   0.610</td>\n",
       "</tr>\n",
       "<tr>\n",
       "  <th>Method:</th>             <td>Least Squares</td>  <th>  F-statistic:       </th> <td>   312.1</td>\n",
       "</tr>\n",
       "<tr>\n",
       "  <th>Date:</th>             <td>Fri, 18 Feb 2022</td> <th>  Prob (F-statistic):</th> <td>1.47e-42</td>\n",
       "</tr>\n",
       "<tr>\n",
       "  <th>Time:</th>                 <td>01:26:19</td>     <th>  Log-Likelihood:    </th> <td> -519.05</td>\n",
       "</tr>\n",
       "<tr>\n",
       "  <th>No. Observations:</th>      <td>   200</td>      <th>  AIC:               </th> <td>   1042.</td>\n",
       "</tr>\n",
       "<tr>\n",
       "  <th>Df Residuals:</th>          <td>   198</td>      <th>  BIC:               </th> <td>   1049.</td>\n",
       "</tr>\n",
       "<tr>\n",
       "  <th>Df Model:</th>              <td>     1</td>      <th>                     </th>     <td> </td>   \n",
       "</tr>\n",
       "<tr>\n",
       "  <th>Covariance Type:</th>      <td>nonrobust</td>    <th>                     </th>     <td> </td>   \n",
       "</tr>\n",
       "</table>\n",
       "<table class=\"simpletable\">\n",
       "<tr>\n",
       "      <td></td>         <th>coef</th>     <th>std err</th>      <th>t</th>      <th>P>|t|</th>  <th>[0.025</th>    <th>0.975]</th>  \n",
       "</tr>\n",
       "<tr>\n",
       "  <th>Intercept</th> <td>    7.0326</td> <td>    0.458</td> <td>   15.360</td> <td> 0.000</td> <td>    6.130</td> <td>    7.935</td>\n",
       "</tr>\n",
       "<tr>\n",
       "  <th>TV</th>        <td>    0.0475</td> <td>    0.003</td> <td>   17.668</td> <td> 0.000</td> <td>    0.042</td> <td>    0.053</td>\n",
       "</tr>\n",
       "</table>\n",
       "<table class=\"simpletable\">\n",
       "<tr>\n",
       "  <th>Omnibus:</th>       <td> 0.531</td> <th>  Durbin-Watson:     </th> <td>   1.935</td>\n",
       "</tr>\n",
       "<tr>\n",
       "  <th>Prob(Omnibus):</th> <td> 0.767</td> <th>  Jarque-Bera (JB):  </th> <td>   0.669</td>\n",
       "</tr>\n",
       "<tr>\n",
       "  <th>Skew:</th>          <td>-0.089</td> <th>  Prob(JB):          </th> <td>   0.716</td>\n",
       "</tr>\n",
       "<tr>\n",
       "  <th>Kurtosis:</th>      <td> 2.779</td> <th>  Cond. No.          </th> <td>    338.</td>\n",
       "</tr>\n",
       "</table><br/><br/>Notes:<br/>[1] Standard Errors assume that the covariance matrix of the errors is correctly specified."
      ],
      "text/plain": [
       "<class 'statsmodels.iolib.summary.Summary'>\n",
       "\"\"\"\n",
       "                            OLS Regression Results                            \n",
       "==============================================================================\n",
       "Dep. Variable:                  sales   R-squared:                       0.612\n",
       "Model:                            OLS   Adj. R-squared:                  0.610\n",
       "Method:                 Least Squares   F-statistic:                     312.1\n",
       "Date:                Fri, 18 Feb 2022   Prob (F-statistic):           1.47e-42\n",
       "Time:                        01:26:19   Log-Likelihood:                -519.05\n",
       "No. Observations:                 200   AIC:                             1042.\n",
       "Df Residuals:                     198   BIC:                             1049.\n",
       "Df Model:                           1                                         \n",
       "Covariance Type:            nonrobust                                         \n",
       "==============================================================================\n",
       "                 coef    std err          t      P>|t|      [0.025      0.975]\n",
       "------------------------------------------------------------------------------\n",
       "Intercept      7.0326      0.458     15.360      0.000       6.130       7.935\n",
       "TV             0.0475      0.003     17.668      0.000       0.042       0.053\n",
       "==============================================================================\n",
       "Omnibus:                        0.531   Durbin-Watson:                   1.935\n",
       "Prob(Omnibus):                  0.767   Jarque-Bera (JB):                0.669\n",
       "Skew:                          -0.089   Prob(JB):                        0.716\n",
       "Kurtosis:                       2.779   Cond. No.                         338.\n",
       "==============================================================================\n",
       "\n",
       "Notes:\n",
       "[1] Standard Errors assume that the covariance matrix of the errors is correctly specified.\n",
       "\"\"\""
      ]
     },
     "execution_count": 24,
     "metadata": {},
     "output_type": "execute_result"
    }
   ],
   "source": [
    "model2.summary() # modelin bilgileri"
   ]
  },
  {
   "cell_type": "code",
   "execution_count": 25,
   "id": "9101a7f7-7362-46b5-b607-33c5e0f91af9",
   "metadata": {},
   "outputs": [],
   "source": [
    "# modelin parametrelerine erisme,"
   ]
  },
  {
   "cell_type": "code",
   "execution_count": 26,
   "id": "caa433ae-cc91-4114-8cfe-5e8e51f9c959",
   "metadata": {},
   "outputs": [
    {
     "data": {
      "text/plain": [
       "Intercept    7.032594\n",
       "TV           0.047537\n",
       "dtype: float64"
      ]
     },
     "execution_count": 26,
     "metadata": {},
     "output_type": "execute_result"
    }
   ],
   "source": [
    "model2.params"
   ]
  },
  {
   "cell_type": "code",
   "execution_count": 27,
   "id": "f737ef85-df1a-4468-a089-2c2a9567272e",
   "metadata": {},
   "outputs": [
    {
     "data": {
      "text/plain": [
       "61.187505085007096"
      ]
     },
     "execution_count": 27,
     "metadata": {},
     "output_type": "execute_result"
    }
   ],
   "source": [
    "model2.rsquared * 100 # modelin basarı degeri"
   ]
  },
  {
   "cell_type": "code",
   "execution_count": 28,
   "id": "3e51e705-bfbe-4160-bdf4-2d7e52c98a8a",
   "metadata": {},
   "outputs": [],
   "source": [
    "# Sonuç: İki modelde de sonuclar neredeyse aynı, bu nedenle uygulama alanlarında herhangi birinin kullanılması farketmez!"
   ]
  },
  {
   "cell_type": "markdown",
   "id": "3e20b654-caec-463b-9c5c-e1d0654b8655",
   "metadata": {
    "jp-MarkdownHeadingCollapsed": true,
    "tags": []
   },
   "source": [
    "#### Tahminleme"
   ]
  },
  {
   "cell_type": "code",
   "execution_count": 29,
   "id": "04629c5b-0e51-440e-88ad-f506dad50637",
   "metadata": {},
   "outputs": [
    {
     "data": {
      "text/plain": [
       "0    17.970775\n",
       "1     9.147974\n",
       "2     7.850224\n",
       "3    14.234395\n",
       "4    15.627218\n",
       "dtype: float64"
      ]
     },
     "execution_count": 29,
     "metadata": {},
     "output_type": "execute_result"
    }
   ],
   "source": [
    "model_tv.fittedvalues[0:5] # gercek X degerleri üzerinden tahmin edilen y (sales) degerleri"
   ]
  },
  {
   "cell_type": "code",
   "execution_count": 30,
   "id": "2f91f95f-9d30-4470-a469-ee060399e006",
   "metadata": {},
   "outputs": [
    {
     "data": {
      "text/plain": [
       "array([17.97077451,  9.14797405,  7.85022376, 14.23439457, 15.62721814])"
      ]
     },
     "execution_count": 30,
     "metadata": {},
     "output_type": "execute_result"
    }
   ],
   "source": [
    "model_tv.predict()[0:5] # tahminlere farklı fonksiyondan erişme"
   ]
  },
  {
   "cell_type": "code",
   "execution_count": 31,
   "id": "7cd0382d-b3d1-4f52-8788-c5270eb2d70a",
   "metadata": {},
   "outputs": [
    {
     "data": {
      "text/plain": [
       "0    22.1\n",
       "1    10.4\n",
       "2     9.3\n",
       "3    18.5\n",
       "4    12.9\n",
       "Name: sales, dtype: float64"
      ]
     },
     "execution_count": 31,
     "metadata": {},
     "output_type": "execute_result"
    }
   ],
   "source": [
    "y[0:5] # gercek y degerleri"
   ]
  },
  {
   "cell_type": "markdown",
   "id": "8468673e-72ce-4e58-913c-749d61e8571b",
   "metadata": {},
   "source": [
    "* Örnek, TV harcamalarına 180 birim harcama yapıldığında tahmini satış degeri ne kadar artar?"
   ]
  },
  {
   "cell_type": "code",
   "execution_count": 32,
   "id": "7e051fee-a5e1-4b42-9e2a-a6b4a9e450a6",
   "metadata": {},
   "outputs": [
    {
     "data": {
      "text/plain": [
       "array([15.58918883])"
      ]
     },
     "execution_count": 32,
     "metadata": {},
     "output_type": "execute_result"
    }
   ],
   "source": [
    "model_tv.predict([[1, 180]]) # sabit degerin katsayısı 1 olarak girilmelidir"
   ]
  },
  {
   "cell_type": "code",
   "execution_count": 33,
   "id": "f9490a51-e055-4566-9486-30dc4304d08e",
   "metadata": {},
   "outputs": [],
   "source": [
    "# modelin hata degerleri,\n",
    "ypred = model_tv.predict(X_tv) # gervek y degerleri üzerinden tahmin edilen y degerleri\n",
    "mse = mean_squared_error(y, ypred) # hataların ortalaması (MSE)\n",
    "rmse_stats = np.sqrt(mse) # test hata degeri"
   ]
  },
  {
   "cell_type": "code",
   "execution_count": 34,
   "id": "fa3413f3-337b-49f7-b28c-7064b08a497b",
   "metadata": {},
   "outputs": [
    {
     "data": {
      "text/plain": [
       "3.2423221486546883"
      ]
     },
     "execution_count": 34,
     "metadata": {},
     "output_type": "execute_result"
    }
   ],
   "source": [
    "rmse_stats # [önemli]"
   ]
  },
  {
   "cell_type": "code",
   "execution_count": 35,
   "id": "8b240a30-b0d0-472c-8667-b636255c6ba0",
   "metadata": {},
   "outputs": [],
   "source": [
    "r2_stats = r2_score(y, ypred) # modelin basarı degeri (r-squared)"
   ]
  },
  {
   "cell_type": "code",
   "execution_count": 36,
   "id": "eabfa042-8a05-42d5-882f-7f579b6a89ec",
   "metadata": {},
   "outputs": [
    {
     "data": {
      "text/plain": [
       "61.18750508500712"
      ]
     },
     "execution_count": 36,
     "metadata": {},
     "output_type": "execute_result"
    }
   ],
   "source": [
    "r2_stats * 100 # modelin basarı yüzdesi [önemli]"
   ]
  },
  {
   "cell_type": "code",
   "execution_count": 37,
   "id": "b573f99b-f9df-42d7-899b-21e37612d2a1",
   "metadata": {},
   "outputs": [
    {
     "data": {
      "text/plain": [
       "'Sales = 7.03259 + TV * 0.04754'"
      ]
     },
     "execution_count": 37,
     "metadata": {},
     "output_type": "execute_result"
    }
   ],
   "source": [
    "# modelin matematiksel denkleminin oluşturulması,\n",
    "denklem_tv = \"Sales = \" + str(\"%.5f\" %model_tv.params[0]) + \" + TV * \" + str(\"%.5f\" %model_tv.params[1])\n",
    "denklem_tv"
   ]
  },
  {
   "cell_type": "code",
   "execution_count": 38,
   "id": "9340bdc3-28ee-4ac2-aaad-42f7828a4fb3",
   "metadata": {},
   "outputs": [
    {
     "name": "stdout",
     "output_type": "stream",
     "text": [
      "Model Denklemi:  Sales = 7.03259 + TV * 0.04754\n",
      "Modelin Hata Degeri:  3.2423221486546883\n",
      "Olusturulan Modelin Basarı Yüzdesi:  61.18750508500712\n"
     ]
    }
   ],
   "source": [
    "print(\"Model Denklemi: \", denklem_tv)\n",
    "print(\"Modelin Hata Degeri: \", rmse_stats)\n",
    "print(\"Olusturulan Modelin Basarı Yüzdesi: \", r2_stats * 100)"
   ]
  },
  {
   "cell_type": "markdown",
   "id": "67547c74-6f20-4e27-ab63-649b37aec177",
   "metadata": {
    "jp-MarkdownHeadingCollapsed": true,
    "tags": []
   },
   "source": [
    "#### Görselleştirme"
   ]
  },
  {
   "cell_type": "code",
   "execution_count": 39,
   "id": "60240af3-03f7-42c4-a9ac-3908f6732441",
   "metadata": {},
   "outputs": [
    {
     "data": {
      "image/png": "[encoded data removed]",
      "text/plain": [
       "<Figure size 432x288 with 1 Axes>"
      ]
     },
     "metadata": {
      "needs_background": "light"
     },
     "output_type": "display_data"
    }
   ],
   "source": [
    "plt.scatter(np.array(X_tv[\"TV\"]), y, color = 'orange');\n",
    "plt.plot(np.array(X_tv[\"TV\"]), model_tv.predict(), color = 'blue')\n",
    "plt.title('Linear Regression Modeli')\n",
    "plt.xlabel('TV Harcamaları')\n",
    "plt.ylabel('Tahmin Satıs Degerleri');"
   ]
  },
  {
   "cell_type": "markdown",
   "id": "0868d3a4-c8c7-4c17-9033-2e50ccf41729",
   "metadata": {
    "tags": []
   },
   "source": [
    "### ScikitLearn ile Modelleme"
   ]
  },
  {
   "cell_type": "markdown",
   "id": "85a66c47-a1a6-4c39-a068-9684d4bfec4d",
   "metadata": {
    "jp-MarkdownHeadingCollapsed": true,
    "tags": []
   },
   "source": [
    "#### Model Kurulumu"
   ]
  },
  {
   "cell_type": "code",
   "execution_count": 40,
   "id": "e89b0009-2f4f-4aaa-a771-0b6f0ffcb14b",
   "metadata": {},
   "outputs": [],
   "source": [
    "# model nesnesinin olusturulması ve fit edilmesi,\n",
    "# bagımsız degisken: TV, bagımlı degisken: sales\n",
    "Xtv = df[['TV']]\n",
    "y = df[['sales']]\n",
    "regtv = LinearRegression()\n",
    "modeltv = regtv.fit(Xtv, y)"
   ]
  },
  {
   "cell_type": "code",
   "execution_count": 41,
   "id": "1a0b9e15-8eb2-4476-8edd-ff454f2d962d",
   "metadata": {},
   "outputs": [
    {
     "data": {
      "text/plain": [
       "array([7.03259355])"
      ]
     },
     "execution_count": 41,
     "metadata": {},
     "output_type": "execute_result"
    }
   ],
   "source": [
    "modeltv.intercept_ # sabit degeri"
   ]
  },
  {
   "cell_type": "code",
   "execution_count": 42,
   "id": "8e0dc3dd-443c-4225-9ac3-b4430f74f369",
   "metadata": {},
   "outputs": [
    {
     "data": {
      "text/plain": [
       "array([[0.04753664]])"
      ]
     },
     "execution_count": 42,
     "metadata": {},
     "output_type": "execute_result"
    }
   ],
   "source": [
    "modeltv.coef_ # bagımsız degiskenin katsayısı"
   ]
  },
  {
   "cell_type": "markdown",
   "id": "59328b63-7b10-464f-83e9-7cf02a8f158d",
   "metadata": {
    "jp-MarkdownHeadingCollapsed": true,
    "tags": []
   },
   "source": [
    "#### Tahminleme"
   ]
  },
  {
   "cell_type": "code",
   "execution_count": 43,
   "id": "b0bcdece-eac4-498d-a76e-c034f8142da8",
   "metadata": {},
   "outputs": [
    {
     "data": {
      "text/plain": [
       "array([[17.97077451],\n",
       "       [ 9.14797405],\n",
       "       [ 7.85022376],\n",
       "       [14.23439457],\n",
       "       [15.62721814]])"
      ]
     },
     "execution_count": 43,
     "metadata": {},
     "output_type": "execute_result"
    }
   ],
   "source": [
    "modeltv.predict(Xtv)[0:5] # Xtv üzerinden tahmin edilen y (sales) degerleri"
   ]
  },
  {
   "cell_type": "markdown",
   "id": "8668d044-6623-46fb-99f1-f1457d72af3f",
   "metadata": {},
   "source": [
    "* Örnek, 30 birim TV reklam harcamalarında tahmini satış değeri ne kadar artar?"
   ]
  },
  {
   "cell_type": "code",
   "execution_count": 44,
   "id": "f19bcb0f-6819-4938-9ca0-70a602c291e6",
   "metadata": {},
   "outputs": [
    {
     "data": {
      "text/plain": [
       "array([8.45869276])"
      ]
     },
     "execution_count": 44,
     "metadata": {},
     "output_type": "execute_result"
    }
   ],
   "source": [
    "modeltv.intercept_ + 30 * modeltv.coef_[0] # (uzun yol)"
   ]
  },
  {
   "cell_type": "code",
   "execution_count": 45,
   "id": "38d1b222-ec7e-43ab-b3df-7252b2b9275e",
   "metadata": {},
   "outputs": [
    {
     "data": {
      "text/plain": [
       "array([[8.45869276]])"
      ]
     },
     "execution_count": 45,
     "metadata": {},
     "output_type": "execute_result"
    }
   ],
   "source": [
    "# sklearn üzerinden tahmin (kısa yol),\n",
    "modeltv.predict([[30]]) # 1 şirket icin tahmin degeri"
   ]
  },
  {
   "cell_type": "code",
   "execution_count": 46,
   "id": "a0866469-74d1-4c2a-ba4e-c60c0c83466a",
   "metadata": {},
   "outputs": [
    {
     "data": {
      "text/plain": [
       "array([[ 7.27027675],\n",
       "       [11.31089119],\n",
       "       [16.53992164]])"
      ]
     },
     "execution_count": 46,
     "metadata": {},
     "output_type": "execute_result"
    }
   ],
   "source": [
    "modeltv.predict([[5], [90], [200]]) # 3 şirket yatırım yapabilir"
   ]
  },
  {
   "cell_type": "code",
   "execution_count": 47,
   "id": "f88da79c-654e-4013-9b93-c2324bd4e54c",
   "metadata": {},
   "outputs": [],
   "source": [
    "# modelin hata degerleri\n",
    "ypred = modeltv.predict(Xtv)\n",
    "mse = mean_squared_error(y, ypred) # MSE\n",
    "rmse_sklearn = np.sqrt(mse) # RMSE"
   ]
  },
  {
   "cell_type": "code",
   "execution_count": 48,
   "id": "b24d6d43-fa2c-4082-94d7-5dd99b649c69",
   "metadata": {},
   "outputs": [
    {
     "data": {
      "text/plain": [
       "3.2423221486546887"
      ]
     },
     "execution_count": 48,
     "metadata": {},
     "output_type": "execute_result"
    }
   ],
   "source": [
    "rmse_sklearn # [önemli]"
   ]
  },
  {
   "cell_type": "code",
   "execution_count": 49,
   "id": "c13fc12c-660d-4787-a986-f6c0ed93f3a2",
   "metadata": {},
   "outputs": [],
   "source": [
    "r2_sklearn = r2_score(y, modeltv.predict(Xtv)) # Olusturulan modelin  basarı degeri"
   ]
  },
  {
   "cell_type": "code",
   "execution_count": 50,
   "id": "3e169bfc-aac5-4e09-8d97-5996e9687f26",
   "metadata": {},
   "outputs": [
    {
     "data": {
      "text/plain": [
       "61.187505085007096"
      ]
     },
     "execution_count": 50,
     "metadata": {},
     "output_type": "execute_result"
    }
   ],
   "source": [
    "r2_sklearn * 100 # modelin basarı yüzdesi [önemli]"
   ]
  },
  {
   "cell_type": "code",
   "execution_count": 51,
   "id": "0791cfc5-8ac4-45d3-b539-79676f29b8bc",
   "metadata": {},
   "outputs": [],
   "source": [
    "denklemtv = \"Sales = \" + str(modeltv.intercept_[0]) + \" + TV * \" + str(modeltv.coef_[0][0])"
   ]
  },
  {
   "cell_type": "code",
   "execution_count": 52,
   "id": "b704b784-dd5a-4f04-88fc-12df3388d1e2",
   "metadata": {},
   "outputs": [
    {
     "name": "stdout",
     "output_type": "stream",
     "text": [
      "Modelin Denklemi: Sales = 7.032593549127695 + TV * 0.04753664043301975\n",
      "Modelin Hata Degeri:  3.2423221486546887\n",
      "Olusturulan Modelin Basarı Yüzdesi:  61.187505085007096\n"
     ]
    }
   ],
   "source": [
    "print(\"Modelin Denklemi: \" + denklemtv)\n",
    "print(\"Modelin Hata Degeri: \", rmse_sklearn)\n",
    "print(\"Olusturulan Modelin Basarı Yüzdesi: \", r2_sklearn * 100)"
   ]
  },
  {
   "cell_type": "markdown",
   "id": "3a8b2160-8f75-4346-ab7c-b2cecf7e9469",
   "metadata": {
    "jp-MarkdownHeadingCollapsed": true,
    "tags": []
   },
   "source": [
    "#### Görselleştirme"
   ]
  },
  {
   "cell_type": "code",
   "execution_count": 53,
   "id": "05459918-272f-4670-a578-a509c687f1b1",
   "metadata": {},
   "outputs": [
    {
     "data": {
      "image/png": "[encoded data removed]",
      "text/plain": [
       "<Figure size 432x288 with 1 Axes>"
      ]
     },
     "metadata": {
      "needs_background": "light"
     },
     "output_type": "display_data"
    }
   ],
   "source": [
    "plt.scatter(Xtv, y, color = 'green')\n",
    "plt.plot(np.array(Xtv), modeltv.predict(Xtv), color = 'black', linewidth = 3);"
   ]
  },
  {
   "cell_type": "markdown",
   "id": "bfc1e98a-2913-4009-b309-81d2eef59ee4",
   "metadata": {
    "jp-MarkdownHeadingCollapsed": true,
    "tags": []
   },
   "source": [
    "### Artıklar/Hatalar ve Makine Öğrenmesindeki Önemi "
   ]
  },
  {
   "cell_type": "code",
   "execution_count": 54,
   "id": "6ee7af52-67f0-4d05-81e8-36309ca5f0ce",
   "metadata": {},
   "outputs": [
    {
     "data": {
      "text/html": [
       "<div>\n",
       "<style scoped>\n",
       "    .dataframe tbody tr th:only-of-type {\n",
       "        vertical-align: middle;\n",
       "    }\n",
       "\n",
       "    .dataframe tbody tr th {\n",
       "        vertical-align: top;\n",
       "    }\n",
       "\n",
       "    .dataframe thead th {\n",
       "        text-align: right;\n",
       "    }\n",
       "</style>\n",
       "<table border=\"1\" class=\"dataframe\">\n",
       "  <thead>\n",
       "    <tr style=\"text-align: right;\">\n",
       "      <th></th>\n",
       "      <th>TV</th>\n",
       "      <th>radio</th>\n",
       "      <th>newspaper</th>\n",
       "      <th>sales</th>\n",
       "    </tr>\n",
       "  </thead>\n",
       "  <tbody>\n",
       "    <tr>\n",
       "      <th>0</th>\n",
       "      <td>230.1</td>\n",
       "      <td>37.8</td>\n",
       "      <td>69.2</td>\n",
       "      <td>22.1</td>\n",
       "    </tr>\n",
       "    <tr>\n",
       "      <th>1</th>\n",
       "      <td>44.5</td>\n",
       "      <td>39.3</td>\n",
       "      <td>45.1</td>\n",
       "      <td>10.4</td>\n",
       "    </tr>\n",
       "    <tr>\n",
       "      <th>2</th>\n",
       "      <td>17.2</td>\n",
       "      <td>45.9</td>\n",
       "      <td>69.3</td>\n",
       "      <td>9.3</td>\n",
       "    </tr>\n",
       "    <tr>\n",
       "      <th>3</th>\n",
       "      <td>151.5</td>\n",
       "      <td>41.3</td>\n",
       "      <td>58.5</td>\n",
       "      <td>18.5</td>\n",
       "    </tr>\n",
       "    <tr>\n",
       "      <th>4</th>\n",
       "      <td>180.8</td>\n",
       "      <td>10.8</td>\n",
       "      <td>58.4</td>\n",
       "      <td>12.9</td>\n",
       "    </tr>\n",
       "  </tbody>\n",
       "</table>\n",
       "</div>"
      ],
      "text/plain": [
       "      TV  radio  newspaper  sales\n",
       "0  230.1   37.8       69.2   22.1\n",
       "1   44.5   39.3       45.1   10.4\n",
       "2   17.2   45.9       69.3    9.3\n",
       "3  151.5   41.3       58.5   18.5\n",
       "4  180.8   10.8       58.4   12.9"
      ]
     },
     "execution_count": 54,
     "metadata": {},
     "output_type": "execute_result"
    }
   ],
   "source": [
    "df.head()"
   ]
  },
  {
   "cell_type": "code",
   "execution_count": 55,
   "id": "ec5731de-6810-4f44-842d-ab41a3f2e23f",
   "metadata": {},
   "outputs": [],
   "source": [
    "X_ = df[[\"TV\"]] # bagımsız degisken\n",
    "y_ = df[\"sales\"] # bagımlı degisken"
   ]
  },
  {
   "cell_type": "code",
   "execution_count": 56,
   "id": "70f34688-be5e-410c-af73-5b50ac3acb14",
   "metadata": {},
   "outputs": [
    {
     "data": {
      "text/html": [
       "<div>\n",
       "<style scoped>\n",
       "    .dataframe tbody tr th:only-of-type {\n",
       "        vertical-align: middle;\n",
       "    }\n",
       "\n",
       "    .dataframe tbody tr th {\n",
       "        vertical-align: top;\n",
       "    }\n",
       "\n",
       "    .dataframe thead th {\n",
       "        text-align: right;\n",
       "    }\n",
       "</style>\n",
       "<table border=\"1\" class=\"dataframe\">\n",
       "  <thead>\n",
       "    <tr style=\"text-align: right;\">\n",
       "      <th></th>\n",
       "      <th>TV</th>\n",
       "    </tr>\n",
       "  </thead>\n",
       "  <tbody>\n",
       "    <tr>\n",
       "      <th>0</th>\n",
       "      <td>230.1</td>\n",
       "    </tr>\n",
       "    <tr>\n",
       "      <th>1</th>\n",
       "      <td>44.5</td>\n",
       "    </tr>\n",
       "    <tr>\n",
       "      <th>2</th>\n",
       "      <td>17.2</td>\n",
       "    </tr>\n",
       "    <tr>\n",
       "      <th>3</th>\n",
       "      <td>151.5</td>\n",
       "    </tr>\n",
       "    <tr>\n",
       "      <th>4</th>\n",
       "      <td>180.8</td>\n",
       "    </tr>\n",
       "  </tbody>\n",
       "</table>\n",
       "</div>"
      ],
      "text/plain": [
       "      TV\n",
       "0  230.1\n",
       "1   44.5\n",
       "2   17.2\n",
       "3  151.5\n",
       "4  180.8"
      ]
     },
     "execution_count": 56,
     "metadata": {},
     "output_type": "execute_result"
    }
   ],
   "source": [
    "X_.head()"
   ]
  },
  {
   "cell_type": "code",
   "execution_count": 57,
   "id": "9b74d9dc-a833-454b-a75f-a2c409639e0b",
   "metadata": {},
   "outputs": [
    {
     "data": {
      "text/plain": [
       "0    22.1\n",
       "1    10.4\n",
       "2     9.3\n",
       "3    18.5\n",
       "4    12.9\n",
       "Name: sales, dtype: float64"
      ]
     },
     "execution_count": 57,
     "metadata": {},
     "output_type": "execute_result"
    }
   ],
   "source": [
    "y_.head()"
   ]
  },
  {
   "cell_type": "code",
   "execution_count": 58,
   "id": "ac4db9a3-236e-4e20-9327-19c1b941b6c0",
   "metadata": {},
   "outputs": [
    {
     "data": {
      "text/plain": [
       "LinearRegression()"
      ]
     },
     "execution_count": 58,
     "metadata": {},
     "output_type": "execute_result"
    }
   ],
   "source": [
    "# model nesnesinin olusturulması ve fit edilmesi\n",
    "reg = LinearRegression()\n",
    "model = reg.fit(X_, y_)\n",
    "model"
   ]
  },
  {
   "cell_type": "code",
   "execution_count": 59,
   "id": "df239284-e657-4b57-bb03-dc79f9f18925",
   "metadata": {},
   "outputs": [
    {
     "data": {
      "text/plain": [
       "7.032593549127695"
      ]
     },
     "execution_count": 59,
     "metadata": {},
     "output_type": "execute_result"
    }
   ],
   "source": [
    "model.intercept_ # sabit deger"
   ]
  },
  {
   "cell_type": "code",
   "execution_count": 60,
   "id": "8147f6a0-12e5-4cd4-b2e0-fe97a9c077b4",
   "metadata": {},
   "outputs": [
    {
     "data": {
      "text/plain": [
       "array([0.04753664])"
      ]
     },
     "execution_count": 60,
     "metadata": {},
     "output_type": "execute_result"
    }
   ],
   "source": [
    "model.coef_ # bagımsız degerin katsayı degeri"
   ]
  },
  {
   "cell_type": "code",
   "execution_count": 61,
   "id": "30585060-c2a7-42cf-a113-80c84e27d51b",
   "metadata": {},
   "outputs": [
    {
     "data": {
      "text/plain": [
       "array([17.97077451,  9.14797405,  7.85022376, 14.23439457, 15.62721814,\n",
       "        7.44616232,  9.76595037, 12.74649773,  7.44140866, 16.53041431])"
      ]
     },
     "execution_count": 61,
     "metadata": {},
     "output_type": "execute_result"
    }
   ],
   "source": [
    "y_pred = model.predict(X_) # gercek X degerleri üzerinden tahmin edilen y degerleri\n",
    "y_pred[0:10]"
   ]
  },
  {
   "cell_type": "code",
   "execution_count": 62,
   "id": "7b2c7ef8-e702-4da8-8e98-1872ffb055ba",
   "metadata": {},
   "outputs": [
    {
     "data": {
      "text/html": [
       "<div>\n",
       "<style scoped>\n",
       "    .dataframe tbody tr th:only-of-type {\n",
       "        vertical-align: middle;\n",
       "    }\n",
       "\n",
       "    .dataframe tbody tr th {\n",
       "        vertical-align: top;\n",
       "    }\n",
       "\n",
       "    .dataframe thead th {\n",
       "        text-align: right;\n",
       "    }\n",
       "</style>\n",
       "<table border=\"1\" class=\"dataframe\">\n",
       "  <thead>\n",
       "    <tr style=\"text-align: right;\">\n",
       "      <th></th>\n",
       "      <th>gercek_y</th>\n",
       "      <th>tahmin_y</th>\n",
       "    </tr>\n",
       "  </thead>\n",
       "  <tbody>\n",
       "    <tr>\n",
       "      <th>0</th>\n",
       "      <td>22.1</td>\n",
       "      <td>17.970775</td>\n",
       "    </tr>\n",
       "    <tr>\n",
       "      <th>1</th>\n",
       "      <td>10.4</td>\n",
       "      <td>9.147974</td>\n",
       "    </tr>\n",
       "    <tr>\n",
       "      <th>2</th>\n",
       "      <td>9.3</td>\n",
       "      <td>7.850224</td>\n",
       "    </tr>\n",
       "    <tr>\n",
       "      <th>3</th>\n",
       "      <td>18.5</td>\n",
       "      <td>14.234395</td>\n",
       "    </tr>\n",
       "    <tr>\n",
       "      <th>4</th>\n",
       "      <td>12.9</td>\n",
       "      <td>15.627218</td>\n",
       "    </tr>\n",
       "    <tr>\n",
       "      <th>5</th>\n",
       "      <td>7.2</td>\n",
       "      <td>7.446162</td>\n",
       "    </tr>\n",
       "    <tr>\n",
       "      <th>6</th>\n",
       "      <td>11.8</td>\n",
       "      <td>9.765950</td>\n",
       "    </tr>\n",
       "    <tr>\n",
       "      <th>7</th>\n",
       "      <td>13.2</td>\n",
       "      <td>12.746498</td>\n",
       "    </tr>\n",
       "    <tr>\n",
       "      <th>8</th>\n",
       "      <td>4.8</td>\n",
       "      <td>7.441409</td>\n",
       "    </tr>\n",
       "    <tr>\n",
       "      <th>9</th>\n",
       "      <td>10.6</td>\n",
       "      <td>16.530414</td>\n",
       "    </tr>\n",
       "  </tbody>\n",
       "</table>\n",
       "</div>"
      ],
      "text/plain": [
       "   gercek_y   tahmin_y\n",
       "0      22.1  17.970775\n",
       "1      10.4   9.147974\n",
       "2       9.3   7.850224\n",
       "3      18.5  14.234395\n",
       "4      12.9  15.627218\n",
       "5       7.2   7.446162\n",
       "6      11.8   9.765950\n",
       "7      13.2  12.746498\n",
       "8       4.8   7.441409\n",
       "9      10.6  16.530414"
      ]
     },
     "execution_count": 62,
     "metadata": {},
     "output_type": "execute_result"
    }
   ],
   "source": [
    "# Hata degerlerinin manuel bulunması,\n",
    "tablo = pd.DataFrame({'gercek_y': y_,\n",
    "                   'tahmin_y': y_pred})\n",
    "tablo.head(10)"
   ]
  },
  {
   "cell_type": "code",
   "execution_count": 63,
   "id": "e4915976-bc37-4f1a-af1d-408aab72c4c5",
   "metadata": {},
   "outputs": [
    {
     "data": {
      "text/html": [
       "<div>\n",
       "<style scoped>\n",
       "    .dataframe tbody tr th:only-of-type {\n",
       "        vertical-align: middle;\n",
       "    }\n",
       "\n",
       "    .dataframe tbody tr th {\n",
       "        vertical-align: top;\n",
       "    }\n",
       "\n",
       "    .dataframe thead th {\n",
       "        text-align: right;\n",
       "    }\n",
       "</style>\n",
       "<table border=\"1\" class=\"dataframe\">\n",
       "  <thead>\n",
       "    <tr style=\"text-align: right;\">\n",
       "      <th></th>\n",
       "      <th>gercek_y</th>\n",
       "      <th>tahmin_y</th>\n",
       "      <th>hata</th>\n",
       "    </tr>\n",
       "  </thead>\n",
       "  <tbody>\n",
       "    <tr>\n",
       "      <th>0</th>\n",
       "      <td>22.1</td>\n",
       "      <td>17.970775</td>\n",
       "      <td>4.129225</td>\n",
       "    </tr>\n",
       "    <tr>\n",
       "      <th>1</th>\n",
       "      <td>10.4</td>\n",
       "      <td>9.147974</td>\n",
       "      <td>1.252026</td>\n",
       "    </tr>\n",
       "    <tr>\n",
       "      <th>2</th>\n",
       "      <td>9.3</td>\n",
       "      <td>7.850224</td>\n",
       "      <td>1.449776</td>\n",
       "    </tr>\n",
       "    <tr>\n",
       "      <th>3</th>\n",
       "      <td>18.5</td>\n",
       "      <td>14.234395</td>\n",
       "      <td>4.265605</td>\n",
       "    </tr>\n",
       "    <tr>\n",
       "      <th>4</th>\n",
       "      <td>12.9</td>\n",
       "      <td>15.627218</td>\n",
       "      <td>-2.727218</td>\n",
       "    </tr>\n",
       "    <tr>\n",
       "      <th>5</th>\n",
       "      <td>7.2</td>\n",
       "      <td>7.446162</td>\n",
       "      <td>-0.246162</td>\n",
       "    </tr>\n",
       "    <tr>\n",
       "      <th>6</th>\n",
       "      <td>11.8</td>\n",
       "      <td>9.765950</td>\n",
       "      <td>2.034050</td>\n",
       "    </tr>\n",
       "    <tr>\n",
       "      <th>7</th>\n",
       "      <td>13.2</td>\n",
       "      <td>12.746498</td>\n",
       "      <td>0.453502</td>\n",
       "    </tr>\n",
       "    <tr>\n",
       "      <th>8</th>\n",
       "      <td>4.8</td>\n",
       "      <td>7.441409</td>\n",
       "      <td>-2.641409</td>\n",
       "    </tr>\n",
       "    <tr>\n",
       "      <th>9</th>\n",
       "      <td>10.6</td>\n",
       "      <td>16.530414</td>\n",
       "      <td>-5.930414</td>\n",
       "    </tr>\n",
       "  </tbody>\n",
       "</table>\n",
       "</div>"
      ],
      "text/plain": [
       "   gercek_y   tahmin_y      hata\n",
       "0      22.1  17.970775  4.129225\n",
       "1      10.4   9.147974  1.252026\n",
       "2       9.3   7.850224  1.449776\n",
       "3      18.5  14.234395  4.265605\n",
       "4      12.9  15.627218 -2.727218\n",
       "5       7.2   7.446162 -0.246162\n",
       "6      11.8   9.765950  2.034050\n",
       "7      13.2  12.746498  0.453502\n",
       "8       4.8   7.441409 -2.641409\n",
       "9      10.6  16.530414 -5.930414"
      ]
     },
     "execution_count": 63,
     "metadata": {},
     "output_type": "execute_result"
    }
   ],
   "source": [
    "tablo[\"hata\"] = tablo[\"gercek_y\"] - tablo[\"tahmin_y\"] # hataların farkı\n",
    "tablo.head(10)"
   ]
  },
  {
   "cell_type": "code",
   "execution_count": 64,
   "id": "2ceeda05-e3da-4e28-9773-17172e58716c",
   "metadata": {},
   "outputs": [
    {
     "data": {
      "text/html": [
       "<div>\n",
       "<style scoped>\n",
       "    .dataframe tbody tr th:only-of-type {\n",
       "        vertical-align: middle;\n",
       "    }\n",
       "\n",
       "    .dataframe tbody tr th {\n",
       "        vertical-align: top;\n",
       "    }\n",
       "\n",
       "    .dataframe thead th {\n",
       "        text-align: right;\n",
       "    }\n",
       "</style>\n",
       "<table border=\"1\" class=\"dataframe\">\n",
       "  <thead>\n",
       "    <tr style=\"text-align: right;\">\n",
       "      <th></th>\n",
       "      <th>gercek_y</th>\n",
       "      <th>tahmin_y</th>\n",
       "      <th>hata</th>\n",
       "      <th>hata_kare</th>\n",
       "    </tr>\n",
       "  </thead>\n",
       "  <tbody>\n",
       "    <tr>\n",
       "      <th>0</th>\n",
       "      <td>22.1</td>\n",
       "      <td>17.970775</td>\n",
       "      <td>4.129225</td>\n",
       "      <td>17.050503</td>\n",
       "    </tr>\n",
       "    <tr>\n",
       "      <th>1</th>\n",
       "      <td>10.4</td>\n",
       "      <td>9.147974</td>\n",
       "      <td>1.252026</td>\n",
       "      <td>1.567569</td>\n",
       "    </tr>\n",
       "    <tr>\n",
       "      <th>2</th>\n",
       "      <td>9.3</td>\n",
       "      <td>7.850224</td>\n",
       "      <td>1.449776</td>\n",
       "      <td>2.101851</td>\n",
       "    </tr>\n",
       "    <tr>\n",
       "      <th>3</th>\n",
       "      <td>18.5</td>\n",
       "      <td>14.234395</td>\n",
       "      <td>4.265605</td>\n",
       "      <td>18.195390</td>\n",
       "    </tr>\n",
       "    <tr>\n",
       "      <th>4</th>\n",
       "      <td>12.9</td>\n",
       "      <td>15.627218</td>\n",
       "      <td>-2.727218</td>\n",
       "      <td>7.437719</td>\n",
       "    </tr>\n",
       "    <tr>\n",
       "      <th>5</th>\n",
       "      <td>7.2</td>\n",
       "      <td>7.446162</td>\n",
       "      <td>-0.246162</td>\n",
       "      <td>0.060596</td>\n",
       "    </tr>\n",
       "    <tr>\n",
       "      <th>6</th>\n",
       "      <td>11.8</td>\n",
       "      <td>9.765950</td>\n",
       "      <td>2.034050</td>\n",
       "      <td>4.137358</td>\n",
       "    </tr>\n",
       "    <tr>\n",
       "      <th>7</th>\n",
       "      <td>13.2</td>\n",
       "      <td>12.746498</td>\n",
       "      <td>0.453502</td>\n",
       "      <td>0.205664</td>\n",
       "    </tr>\n",
       "    <tr>\n",
       "      <th>8</th>\n",
       "      <td>4.8</td>\n",
       "      <td>7.441409</td>\n",
       "      <td>-2.641409</td>\n",
       "      <td>6.977040</td>\n",
       "    </tr>\n",
       "    <tr>\n",
       "      <th>9</th>\n",
       "      <td>10.6</td>\n",
       "      <td>16.530414</td>\n",
       "      <td>-5.930414</td>\n",
       "      <td>35.169814</td>\n",
       "    </tr>\n",
       "  </tbody>\n",
       "</table>\n",
       "</div>"
      ],
      "text/plain": [
       "   gercek_y   tahmin_y      hata  hata_kare\n",
       "0      22.1  17.970775  4.129225  17.050503\n",
       "1      10.4   9.147974  1.252026   1.567569\n",
       "2       9.3   7.850224  1.449776   2.101851\n",
       "3      18.5  14.234395  4.265605  18.195390\n",
       "4      12.9  15.627218 -2.727218   7.437719\n",
       "5       7.2   7.446162 -0.246162   0.060596\n",
       "6      11.8   9.765950  2.034050   4.137358\n",
       "7      13.2  12.746498  0.453502   0.205664\n",
       "8       4.8   7.441409 -2.641409   6.977040\n",
       "9      10.6  16.530414 -5.930414  35.169814"
      ]
     },
     "execution_count": 64,
     "metadata": {},
     "output_type": "execute_result"
    }
   ],
   "source": [
    "tablo[\"hata_kare\"] = tablo[\"hata\"] ** 2 # hataların karesi\n",
    "tablo.head(10)"
   ]
  },
  {
   "cell_type": "code",
   "execution_count": 65,
   "id": "86907a26-d24c-4954-aa28-2259106ed63d",
   "metadata": {},
   "outputs": [
    {
     "data": {
      "text/plain": [
       "2102.5305831313512"
      ]
     },
     "execution_count": 65,
     "metadata": {},
     "output_type": "execute_result"
    }
   ],
   "source": [
    "np.sum(tablo[\"hata_kare\"]) # hata karelerinin toplamı"
   ]
  },
  {
   "cell_type": "code",
   "execution_count": 66,
   "id": "6c6464bf-4090-4ea0-887c-d49052137d51",
   "metadata": {},
   "outputs": [],
   "source": [
    "mse = np.mean(tablo[\"hata_kare\"]) # hata karelerin ortalaması (MSE)"
   ]
  },
  {
   "cell_type": "code",
   "execution_count": 67,
   "id": "902dc5fe-407c-43ff-8876-157db889e554",
   "metadata": {},
   "outputs": [
    {
     "data": {
      "text/plain": [
       "10.512652915656757"
      ]
     },
     "execution_count": 67,
     "metadata": {},
     "output_type": "execute_result"
    }
   ],
   "source": [
    "mse"
   ]
  },
  {
   "cell_type": "code",
   "execution_count": 68,
   "id": "772ad25d-b267-44fc-ab40-024b94b30357",
   "metadata": {},
   "outputs": [],
   "source": [
    "rmse = np.sqrt(np.mean(tablo[\"hata_kare\"])) # hata karelerin ortalamasının karekökü (RMSE)"
   ]
  },
  {
   "cell_type": "code",
   "execution_count": 69,
   "id": "473a777e-8b4e-48c1-817b-3868d71d690f",
   "metadata": {},
   "outputs": [
    {
     "data": {
      "text/plain": [
       "3.2423221486546887"
      ]
     },
     "execution_count": 69,
     "metadata": {},
     "output_type": "execute_result"
    }
   ],
   "source": [
    "rmse # [önemli]"
   ]
  },
  {
   "cell_type": "code",
   "execution_count": 70,
   "id": "8e191250-30a0-49c0-8f5a-53e39aecf911",
   "metadata": {},
   "outputs": [
    {
     "data": {
      "text/plain": [
       "0.611875050850071"
      ]
     },
     "execution_count": 70,
     "metadata": {},
     "output_type": "execute_result"
    }
   ],
   "source": [
    "r2_score(y_, y_pred) # [önemli]"
   ]
  },
  {
   "cell_type": "code",
   "execution_count": 71,
   "id": "d0e80c90-eedb-4e27-b1dc-ad63d16d5f05",
   "metadata": {},
   "outputs": [
    {
     "name": "stdout",
     "output_type": "stream",
     "text": [
      "Hataların ortalaması (MSE): 10.5126529\n",
      "Hataların ortalamasının karekökü (RMSE):  3.2423221486546887\n"
     ]
    }
   ],
   "source": [
    "print(\"Hataların ortalaması (MSE): %.7f\" %mse)\n",
    "print(\"Hataların ortalamasının karekökü (RMSE): \", rmse)"
   ]
  },
  {
   "cell_type": "code",
   "execution_count": 72,
   "id": "29c1352c-6398-4893-ab07-528df971e36b",
   "metadata": {},
   "outputs": [],
   "source": [
    "# modelin hatasını direkt sunmak aldatıcıdır! Hataların dağılımına bakmak gerekir.\n",
    "# %95 güven aralığıyla şu şekilde hata payı var vs. diyerek sunulur."
   ]
  },
  {
   "cell_type": "markdown",
   "id": "50f20c77-c55e-4530-ad97-2b1d2259db9b",
   "metadata": {
    "tags": []
   },
   "source": [
    "### Egitim ve Test Seti Üzerinden Modelleme"
   ]
  },
  {
   "cell_type": "markdown",
   "id": "1e9d93e4-a196-4407-ab24-f2c21c407d08",
   "metadata": {
    "jp-MarkdownHeadingCollapsed": true,
    "tags": []
   },
   "source": [
    "#### Model Kurulumu"
   ]
  },
  {
   "cell_type": "code",
   "execution_count": 73,
   "id": "1a2c5169-7705-40c6-ad0e-02d5b931b14a",
   "metadata": {},
   "outputs": [
    {
     "data": {
      "text/html": [
       "<div>\n",
       "<style scoped>\n",
       "    .dataframe tbody tr th:only-of-type {\n",
       "        vertical-align: middle;\n",
       "    }\n",
       "\n",
       "    .dataframe tbody tr th {\n",
       "        vertical-align: top;\n",
       "    }\n",
       "\n",
       "    .dataframe thead th {\n",
       "        text-align: right;\n",
       "    }\n",
       "</style>\n",
       "<table border=\"1\" class=\"dataframe\">\n",
       "  <thead>\n",
       "    <tr style=\"text-align: right;\">\n",
       "      <th></th>\n",
       "      <th>TV</th>\n",
       "      <th>radio</th>\n",
       "      <th>newspaper</th>\n",
       "      <th>sales</th>\n",
       "    </tr>\n",
       "  </thead>\n",
       "  <tbody>\n",
       "    <tr>\n",
       "      <th>0</th>\n",
       "      <td>230.1</td>\n",
       "      <td>37.8</td>\n",
       "      <td>69.2</td>\n",
       "      <td>22.1</td>\n",
       "    </tr>\n",
       "    <tr>\n",
       "      <th>1</th>\n",
       "      <td>44.5</td>\n",
       "      <td>39.3</td>\n",
       "      <td>45.1</td>\n",
       "      <td>10.4</td>\n",
       "    </tr>\n",
       "    <tr>\n",
       "      <th>2</th>\n",
       "      <td>17.2</td>\n",
       "      <td>45.9</td>\n",
       "      <td>69.3</td>\n",
       "      <td>9.3</td>\n",
       "    </tr>\n",
       "    <tr>\n",
       "      <th>3</th>\n",
       "      <td>151.5</td>\n",
       "      <td>41.3</td>\n",
       "      <td>58.5</td>\n",
       "      <td>18.5</td>\n",
       "    </tr>\n",
       "    <tr>\n",
       "      <th>4</th>\n",
       "      <td>180.8</td>\n",
       "      <td>10.8</td>\n",
       "      <td>58.4</td>\n",
       "      <td>12.9</td>\n",
       "    </tr>\n",
       "  </tbody>\n",
       "</table>\n",
       "</div>"
      ],
      "text/plain": [
       "      TV  radio  newspaper  sales\n",
       "0  230.1   37.8       69.2   22.1\n",
       "1   44.5   39.3       45.1   10.4\n",
       "2   17.2   45.9       69.3    9.3\n",
       "3  151.5   41.3       58.5   18.5\n",
       "4  180.8   10.8       58.4   12.9"
      ]
     },
     "execution_count": 73,
     "metadata": {},
     "output_type": "execute_result"
    }
   ],
   "source": [
    "df.head()"
   ]
  },
  {
   "cell_type": "code",
   "execution_count": 74,
   "id": "0fc5c5ca-2f1d-4ffc-8477-1c1896a33fc9",
   "metadata": {},
   "outputs": [
    {
     "data": {
      "text/html": [
       "<div>\n",
       "<style scoped>\n",
       "    .dataframe tbody tr th:only-of-type {\n",
       "        vertical-align: middle;\n",
       "    }\n",
       "\n",
       "    .dataframe tbody tr th {\n",
       "        vertical-align: top;\n",
       "    }\n",
       "\n",
       "    .dataframe thead th {\n",
       "        text-align: right;\n",
       "    }\n",
       "</style>\n",
       "<table border=\"1\" class=\"dataframe\">\n",
       "  <thead>\n",
       "    <tr style=\"text-align: right;\">\n",
       "      <th></th>\n",
       "      <th>sales</th>\n",
       "    </tr>\n",
       "  </thead>\n",
       "  <tbody>\n",
       "    <tr>\n",
       "      <th>0</th>\n",
       "      <td>22.1</td>\n",
       "    </tr>\n",
       "    <tr>\n",
       "      <th>1</th>\n",
       "      <td>10.4</td>\n",
       "    </tr>\n",
       "    <tr>\n",
       "      <th>2</th>\n",
       "      <td>9.3</td>\n",
       "    </tr>\n",
       "    <tr>\n",
       "      <th>3</th>\n",
       "      <td>18.5</td>\n",
       "    </tr>\n",
       "    <tr>\n",
       "      <th>4</th>\n",
       "      <td>12.9</td>\n",
       "    </tr>\n",
       "  </tbody>\n",
       "</table>\n",
       "</div>"
      ],
      "text/plain": [
       "   sales\n",
       "0   22.1\n",
       "1   10.4\n",
       "2    9.3\n",
       "3   18.5\n",
       "4   12.9"
      ]
     },
     "execution_count": 74,
     "metadata": {},
     "output_type": "execute_result"
    }
   ],
   "source": [
    "y.head()"
   ]
  },
  {
   "cell_type": "code",
   "execution_count": 75,
   "id": "056f5aef-92fa-4563-98cd-e14f081007c6",
   "metadata": {},
   "outputs": [],
   "source": [
    "# Degiskenlerin %80'i egitim seti, %20'si test seti olarak secilir.\n",
    "\n",
    "X = df[['TV']] # bagımsız degisken \n",
    "y = df[['sales']] # bagımlı degisken\n",
    "\n",
    "X_train, X_test, y_train, y_test = train_test_split(X,\n",
    "                                                   y,\n",
    "                                                   test_size = 0.20,\n",
    "                                                   random_state = 0)"
   ]
  },
  {
   "cell_type": "code",
   "execution_count": 76,
   "id": "2300eab9-898f-4a1a-9a16-5aa95158cb56",
   "metadata": {},
   "outputs": [
    {
     "data": {
      "text/plain": [
       "LinearRegression()"
      ]
     },
     "execution_count": 76,
     "metadata": {},
     "output_type": "execute_result"
    }
   ],
   "source": [
    "# model egitim seti üzerinden kurulur.\n",
    "reg = LinearRegression()\n",
    "model = reg.fit(X_train, y_train)\n",
    "model"
   ]
  },
  {
   "cell_type": "code",
   "execution_count": 77,
   "id": "8021d89c-5cce-4763-9d26-87afda4b8409",
   "metadata": {},
   "outputs": [
    {
     "data": {
      "text/plain": [
       "((160, 1), (40, 1))"
      ]
     },
     "execution_count": 77,
     "metadata": {},
     "output_type": "execute_result"
    }
   ],
   "source": [
    "X_train.shape, X_test.shape"
   ]
  },
  {
   "cell_type": "code",
   "execution_count": 78,
   "id": "58d0a800-6f71-4dd1-b8f4-02f161dfd36d",
   "metadata": {},
   "outputs": [
    {
     "data": {
      "text/plain": [
       "((160, 1), (40, 1))"
      ]
     },
     "execution_count": 78,
     "metadata": {},
     "output_type": "execute_result"
    }
   ],
   "source": [
    "y_train.shape, y_test.shape"
   ]
  },
  {
   "cell_type": "code",
   "execution_count": 79,
   "id": "03ad78e0-d81d-49e2-b6dc-bf940e218242",
   "metadata": {},
   "outputs": [],
   "source": [
    "# Modelin parametreleri,"
   ]
  },
  {
   "cell_type": "code",
   "execution_count": 80,
   "id": "1c65bb79-fac6-4f3e-85fa-1c5991583518",
   "metadata": {},
   "outputs": [
    {
     "data": {
      "text/plain": [
       "array([7.29249377])"
      ]
     },
     "execution_count": 80,
     "metadata": {},
     "output_type": "execute_result"
    }
   ],
   "source": [
    "model.intercept_ # sabit deger"
   ]
  },
  {
   "cell_type": "code",
   "execution_count": 81,
   "id": "fc226590-d51e-4def-9f56-60b5aa2956fb",
   "metadata": {},
   "outputs": [
    {
     "data": {
      "text/plain": [
       "array([[0.04600779]])"
      ]
     },
     "execution_count": 81,
     "metadata": {},
     "output_type": "execute_result"
    }
   ],
   "source": [
    "model.coef_ # katsayı degeri"
   ]
  },
  {
   "cell_type": "code",
   "execution_count": 82,
   "id": "a3287691-2218-4db2-acd2-670258379a74",
   "metadata": {},
   "outputs": [
    {
     "data": {
      "text/plain": [
       "0.5884742462828709"
      ]
     },
     "execution_count": 82,
     "metadata": {},
     "output_type": "execute_result"
    }
   ],
   "source": [
    "model.score(X_train, y_train) # Modelin basarı degeri"
   ]
  },
  {
   "cell_type": "code",
   "execution_count": 83,
   "id": "14bce50a-c7ff-4f9e-8f8d-2fbfd22742fb",
   "metadata": {},
   "outputs": [
    {
     "data": {
      "text/plain": [
       "'Sales = 7.292493773559364 + TV * 0.046007789603017164'"
      ]
     },
     "execution_count": 83,
     "metadata": {},
     "output_type": "execute_result"
    }
   ],
   "source": [
    "denklem = \"Sales = \" + str(model.intercept_[0]) + \" + TV * \" + str(model.coef_[0][0])\n",
    "denklem"
   ]
  },
  {
   "cell_type": "markdown",
   "id": "12023f8a-b31b-4706-ae9c-3011a858f851",
   "metadata": {
    "jp-MarkdownHeadingCollapsed": true,
    "tags": []
   },
   "source": [
    "#### Tahminleme"
   ]
  },
  {
   "cell_type": "code",
   "execution_count": 84,
   "id": "908a9b9b-c6de-492d-8ce1-16e02564ba08",
   "metadata": {},
   "outputs": [],
   "source": [
    "# Kurulan model üzerinden tahmin yapılarak test hatası elde edilir.\n",
    "ypred = model.predict(X_test)\n",
    "mse = mean_squared_error(y_test, ypred)\n",
    "rmse = np.sqrt(mse)"
   ]
  },
  {
   "cell_type": "code",
   "execution_count": 85,
   "id": "aba51894-13f6-47ed-880e-a1243cb0d196",
   "metadata": {},
   "outputs": [
    {
     "data": {
      "text/plain": [
       "10.18618193453022"
      ]
     },
     "execution_count": 85,
     "metadata": {},
     "output_type": "execute_result"
    }
   ],
   "source": [
    "mse # hataların ortalaması"
   ]
  },
  {
   "cell_type": "code",
   "execution_count": 86,
   "id": "e2d5bfe6-b689-4f4a-9927-457aec4f438f",
   "metadata": {},
   "outputs": [
    {
     "data": {
      "text/plain": [
       "3.191579849311344"
      ]
     },
     "execution_count": 86,
     "metadata": {},
     "output_type": "execute_result"
    }
   ],
   "source": [
    "rmse # hata oranı [önemli]"
   ]
  },
  {
   "cell_type": "code",
   "execution_count": 87,
   "id": "7d3822c8-dcea-42a8-b9d0-7fc1316f8541",
   "metadata": {},
   "outputs": [],
   "source": [
    "rscore = r2_score(y_test, ypred) # [önemli]"
   ]
  },
  {
   "cell_type": "code",
   "execution_count": 88,
   "id": "1f0b8a2b-0dac-41f5-b979-c184b0486ee7",
   "metadata": {},
   "outputs": [
    {
     "data": {
      "text/plain": [
       "67.6315157793972"
      ]
     },
     "execution_count": 88,
     "metadata": {},
     "output_type": "execute_result"
    }
   ],
   "source": [
    "rscore * 100 # egitim seti üzerinde uygulanan tahmin degerlerinin dogrulugunun basarı yüzdesi"
   ]
  },
  {
   "cell_type": "code",
   "execution_count": 89,
   "id": "6c0fe279-5ca8-4300-80b7-efd90df96d7d",
   "metadata": {},
   "outputs": [
    {
     "name": "stdout",
     "output_type": "stream",
     "text": [
      "Model Denklemi:  Sales = 7.292493773559364 + TV * 0.046007789603017164\n",
      "Modelin Hata Degeri:  3.191579849311344\n",
      "Olusturulan Modelin Basarı Yüzdesi:  67.6315157793972\n"
     ]
    }
   ],
   "source": [
    "print(\"Model Denklemi: \", denklem)\n",
    "print(\"Modelin Hata Degeri: \", rmse)\n",
    "print(\"Olusturulan Modelin Basarı Yüzdesi: \", rscore * 100)"
   ]
  },
  {
   "cell_type": "markdown",
   "id": "5ee59e80-3457-4031-bc45-7843dd5c68d4",
   "metadata": {
    "jp-MarkdownHeadingCollapsed": true,
    "tags": []
   },
   "source": [
    "### Görselleştirme"
   ]
  },
  {
   "cell_type": "code",
   "execution_count": 90,
   "id": "078eca8f-77ef-448e-8b3c-8f6f9233be0b",
   "metadata": {},
   "outputs": [
    {
     "data": {
      "image/png": "[encoded data removed]",
      "text/plain": [
       "<Figure size 432x288 with 1 Axes>"
      ]
     },
     "metadata": {
      "needs_background": "light"
     },
     "output_type": "display_data"
    }
   ],
   "source": [
    "plt.scatter(np.array(X_test), y_test, color = 'blue')\n",
    "plt.plot(np.array(X_test), np.array(ypred), color = 'red', linewidth = 3)\n",
    "plt.title('TV Üzerinden Uygulanan Tahmin Model Grafigi')\n",
    "plt.xlabel('TV Harcamaları')\n",
    "plt.ylabel('Tahmini Satıs Degerleri');"
   ]
  },
  {
   "cell_type": "markdown",
   "id": "9b3e4ba8-5c35-4d80-8958-62a91ab5a187",
   "metadata": {
    "jp-MarkdownHeadingCollapsed": true,
    "tags": []
   },
   "source": [
    "## SONUÇ"
   ]
  },
  {
   "cell_type": "markdown",
   "id": "fa8ebb1c-f151-4f4d-92ac-e00d98cb65b9",
   "metadata": {},
   "source": [
    "* Statsmodels ile elde edilen degerler,\n",
    "    * Model Denklemi:  Sales = 7.03259 + TV * 0.04754\n",
    "    * Modelin Hata Degeri:  **3.2423221486546883**\n",
    "    * Olusturulan Modelin Basarı Yüzdesi:  **61.18750508500712**\n",
    "\n",
    "* ScikitLearn ile elde edilen degerler,\n",
    "    * Modelin Denklemi: Sales = 7.032593549127695 + TV * 0.04753664043301975\n",
    "    * Modelin Hata Degeri:  **3.2423221486546887**\n",
    "    * Olusturulan Modelin Basarı Yüzdesi:  **61.187505085007096**\n",
    "\n",
    "* Egitim ve test seti üzerinden elde edilen degerler\n",
    "    * Model Denklemi:  Sales = 7.292493773559364 + TV * 0.046007789603017164\n",
    "    * Modelin Hata Degeri:  **3.191579849311344**\n",
    "    * Olusturulan Modelin Basarı Yüzdesi:  **67.6315157793972**\n",
    "\n",
    "* Manuel elde edilen degerler,\n",
    "    * Hataların ortalaması (MSE): **10.5126529**\n",
    "    * Hataların ortalamasının karekökü (RMSE):  **3.2423221486546887**"
   ]
  },
  {
   "cell_type": "code",
   "execution_count": null,
   "id": "097c2f77-a53d-4279-9c49-99f2f2bbbb26",
   "metadata": {},
   "outputs": [],
   "source": []
  }
 ],
 "metadata": {
  "kernelspec": {
   "display_name": "Python 3 (ipykernel)",
   "language": "python",
   "name": "python3"
  },
  "language_info": {
   "codemirror_mode": {
    "name": "ipython",
    "version": 3
   },
   "file_extension": ".py",
   "mimetype": "text/x-python",
   "name": "python",
   "nbconvert_exporter": "python",
   "pygments_lexer": "ipython3",
   "version": "3.8.10"
  }
 },
 "nbformat": 4,
 "nbformat_minor": 5
}
